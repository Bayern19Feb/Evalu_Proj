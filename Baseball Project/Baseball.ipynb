{
 "cells": [
  {
   "cell_type": "markdown",
   "metadata": {},
   "source": [
    "# Major League Baseball\n",
    "\n",
    "Major League Baseball is an American professional baseball organization and the oldest of the major professional sports leagues in the United States and Canada. \n",
    "\n",
    "A total of 30 teams play in Major League Baseball: 15 teams in the National League and 15 in the American League.\n",
    "\n",
    "There are 9 players in a team\n",
    "\n",
    "The playing field is Dimond shaped\n",
    "\n",
    "There are four bases Home plate, First base, Second base and Third Base\n",
    "\n",
    "One complete game has 9 innings"
   ]
  },
  {
   "cell_type": "markdown",
   "metadata": {},
   "source": [
    "# PROBLEM STATEMENT\n",
    "\n",
    "This dataset utilizes data from 2014 Major League Baseball seasons in order \n",
    "to develop an algorithm that predicts the number of wins for a given team \n",
    "in the 2015 season based on several different indicators of success. \n",
    "\n",
    "\n",
    "There are 16 different features that will be used as the inputs to the \n",
    "machine learning and the output will be a value that represents the number \n",
    "of wins. "
   ]
  },
  {
   "cell_type": "code",
   "execution_count": 1,
   "metadata": {},
   "outputs": [],
   "source": [
    "# importing libraries\n",
    "\n",
    "import numpy as np\n",
    "import pandas as pd\n",
    "import matplotlib.pyplot as plt\n",
    "import seaborn as sns\n",
    "\n",
    "%matplotlib inline"
   ]
  },
  {
   "cell_type": "code",
   "execution_count": 2,
   "metadata": {},
   "outputs": [],
   "source": [
    "# code to display rows and columns"
   ]
  },
  {
   "cell_type": "code",
   "execution_count": 3,
   "metadata": {},
   "outputs": [
    {
     "data": {
      "text/html": [
       "<style type=\"text/css\">\n",
       "table.dataframe td, table.dataframe th {\n",
       "    border: 1px  black solid !important;\n",
       "  color: black !important;\n",
       "}\n",
       "</style>\n"
      ],
      "text/plain": [
       "<IPython.core.display.HTML object>"
      ]
     },
     "metadata": {},
     "output_type": "display_data"
    }
   ],
   "source": [
    "%%HTML\n",
    "<style type=\"text/css\">\n",
    "table.dataframe td, table.dataframe th {\n",
    "    border: 1px  black solid !important;\n",
    "  color: black !important;\n",
    "}\n",
    "</style>"
   ]
  },
  {
   "cell_type": "code",
   "execution_count": 4,
   "metadata": {},
   "outputs": [],
   "source": [
    "# Code to display all the columns in the dataset\n",
    "pd.set_option('display.max_columns', None)"
   ]
  },
  {
   "cell_type": "code",
   "execution_count": 5,
   "metadata": {},
   "outputs": [],
   "source": [
    "import warnings\n",
    "warnings.filterwarnings('ignore')"
   ]
  },
  {
   "cell_type": "markdown",
   "metadata": {},
   "source": [
    "# Importing dataset"
   ]
  },
  {
   "cell_type": "code",
   "execution_count": 6,
   "metadata": {},
   "outputs": [],
   "source": [
    "df = pd.read_csv(\"base.csv\")"
   ]
  },
  {
   "cell_type": "code",
   "execution_count": 7,
   "metadata": {},
   "outputs": [
    {
     "data": {
      "text/html": [
       "<div>\n",
       "<style scoped>\n",
       "    .dataframe tbody tr th:only-of-type {\n",
       "        vertical-align: middle;\n",
       "    }\n",
       "\n",
       "    .dataframe tbody tr th {\n",
       "        vertical-align: top;\n",
       "    }\n",
       "\n",
       "    .dataframe thead th {\n",
       "        text-align: right;\n",
       "    }\n",
       "</style>\n",
       "<table border=\"1\" class=\"dataframe\">\n",
       "  <thead>\n",
       "    <tr style=\"text-align: right;\">\n",
       "      <th></th>\n",
       "      <th>W</th>\n",
       "      <th>R</th>\n",
       "      <th>AB</th>\n",
       "      <th>H</th>\n",
       "      <th>2B</th>\n",
       "      <th>3B</th>\n",
       "      <th>HR</th>\n",
       "      <th>BB</th>\n",
       "      <th>SO</th>\n",
       "      <th>SB</th>\n",
       "      <th>RA</th>\n",
       "      <th>ER</th>\n",
       "      <th>ERA</th>\n",
       "      <th>CG</th>\n",
       "      <th>SHO</th>\n",
       "      <th>SV</th>\n",
       "      <th>E</th>\n",
       "    </tr>\n",
       "  </thead>\n",
       "  <tbody>\n",
       "    <tr>\n",
       "      <th>0</th>\n",
       "      <td>95</td>\n",
       "      <td>724</td>\n",
       "      <td>5575</td>\n",
       "      <td>1497</td>\n",
       "      <td>300</td>\n",
       "      <td>42</td>\n",
       "      <td>139</td>\n",
       "      <td>383</td>\n",
       "      <td>973</td>\n",
       "      <td>104</td>\n",
       "      <td>641</td>\n",
       "      <td>601</td>\n",
       "      <td>3.73</td>\n",
       "      <td>2</td>\n",
       "      <td>8</td>\n",
       "      <td>56</td>\n",
       "      <td>88</td>\n",
       "    </tr>\n",
       "    <tr>\n",
       "      <th>1</th>\n",
       "      <td>83</td>\n",
       "      <td>696</td>\n",
       "      <td>5467</td>\n",
       "      <td>1349</td>\n",
       "      <td>277</td>\n",
       "      <td>44</td>\n",
       "      <td>156</td>\n",
       "      <td>439</td>\n",
       "      <td>1264</td>\n",
       "      <td>70</td>\n",
       "      <td>700</td>\n",
       "      <td>653</td>\n",
       "      <td>4.07</td>\n",
       "      <td>2</td>\n",
       "      <td>12</td>\n",
       "      <td>45</td>\n",
       "      <td>86</td>\n",
       "    </tr>\n",
       "    <tr>\n",
       "      <th>2</th>\n",
       "      <td>81</td>\n",
       "      <td>669</td>\n",
       "      <td>5439</td>\n",
       "      <td>1395</td>\n",
       "      <td>303</td>\n",
       "      <td>29</td>\n",
       "      <td>141</td>\n",
       "      <td>533</td>\n",
       "      <td>1157</td>\n",
       "      <td>86</td>\n",
       "      <td>640</td>\n",
       "      <td>584</td>\n",
       "      <td>3.67</td>\n",
       "      <td>11</td>\n",
       "      <td>10</td>\n",
       "      <td>38</td>\n",
       "      <td>79</td>\n",
       "    </tr>\n",
       "    <tr>\n",
       "      <th>3</th>\n",
       "      <td>76</td>\n",
       "      <td>622</td>\n",
       "      <td>5533</td>\n",
       "      <td>1381</td>\n",
       "      <td>260</td>\n",
       "      <td>27</td>\n",
       "      <td>136</td>\n",
       "      <td>404</td>\n",
       "      <td>1231</td>\n",
       "      <td>68</td>\n",
       "      <td>701</td>\n",
       "      <td>643</td>\n",
       "      <td>3.98</td>\n",
       "      <td>7</td>\n",
       "      <td>9</td>\n",
       "      <td>37</td>\n",
       "      <td>101</td>\n",
       "    </tr>\n",
       "    <tr>\n",
       "      <th>4</th>\n",
       "      <td>74</td>\n",
       "      <td>689</td>\n",
       "      <td>5605</td>\n",
       "      <td>1515</td>\n",
       "      <td>289</td>\n",
       "      <td>49</td>\n",
       "      <td>151</td>\n",
       "      <td>455</td>\n",
       "      <td>1259</td>\n",
       "      <td>83</td>\n",
       "      <td>803</td>\n",
       "      <td>746</td>\n",
       "      <td>4.64</td>\n",
       "      <td>7</td>\n",
       "      <td>12</td>\n",
       "      <td>35</td>\n",
       "      <td>86</td>\n",
       "    </tr>\n",
       "  </tbody>\n",
       "</table>\n",
       "</div>"
      ],
      "text/plain": [
       "    W    R    AB     H   2B  3B   HR   BB    SO   SB   RA   ER   ERA  CG  SHO  \\\n",
       "0  95  724  5575  1497  300  42  139  383   973  104  641  601  3.73   2    8   \n",
       "1  83  696  5467  1349  277  44  156  439  1264   70  700  653  4.07   2   12   \n",
       "2  81  669  5439  1395  303  29  141  533  1157   86  640  584  3.67  11   10   \n",
       "3  76  622  5533  1381  260  27  136  404  1231   68  701  643  3.98   7    9   \n",
       "4  74  689  5605  1515  289  49  151  455  1259   83  803  746  4.64   7   12   \n",
       "\n",
       "   SV    E  \n",
       "0  56   88  \n",
       "1  45   86  \n",
       "2  38   79  \n",
       "3  37  101  \n",
       "4  35   86  "
      ]
     },
     "execution_count": 7,
     "metadata": {},
     "output_type": "execute_result"
    }
   ],
   "source": [
    "df.head()"
   ]
  },
  {
   "cell_type": "markdown",
   "metadata": {},
   "source": [
    "# Column Description"
   ]
  },
  {
   "cell_type": "raw",
   "metadata": {},
   "source": [
    "1)R --> Runs\n",
    "2)AB --> At Bats \n",
    "3)H --> Hits\n",
    "4)2B --> Doubles \n",
    "5)3B --> Triples \n",
    "6)HR --> Homeruns \n",
    "7)BB --> Walks\n",
    "8)SO --> Strikeouts\n",
    "9)SB --> Stolen Bases \n",
    "10)RA --> Runs Allowed \n",
    "11)ER --> Earned Runs\n",
    "12)ERA --> Earned Run Average (ERA)\n",
    "13)CG --> Complete Game\n",
    "14)SHO --> Shutouts \n",
    "15)SV --> Saves\n",
    "16)E --> Errors\n",
    "17)W --> Wins"
   ]
  },
  {
   "cell_type": "markdown",
   "metadata": {},
   "source": [
    "# Problem Type\n",
    "\n",
    "1) Given the number of  inputs the Machine learning Algorithm has to \n",
    "   predict the number of wins (W)\n",
    "   \n",
    "2) Target Variable is WINS\n",
    "\n",
    "3) Solving it as a Classification problem"
   ]
  },
  {
   "cell_type": "code",
   "execution_count": 8,
   "metadata": {},
   "outputs": [
    {
     "data": {
      "text/plain": [
       "W        int64\n",
       "R        int64\n",
       "AB       int64\n",
       "H        int64\n",
       "2B       int64\n",
       "3B       int64\n",
       "HR       int64\n",
       "BB       int64\n",
       "SO       int64\n",
       "SB       int64\n",
       "RA       int64\n",
       "ER       int64\n",
       "ERA    float64\n",
       "CG       int64\n",
       "SHO      int64\n",
       "SV       int64\n",
       "E        int64\n",
       "dtype: object"
      ]
     },
     "execution_count": 8,
     "metadata": {},
     "output_type": "execute_result"
    }
   ],
   "source": [
    "# Checking the data types\n",
    "\n",
    "df.dtypes"
   ]
  },
  {
   "cell_type": "markdown",
   "metadata": {},
   "source": [
    "#### 90 % of the datatypes are int and one is float(ERA)"
   ]
  },
  {
   "cell_type": "code",
   "execution_count": 9,
   "metadata": {},
   "outputs": [
    {
     "data": {
      "text/plain": [
       "(30, 17)"
      ]
     },
     "execution_count": 9,
     "metadata": {},
     "output_type": "execute_result"
    }
   ],
   "source": [
    "# checking shape of data\n",
    "\n",
    "df.shape"
   ]
  },
  {
   "cell_type": "code",
   "execution_count": 10,
   "metadata": {},
   "outputs": [],
   "source": [
    "# No of rows and columns\n",
    "\n",
    "# Rows --> 30\n",
    "\n",
    "# Columns --> 17"
   ]
  },
  {
   "cell_type": "code",
   "execution_count": 11,
   "metadata": {},
   "outputs": [
    {
     "data": {
      "text/plain": [
       "0"
      ]
     },
     "execution_count": 11,
     "metadata": {},
     "output_type": "execute_result"
    }
   ],
   "source": [
    "#Lets check for duplicate values\n",
    "\n",
    "df.duplicated().sum()"
   ]
  },
  {
   "cell_type": "code",
   "execution_count": 12,
   "metadata": {},
   "outputs": [],
   "source": [
    "# No duplicate values"
   ]
  },
  {
   "cell_type": "code",
   "execution_count": 13,
   "metadata": {},
   "outputs": [
    {
     "data": {
      "text/plain": [
       "W      0\n",
       "R      0\n",
       "AB     0\n",
       "H      0\n",
       "2B     0\n",
       "3B     0\n",
       "HR     0\n",
       "BB     0\n",
       "SO     0\n",
       "SB     0\n",
       "RA     0\n",
       "ER     0\n",
       "ERA    0\n",
       "CG     0\n",
       "SHO    0\n",
       "SV     0\n",
       "E      0\n",
       "dtype: int64"
      ]
     },
     "execution_count": 13,
     "metadata": {},
     "output_type": "execute_result"
    }
   ],
   "source": [
    "# Lets check for missing values\n",
    "\n",
    "df.isnull().sum()"
   ]
  },
  {
   "cell_type": "code",
   "execution_count": 14,
   "metadata": {},
   "outputs": [],
   "source": [
    "# No null values"
   ]
  },
  {
   "cell_type": "code",
   "execution_count": 15,
   "metadata": {},
   "outputs": [
    {
     "data": {
      "text/plain": [
       "Index(['W', 'R', 'AB', 'H', '2B', '3B', 'HR', 'BB', 'SO', 'SB', 'RA', 'ER',\n",
       "       'ERA', 'CG', 'SHO', 'SV', 'E'],\n",
       "      dtype='object')"
      ]
     },
     "execution_count": 15,
     "metadata": {},
     "output_type": "execute_result"
    }
   ],
   "source": [
    "# Checking out the columns\n",
    "\n",
    "df.columns"
   ]
  },
  {
   "cell_type": "code",
   "execution_count": 16,
   "metadata": {},
   "outputs": [
    {
     "data": {
      "text/html": [
       "<div>\n",
       "<style scoped>\n",
       "    .dataframe tbody tr th:only-of-type {\n",
       "        vertical-align: middle;\n",
       "    }\n",
       "\n",
       "    .dataframe tbody tr th {\n",
       "        vertical-align: top;\n",
       "    }\n",
       "\n",
       "    .dataframe thead th {\n",
       "        text-align: right;\n",
       "    }\n",
       "</style>\n",
       "<table border=\"1\" class=\"dataframe\">\n",
       "  <thead>\n",
       "    <tr style=\"text-align: right;\">\n",
       "      <th></th>\n",
       "      <th>count</th>\n",
       "      <th>mean</th>\n",
       "      <th>std</th>\n",
       "      <th>min</th>\n",
       "      <th>25%</th>\n",
       "      <th>50%</th>\n",
       "      <th>75%</th>\n",
       "      <th>max</th>\n",
       "    </tr>\n",
       "  </thead>\n",
       "  <tbody>\n",
       "    <tr>\n",
       "      <th>W</th>\n",
       "      <td>30.0</td>\n",
       "      <td>80.966667</td>\n",
       "      <td>10.453455</td>\n",
       "      <td>63.00</td>\n",
       "      <td>74.0000</td>\n",
       "      <td>81.000</td>\n",
       "      <td>87.75</td>\n",
       "      <td>100.00</td>\n",
       "    </tr>\n",
       "    <tr>\n",
       "      <th>R</th>\n",
       "      <td>30.0</td>\n",
       "      <td>688.233333</td>\n",
       "      <td>58.761754</td>\n",
       "      <td>573.00</td>\n",
       "      <td>651.2500</td>\n",
       "      <td>689.000</td>\n",
       "      <td>718.25</td>\n",
       "      <td>891.00</td>\n",
       "    </tr>\n",
       "    <tr>\n",
       "      <th>AB</th>\n",
       "      <td>30.0</td>\n",
       "      <td>5516.266667</td>\n",
       "      <td>70.467372</td>\n",
       "      <td>5385.00</td>\n",
       "      <td>5464.0000</td>\n",
       "      <td>5510.000</td>\n",
       "      <td>5570.00</td>\n",
       "      <td>5649.00</td>\n",
       "    </tr>\n",
       "    <tr>\n",
       "      <th>H</th>\n",
       "      <td>30.0</td>\n",
       "      <td>1403.533333</td>\n",
       "      <td>57.140923</td>\n",
       "      <td>1324.00</td>\n",
       "      <td>1363.0000</td>\n",
       "      <td>1382.500</td>\n",
       "      <td>1451.50</td>\n",
       "      <td>1515.00</td>\n",
       "    </tr>\n",
       "    <tr>\n",
       "      <th>2B</th>\n",
       "      <td>30.0</td>\n",
       "      <td>274.733333</td>\n",
       "      <td>18.095405</td>\n",
       "      <td>236.00</td>\n",
       "      <td>262.2500</td>\n",
       "      <td>275.500</td>\n",
       "      <td>288.75</td>\n",
       "      <td>308.00</td>\n",
       "    </tr>\n",
       "    <tr>\n",
       "      <th>3B</th>\n",
       "      <td>30.0</td>\n",
       "      <td>31.300000</td>\n",
       "      <td>10.452355</td>\n",
       "      <td>13.00</td>\n",
       "      <td>23.0000</td>\n",
       "      <td>31.000</td>\n",
       "      <td>39.00</td>\n",
       "      <td>49.00</td>\n",
       "    </tr>\n",
       "    <tr>\n",
       "      <th>HR</th>\n",
       "      <td>30.0</td>\n",
       "      <td>163.633333</td>\n",
       "      <td>31.823309</td>\n",
       "      <td>100.00</td>\n",
       "      <td>140.2500</td>\n",
       "      <td>158.500</td>\n",
       "      <td>177.00</td>\n",
       "      <td>232.00</td>\n",
       "    </tr>\n",
       "    <tr>\n",
       "      <th>BB</th>\n",
       "      <td>30.0</td>\n",
       "      <td>469.100000</td>\n",
       "      <td>57.053725</td>\n",
       "      <td>375.00</td>\n",
       "      <td>428.2500</td>\n",
       "      <td>473.000</td>\n",
       "      <td>501.25</td>\n",
       "      <td>570.00</td>\n",
       "    </tr>\n",
       "    <tr>\n",
       "      <th>SO</th>\n",
       "      <td>30.0</td>\n",
       "      <td>1248.200000</td>\n",
       "      <td>103.759470</td>\n",
       "      <td>973.00</td>\n",
       "      <td>1157.5000</td>\n",
       "      <td>1261.500</td>\n",
       "      <td>1311.50</td>\n",
       "      <td>1518.00</td>\n",
       "    </tr>\n",
       "    <tr>\n",
       "      <th>SB</th>\n",
       "      <td>30.0</td>\n",
       "      <td>83.500000</td>\n",
       "      <td>22.815225</td>\n",
       "      <td>44.00</td>\n",
       "      <td>69.0000</td>\n",
       "      <td>83.500</td>\n",
       "      <td>96.50</td>\n",
       "      <td>134.00</td>\n",
       "    </tr>\n",
       "    <tr>\n",
       "      <th>RA</th>\n",
       "      <td>30.0</td>\n",
       "      <td>688.233333</td>\n",
       "      <td>72.108005</td>\n",
       "      <td>525.00</td>\n",
       "      <td>636.2500</td>\n",
       "      <td>695.500</td>\n",
       "      <td>732.50</td>\n",
       "      <td>844.00</td>\n",
       "    </tr>\n",
       "    <tr>\n",
       "      <th>ER</th>\n",
       "      <td>30.0</td>\n",
       "      <td>635.833333</td>\n",
       "      <td>70.140786</td>\n",
       "      <td>478.00</td>\n",
       "      <td>587.2500</td>\n",
       "      <td>644.500</td>\n",
       "      <td>679.25</td>\n",
       "      <td>799.00</td>\n",
       "    </tr>\n",
       "    <tr>\n",
       "      <th>ERA</th>\n",
       "      <td>30.0</td>\n",
       "      <td>3.956333</td>\n",
       "      <td>0.454089</td>\n",
       "      <td>2.94</td>\n",
       "      <td>3.6825</td>\n",
       "      <td>4.025</td>\n",
       "      <td>4.22</td>\n",
       "      <td>5.04</td>\n",
       "    </tr>\n",
       "    <tr>\n",
       "      <th>CG</th>\n",
       "      <td>30.0</td>\n",
       "      <td>3.466667</td>\n",
       "      <td>2.763473</td>\n",
       "      <td>0.00</td>\n",
       "      <td>1.0000</td>\n",
       "      <td>3.000</td>\n",
       "      <td>5.75</td>\n",
       "      <td>11.00</td>\n",
       "    </tr>\n",
       "    <tr>\n",
       "      <th>SHO</th>\n",
       "      <td>30.0</td>\n",
       "      <td>11.300000</td>\n",
       "      <td>4.120177</td>\n",
       "      <td>4.00</td>\n",
       "      <td>9.0000</td>\n",
       "      <td>12.000</td>\n",
       "      <td>13.00</td>\n",
       "      <td>21.00</td>\n",
       "    </tr>\n",
       "    <tr>\n",
       "      <th>SV</th>\n",
       "      <td>30.0</td>\n",
       "      <td>43.066667</td>\n",
       "      <td>7.869335</td>\n",
       "      <td>28.00</td>\n",
       "      <td>37.2500</td>\n",
       "      <td>42.000</td>\n",
       "      <td>46.75</td>\n",
       "      <td>62.00</td>\n",
       "    </tr>\n",
       "    <tr>\n",
       "      <th>E</th>\n",
       "      <td>30.0</td>\n",
       "      <td>94.333333</td>\n",
       "      <td>13.958889</td>\n",
       "      <td>75.00</td>\n",
       "      <td>86.0000</td>\n",
       "      <td>91.000</td>\n",
       "      <td>96.75</td>\n",
       "      <td>126.00</td>\n",
       "    </tr>\n",
       "  </tbody>\n",
       "</table>\n",
       "</div>"
      ],
      "text/plain": [
       "     count         mean         std      min        25%       50%      75%  \\\n",
       "W     30.0    80.966667   10.453455    63.00    74.0000    81.000    87.75   \n",
       "R     30.0   688.233333   58.761754   573.00   651.2500   689.000   718.25   \n",
       "AB    30.0  5516.266667   70.467372  5385.00  5464.0000  5510.000  5570.00   \n",
       "H     30.0  1403.533333   57.140923  1324.00  1363.0000  1382.500  1451.50   \n",
       "2B    30.0   274.733333   18.095405   236.00   262.2500   275.500   288.75   \n",
       "3B    30.0    31.300000   10.452355    13.00    23.0000    31.000    39.00   \n",
       "HR    30.0   163.633333   31.823309   100.00   140.2500   158.500   177.00   \n",
       "BB    30.0   469.100000   57.053725   375.00   428.2500   473.000   501.25   \n",
       "SO    30.0  1248.200000  103.759470   973.00  1157.5000  1261.500  1311.50   \n",
       "SB    30.0    83.500000   22.815225    44.00    69.0000    83.500    96.50   \n",
       "RA    30.0   688.233333   72.108005   525.00   636.2500   695.500   732.50   \n",
       "ER    30.0   635.833333   70.140786   478.00   587.2500   644.500   679.25   \n",
       "ERA   30.0     3.956333    0.454089     2.94     3.6825     4.025     4.22   \n",
       "CG    30.0     3.466667    2.763473     0.00     1.0000     3.000     5.75   \n",
       "SHO   30.0    11.300000    4.120177     4.00     9.0000    12.000    13.00   \n",
       "SV    30.0    43.066667    7.869335    28.00    37.2500    42.000    46.75   \n",
       "E     30.0    94.333333   13.958889    75.00    86.0000    91.000    96.75   \n",
       "\n",
       "         max  \n",
       "W     100.00  \n",
       "R     891.00  \n",
       "AB   5649.00  \n",
       "H    1515.00  \n",
       "2B    308.00  \n",
       "3B     49.00  \n",
       "HR    232.00  \n",
       "BB    570.00  \n",
       "SO   1518.00  \n",
       "SB    134.00  \n",
       "RA    844.00  \n",
       "ER    799.00  \n",
       "ERA     5.04  \n",
       "CG     11.00  \n",
       "SHO    21.00  \n",
       "SV     62.00  \n",
       "E     126.00  "
      ]
     },
     "execution_count": 16,
     "metadata": {},
     "output_type": "execute_result"
    }
   ],
   "source": [
    "# using Describe to get an overview of data\n",
    "\n",
    "df.describe().transpose()"
   ]
  },
  {
   "cell_type": "markdown",
   "metadata": {},
   "source": [
    "# Some conclusions from the above table\n",
    "\n",
    "1) The minimum runs scored in the 2014 season were 573 and max runs scored\n",
    "   were 891\n",
    "\n",
    "2) The At Bats(on strike to face the pitcher) the average was about 5516\n",
    "   so in the complete season, there are a total of 5516 times a striker\n",
    "   faces a pitcher\n",
    "  \n",
    "3) The the 2014 season the minimum total Hits were 1324 and a maximum of \n",
    "   1515 hits \n",
    " \n",
    "4) The highest number of Doubles scored in a season were 308\n",
    "\n",
    "5) The highest number of Triples scored in a season where 39\n",
    "\n",
    "6) Maximum of 232 home runs were scored in a single season\n",
    "\n",
    "7) On Average there were 469 walks i.e when a pitcher throws four pitches      out of the strike zone\n",
    "\n",
    "8) The maximum strikeouts in a season were 1518\n",
    "\n",
    "9) The maximum stolen bases in a season were 134\n",
    "\n",
    "10) A max of 799 runs were earned in the 2014 season\n",
    "\n",
    "11) A max of 62 saves in the 2014 season\n",
    "\n",
    "12) A max of 126 errors were committed in a season\n",
    "\n",
    "13) The maximum number of wins in a single season was 100"
   ]
  },
  {
   "cell_type": "code",
   "execution_count": 17,
   "metadata": {},
   "outputs": [
    {
     "data": {
      "text/plain": [
       "<AxesSubplot:>"
      ]
     },
     "execution_count": 17,
     "metadata": {},
     "output_type": "execute_result"
    },
    {
     "data": {
      "image/png": "[encoded data removed]",
      "text/plain": [
       "<Figure size 576x576 with 2 Axes>"
      ]
     },
     "metadata": {
      "needs_background": "light"
     },
     "output_type": "display_data"
    }
   ],
   "source": [
    "# Visualizing the missing values\n",
    "plt.figure(figsize=(8,8))\n",
    "sns.heatmap(df.isnull())"
   ]
  },
  {
   "cell_type": "code",
   "execution_count": 18,
   "metadata": {},
   "outputs": [],
   "source": [
    "# Luckly no missing values"
   ]
  },
  {
   "cell_type": "markdown",
   "metadata": {},
   "source": [
    "# EDA"
   ]
  },
  {
   "cell_type": "code",
   "execution_count": 19,
   "metadata": {},
   "outputs": [],
   "source": [
    "sns.set_theme(style=\"darkgrid\")"
   ]
  },
  {
   "cell_type": "code",
   "execution_count": 20,
   "metadata": {},
   "outputs": [
    {
     "data": {
      "text/plain": [
       "Index(['W', 'R', 'AB', 'H', '2B', '3B', 'HR', 'BB', 'SO', 'SB', 'RA', 'ER',\n",
       "       'ERA', 'CG', 'SHO', 'SV', 'E'],\n",
       "      dtype='object')"
      ]
     },
     "execution_count": 20,
     "metadata": {},
     "output_type": "execute_result"
    }
   ],
   "source": [
    "df.columns"
   ]
  },
  {
   "cell_type": "code",
   "execution_count": 21,
   "metadata": {
    "scrolled": true
   },
   "outputs": [
    {
     "data": {
      "text/plain": [
       "<seaborn.axisgrid.JointGrid at 0x1bf3368ba60>"
      ]
     },
     "execution_count": 21,
     "metadata": {},
     "output_type": "execute_result"
    },
    {
     "data": {
      "image/png": "[encoded data removed]",
      "text/plain": [
       "<Figure size 432x432 with 3 Axes>"
      ]
     },
     "metadata": {},
     "output_type": "display_data"
    }
   ],
   "source": [
    "sns.jointplot(x=\"R\",y=\"W\",data=df)"
   ]
  },
  {
   "cell_type": "markdown",
   "metadata": {},
   "source": [
    "- From the above plot, we can say that there is no conclusive evidence that\n",
    "  if a team scores more run then that team will have more wins\n",
    "\n",
    "- The teams who have scored (600 - 700) runs in a season also have a good\n",
    "  win rate\n",
    "\n",
    "- So more runs do not guarantee that a team will have more wins"
   ]
  },
  {
   "cell_type": "code",
   "execution_count": 22,
   "metadata": {},
   "outputs": [
    {
     "data": {
      "text/plain": [
       "<seaborn.axisgrid.JointGrid at 0x1bf3038d070>"
      ]
     },
     "execution_count": 22,
     "metadata": {},
     "output_type": "execute_result"
    },
    {
     "data": {
      "image/png": "[encoded data removed]",
      "text/plain": [
       "<Figure size 432x432 with 3 Axes>"
      ]
     },
     "metadata": {},
     "output_type": "display_data"
    }
   ],
   "source": [
    "sns.jointplot(x=\"AB\",y=\"W\",data=df)"
   ]
  },
  {
   "cell_type": "markdown",
   "metadata": {},
   "source": [
    "From the above plot, we can say that the more times the striker faces the pitcher higher is the chance of him scoring more runs\n",
    "\n",
    "Like normally the more balls the striker faces the higher is the chance of scoring more runs"
   ]
  },
  {
   "cell_type": "code",
   "execution_count": 23,
   "metadata": {},
   "outputs": [
    {
     "data": {
      "text/plain": [
       "<seaborn.axisgrid.JointGrid at 0x1bf3359e820>"
      ]
     },
     "execution_count": 23,
     "metadata": {},
     "output_type": "execute_result"
    },
    {
     "data": {
      "image/png": "[encoded data removed]",
      "text/plain": [
       "<Figure size 432x432 with 3 Axes>"
      ]
     },
     "metadata": {},
     "output_type": "display_data"
    }
   ],
   "source": [
    "sns.jointplot(x=\"2B\",y=\"W\",data=df)"
   ]
  },
  {
   "cell_type": "markdown",
   "metadata": {},
   "source": [
    "From the above plot, we can clearly say that the more the Doubles(runs) the higher is the win rate "
   ]
  },
  {
   "cell_type": "code",
   "execution_count": 24,
   "metadata": {},
   "outputs": [
    {
     "data": {
      "text/plain": [
       "<seaborn.axisgrid.JointGrid at 0x1bf338a35b0>"
      ]
     },
     "execution_count": 24,
     "metadata": {},
     "output_type": "execute_result"
    },
    {
     "data": {
      "image/png": "[encoded data removed]",
      "text/plain": [
       "<Figure size 432x432 with 3 Axes>"
      ]
     },
     "metadata": {},
     "output_type": "display_data"
    }
   ],
   "source": [
    "sns.jointplot(x=\"3B\",y=\"W\",data=df)"
   ]
  },
  {
   "cell_type": "markdown",
   "metadata": {},
   "source": [
    "The 3B (Triples) runs will have a good impact on the Score and can also improve the overall win rate of a Team "
   ]
  },
  {
   "cell_type": "code",
   "execution_count": 25,
   "metadata": {},
   "outputs": [
    {
     "data": {
      "text/plain": [
       "<seaborn.axisgrid.JointGrid at 0x1bf33773340>"
      ]
     },
     "execution_count": 25,
     "metadata": {},
     "output_type": "execute_result"
    },
    {
     "data": {
      "image/png": "[encoded data removed]",
      "text/plain": [
       "<Figure size 432x432 with 3 Axes>"
      ]
     },
     "metadata": {},
     "output_type": "display_data"
    }
   ],
   "source": [
    "sns.jointplot(x=\"SO\",y=\"W\",data=df)"
   ]
  },
  {
   "cell_type": "markdown",
   "metadata": {},
   "source": [
    "As expected the team which takes the higher Strikeouts has a higher chance of winning"
   ]
  },
  {
   "cell_type": "code",
   "execution_count": 26,
   "metadata": {},
   "outputs": [
    {
     "data": {
      "text/plain": [
       "<seaborn.axisgrid.JointGrid at 0x1bf338cdbb0>"
      ]
     },
     "execution_count": 26,
     "metadata": {},
     "output_type": "execute_result"
    },
    {
     "data": {
      "image/png": "[encoded data removed]",
      "text/plain": [
       "<Figure size 432x432 with 3 Axes>"
      ]
     },
     "metadata": {},
     "output_type": "display_data"
    }
   ],
   "source": [
    "sns.jointplot(x=\"ER\",y=\"W\",data=df)"
   ]
  },
  {
   "cell_type": "markdown",
   "metadata": {},
   "source": [
    "from the above plot, we can see that the higher the Earned runs the lower the win rate\n",
    "\n",
    "So teams with higher Earned runs are not particularly having a good win rate"
   ]
  },
  {
   "cell_type": "code",
   "execution_count": 27,
   "metadata": {},
   "outputs": [
    {
     "data": {
      "text/plain": [
       "<seaborn.axisgrid.JointGrid at 0x1bf33bb29d0>"
      ]
     },
     "execution_count": 27,
     "metadata": {},
     "output_type": "execute_result"
    },
    {
     "data": {
      "image/png": "[encoded data removed]",
      "text/plain": [
       "<Figure size 432x432 with 3 Axes>"
      ]
     },
     "metadata": {},
     "output_type": "display_data"
    }
   ],
   "source": [
    "sns.jointplot(x=\"W\",y=\"SV\",data=df)"
   ]
  },
  {
   "cell_type": "markdown",
   "metadata": {},
   "source": [
    "In the above plot, we can clearly see that the more the amount of Saves higher is the win rate\n",
    "\n",
    "Saves and Wins are having somewhat a positive relationship"
   ]
  },
  {
   "cell_type": "code",
   "execution_count": 28,
   "metadata": {},
   "outputs": [
    {
     "data": {
      "text/plain": [
       "<seaborn.axisgrid.JointGrid at 0x1bf33b7b2e0>"
      ]
     },
     "execution_count": 28,
     "metadata": {},
     "output_type": "execute_result"
    },
    {
     "data": {
      "image/png": "[encoded data removed]",
      "text/plain": [
       "<Figure size 432x432 with 3 Axes>"
      ]
     },
     "metadata": {},
     "output_type": "display_data"
    }
   ],
   "source": [
    "sns.jointplot(x=\"W\",y=\"SHO\",data=df)"
   ]
  },
  {
   "cell_type": "markdown",
   "metadata": {},
   "source": [
    "from the above plot, we can say that teams with good pitchers will always have a higher win rate\n",
    "\n",
    "The Higher the shutouts by a pitcher the more the chance of winning a game"
   ]
  },
  {
   "cell_type": "code",
   "execution_count": 29,
   "metadata": {},
   "outputs": [
    {
     "data": {
      "text/plain": [
       "<seaborn.axisgrid.JointGrid at 0x1bf34d963a0>"
      ]
     },
     "execution_count": 29,
     "metadata": {},
     "output_type": "execute_result"
    },
    {
     "data": {
      "image/png": "[encoded data removed]",
      "text/plain": [
       "<Figure size 432x432 with 3 Axes>"
      ]
     },
     "metadata": {},
     "output_type": "display_data"
    }
   ],
   "source": [
    "sns.jointplot(x=\"BB\",y=\"W\",data=df)"
   ]
  },
  {
   "cell_type": "markdown",
   "metadata": {},
   "source": [
    "From the above plot, we can observe that if the opposition pitcher is not accurate enough then higher is the chance for the striker to get more Walks\n",
    "\n",
    "More the Walks the striker gets higher is the chance of his team winning a game"
   ]
  },
  {
   "cell_type": "code",
   "execution_count": 30,
   "metadata": {},
   "outputs": [
    {
     "data": {
      "text/plain": [
       "<seaborn.axisgrid.JointGrid at 0x1bf34e53970>"
      ]
     },
     "execution_count": 30,
     "metadata": {},
     "output_type": "execute_result"
    },
    {
     "data": {
      "image/png": "[encoded data removed]",
      "text/plain": [
       "<Figure size 432x432 with 3 Axes>"
      ]
     },
     "metadata": {},
     "output_type": "display_data"
    }
   ],
   "source": [
    "sns.jointplot(x=\"HR\",y=\"R\",data=df)"
   ]
  },
  {
   "cell_type": "markdown",
   "metadata": {},
   "source": [
    "As expected more the Homeruns more will be the total runs scored"
   ]
  },
  {
   "cell_type": "code",
   "execution_count": 31,
   "metadata": {},
   "outputs": [
    {
     "data": {
      "text/plain": [
       "<seaborn.axisgrid.JointGrid at 0x1bf34d9b790>"
      ]
     },
     "execution_count": 31,
     "metadata": {},
     "output_type": "execute_result"
    },
    {
     "data": {
      "image/png": "[encoded data removed]",
      "text/plain": [
       "<Figure size 432x432 with 3 Axes>"
      ]
     },
     "metadata": {},
     "output_type": "display_data"
    }
   ],
   "source": [
    "sns.jointplot(x=\"AB\",y=\"H\",data=df)"
   ]
  },
  {
   "cell_type": "markdown",
   "metadata": {},
   "source": [
    "From the above plot, we can clearly see that the More times the striker is on the Home base more the amounts of Hits he gets\n",
    "\n",
    "A very good positive correlation between At Bats and number of Hits"
   ]
  },
  {
   "cell_type": "code",
   "execution_count": 32,
   "metadata": {},
   "outputs": [
    {
     "data": {
      "text/plain": [
       "<AxesSubplot:xlabel='SV', ylabel='Count'>"
      ]
     },
     "execution_count": 32,
     "metadata": {},
     "output_type": "execute_result"
    },
    {
     "data": {
      "image/png": "[encoded data removed]",
      "text/plain": [
       "<Figure size 432x288 with 1 Axes>"
      ]
     },
     "metadata": {},
     "output_type": "display_data"
    }
   ],
   "source": [
    "sns.histplot(x=\"SV\",data=df)"
   ]
  },
  {
   "cell_type": "markdown",
   "metadata": {},
   "source": [
    "Most of the saves lie in the range (35 to 50)\n",
    "\n",
    "More Saves the team has higher are the chances of the team to win the competition."
   ]
  },
  {
   "cell_type": "code",
   "execution_count": 33,
   "metadata": {},
   "outputs": [
    {
     "data": {
      "text/plain": [
       "<AxesSubplot:xlabel='SHO', ylabel='Count'>"
      ]
     },
     "execution_count": 33,
     "metadata": {},
     "output_type": "execute_result"
    },
    {
     "data": {
      "image/png": "[encoded data removed]",
      "text/plain": [
       "<Figure size 432x288 with 1 Axes>"
      ]
     },
     "metadata": {},
     "output_type": "display_data"
    }
   ],
   "source": [
    "sns.histplot(x=\"SHO\",data=df)"
   ]
  },
  {
   "cell_type": "markdown",
   "metadata": {},
   "source": [
    "From the above plot, we can observe that there were a max of 21 shutouts in the whole season\n",
    "\n",
    "Shutouts are considered rare, But they have a good impact on the win rate"
   ]
  },
  {
   "cell_type": "code",
   "execution_count": 34,
   "metadata": {},
   "outputs": [
    {
     "data": {
      "text/plain": [
       "<AxesSubplot:xlabel='ERA', ylabel='Count'>"
      ]
     },
     "execution_count": 34,
     "metadata": {},
     "output_type": "execute_result"
    },
    {
     "data": {
      "image/png": "[encoded data removed]",
      "text/plain": [
       "<Figure size 432x288 with 1 Axes>"
      ]
     },
     "metadata": {},
     "output_type": "display_data"
    }
   ],
   "source": [
    "sns.histplot(x=\"ERA\",data=df)"
   ]
  },
  {
   "cell_type": "markdown",
   "metadata": {},
   "source": [
    "Earned Run Average (ERA) for the MLB season 2014 is between (2.9 - 5)\n",
    "\n",
    "Lower the Earned Run Average (ERA) better is the quality of pitcher"
   ]
  },
  {
   "cell_type": "code",
   "execution_count": 35,
   "metadata": {},
   "outputs": [
    {
     "data": {
      "text/plain": [
       "<AxesSubplot:xlabel='RA', ylabel='Count'>"
      ]
     },
     "execution_count": 35,
     "metadata": {},
     "output_type": "execute_result"
    },
    {
     "data": {
      "image/png": "[encoded data removed]",
      "text/plain": [
       "<Figure size 432x288 with 1 Axes>"
      ]
     },
     "metadata": {},
     "output_type": "display_data"
    }
   ],
   "source": [
    "sns.histplot(x=\"RA\",data=df)"
   ]
  },
  {
   "cell_type": "markdown",
   "metadata": {},
   "source": [
    "The minimum runs scored against a pitcher for the year 2014 were 525\n",
    "\n",
    "The maximum runs scored against a pitcher for the year 2014 were 844\n",
    "\n",
    "We can say that the lesser the runs scored against a pitcher higher are the chance of his team winning"
   ]
  },
  {
   "cell_type": "code",
   "execution_count": 36,
   "metadata": {},
   "outputs": [
    {
     "data": {
      "text/plain": [
       "<AxesSubplot:xlabel='SB', ylabel='Count'>"
      ]
     },
     "execution_count": 36,
     "metadata": {},
     "output_type": "execute_result"
    },
    {
     "data": {
      "image/png": "[encoded data removed]",
      "text/plain": [
       "<Figure size 432x288 with 1 Axes>"
      ]
     },
     "metadata": {},
     "output_type": "display_data"
    }
   ],
   "source": [
    "sns.histplot(x=\"SB\",data=df)"
   ]
  },
  {
   "cell_type": "markdown",
   "metadata": {},
   "source": [
    "On average there were 84 stolen bases in the 2014 season\n",
    "\n",
    "Stolen bases have an important factor in deciding close games where every run is crucial\n"
   ]
  },
  {
   "cell_type": "code",
   "execution_count": 37,
   "metadata": {},
   "outputs": [
    {
     "data": {
      "text/plain": [
       "<AxesSubplot:xlabel='R', ylabel='W'>"
      ]
     },
     "execution_count": 37,
     "metadata": {},
     "output_type": "execute_result"
    },
    {
     "data": {
      "image/png": "[encoded data removed]",
      "text/plain": [
       "<Figure size 432x288 with 1 Axes>"
      ]
     },
     "metadata": {},
     "output_type": "display_data"
    }
   ],
   "source": [
    "sns.lineplot(x=\"R\",y=\"W\",data=df,color=\"teal\")"
   ]
  },
  {
   "cell_type": "markdown",
   "metadata": {},
   "source": [
    "In the above plot, we can observe that there are high spikes in the range of 650 to 750 which is displaying a high win rate \n",
    "\n",
    "If a certain team scores less than 500 runs in the whole season there is very low chance of them winning the league"
   ]
  },
  {
   "cell_type": "code",
   "execution_count": 38,
   "metadata": {},
   "outputs": [
    {
     "data": {
      "text/plain": [
       "<AxesSubplot:xlabel='SHO', ylabel='W'>"
      ]
     },
     "execution_count": 38,
     "metadata": {},
     "output_type": "execute_result"
    },
    {
     "data": {
      "image/png": "[encoded data removed]",
      "text/plain": [
       "<Figure size 432x288 with 1 Axes>"
      ]
     },
     "metadata": {},
     "output_type": "display_data"
    }
   ],
   "source": [
    "sns.lineplot(x=\"SHO\",y=\"W\",data=df)"
   ]
  },
  {
   "cell_type": "markdown",
   "metadata": {},
   "source": [
    "Win rate increases with increase in the amount of Shutouts\n",
    "\n",
    "We can say that a good pitcher will win a lot of games for his team"
   ]
  },
  {
   "cell_type": "code",
   "execution_count": 39,
   "metadata": {},
   "outputs": [
    {
     "data": {
      "text/plain": [
       "<AxesSubplot:xlabel='BB', ylabel='W'>"
      ]
     },
     "execution_count": 39,
     "metadata": {},
     "output_type": "execute_result"
    },
    {
     "data": {
      "image/png": "[encoded data removed]",
      "text/plain": [
       "<Figure size 432x288 with 1 Axes>"
      ]
     },
     "metadata": {},
     "output_type": "display_data"
    }
   ],
   "source": [
    "sns.lineplot(x=\"BB\",y=\"W\",data=df,color=\"Green\")"
   ]
  },
  {
   "cell_type": "markdown",
   "metadata": {},
   "source": [
    "The more the Walks (the safest medium to get a run) the higher chance of scoring more runs "
   ]
  },
  {
   "cell_type": "code",
   "execution_count": 40,
   "metadata": {},
   "outputs": [
    {
     "data": {
      "text/plain": [
       "<AxesSubplot:xlabel='HR', ylabel='W'>"
      ]
     },
     "execution_count": 40,
     "metadata": {},
     "output_type": "execute_result"
    },
    {
     "data": {
      "image/png": "[encoded data removed]",
      "text/plain": [
       "<Figure size 432x288 with 1 Axes>"
      ]
     },
     "metadata": {},
     "output_type": "display_data"
    }
   ],
   "source": [
    "sns.lineplot(x=\"HR\",y=\"W\",data=df,color=\"red\")"
   ]
  },
  {
   "cell_type": "markdown",
   "metadata": {},
   "source": [
    "Home Runs are good but we cannot say that they are the most important factor for a team to win more matches"
   ]
  },
  {
   "cell_type": "code",
   "execution_count": 41,
   "metadata": {},
   "outputs": [],
   "source": [
    "# Lets check the correlation of inputs with target variable"
   ]
  },
  {
   "cell_type": "code",
   "execution_count": 42,
   "metadata": {},
   "outputs": [],
   "source": [
    "co = df.corr()"
   ]
  },
  {
   "cell_type": "code",
   "execution_count": 43,
   "metadata": {},
   "outputs": [
    {
     "data": {
      "text/plain": [
       "<AxesSubplot:>"
      ]
     },
     "execution_count": 43,
     "metadata": {},
     "output_type": "execute_result"
    },
    {
     "data": {
      "image/png": "[encoded data removed]",
      "text/plain": [
       "<Figure size 1080x1080 with 2 Axes>"
      ]
     },
     "metadata": {},
     "output_type": "display_data"
    }
   ],
   "source": [
    "plt.figure(figsize=(15,15))\n",
    "sns.heatmap(data=co,annot=True)"
   ]
  },
  {
   "cell_type": "markdown",
   "metadata": {},
   "source": [
    "- The Saves Attribute is having the highest correlation with the target variable Wins\n",
    "\n",
    "- Shutouts Attribute is also having an impact on the target variable\n",
    "\n",
    "- Walks attribute is having good correlation with the target variable\n",
    "\n",
    "- The Runs attribute is also having some good correlation with target variable\n",
    "\n",
    "- Doubles is having some good correlation with target variable\n",
    "\n",
    "- Home is having some good correlation with target variable"
   ]
  },
  {
   "cell_type": "code",
   "execution_count": 44,
   "metadata": {},
   "outputs": [],
   "source": [
    "# Scatter plots for correlation more than 40 with target variable"
   ]
  },
  {
   "cell_type": "code",
   "execution_count": 45,
   "metadata": {},
   "outputs": [
    {
     "data": {
      "text/plain": [
       "Text(0, 0.5, 'Number of wins')"
      ]
     },
     "execution_count": 45,
     "metadata": {},
     "output_type": "execute_result"
    },
    {
     "data": {
      "image/png": "[encoded data removed]",
      "text/plain": [
       "<Figure size 432x288 with 1 Axes>"
      ]
     },
     "metadata": {},
     "output_type": "display_data"
    }
   ],
   "source": [
    "sns.scatterplot(x=\"SV\",y=\"W\",data=df)\n",
    "plt.xlabel(\"Saves\")\n",
    "plt.ylabel(\"Number of wins\")"
   ]
  },
  {
   "cell_type": "markdown",
   "metadata": {},
   "source": [
    "- A good linear relationship between Saves and wins\n",
    "\n",
    "- Higher the saves higher the wins\n",
    "\n",
    "- A good pitcher will diliver more wins"
   ]
  },
  {
   "cell_type": "code",
   "execution_count": 46,
   "metadata": {},
   "outputs": [
    {
     "data": {
      "text/plain": [
       "Text(0, 0.5, 'Number of wins')"
      ]
     },
     "execution_count": 46,
     "metadata": {},
     "output_type": "execute_result"
    },
    {
     "data": {
      "image/png": "[encoded data removed]",
      "text/plain": [
       "<Figure size 432x288 with 1 Axes>"
      ]
     },
     "metadata": {},
     "output_type": "display_data"
    }
   ],
   "source": [
    "sns.scatterplot(x=\"SHO\",y=\"W\",data=df)\n",
    "plt.xlabel(\"ShoutOuts\")\n",
    "plt.ylabel(\"Number of wins\")"
   ]
  },
  {
   "cell_type": "markdown",
   "metadata": {},
   "source": [
    "- A good linear relationship between ShoutOuts and wins\n",
    "\n",
    "- Higher the shoutouts higher the wins\n",
    "\n",
    "- shoutouts are very rare and difficult to achieve"
   ]
  },
  {
   "cell_type": "code",
   "execution_count": 47,
   "metadata": {},
   "outputs": [
    {
     "data": {
      "text/plain": [
       "Text(0, 0.5, 'Number of wins')"
      ]
     },
     "execution_count": 47,
     "metadata": {},
     "output_type": "execute_result"
    },
    {
     "data": {
      "image/png": "[encoded data removed]",
      "text/plain": [
       "<Figure size 432x288 with 1 Axes>"
      ]
     },
     "metadata": {},
     "output_type": "display_data"
    }
   ],
   "source": [
    "sns.scatterplot(x=\"BB\",y=\"W\",data=df)\n",
    "plt.xlabel(\"Walks\")\n",
    "plt.ylabel(\"Number of wins\")"
   ]
  },
  {
   "cell_type": "markdown",
   "metadata": {},
   "source": [
    "- A good linear relationship between Walks and wins\n",
    "\n",
    "- Higher the Waks higher the wins\n",
    "\n",
    "- Walks are good for the strikers as they are the safest way to get runs on   the bord"
   ]
  },
  {
   "cell_type": "markdown",
   "metadata": {},
   "source": [
    "# Data Cleaning"
   ]
  },
  {
   "cell_type": "markdown",
   "metadata": {},
   "source": [
    " There are no missing values in the dataset"
   ]
  },
  {
   "cell_type": "code",
   "execution_count": 48,
   "metadata": {},
   "outputs": [],
   "source": [
    "from scipy import stats"
   ]
  },
  {
   "cell_type": "code",
   "execution_count": 49,
   "metadata": {},
   "outputs": [],
   "source": [
    "# creating function to count outliers\n",
    "def outliers(cname):\n",
    "    Q1 = df[cname].quantile(0.25)\n",
    "    Q3 = df[cname].quantile(0.75)\n",
    "    IQR = stats.iqr(df[cname])\n",
    "    print('The first quartile :',Q1,'for',cname)\n",
    "    print('The third quartile :',Q3,'for',cname)\n",
    "    print('The IQR :', IQR,'for',cname)\n",
    "    \n",
    "    L_outlier = Q1 - 1.5*(Q3 - Q1)  \n",
    "    U_outlier = Q3 + 1.5*(Q3 - Q1)\n",
    "\n",
    "    print('The left outlier :',L_outlier,'for',cname)\n",
    "    print('The Right outlier :',U_outlier,'for',cname)\n",
    "    \n",
    "    print(\"Left Outliers :\",df[df[cname] < L_outlier][cname].count())\n",
    "    print(\"Right Outliers :\",df[df[cname] > U_outlier][cname].count())"
   ]
  },
  {
   "cell_type": "code",
   "execution_count": 50,
   "metadata": {},
   "outputs": [
    {
     "data": {
      "text/plain": [
       "W      0\n",
       "R      0\n",
       "AB     0\n",
       "H      0\n",
       "2B     0\n",
       "3B     0\n",
       "HR     0\n",
       "BB     0\n",
       "SO     0\n",
       "SB     0\n",
       "RA     0\n",
       "ER     0\n",
       "ERA    0\n",
       "CG     0\n",
       "SHO    0\n",
       "SV     0\n",
       "E      0\n",
       "dtype: int64"
      ]
     },
     "execution_count": 50,
     "metadata": {},
     "output_type": "execute_result"
    }
   ],
   "source": [
    "df.isnull().sum()"
   ]
  },
  {
   "cell_type": "markdown",
   "metadata": {},
   "source": [
    "# Clecking Outliers"
   ]
  },
  {
   "cell_type": "code",
   "execution_count": 51,
   "metadata": {},
   "outputs": [],
   "source": [
    "# Lets check some box plots"
   ]
  },
  {
   "cell_type": "code",
   "execution_count": 52,
   "metadata": {},
   "outputs": [
    {
     "data": {
      "text/plain": [
       "<AxesSubplot:xlabel='R'>"
      ]
     },
     "execution_count": 52,
     "metadata": {},
     "output_type": "execute_result"
    },
    {
     "data": {
      "image/png": "[encoded data removed]",
      "text/plain": [
       "<Figure size 432x288 with 1 Axes>"
      ]
     },
     "metadata": {},
     "output_type": "display_data"
    }
   ],
   "source": [
    "sns.boxplot(x=\"R\",data=df)"
   ]
  },
  {
   "cell_type": "code",
   "execution_count": 53,
   "metadata": {},
   "outputs": [
    {
     "name": "stdout",
     "output_type": "stream",
     "text": [
      "The first quartile : 651.25 for R\n",
      "The third quartile : 718.25 for R\n",
      "The IQR : 67.0 for R\n",
      "The left outlier : 550.75 for R\n",
      "The Right outlier : 818.75 for R\n",
      "Left Outliers : 0\n",
      "Right Outliers : 1\n"
     ]
    }
   ],
   "source": [
    "outliers(\"R\")"
   ]
  },
  {
   "cell_type": "code",
   "execution_count": 54,
   "metadata": {},
   "outputs": [],
   "source": [
    "# There is one outlier in Run"
   ]
  },
  {
   "cell_type": "code",
   "execution_count": 55,
   "metadata": {},
   "outputs": [
    {
     "data": {
      "text/plain": [
       "<AxesSubplot:xlabel='AB'>"
      ]
     },
     "execution_count": 55,
     "metadata": {},
     "output_type": "execute_result"
    },
    {
     "data": {
      "image/png": "[encoded data removed]",
      "text/plain": [
       "<Figure size 432x288 with 1 Axes>"
      ]
     },
     "metadata": {},
     "output_type": "display_data"
    }
   ],
   "source": [
    "sns.boxplot(x=\"AB\",data=df)"
   ]
  },
  {
   "cell_type": "code",
   "execution_count": 56,
   "metadata": {},
   "outputs": [
    {
     "name": "stdout",
     "output_type": "stream",
     "text": [
      "The first quartile : 5464.0 for AB\n",
      "The third quartile : 5570.0 for AB\n",
      "The IQR : 106.0 for AB\n",
      "The left outlier : 5305.0 for AB\n",
      "The Right outlier : 5729.0 for AB\n",
      "Left Outliers : 0\n",
      "Right Outliers : 0\n"
     ]
    }
   ],
   "source": [
    "outliers(\"AB\")"
   ]
  },
  {
   "cell_type": "code",
   "execution_count": 57,
   "metadata": {},
   "outputs": [],
   "source": [
    "# No outliers in At Bats"
   ]
  },
  {
   "cell_type": "code",
   "execution_count": 58,
   "metadata": {},
   "outputs": [
    {
     "data": {
      "text/plain": [
       "<AxesSubplot:xlabel='H'>"
      ]
     },
     "execution_count": 58,
     "metadata": {},
     "output_type": "execute_result"
    },
    {
     "data": {
      "image/png": "[encoded data removed]",
      "text/plain": [
       "<Figure size 432x288 with 1 Axes>"
      ]
     },
     "metadata": {},
     "output_type": "display_data"
    }
   ],
   "source": [
    "sns.boxplot(x=\"H\",data=df)"
   ]
  },
  {
   "cell_type": "code",
   "execution_count": 59,
   "metadata": {},
   "outputs": [
    {
     "name": "stdout",
     "output_type": "stream",
     "text": [
      "The first quartile : 1363.0 for H\n",
      "The third quartile : 1451.5 for H\n",
      "The IQR : 88.5 for H\n",
      "The left outlier : 1230.25 for H\n",
      "The Right outlier : 1584.25 for H\n",
      "Left Outliers : 0\n",
      "Right Outliers : 0\n"
     ]
    }
   ],
   "source": [
    "outliers(\"H\")"
   ]
  },
  {
   "cell_type": "code",
   "execution_count": 60,
   "metadata": {},
   "outputs": [],
   "source": [
    "# No outliers in Hits"
   ]
  },
  {
   "cell_type": "code",
   "execution_count": 61,
   "metadata": {},
   "outputs": [
    {
     "data": {
      "text/plain": [
       "<AxesSubplot:xlabel='2B'>"
      ]
     },
     "execution_count": 61,
     "metadata": {},
     "output_type": "execute_result"
    },
    {
     "data": {
      "image/png": "[encoded data removed]",
      "text/plain": [
       "<Figure size 432x288 with 1 Axes>"
      ]
     },
     "metadata": {},
     "output_type": "display_data"
    }
   ],
   "source": [
    "sns.boxplot(x=\"2B\",data=df)"
   ]
  },
  {
   "cell_type": "code",
   "execution_count": 62,
   "metadata": {},
   "outputs": [
    {
     "name": "stdout",
     "output_type": "stream",
     "text": [
      "The first quartile : 262.25 for 2B\n",
      "The third quartile : 288.75 for 2B\n",
      "The IQR : 26.5 for 2B\n",
      "The left outlier : 222.5 for 2B\n",
      "The Right outlier : 328.5 for 2B\n",
      "Left Outliers : 0\n",
      "Right Outliers : 0\n"
     ]
    }
   ],
   "source": [
    "outliers(\"2B\")"
   ]
  },
  {
   "cell_type": "code",
   "execution_count": 63,
   "metadata": {},
   "outputs": [],
   "source": [
    "# No outliers in Doubles"
   ]
  },
  {
   "cell_type": "code",
   "execution_count": 64,
   "metadata": {},
   "outputs": [
    {
     "data": {
      "text/plain": [
       "<AxesSubplot:xlabel='3B'>"
      ]
     },
     "execution_count": 64,
     "metadata": {},
     "output_type": "execute_result"
    },
    {
     "data": {
      "image/png": "[encoded data removed]",
      "text/plain": [
       "<Figure size 432x288 with 1 Axes>"
      ]
     },
     "metadata": {},
     "output_type": "display_data"
    }
   ],
   "source": [
    "sns.boxplot(x=\"3B\",data=df)"
   ]
  },
  {
   "cell_type": "code",
   "execution_count": 65,
   "metadata": {},
   "outputs": [
    {
     "name": "stdout",
     "output_type": "stream",
     "text": [
      "The first quartile : 23.0 for 3B\n",
      "The third quartile : 39.0 for 3B\n",
      "The IQR : 16.0 for 3B\n",
      "The left outlier : -1.0 for 3B\n",
      "The Right outlier : 63.0 for 3B\n",
      "Left Outliers : 0\n",
      "Right Outliers : 0\n"
     ]
    }
   ],
   "source": [
    "outliers(\"3B\")"
   ]
  },
  {
   "cell_type": "code",
   "execution_count": 66,
   "metadata": {},
   "outputs": [],
   "source": [
    "# No outliers in Triples"
   ]
  },
  {
   "cell_type": "code",
   "execution_count": 67,
   "metadata": {},
   "outputs": [
    {
     "data": {
      "text/plain": [
       "<AxesSubplot:xlabel='HR'>"
      ]
     },
     "execution_count": 67,
     "metadata": {},
     "output_type": "execute_result"
    },
    {
     "data": {
      "image/png": "[encoded data removed]",
      "text/plain": [
       "<Figure size 432x288 with 1 Axes>"
      ]
     },
     "metadata": {},
     "output_type": "display_data"
    }
   ],
   "source": [
    "sns.boxplot(x=\"HR\",data=df)"
   ]
  },
  {
   "cell_type": "code",
   "execution_count": 68,
   "metadata": {},
   "outputs": [
    {
     "name": "stdout",
     "output_type": "stream",
     "text": [
      "The first quartile : 140.25 for HR\n",
      "The third quartile : 177.0 for HR\n",
      "The IQR : 36.75 for HR\n",
      "The left outlier : 85.125 for HR\n",
      "The Right outlier : 232.125 for HR\n",
      "Left Outliers : 0\n",
      "Right Outliers : 0\n"
     ]
    }
   ],
   "source": [
    "outliers(\"HR\")"
   ]
  },
  {
   "cell_type": "code",
   "execution_count": 69,
   "metadata": {},
   "outputs": [],
   "source": [
    "# No outliers in HR"
   ]
  },
  {
   "cell_type": "code",
   "execution_count": 70,
   "metadata": {},
   "outputs": [
    {
     "data": {
      "text/plain": [
       "<AxesSubplot:xlabel='BB'>"
      ]
     },
     "execution_count": 70,
     "metadata": {},
     "output_type": "execute_result"
    },
    {
     "data": {
      "image/png": "[encoded data removed]",
      "text/plain": [
       "<Figure size 432x288 with 1 Axes>"
      ]
     },
     "metadata": {},
     "output_type": "display_data"
    }
   ],
   "source": [
    "sns.boxplot(x=\"BB\",data=df)"
   ]
  },
  {
   "cell_type": "code",
   "execution_count": 71,
   "metadata": {},
   "outputs": [
    {
     "name": "stdout",
     "output_type": "stream",
     "text": [
      "The first quartile : 428.25 for BB\n",
      "The third quartile : 501.25 for BB\n",
      "The IQR : 73.0 for BB\n",
      "The left outlier : 318.75 for BB\n",
      "The Right outlier : 610.75 for BB\n",
      "Left Outliers : 0\n",
      "Right Outliers : 0\n"
     ]
    }
   ],
   "source": [
    "outliers(\"BB\")"
   ]
  },
  {
   "cell_type": "code",
   "execution_count": 72,
   "metadata": {},
   "outputs": [],
   "source": [
    "# No outliers in Walks"
   ]
  },
  {
   "cell_type": "code",
   "execution_count": 73,
   "metadata": {},
   "outputs": [
    {
     "data": {
      "text/plain": [
       "<AxesSubplot:xlabel='SO'>"
      ]
     },
     "execution_count": 73,
     "metadata": {},
     "output_type": "execute_result"
    },
    {
     "data": {
      "image/png": "[encoded data removed]",
      "text/plain": [
       "<Figure size 432x288 with 1 Axes>"
      ]
     },
     "metadata": {},
     "output_type": "display_data"
    }
   ],
   "source": [
    "sns.boxplot(x=\"SO\",data=df)"
   ]
  },
  {
   "cell_type": "code",
   "execution_count": 74,
   "metadata": {},
   "outputs": [
    {
     "name": "stdout",
     "output_type": "stream",
     "text": [
      "The first quartile : 1157.5 for SO\n",
      "The third quartile : 1311.5 for SO\n",
      "The IQR : 154.0 for SO\n",
      "The left outlier : 926.5 for SO\n",
      "The Right outlier : 1542.5 for SO\n",
      "Left Outliers : 0\n",
      "Right Outliers : 0\n"
     ]
    }
   ],
   "source": [
    "outliers(\"SO\")"
   ]
  },
  {
   "cell_type": "code",
   "execution_count": 75,
   "metadata": {},
   "outputs": [],
   "source": [
    "# No outliers in Strikeouts"
   ]
  },
  {
   "cell_type": "code",
   "execution_count": 76,
   "metadata": {},
   "outputs": [
    {
     "data": {
      "text/plain": [
       "<AxesSubplot:xlabel='SB'>"
      ]
     },
     "execution_count": 76,
     "metadata": {},
     "output_type": "execute_result"
    },
    {
     "data": {
      "image/png": "[encoded data removed]",
      "text/plain": [
       "<Figure size 432x288 with 1 Axes>"
      ]
     },
     "metadata": {},
     "output_type": "display_data"
    }
   ],
   "source": [
    "sns.boxplot(x=\"SB\",data=df)"
   ]
  },
  {
   "cell_type": "code",
   "execution_count": 77,
   "metadata": {},
   "outputs": [
    {
     "name": "stdout",
     "output_type": "stream",
     "text": [
      "The first quartile : 69.0 for SB\n",
      "The third quartile : 96.5 for SB\n",
      "The IQR : 27.5 for SB\n",
      "The left outlier : 27.75 for SB\n",
      "The Right outlier : 137.75 for SB\n",
      "Left Outliers : 0\n",
      "Right Outliers : 0\n"
     ]
    }
   ],
   "source": [
    "outliers(\"SB\")"
   ]
  },
  {
   "cell_type": "code",
   "execution_count": 78,
   "metadata": {},
   "outputs": [],
   "source": [
    "# No outliers in Stolen Bases"
   ]
  },
  {
   "cell_type": "code",
   "execution_count": 79,
   "metadata": {},
   "outputs": [
    {
     "data": {
      "text/plain": [
       "<AxesSubplot:xlabel='RA'>"
      ]
     },
     "execution_count": 79,
     "metadata": {},
     "output_type": "execute_result"
    },
    {
     "data": {
      "image/png": "[encoded data removed]",
      "text/plain": [
       "<Figure size 432x288 with 1 Axes>"
      ]
     },
     "metadata": {},
     "output_type": "display_data"
    }
   ],
   "source": [
    "sns.boxplot(x=\"RA\",data=df)"
   ]
  },
  {
   "cell_type": "code",
   "execution_count": 80,
   "metadata": {},
   "outputs": [
    {
     "name": "stdout",
     "output_type": "stream",
     "text": [
      "The first quartile : 636.25 for RA\n",
      "The third quartile : 732.5 for RA\n",
      "The IQR : 96.25 for RA\n",
      "The left outlier : 491.875 for RA\n",
      "The Right outlier : 876.875 for RA\n",
      "Left Outliers : 0\n",
      "Right Outliers : 0\n"
     ]
    }
   ],
   "source": [
    "outliers(\"RA\")"
   ]
  },
  {
   "cell_type": "code",
   "execution_count": 81,
   "metadata": {},
   "outputs": [],
   "source": [
    "# No outliers in RA"
   ]
  },
  {
   "cell_type": "code",
   "execution_count": 82,
   "metadata": {},
   "outputs": [
    {
     "data": {
      "text/plain": [
       "<AxesSubplot:xlabel='ER'>"
      ]
     },
     "execution_count": 82,
     "metadata": {},
     "output_type": "execute_result"
    },
    {
     "data": {
      "image/png": "[encoded data removed]",
      "text/plain": [
       "<Figure size 432x288 with 1 Axes>"
      ]
     },
     "metadata": {},
     "output_type": "display_data"
    }
   ],
   "source": [
    "sns.boxplot(x=\"ER\",data=df)"
   ]
  },
  {
   "cell_type": "code",
   "execution_count": 83,
   "metadata": {},
   "outputs": [
    {
     "name": "stdout",
     "output_type": "stream",
     "text": [
      "The first quartile : 587.25 for ER\n",
      "The third quartile : 679.25 for ER\n",
      "The IQR : 92.0 for ER\n",
      "The left outlier : 449.25 for ER\n",
      "The Right outlier : 817.25 for ER\n",
      "Left Outliers : 0\n",
      "Right Outliers : 0\n"
     ]
    }
   ],
   "source": [
    "outliers(\"ER\")"
   ]
  },
  {
   "cell_type": "code",
   "execution_count": 84,
   "metadata": {},
   "outputs": [],
   "source": [
    "# No outliers in ER"
   ]
  },
  {
   "cell_type": "code",
   "execution_count": 85,
   "metadata": {},
   "outputs": [
    {
     "data": {
      "text/plain": [
       "<AxesSubplot:xlabel='ERA'>"
      ]
     },
     "execution_count": 85,
     "metadata": {},
     "output_type": "execute_result"
    },
    {
     "data": {
      "image/png": "[encoded data removed]",
      "text/plain": [
       "<Figure size 432x288 with 1 Axes>"
      ]
     },
     "metadata": {},
     "output_type": "display_data"
    }
   ],
   "source": [
    "sns.boxplot(x=\"ERA\",data=df)"
   ]
  },
  {
   "cell_type": "code",
   "execution_count": 86,
   "metadata": {},
   "outputs": [
    {
     "name": "stdout",
     "output_type": "stream",
     "text": [
      "The first quartile : 3.6825 for ERA\n",
      "The third quartile : 4.220000000000001 for ERA\n",
      "The IQR : 0.5375000000000005 for ERA\n",
      "The left outlier : 2.8762499999999993 for ERA\n",
      "The Right outlier : 5.026250000000001 for ERA\n",
      "Left Outliers : 0\n",
      "Right Outliers : 1\n"
     ]
    }
   ],
   "source": [
    "outliers(\"ERA\")"
   ]
  },
  {
   "cell_type": "code",
   "execution_count": 87,
   "metadata": {},
   "outputs": [],
   "source": [
    "# one outlier in ERA"
   ]
  },
  {
   "cell_type": "code",
   "execution_count": 88,
   "metadata": {},
   "outputs": [
    {
     "data": {
      "text/plain": [
       "<AxesSubplot:xlabel='CG'>"
      ]
     },
     "execution_count": 88,
     "metadata": {},
     "output_type": "execute_result"
    },
    {
     "data": {
      "image/png": "[encoded data removed]",
      "text/plain": [
       "<Figure size 432x288 with 1 Axes>"
      ]
     },
     "metadata": {},
     "output_type": "display_data"
    }
   ],
   "source": [
    "sns.boxplot(x=\"CG\",data=df)"
   ]
  },
  {
   "cell_type": "code",
   "execution_count": 89,
   "metadata": {},
   "outputs": [
    {
     "name": "stdout",
     "output_type": "stream",
     "text": [
      "The first quartile : 1.0 for CG\n",
      "The third quartile : 5.75 for CG\n",
      "The IQR : 4.75 for CG\n",
      "The left outlier : -6.125 for CG\n",
      "The Right outlier : 12.875 for CG\n",
      "Left Outliers : 0\n",
      "Right Outliers : 0\n"
     ]
    }
   ],
   "source": [
    "outliers(\"CG\")"
   ]
  },
  {
   "cell_type": "code",
   "execution_count": 90,
   "metadata": {},
   "outputs": [],
   "source": [
    "# No outlier in CG"
   ]
  },
  {
   "cell_type": "code",
   "execution_count": 91,
   "metadata": {},
   "outputs": [
    {
     "data": {
      "text/plain": [
       "<AxesSubplot:xlabel='SHO'>"
      ]
     },
     "execution_count": 91,
     "metadata": {},
     "output_type": "execute_result"
    },
    {
     "data": {
      "image/png": "[encoded data removed]",
      "text/plain": [
       "<Figure size 432x288 with 1 Axes>"
      ]
     },
     "metadata": {},
     "output_type": "display_data"
    }
   ],
   "source": [
    "sns.boxplot(x=\"SHO\",data=df)"
   ]
  },
  {
   "cell_type": "code",
   "execution_count": 92,
   "metadata": {},
   "outputs": [
    {
     "name": "stdout",
     "output_type": "stream",
     "text": [
      "The first quartile : 9.0 for SHO\n",
      "The third quartile : 13.0 for SHO\n",
      "The IQR : 4.0 for SHO\n",
      "The left outlier : 3.0 for SHO\n",
      "The Right outlier : 19.0 for SHO\n",
      "Left Outliers : 0\n",
      "Right Outliers : 2\n"
     ]
    }
   ],
   "source": [
    "outliers(\"SHO\")"
   ]
  },
  {
   "cell_type": "code",
   "execution_count": 93,
   "metadata": {},
   "outputs": [],
   "source": [
    "# Some outliers in SHO"
   ]
  },
  {
   "cell_type": "code",
   "execution_count": 94,
   "metadata": {},
   "outputs": [
    {
     "data": {
      "text/plain": [
       "<AxesSubplot:xlabel='SV'>"
      ]
     },
     "execution_count": 94,
     "metadata": {},
     "output_type": "execute_result"
    },
    {
     "data": {
      "image/png": "[encoded data removed]",
      "text/plain": [
       "<Figure size 432x288 with 1 Axes>"
      ]
     },
     "metadata": {},
     "output_type": "display_data"
    }
   ],
   "source": [
    "sns.boxplot(x=\"SV\",data=df)"
   ]
  },
  {
   "cell_type": "code",
   "execution_count": 95,
   "metadata": {},
   "outputs": [
    {
     "name": "stdout",
     "output_type": "stream",
     "text": [
      "The first quartile : 37.25 for SV\n",
      "The third quartile : 46.75 for SV\n",
      "The IQR : 9.5 for SV\n",
      "The left outlier : 23.0 for SV\n",
      "The Right outlier : 61.0 for SV\n",
      "Left Outliers : 0\n",
      "Right Outliers : 1\n"
     ]
    }
   ],
   "source": [
    "outliers(\"SV\")"
   ]
  },
  {
   "cell_type": "code",
   "execution_count": 96,
   "metadata": {},
   "outputs": [],
   "source": [
    "# One outliers in SV"
   ]
  },
  {
   "cell_type": "code",
   "execution_count": 97,
   "metadata": {},
   "outputs": [
    {
     "data": {
      "text/plain": [
       "<AxesSubplot:xlabel='E'>"
      ]
     },
     "execution_count": 97,
     "metadata": {},
     "output_type": "execute_result"
    },
    {
     "data": {
      "image/png": "[encoded data removed]",
      "text/plain": [
       "<Figure size 432x288 with 1 Axes>"
      ]
     },
     "metadata": {},
     "output_type": "display_data"
    }
   ],
   "source": [
    "sns.boxplot(x=\"E\",data=df)"
   ]
  },
  {
   "cell_type": "code",
   "execution_count": 98,
   "metadata": {},
   "outputs": [
    {
     "name": "stdout",
     "output_type": "stream",
     "text": [
      "The first quartile : 86.0 for E\n",
      "The third quartile : 96.75 for E\n",
      "The IQR : 10.75 for E\n",
      "The left outlier : 69.875 for E\n",
      "The Right outlier : 112.875 for E\n",
      "Left Outliers : 0\n",
      "Right Outliers : 5\n"
     ]
    }
   ],
   "source": [
    "outliers(\"E\")"
   ]
  },
  {
   "cell_type": "code",
   "execution_count": 99,
   "metadata": {},
   "outputs": [],
   "source": [
    "# Some outliers in Errors "
   ]
  },
  {
   "cell_type": "markdown",
   "metadata": {},
   "source": [
    "There are some outliers in \n",
    "- Errors\n",
    "- Saves\n",
    "- Shoutouts \n",
    "- Earned Run Average\n",
    "- Runs"
   ]
  },
  {
   "cell_type": "markdown",
   "metadata": {},
   "source": [
    "There are outliers in the data we need to handle them"
   ]
  },
  {
   "cell_type": "markdown",
   "metadata": {},
   "source": [
    "## Removing outliers "
   ]
  },
  {
   "cell_type": "markdown",
   "metadata": {},
   "source": [
    "z-score technique"
   ]
  },
  {
   "cell_type": "code",
   "execution_count": 100,
   "metadata": {},
   "outputs": [],
   "source": [
    "from scipy.stats import zscore"
   ]
  },
  {
   "cell_type": "code",
   "execution_count": 101,
   "metadata": {},
   "outputs": [],
   "source": [
    "z = np.abs(zscore(df))"
   ]
  },
  {
   "cell_type": "code",
   "execution_count": 102,
   "metadata": {},
   "outputs": [
    {
     "data": {
      "text/plain": [
       "(30, 17)"
      ]
     },
     "execution_count": 102,
     "metadata": {},
     "output_type": "execute_result"
    }
   ],
   "source": [
    "z.shape"
   ]
  },
  {
   "cell_type": "code",
   "execution_count": 103,
   "metadata": {},
   "outputs": [
    {
     "name": "stdout",
     "output_type": "stream",
     "text": [
      "(array([5], dtype=int64), array([1], dtype=int64))\n"
     ]
    }
   ],
   "source": [
    "threshold = 3\n",
    "print(np.where(z > 3))"
   ]
  },
  {
   "cell_type": "code",
   "execution_count": 104,
   "metadata": {},
   "outputs": [
    {
     "name": "stdout",
     "output_type": "stream",
     "text": [
      "(30, 17)\n",
      "(29, 17)\n"
     ]
    }
   ],
   "source": [
    "df_new = df[(z < 3).all(axis=1)]\n",
    "print(df.shape)\n",
    "print(df_new.shape)"
   ]
  },
  {
   "cell_type": "markdown",
   "metadata": {},
   "source": [
    "## % Data Loss"
   ]
  },
  {
   "cell_type": "code",
   "execution_count": 105,
   "metadata": {},
   "outputs": [
    {
     "name": "stdout",
     "output_type": "stream",
     "text": [
      "3.3333333333333335\n"
     ]
    }
   ],
   "source": [
    "loss = (30 - 29)/30*100\n",
    "print(loss)"
   ]
  },
  {
   "cell_type": "markdown",
   "metadata": {},
   "source": [
    "## Only 3 % of the data was lost  "
   ]
  },
  {
   "cell_type": "markdown",
   "metadata": {},
   "source": [
    "## Checking Skewness"
   ]
  },
  {
   "cell_type": "code",
   "execution_count": 106,
   "metadata": {},
   "outputs": [
    {
     "data": {
      "text/html": [
       "<div>\n",
       "<style scoped>\n",
       "    .dataframe tbody tr th:only-of-type {\n",
       "        vertical-align: middle;\n",
       "    }\n",
       "\n",
       "    .dataframe tbody tr th {\n",
       "        vertical-align: top;\n",
       "    }\n",
       "\n",
       "    .dataframe thead th {\n",
       "        text-align: right;\n",
       "    }\n",
       "</style>\n",
       "<table border=\"1\" class=\"dataframe\">\n",
       "  <thead>\n",
       "    <tr style=\"text-align: right;\">\n",
       "      <th></th>\n",
       "      <th>W</th>\n",
       "      <th>R</th>\n",
       "      <th>AB</th>\n",
       "      <th>H</th>\n",
       "      <th>2B</th>\n",
       "      <th>3B</th>\n",
       "      <th>HR</th>\n",
       "      <th>BB</th>\n",
       "      <th>SO</th>\n",
       "      <th>SB</th>\n",
       "      <th>RA</th>\n",
       "      <th>ER</th>\n",
       "      <th>ERA</th>\n",
       "      <th>CG</th>\n",
       "      <th>SHO</th>\n",
       "      <th>SV</th>\n",
       "      <th>E</th>\n",
       "    </tr>\n",
       "  </thead>\n",
       "  <tbody>\n",
       "    <tr>\n",
       "      <th>0</th>\n",
       "      <td>95</td>\n",
       "      <td>724</td>\n",
       "      <td>5575</td>\n",
       "      <td>1497</td>\n",
       "      <td>300</td>\n",
       "      <td>42</td>\n",
       "      <td>139</td>\n",
       "      <td>383</td>\n",
       "      <td>973</td>\n",
       "      <td>104</td>\n",
       "      <td>641</td>\n",
       "      <td>601</td>\n",
       "      <td>3.73</td>\n",
       "      <td>2</td>\n",
       "      <td>8</td>\n",
       "      <td>56</td>\n",
       "      <td>88</td>\n",
       "    </tr>\n",
       "    <tr>\n",
       "      <th>1</th>\n",
       "      <td>83</td>\n",
       "      <td>696</td>\n",
       "      <td>5467</td>\n",
       "      <td>1349</td>\n",
       "      <td>277</td>\n",
       "      <td>44</td>\n",
       "      <td>156</td>\n",
       "      <td>439</td>\n",
       "      <td>1264</td>\n",
       "      <td>70</td>\n",
       "      <td>700</td>\n",
       "      <td>653</td>\n",
       "      <td>4.07</td>\n",
       "      <td>2</td>\n",
       "      <td>12</td>\n",
       "      <td>45</td>\n",
       "      <td>86</td>\n",
       "    </tr>\n",
       "    <tr>\n",
       "      <th>2</th>\n",
       "      <td>81</td>\n",
       "      <td>669</td>\n",
       "      <td>5439</td>\n",
       "      <td>1395</td>\n",
       "      <td>303</td>\n",
       "      <td>29</td>\n",
       "      <td>141</td>\n",
       "      <td>533</td>\n",
       "      <td>1157</td>\n",
       "      <td>86</td>\n",
       "      <td>640</td>\n",
       "      <td>584</td>\n",
       "      <td>3.67</td>\n",
       "      <td>11</td>\n",
       "      <td>10</td>\n",
       "      <td>38</td>\n",
       "      <td>79</td>\n",
       "    </tr>\n",
       "    <tr>\n",
       "      <th>3</th>\n",
       "      <td>76</td>\n",
       "      <td>622</td>\n",
       "      <td>5533</td>\n",
       "      <td>1381</td>\n",
       "      <td>260</td>\n",
       "      <td>27</td>\n",
       "      <td>136</td>\n",
       "      <td>404</td>\n",
       "      <td>1231</td>\n",
       "      <td>68</td>\n",
       "      <td>701</td>\n",
       "      <td>643</td>\n",
       "      <td>3.98</td>\n",
       "      <td>7</td>\n",
       "      <td>9</td>\n",
       "      <td>37</td>\n",
       "      <td>101</td>\n",
       "    </tr>\n",
       "    <tr>\n",
       "      <th>4</th>\n",
       "      <td>74</td>\n",
       "      <td>689</td>\n",
       "      <td>5605</td>\n",
       "      <td>1515</td>\n",
       "      <td>289</td>\n",
       "      <td>49</td>\n",
       "      <td>151</td>\n",
       "      <td>455</td>\n",
       "      <td>1259</td>\n",
       "      <td>83</td>\n",
       "      <td>803</td>\n",
       "      <td>746</td>\n",
       "      <td>4.64</td>\n",
       "      <td>7</td>\n",
       "      <td>12</td>\n",
       "      <td>35</td>\n",
       "      <td>86</td>\n",
       "    </tr>\n",
       "  </tbody>\n",
       "</table>\n",
       "</div>"
      ],
      "text/plain": [
       "    W    R    AB     H   2B  3B   HR   BB    SO   SB   RA   ER   ERA  CG  SHO  \\\n",
       "0  95  724  5575  1497  300  42  139  383   973  104  641  601  3.73   2    8   \n",
       "1  83  696  5467  1349  277  44  156  439  1264   70  700  653  4.07   2   12   \n",
       "2  81  669  5439  1395  303  29  141  533  1157   86  640  584  3.67  11   10   \n",
       "3  76  622  5533  1381  260  27  136  404  1231   68  701  643  3.98   7    9   \n",
       "4  74  689  5605  1515  289  49  151  455  1259   83  803  746  4.64   7   12   \n",
       "\n",
       "   SV    E  \n",
       "0  56   88  \n",
       "1  45   86  \n",
       "2  38   79  \n",
       "3  37  101  \n",
       "4  35   86  "
      ]
     },
     "execution_count": 106,
     "metadata": {},
     "output_type": "execute_result"
    }
   ],
   "source": [
    "df.head()"
   ]
  },
  {
   "cell_type": "code",
   "execution_count": 107,
   "metadata": {},
   "outputs": [
    {
     "data": {
      "text/plain": [
       "W      0.047089\n",
       "R      1.200786\n",
       "AB     0.183437\n",
       "H      0.670254\n",
       "2B    -0.230650\n",
       "3B     0.129502\n",
       "HR     0.516441\n",
       "BB     0.158498\n",
       "SO    -0.156065\n",
       "SB     0.479893\n",
       "RA     0.045734\n",
       "ER     0.058710\n",
       "ERA    0.053331\n",
       "CG     0.736845\n",
       "SHO    0.565790\n",
       "SV     0.657524\n",
       "E      0.890132\n",
       "dtype: float64"
      ]
     },
     "execution_count": 107,
     "metadata": {},
     "output_type": "execute_result"
    }
   ],
   "source": [
    "df.skew()"
   ]
  },
  {
   "cell_type": "markdown",
   "metadata": {},
   "source": [
    "## Log Transformation"
   ]
  },
  {
   "cell_type": "code",
   "execution_count": 108,
   "metadata": {},
   "outputs": [],
   "source": [
    "df[\"R\"] = np.log(df[\"R\"] + 1)"
   ]
  },
  {
   "cell_type": "code",
   "execution_count": 109,
   "metadata": {},
   "outputs": [
    {
     "data": {
      "text/plain": [
       "0.7448127056070601"
      ]
     },
     "execution_count": 109,
     "metadata": {},
     "output_type": "execute_result"
    }
   ],
   "source": [
    "df[\"R\"].skew()"
   ]
  },
  {
   "cell_type": "code",
   "execution_count": 110,
   "metadata": {},
   "outputs": [],
   "source": [
    "df[\"CG\"] = np.log(df[\"CG\"] + 1)"
   ]
  },
  {
   "cell_type": "code",
   "execution_count": 111,
   "metadata": {},
   "outputs": [
    {
     "data": {
      "text/plain": [
       "-0.32596212768313904"
      ]
     },
     "execution_count": 111,
     "metadata": {},
     "output_type": "execute_result"
    }
   ],
   "source": [
    "df[\"CG\"].skew()"
   ]
  },
  {
   "cell_type": "code",
   "execution_count": 112,
   "metadata": {},
   "outputs": [],
   "source": [
    "df[\"H\"] = np.log(df[\"H\"] + 1)"
   ]
  },
  {
   "cell_type": "code",
   "execution_count": 113,
   "metadata": {},
   "outputs": [
    {
     "data": {
      "text/plain": [
       "0.6285836461515344"
      ]
     },
     "execution_count": 113,
     "metadata": {},
     "output_type": "execute_result"
    }
   ],
   "source": [
    "df[\"H\"].skew()"
   ]
  },
  {
   "cell_type": "code",
   "execution_count": 114,
   "metadata": {},
   "outputs": [],
   "source": [
    "df[\"E\"] = np.log(df[\"E\"] + 1)"
   ]
  },
  {
   "cell_type": "code",
   "execution_count": 115,
   "metadata": {},
   "outputs": [
    {
     "data": {
      "text/plain": [
       "0.6329162963355313"
      ]
     },
     "execution_count": 115,
     "metadata": {},
     "output_type": "execute_result"
    }
   ],
   "source": [
    "df[\"E\"].skew()"
   ]
  },
  {
   "cell_type": "code",
   "execution_count": 116,
   "metadata": {},
   "outputs": [
    {
     "data": {
      "text/plain": [
       "W      0.047089\n",
       "R      0.744813\n",
       "AB     0.183437\n",
       "H      0.628584\n",
       "2B    -0.230650\n",
       "3B     0.129502\n",
       "HR     0.516441\n",
       "BB     0.158498\n",
       "SO    -0.156065\n",
       "SB     0.479893\n",
       "RA     0.045734\n",
       "ER     0.058710\n",
       "ERA    0.053331\n",
       "CG    -0.325962\n",
       "SHO    0.565790\n",
       "SV     0.657524\n",
       "E      0.632916\n",
       "dtype: float64"
      ]
     },
     "execution_count": 116,
     "metadata": {},
     "output_type": "execute_result"
    }
   ],
   "source": [
    "df.skew()"
   ]
  },
  {
   "cell_type": "code",
   "execution_count": 117,
   "metadata": {},
   "outputs": [
    {
     "data": {
      "text/html": [
       "<div>\n",
       "<style scoped>\n",
       "    .dataframe tbody tr th:only-of-type {\n",
       "        vertical-align: middle;\n",
       "    }\n",
       "\n",
       "    .dataframe tbody tr th {\n",
       "        vertical-align: top;\n",
       "    }\n",
       "\n",
       "    .dataframe thead th {\n",
       "        text-align: right;\n",
       "    }\n",
       "</style>\n",
       "<table border=\"1\" class=\"dataframe\">\n",
       "  <thead>\n",
       "    <tr style=\"text-align: right;\">\n",
       "      <th></th>\n",
       "      <th>W</th>\n",
       "      <th>R</th>\n",
       "      <th>AB</th>\n",
       "      <th>H</th>\n",
       "      <th>2B</th>\n",
       "      <th>3B</th>\n",
       "      <th>HR</th>\n",
       "      <th>BB</th>\n",
       "      <th>SO</th>\n",
       "      <th>SB</th>\n",
       "      <th>RA</th>\n",
       "      <th>ER</th>\n",
       "      <th>ERA</th>\n",
       "      <th>CG</th>\n",
       "      <th>SHO</th>\n",
       "      <th>SV</th>\n",
       "      <th>E</th>\n",
       "    </tr>\n",
       "  </thead>\n",
       "  <tbody>\n",
       "    <tr>\n",
       "      <th>0</th>\n",
       "      <td>95</td>\n",
       "      <td>6.586172</td>\n",
       "      <td>5575</td>\n",
       "      <td>7.311886</td>\n",
       "      <td>300</td>\n",
       "      <td>42</td>\n",
       "      <td>139</td>\n",
       "      <td>383</td>\n",
       "      <td>973</td>\n",
       "      <td>104</td>\n",
       "      <td>641</td>\n",
       "      <td>601</td>\n",
       "      <td>3.73</td>\n",
       "      <td>1.098612</td>\n",
       "      <td>8</td>\n",
       "      <td>56</td>\n",
       "      <td>4.488636</td>\n",
       "    </tr>\n",
       "    <tr>\n",
       "      <th>1</th>\n",
       "      <td>83</td>\n",
       "      <td>6.546785</td>\n",
       "      <td>5467</td>\n",
       "      <td>7.207860</td>\n",
       "      <td>277</td>\n",
       "      <td>44</td>\n",
       "      <td>156</td>\n",
       "      <td>439</td>\n",
       "      <td>1264</td>\n",
       "      <td>70</td>\n",
       "      <td>700</td>\n",
       "      <td>653</td>\n",
       "      <td>4.07</td>\n",
       "      <td>1.098612</td>\n",
       "      <td>12</td>\n",
       "      <td>45</td>\n",
       "      <td>4.465908</td>\n",
       "    </tr>\n",
       "    <tr>\n",
       "      <th>2</th>\n",
       "      <td>81</td>\n",
       "      <td>6.507278</td>\n",
       "      <td>5439</td>\n",
       "      <td>7.241366</td>\n",
       "      <td>303</td>\n",
       "      <td>29</td>\n",
       "      <td>141</td>\n",
       "      <td>533</td>\n",
       "      <td>1157</td>\n",
       "      <td>86</td>\n",
       "      <td>640</td>\n",
       "      <td>584</td>\n",
       "      <td>3.67</td>\n",
       "      <td>2.484907</td>\n",
       "      <td>10</td>\n",
       "      <td>38</td>\n",
       "      <td>4.382027</td>\n",
       "    </tr>\n",
       "    <tr>\n",
       "      <th>3</th>\n",
       "      <td>76</td>\n",
       "      <td>6.434547</td>\n",
       "      <td>5533</td>\n",
       "      <td>7.231287</td>\n",
       "      <td>260</td>\n",
       "      <td>27</td>\n",
       "      <td>136</td>\n",
       "      <td>404</td>\n",
       "      <td>1231</td>\n",
       "      <td>68</td>\n",
       "      <td>701</td>\n",
       "      <td>643</td>\n",
       "      <td>3.98</td>\n",
       "      <td>2.079442</td>\n",
       "      <td>9</td>\n",
       "      <td>37</td>\n",
       "      <td>4.624973</td>\n",
       "    </tr>\n",
       "    <tr>\n",
       "      <th>4</th>\n",
       "      <td>74</td>\n",
       "      <td>6.536692</td>\n",
       "      <td>5605</td>\n",
       "      <td>7.323831</td>\n",
       "      <td>289</td>\n",
       "      <td>49</td>\n",
       "      <td>151</td>\n",
       "      <td>455</td>\n",
       "      <td>1259</td>\n",
       "      <td>83</td>\n",
       "      <td>803</td>\n",
       "      <td>746</td>\n",
       "      <td>4.64</td>\n",
       "      <td>2.079442</td>\n",
       "      <td>12</td>\n",
       "      <td>35</td>\n",
       "      <td>4.465908</td>\n",
       "    </tr>\n",
       "  </tbody>\n",
       "</table>\n",
       "</div>"
      ],
      "text/plain": [
       "    W         R    AB         H   2B  3B   HR   BB    SO   SB   RA   ER   ERA  \\\n",
       "0  95  6.586172  5575  7.311886  300  42  139  383   973  104  641  601  3.73   \n",
       "1  83  6.546785  5467  7.207860  277  44  156  439  1264   70  700  653  4.07   \n",
       "2  81  6.507278  5439  7.241366  303  29  141  533  1157   86  640  584  3.67   \n",
       "3  76  6.434547  5533  7.231287  260  27  136  404  1231   68  701  643  3.98   \n",
       "4  74  6.536692  5605  7.323831  289  49  151  455  1259   83  803  746  4.64   \n",
       "\n",
       "         CG  SHO  SV         E  \n",
       "0  1.098612    8  56  4.488636  \n",
       "1  1.098612   12  45  4.465908  \n",
       "2  2.484907   10  38  4.382027  \n",
       "3  2.079442    9  37  4.624973  \n",
       "4  2.079442   12  35  4.465908  "
      ]
     },
     "execution_count": 117,
     "metadata": {},
     "output_type": "execute_result"
    }
   ],
   "source": [
    "df.head()"
   ]
  },
  {
   "cell_type": "markdown",
   "metadata": {},
   "source": [
    "## Train Test Split"
   ]
  },
  {
   "cell_type": "code",
   "execution_count": 118,
   "metadata": {},
   "outputs": [],
   "source": [
    "X = df.drop(\"W\",axis=1)\n",
    "y = df[\"W\"]"
   ]
  },
  {
   "cell_type": "code",
   "execution_count": 119,
   "metadata": {},
   "outputs": [
    {
     "data": {
      "text/html": [
       "<div>\n",
       "<style scoped>\n",
       "    .dataframe tbody tr th:only-of-type {\n",
       "        vertical-align: middle;\n",
       "    }\n",
       "\n",
       "    .dataframe tbody tr th {\n",
       "        vertical-align: top;\n",
       "    }\n",
       "\n",
       "    .dataframe thead th {\n",
       "        text-align: right;\n",
       "    }\n",
       "</style>\n",
       "<table border=\"1\" class=\"dataframe\">\n",
       "  <thead>\n",
       "    <tr style=\"text-align: right;\">\n",
       "      <th></th>\n",
       "      <th>R</th>\n",
       "      <th>AB</th>\n",
       "      <th>H</th>\n",
       "      <th>2B</th>\n",
       "      <th>3B</th>\n",
       "      <th>HR</th>\n",
       "      <th>BB</th>\n",
       "      <th>SO</th>\n",
       "      <th>SB</th>\n",
       "      <th>RA</th>\n",
       "      <th>ER</th>\n",
       "      <th>ERA</th>\n",
       "      <th>CG</th>\n",
       "      <th>SHO</th>\n",
       "      <th>SV</th>\n",
       "      <th>E</th>\n",
       "    </tr>\n",
       "  </thead>\n",
       "  <tbody>\n",
       "    <tr>\n",
       "      <th>0</th>\n",
       "      <td>6.586172</td>\n",
       "      <td>5575</td>\n",
       "      <td>7.311886</td>\n",
       "      <td>300</td>\n",
       "      <td>42</td>\n",
       "      <td>139</td>\n",
       "      <td>383</td>\n",
       "      <td>973</td>\n",
       "      <td>104</td>\n",
       "      <td>641</td>\n",
       "      <td>601</td>\n",
       "      <td>3.73</td>\n",
       "      <td>1.098612</td>\n",
       "      <td>8</td>\n",
       "      <td>56</td>\n",
       "      <td>4.488636</td>\n",
       "    </tr>\n",
       "    <tr>\n",
       "      <th>1</th>\n",
       "      <td>6.546785</td>\n",
       "      <td>5467</td>\n",
       "      <td>7.207860</td>\n",
       "      <td>277</td>\n",
       "      <td>44</td>\n",
       "      <td>156</td>\n",
       "      <td>439</td>\n",
       "      <td>1264</td>\n",
       "      <td>70</td>\n",
       "      <td>700</td>\n",
       "      <td>653</td>\n",
       "      <td>4.07</td>\n",
       "      <td>1.098612</td>\n",
       "      <td>12</td>\n",
       "      <td>45</td>\n",
       "      <td>4.465908</td>\n",
       "    </tr>\n",
       "    <tr>\n",
       "      <th>2</th>\n",
       "      <td>6.507278</td>\n",
       "      <td>5439</td>\n",
       "      <td>7.241366</td>\n",
       "      <td>303</td>\n",
       "      <td>29</td>\n",
       "      <td>141</td>\n",
       "      <td>533</td>\n",
       "      <td>1157</td>\n",
       "      <td>86</td>\n",
       "      <td>640</td>\n",
       "      <td>584</td>\n",
       "      <td>3.67</td>\n",
       "      <td>2.484907</td>\n",
       "      <td>10</td>\n",
       "      <td>38</td>\n",
       "      <td>4.382027</td>\n",
       "    </tr>\n",
       "    <tr>\n",
       "      <th>3</th>\n",
       "      <td>6.434547</td>\n",
       "      <td>5533</td>\n",
       "      <td>7.231287</td>\n",
       "      <td>260</td>\n",
       "      <td>27</td>\n",
       "      <td>136</td>\n",
       "      <td>404</td>\n",
       "      <td>1231</td>\n",
       "      <td>68</td>\n",
       "      <td>701</td>\n",
       "      <td>643</td>\n",
       "      <td>3.98</td>\n",
       "      <td>2.079442</td>\n",
       "      <td>9</td>\n",
       "      <td>37</td>\n",
       "      <td>4.624973</td>\n",
       "    </tr>\n",
       "    <tr>\n",
       "      <th>4</th>\n",
       "      <td>6.536692</td>\n",
       "      <td>5605</td>\n",
       "      <td>7.323831</td>\n",
       "      <td>289</td>\n",
       "      <td>49</td>\n",
       "      <td>151</td>\n",
       "      <td>455</td>\n",
       "      <td>1259</td>\n",
       "      <td>83</td>\n",
       "      <td>803</td>\n",
       "      <td>746</td>\n",
       "      <td>4.64</td>\n",
       "      <td>2.079442</td>\n",
       "      <td>12</td>\n",
       "      <td>35</td>\n",
       "      <td>4.465908</td>\n",
       "    </tr>\n",
       "  </tbody>\n",
       "</table>\n",
       "</div>"
      ],
      "text/plain": [
       "          R    AB         H   2B  3B   HR   BB    SO   SB   RA   ER   ERA  \\\n",
       "0  6.586172  5575  7.311886  300  42  139  383   973  104  641  601  3.73   \n",
       "1  6.546785  5467  7.207860  277  44  156  439  1264   70  700  653  4.07   \n",
       "2  6.507278  5439  7.241366  303  29  141  533  1157   86  640  584  3.67   \n",
       "3  6.434547  5533  7.231287  260  27  136  404  1231   68  701  643  3.98   \n",
       "4  6.536692  5605  7.323831  289  49  151  455  1259   83  803  746  4.64   \n",
       "\n",
       "         CG  SHO  SV         E  \n",
       "0  1.098612    8  56  4.488636  \n",
       "1  1.098612   12  45  4.465908  \n",
       "2  2.484907   10  38  4.382027  \n",
       "3  2.079442    9  37  4.624973  \n",
       "4  2.079442   12  35  4.465908  "
      ]
     },
     "execution_count": 119,
     "metadata": {},
     "output_type": "execute_result"
    }
   ],
   "source": [
    "X.head()"
   ]
  },
  {
   "cell_type": "code",
   "execution_count": 120,
   "metadata": {},
   "outputs": [
    {
     "data": {
      "text/plain": [
       "0    95\n",
       "1    83\n",
       "2    81\n",
       "3    76\n",
       "4    74\n",
       "Name: W, dtype: int64"
      ]
     },
     "execution_count": 120,
     "metadata": {},
     "output_type": "execute_result"
    }
   ],
   "source": [
    "y.head()"
   ]
  },
  {
   "cell_type": "code",
   "execution_count": 121,
   "metadata": {},
   "outputs": [],
   "source": [
    "X = X.values\n",
    "y = y.values"
   ]
  },
  {
   "cell_type": "code",
   "execution_count": 122,
   "metadata": {},
   "outputs": [
    {
     "data": {
      "text/plain": [
       "array([[6.58617165e+00, 5.57500000e+03, 7.31188616e+00, 3.00000000e+02,\n",
       "        4.20000000e+01, 1.39000000e+02, 3.83000000e+02, 9.73000000e+02,\n",
       "        1.04000000e+02, 6.41000000e+02, 6.01000000e+02, 3.73000000e+00,\n",
       "        1.09861229e+00, 8.00000000e+00, 5.60000000e+01, 4.48863637e+00],\n",
       "       [6.54678541e+00, 5.46700000e+03, 7.20785987e+00, 2.77000000e+02,\n",
       "        4.40000000e+01, 1.56000000e+02, 4.39000000e+02, 1.26400000e+03,\n",
       "        7.00000000e+01, 7.00000000e+02, 6.53000000e+02, 4.07000000e+00,\n",
       "        1.09861229e+00, 1.20000000e+01, 4.50000000e+01, 4.46590812e+00],\n",
       "       [6.50727771e+00, 5.43900000e+03, 7.24136628e+00, 3.03000000e+02,\n",
       "        2.90000000e+01, 1.41000000e+02, 5.33000000e+02, 1.15700000e+03,\n",
       "        8.60000000e+01, 6.40000000e+02, 5.84000000e+02, 3.67000000e+00,\n",
       "        2.48490665e+00, 1.00000000e+01, 3.80000000e+01, 4.38202663e+00],\n",
       "       [6.43454652e+00, 5.53300000e+03, 7.23128700e+00, 2.60000000e+02,\n",
       "        2.70000000e+01, 1.36000000e+02, 4.04000000e+02, 1.23100000e+03,\n",
       "        6.80000000e+01, 7.01000000e+02, 6.43000000e+02, 3.98000000e+00,\n",
       "        2.07944154e+00, 9.00000000e+00, 3.70000000e+01, 4.62497281e+00],\n",
       "       [6.53669160e+00, 5.60500000e+03, 7.32383057e+00, 2.89000000e+02,\n",
       "        4.90000000e+01, 1.51000000e+02, 4.55000000e+02, 1.25900000e+03,\n",
       "        8.30000000e+01, 8.03000000e+02, 7.46000000e+02, 4.64000000e+00,\n",
       "        2.07944154e+00, 1.20000000e+01, 3.50000000e+01, 4.46590812e+00],\n",
       "       [6.79346613e+00, 5.50900000e+03, 7.30047281e+00, 3.08000000e+02,\n",
       "        1.70000000e+01, 2.32000000e+02, 5.70000000e+02, 1.15100000e+03,\n",
       "        8.80000000e+01, 6.70000000e+02, 6.09000000e+02, 3.80000000e+00,\n",
       "        2.07944154e+00, 1.00000000e+01, 3.40000000e+01, 4.48863637e+00],\n",
       "       [6.63987583e+00, 5.56700000e+03, 7.24279792e+00, 2.72000000e+02,\n",
       "        1.90000000e+01, 2.12000000e+02, 5.54000000e+02, 1.22700000e+03,\n",
       "        6.30000000e+01, 6.98000000e+02, 6.52000000e+02, 4.03000000e+00,\n",
       "        1.38629436e+00, 4.00000000e+00, 4.80000000e+01, 4.54329478e+00],\n",
       "       [6.57088296e+00, 5.48500000e+03, 7.22329568e+00, 2.46000000e+02,\n",
       "        2.00000000e+01, 2.17000000e+02, 4.18000000e+02, 1.33100000e+03,\n",
       "        4.40000000e+01, 6.93000000e+02, 6.46000000e+02, 4.05000000e+00,\n",
       "        0.00000000e+00, 1.00000000e+01, 4.30000000e+01, 4.35670883e+00],\n",
       "       [6.46925032e+00, 5.48500000e+03, 7.23273314e+00, 2.78000000e+02,\n",
       "        3.20000000e+01, 1.67000000e+02, 4.36000000e+02, 1.31000000e+03,\n",
       "        8.70000000e+01, 6.42000000e+02, 6.04000000e+02, 3.74000000e+00,\n",
       "        6.93147181e-01, 1.20000000e+01, 6.00000000e+01, 4.56434819e+00],\n",
       "       [6.61873898e+00, 5.64000000e+03, 7.31055016e+00, 2.94000000e+02,\n",
       "        3.30000000e+01, 1.61000000e+02, 4.78000000e+02, 1.14800000e+03,\n",
       "        7.10000000e+01, 7.53000000e+02, 6.94000000e+02, 4.31000000e+00,\n",
       "        1.38629436e+00, 1.00000000e+01, 4.00000000e+01, 4.58496748e+00],\n",
       "       [6.62273632e+00, 5.51100000e+03, 7.25841215e+00, 2.79000000e+02,\n",
       "        3.20000000e+01, 1.72000000e+02, 5.03000000e+02, 1.23300000e+03,\n",
       "        1.01000000e+02, 7.33000000e+02, 6.80000000e+02, 4.24000000e+00,\n",
       "        1.79175947e+00, 9.00000000e+00, 4.50000000e+01, 4.78749174e+00],\n",
       "       [6.59304453e+00, 5.45900000e+03, 7.21817684e+00, 2.78000000e+02,\n",
       "        2.60000000e+01, 2.30000000e+02, 4.86000000e+02, 1.39200000e+03,\n",
       "        1.21000000e+02, 6.18000000e+02, 5.72000000e+02, 3.57000000e+00,\n",
       "        1.79175947e+00, 1.30000000e+01, 3.90000000e+01, 4.45434730e+00],\n",
       "       [6.49526556e+00, 5.41700000e+03, 7.19443685e+00, 2.43000000e+02,\n",
       "        2.10000000e+01, 1.76000000e+02, 4.35000000e+02, 1.15000000e+03,\n",
       "        5.20000000e+01, 6.75000000e+02, 6.30000000e+02, 3.94000000e+00,\n",
       "        1.09861229e+00, 1.20000000e+01, 4.60000000e+01, 4.54329478e+00],\n",
       "       [6.48768402e+00, 5.54400000e+03, 7.22983878e+00, 2.62000000e+02,\n",
       "        2.20000000e+01, 1.98000000e+02, 4.78000000e+02, 1.33600000e+03,\n",
       "        6.90000000e+01, 7.26000000e+02, 6.77000000e+02, 4.16000000e+00,\n",
       "        1.94591015e+00, 1.20000000e+01, 4.50000000e+01, 4.55387689e+00],\n",
       "       [6.54391185e+00, 5.60000000e+03, 7.24850407e+00, 2.77000000e+02,\n",
       "        4.60000000e+01, 1.46000000e+02, 4.75000000e+02, 1.11900000e+03,\n",
       "        7.80000000e+01, 7.29000000e+02, 6.64000000e+02, 4.14000000e+00,\n",
       "        1.79175947e+00, 1.50000000e+01, 2.80000000e+01, 4.84418709e+00],\n",
       "       [6.47389070e+00, 5.48400000e+03, 7.23489842e+00, 2.88000000e+02,\n",
       "        3.90000000e+01, 1.37000000e+02, 5.06000000e+02, 1.26700000e+03,\n",
       "        6.90000000e+01, 5.25000000e+02, 4.78000000e+02, 2.94000000e+00,\n",
       "        6.93147181e-01, 1.50000000e+01, 6.20000000e+01, 4.57471098e+00],\n",
       "       [6.54821910e+00, 5.63100000e+03, 7.28824440e+00, 2.92000000e+02,\n",
       "        2.70000000e+01, 1.40000000e+02, 4.61000000e+02, 1.32200000e+03,\n",
       "        9.80000000e+01, 5.96000000e+02, 5.32000000e+02, 3.21000000e+00,\n",
       "        0.00000000e+00, 1.30000000e+01, 5.40000000e+01, 4.81218436e+00],\n",
       "       [6.53669160e+00, 5.49100000e+03, 7.20191632e+00, 2.72000000e+02,\n",
       "        3.00000000e+01, 1.71000000e+02, 5.67000000e+02, 1.51800000e+03,\n",
       "        9.50000000e+01, 6.08000000e+02, 5.46000000e+02, 3.36000000e+00,\n",
       "        1.94591015e+00, 2.10000000e+01, 4.80000000e+01, 4.71849887e+00],\n",
       "       [6.48616079e+00, 5.48000000e+03, 7.22911388e+00, 2.74000000e+02,\n",
       "        3.40000000e+01, 1.45000000e+02, 4.12000000e+02, 1.29900000e+03,\n",
       "        8.40000000e+01, 7.37000000e+02, 6.82000000e+02, 4.28000000e+00,\n",
       "        6.93147181e-01, 7.00000000e+00, 4.00000000e+01, 4.76217393e+00],\n",
       "       [6.46302946e+00, 5.57100000e+03, 7.23201033e+00, 2.57000000e+02,\n",
       "        2.70000000e+01, 1.67000000e+02, 4.96000000e+02, 1.25500000e+03,\n",
       "        1.34000000e+02, 7.54000000e+02, 7.00000000e+02, 4.33000000e+00,\n",
       "        1.09861229e+00, 8.00000000e+00, 3.50000000e+01, 4.51085951e+00],\n",
       "       [6.52795792e+00, 5.52700000e+03, 7.20934026e+00, 2.95000000e+02,\n",
       "        1.70000000e+01, 1.77000000e+02, 4.88000000e+02, 1.29000000e+03,\n",
       "        5.10000000e+01, 6.13000000e+02, 5.57000000e+02, 3.43000000e+00,\n",
       "        6.93147181e-01, 1.40000000e+01, 5.00000000e+01, 4.48863637e+00],\n",
       "       [6.55677836e+00, 5.42800000e+03, 7.21817684e+00, 2.65000000e+02,\n",
       "        1.30000000e+01, 1.77000000e+02, 5.39000000e+02, 1.34400000e+03,\n",
       "        5.70000000e+01, 6.35000000e+02, 5.77000000e+02, 3.62000000e+00,\n",
       "        1.60943791e+00, 1.30000000e+01, 4.10000000e+01, 4.51085951e+00],\n",
       "       [6.41999493e+00, 5.46300000e+03, 7.25911613e+00, 2.36000000e+02,\n",
       "        4.00000000e+01, 1.20000000e+02, 3.75000000e+02, 1.15000000e+03,\n",
       "        1.12000000e+02, 6.78000000e+02, 6.38000000e+02, 4.02000000e+00,\n",
       "        0.00000000e+00, 1.20000000e+01, 3.50000000e+01, 4.35670883e+00],\n",
       "       [6.35262940e+00, 5.42000000e+03, 7.21670949e+00, 2.51000000e+02,\n",
       "        1.80000000e+01, 1.00000000e+02, 4.71000000e+02, 1.10700000e+03,\n",
       "        6.90000000e+01, 7.60000000e+02, 6.98000000e+02, 4.41000000e+00,\n",
       "        1.38629436e+00, 1.00000000e+01, 4.40000000e+01, 4.51085951e+00],\n",
       "       [6.44094654e+00, 5.52900000e+03, 7.22620901e+00, 2.72000000e+02,\n",
       "        3.70000000e+01, 1.30000000e+02, 3.87000000e+02, 1.27400000e+03,\n",
       "        8.80000000e+01, 8.09000000e+02, 7.49000000e+02, 4.69000000e+00,\n",
       "        6.93147181e-01, 7.00000000e+00, 3.50000000e+01, 4.77068462e+00],\n",
       "       [6.50428817e+00, 5.38500000e+03, 7.20563518e+00, 2.63000000e+02,\n",
       "        2.60000000e+01, 1.87000000e+02, 5.63000000e+02, 1.25800000e+03,\n",
       "        5.90000000e+01, 5.95000000e+02, 5.53000000e+02, 3.44000000e+00,\n",
       "        1.94591015e+00, 2.10000000e+01, 4.70000000e+01, 4.33073334e+00],\n",
       "       [6.54678541e+00, 5.56500000e+03, 7.30451595e+00, 2.88000000e+02,\n",
       "        3.90000000e+01, 1.36000000e+02, 4.57000000e+02, 1.15900000e+03,\n",
       "        9.30000000e+01, 6.27000000e+02, 5.97000000e+02, 3.72000000e+00,\n",
       "        2.07944154e+00, 1.80000000e+01, 4.10000000e+01, 4.36944785e+00],\n",
       "       [6.58063914e+00, 5.64900000e+03, 7.30988149e+00, 2.89000000e+02,\n",
       "        4.80000000e+01, 1.54000000e+02, 4.90000000e+02, 1.31200000e+03,\n",
       "        1.32000000e+02, 7.13000000e+02, 6.59000000e+02, 4.04000000e+00,\n",
       "        6.93147181e-01, 1.20000000e+01, 4.40000000e+01, 4.46590812e+00],\n",
       "       [6.47850964e+00, 5.45700000e+03, 7.18916774e+00, 2.60000000e+02,\n",
       "        3.60000000e+01, 1.48000000e+02, 4.26000000e+02, 1.32700000e+03,\n",
       "        8.20000000e+01, 7.31000000e+02, 6.55000000e+02, 4.09000000e+00,\n",
       "        6.93147181e-01, 6.00000000e+00, 4.10000000e+01, 4.53259949e+00],\n",
       "       [6.60394382e+00, 5.57200000e+03, 7.29979737e+00, 2.74000000e+02,\n",
       "        4.90000000e+01, 1.86000000e+02, 3.88000000e+02, 1.28300000e+03,\n",
       "        9.70000000e+01, 8.44000000e+02, 7.99000000e+02, 5.04000000e+00,\n",
       "        1.60943791e+00, 4.00000000e+00, 3.60000000e+01, 4.56434819e+00]])"
      ]
     },
     "execution_count": 122,
     "metadata": {},
     "output_type": "execute_result"
    }
   ],
   "source": [
    "X"
   ]
  },
  {
   "cell_type": "code",
   "execution_count": 123,
   "metadata": {},
   "outputs": [
    {
     "data": {
      "text/plain": [
       "array([ 95,  83,  81,  76,  74,  93,  87,  81,  80,  78,  88,  86,  85,\n",
       "        76,  68, 100,  98,  97,  68,  64,  90,  83,  71,  67,  63,  92,\n",
       "        84,  79,  74,  68], dtype=int64)"
      ]
     },
     "execution_count": 123,
     "metadata": {},
     "output_type": "execute_result"
    }
   ],
   "source": [
    "y"
   ]
  },
  {
   "cell_type": "code",
   "execution_count": 124,
   "metadata": {},
   "outputs": [],
   "source": [
    "from sklearn.model_selection import train_test_split"
   ]
  },
  {
   "cell_type": "code",
   "execution_count": 125,
   "metadata": {},
   "outputs": [],
   "source": [
    "X_train, X_test, y_train, y_test = train_test_split(X, y, test_size=0.25, random_state=0)"
   ]
  },
  {
   "cell_type": "code",
   "execution_count": 126,
   "metadata": {},
   "outputs": [
    {
     "data": {
      "text/plain": [
       "(22, 16)"
      ]
     },
     "execution_count": 126,
     "metadata": {},
     "output_type": "execute_result"
    }
   ],
   "source": [
    "X_train.shape"
   ]
  },
  {
   "cell_type": "code",
   "execution_count": 127,
   "metadata": {},
   "outputs": [
    {
     "data": {
      "text/plain": [
       "(8, 16)"
      ]
     },
     "execution_count": 127,
     "metadata": {},
     "output_type": "execute_result"
    }
   ],
   "source": [
    "X_test.shape"
   ]
  },
  {
   "cell_type": "code",
   "execution_count": 128,
   "metadata": {},
   "outputs": [
    {
     "data": {
      "text/plain": [
       "(22,)"
      ]
     },
     "execution_count": 128,
     "metadata": {},
     "output_type": "execute_result"
    }
   ],
   "source": [
    "y_train.shape"
   ]
  },
  {
   "cell_type": "code",
   "execution_count": 129,
   "metadata": {},
   "outputs": [
    {
     "data": {
      "text/plain": [
       "(8,)"
      ]
     },
     "execution_count": 129,
     "metadata": {},
     "output_type": "execute_result"
    }
   ],
   "source": [
    "y_test.shape"
   ]
  },
  {
   "cell_type": "markdown",
   "metadata": {},
   "source": [
    "## Scaling"
   ]
  },
  {
   "cell_type": "code",
   "execution_count": 130,
   "metadata": {},
   "outputs": [],
   "source": [
    "from sklearn.preprocessing import StandardScaler"
   ]
  },
  {
   "cell_type": "code",
   "execution_count": 131,
   "metadata": {},
   "outputs": [],
   "source": [
    "sc = StandardScaler()"
   ]
  },
  {
   "cell_type": "code",
   "execution_count": 132,
   "metadata": {},
   "outputs": [],
   "source": [
    "X_train = sc.fit_transform(X_train)\n",
    "X_test = sc.transform(X_test)"
   ]
  },
  {
   "cell_type": "code",
   "execution_count": 133,
   "metadata": {},
   "outputs": [
    {
     "data": {
      "text/plain": [
       "array([[ 0.05085464, -0.34221207, -1.12427529, -0.064963  , -0.04149842,\n",
       "         0.238514  ,  1.63281946,  2.59496835,  0.75326347, -1.03483992,\n",
       "        -1.17950691, -1.20103574,  1.12393791,  2.26871303,  0.48152362,\n",
       "         1.26247411],\n",
       "       [-1.28079604, -0.73771421,  0.3187129 , -1.97054423,  0.87146683,\n",
       "        -1.41341629, -1.55877211, -0.8266707 ,  1.54239662, -0.08283665,\n",
       "         0.08362642,  0.1841143 , -1.82012743,  0.12964074, -1.01538677,\n",
       "        -1.45661852],\n",
       "       [ 2.98096384, -0.0879607 ,  1.36202423,  1.84061824, -1.22835324,\n",
       "         2.21435218,  1.68268807, -0.81737277,  0.42832629, -0.19163702,\n",
       "        -0.31453518, -0.27760238,  1.32596427, -0.34570865, -1.13053373,\n",
       "        -0.46509535],\n",
       "       [ 0.18239747,  1.63529859,  1.05353621,  0.99369324, -0.31538799,\n",
       "        -0.76560049, -0.12920506,  0.77257364,  0.89252226, -1.19804049,\n",
       "        -1.37172285, -1.51584257, -1.82012743,  0.36731544,  1.17240535,\n",
       "         1.96658279],\n",
       "       [-0.71873225, -0.42696253, -0.34685479,  0.25263388,  0.14109463,\n",
       "         0.10895084, -0.54477688,  0.66099845,  0.38190669, -0.57243833,\n",
       "        -0.38318373, -0.40352511, -0.7714302 ,  0.12964074,  1.86328707,\n",
       "         0.1039293 ],\n",
       "       [ 0.13324644,  1.19742123,  0.05100098,  0.19970106,  1.41924598,\n",
       "        -0.57125575,  0.10351516, -1.1149066 , -0.03586969,  0.61076574,\n",
       "         0.44059888,  0.43595976,  0.8907156 ,  0.84266484, -1.82141545,\n",
       "         2.20710458],\n",
       "       [-2.04951854, -1.34509248, -0.7510858 , -1.17655205, -1.13705672,\n",
       "        -2.06123208,  0.03702367, -1.22648178, -0.45364607,  1.03236719,\n",
       "         0.90740902,  1.00261204,  0.27726704, -0.34570865,  0.02093581,\n",
       "        -0.29807371],\n",
       "       [-0.04880725,  0.16629067, -0.93699047,  1.15249168, -1.22835324,\n",
       "         0.43285874,  0.31961251,  0.47503981, -1.28919882, -0.96683969,\n",
       "        -1.0284801 , -1.05412589, -0.7714302 ,  0.60499014,  0.71181753,\n",
       "        -0.46509535],\n",
       "       [ 0.16603731, -0.6812139 , -0.97433637,  0.19970106,  1.23665293,\n",
       "        -0.24734785, -0.49490826,  0.23329357, -0.40722647,  0.21636438,\n",
       "         0.28957207,  0.2890499 , -0.15798164,  0.12964074,  0.13608276,\n",
       "        -0.63591327],\n",
       "       [ 0.81828421,  0.8019191 ,  1.34498461,  0.04090263,  1.69313555,\n",
       "         0.72437585, -1.34267477,  0.40995428,  0.84610266,  2.17477112,\n",
       "         2.29410973,  2.32480071,  0.61487214, -1.77175684, -0.90023982,\n",
       "         0.1039293 ],\n",
       "       [ 1.22831206,  0.73129372, -0.09294891, -0.064963  , -1.04576019,\n",
       "         1.56653638,  1.41672211, -0.11072992, -0.73216365,  0.18916429,\n",
       "         0.27584236,  0.20510142,  0.27726704, -1.77175684,  0.48152362,\n",
       "        -0.05430106],\n",
       "       [ 0.05085464,  1.26804661,  1.95127374,  0.83489481,  1.69313555,\n",
       "        -0.4093018 , -0.22894229,  0.18680391,  0.1962283 ,  1.6171692 ,\n",
       "         1.5664351 ,  1.48531584,  1.32596427,  0.12964074, -1.01538677,\n",
       "        -0.63591327],\n",
       "       [-0.52576323, -0.49758791, -0.43815836,  0.04090263,  0.32368768,\n",
       "        -0.60364654, -0.94372582,  0.5587212 ,  0.2426479 ,  0.71956611,\n",
       "         0.68773366,  0.72977946, -0.7714302 , -1.05873275, -0.43965201,\n",
       "         1.59072124],\n",
       "       [-0.78971981,  0.78779402, -0.36508909, -0.85895518, -0.31538799,\n",
       "         0.10895084,  0.45259549,  0.14961218,  2.56362777,  0.95076691,\n",
       "         0.93486844,  0.83471507, -0.15798164, -0.82105805, -1.01538677,\n",
       "        -0.29807371],\n",
       "       [ 0.98711493,  1.76242428,  1.6162469 ,  1.09955887,  0.23239115,\n",
       "        -0.0853939 ,  0.15338378, -0.84526656, -0.36080687,  0.93716686,\n",
       "         0.85249018,  0.79274083,  0.27726704, -0.34570865, -0.43965201,\n",
       "         0.25889695],\n",
       "       [ 0.44101963, -0.42696253, -0.58493492, -1.44121611, -0.95446367,\n",
       "         1.72849033, -0.84398858,  0.85625503, -1.614136  ,  0.12116405,\n",
       "         0.1934641 ,  0.24707566, -1.82012743, -0.34570865, -0.09421114,\n",
       "        -1.45661852],\n",
       "       [-0.31890777, -1.83947015, -1.03045908, -0.5413583 , -0.40668452,\n",
       "         0.75676664,  1.56632796,  0.17750598, -0.91784204, -1.21164053,\n",
       "        -1.08339894, -1.03313877,  1.12393791,  2.26871303,  0.36637667,\n",
       "        -1.65184156],\n",
       "       [-1.11474472,  0.25104113, -0.38333657, -0.70015674, -0.31538799,\n",
       "        -0.89516365, -1.0767088 , -0.07353819, -0.50006566,  0.22996443,\n",
       "         0.15227497,  0.10016581,  1.32596427, -0.58338335, -0.78509287,\n",
       "         0.55956363],\n",
       "       [ 0.61548217,  0.84429433,  1.64995051,  1.41715574,  1.05405988,\n",
       "        -0.79799128, -1.42578913, -2.47240469,  1.17103984, -0.58603838,\n",
       "        -0.42437286, -0.42451224, -0.15798164, -0.82105805,  1.40269925,\n",
       "        -0.46509535],\n",
       "       [ 0.28006895, -1.23209187, -0.71406869, -0.43549268, -1.59353934,\n",
       "         0.43285874,  1.16737902,  0.97712815, -1.01068123, -0.66763866,\n",
       "        -0.7538859 , -0.65537057,  0.61487214,  0.36731544, -0.32450505,\n",
       "        -0.29807371],\n",
       "       [-0.66577989, -0.44108761, -0.29223084,  0.781962  ,  0.7801703 ,\n",
       "        -0.86277286,  0.61882422,  0.26118737, -0.45364607, -2.16364381,\n",
       "        -2.11312719, -2.08249485, -0.7714302 ,  0.84266484,  2.09358098,\n",
       "         0.18181254],\n",
       "       [-0.42186679, -1.38746771, -1.31296091, -1.60001454, -0.86316714,\n",
       "         0.40046795, -0.56139975, -0.8266707 , -1.24277922, -0.12363679,\n",
       "        -0.02621126,  0.01621732, -0.15798164,  0.12964074,  0.25122972,\n",
       "        -0.05430106]])"
      ]
     },
     "execution_count": 133,
     "metadata": {},
     "output_type": "execute_result"
    }
   ],
   "source": [
    "X_train"
   ]
  },
  {
   "cell_type": "code",
   "execution_count": 134,
   "metadata": {},
   "outputs": [
    {
     "data": {
      "text/plain": [
       "array([[-0.2847935 , -1.07671603, -0.12906509,  1.57595418, -0.13279495,\n",
       "        -0.7332097 ,  1.06764178, -0.76158517,  0.33548709, -0.59963843,\n",
       "        -0.65777793, -0.55043497,  1.93941283, -0.34570865, -0.66994591,\n",
       "        -1.26633837],\n",
       "       [-0.61307211, -0.82246466, -1.44588561, -0.70015674,  0.50628073,\n",
       "        -0.50647417, -0.7110056 ,  0.8190633 ,  0.1498087 ,  0.63796583,\n",
       "         0.31703149,  0.33102415, -0.7714302 , -1.29640745, -0.32450505,\n",
       "        -0.13468326],\n",
       "       [-0.50838133,  0.40641696, -0.41987119, -0.59429112, -0.77187062,\n",
       "         1.11306533,  0.15338378,  0.90274469, -0.45364607,  0.5699656 ,\n",
       "         0.61908511,  0.477934  ,  1.12393791,  0.12964074,  0.13608276,\n",
       "         0.02523053],\n",
       "       [ 1.03272944, -0.05971055,  0.30095356,  0.30556669,  0.14109463,\n",
       "         0.27090479,  0.5689556 , -0.05494233,  1.03178105,  0.66516592,\n",
       "         0.66027424,  0.64583097,  0.8907156 , -0.58338335,  0.13608276,\n",
       "         1.7810014 ],\n",
       "       [ 0.16603731,  0.70304356,  1.46402093,  0.781962  ,  0.7801703 ,\n",
       "        -0.89516365, -0.19569655, -0.74298931,  0.66042427, -0.77643904,\n",
       "        -0.4792917 , -0.44549936,  1.32596427,  1.55568894, -0.32450505,\n",
       "        -1.36087628],\n",
       "       [-1.0417127 ,  0.19454082, -0.5114399 , -0.064963  ,  0.59757725,\n",
       "        -1.08950839, -1.35929764,  0.32627289,  0.42832629,  1.69876948,\n",
       "         1.60762423,  1.59025145, -0.7714302 , -1.05873275, -1.01538677,\n",
       "         1.65468473],\n",
       "       [ 0.55234943,  1.88954996,  1.5993782 ,  0.83489481,  1.60183903,\n",
       "        -0.31212943,  0.35285825,  0.67959432,  2.47078857,  0.39316499,\n",
       "         0.37195033,  0.22608854, -0.7714302 ,  0.12964074,  0.02093581,\n",
       "        -0.63591327],\n",
       "       [ 0.69391007, -0.79421451, -0.71406869,  0.25263388, -0.40668452,\n",
       "         2.1495706 ,  0.28636676,  1.42342889,  1.960173  , -0.89883946,\n",
       "        -0.82253445, -0.76030618,  0.8907156 ,  0.36731544, -0.55479896,\n",
       "        -0.72280053]])"
      ]
     },
     "execution_count": 134,
     "metadata": {},
     "output_type": "execute_result"
    }
   ],
   "source": [
    "X_test"
   ]
  },
  {
   "cell_type": "markdown",
   "metadata": {},
   "source": [
    "## Machine Learning"
   ]
  },
  {
   "cell_type": "markdown",
   "metadata": {},
   "source": [
    "#### Linear Regression"
   ]
  },
  {
   "cell_type": "code",
   "execution_count": 135,
   "metadata": {},
   "outputs": [],
   "source": [
    "from sklearn.metrics import r2_score"
   ]
  },
  {
   "cell_type": "code",
   "execution_count": 136,
   "metadata": {},
   "outputs": [],
   "source": [
    "from sklearn.model_selection import cross_val_score\n",
    "from sklearn.model_selection import KFold"
   ]
  },
  {
   "cell_type": "code",
   "execution_count": 137,
   "metadata": {},
   "outputs": [],
   "source": [
    "from sklearn.linear_model import LinearRegression"
   ]
  },
  {
   "cell_type": "code",
   "execution_count": 138,
   "metadata": {},
   "outputs": [
    {
     "name": "stdout",
     "output_type": "stream",
     "text": [
      "for random state  0  The training accuracy is : 0.9724716863944652\n",
      "for random state  0  The testing accuracy is : 0.24819359589064627\n",
      "\n",
      "\n",
      "for random state  1  The training accuracy is : 0.9757505876090029\n",
      "for random state  1  The testing accuracy is : 0.5000493759464629\n",
      "\n",
      "\n",
      "for random state  2  The training accuracy is : 0.9892365521599998\n",
      "for random state  2  The testing accuracy is : -1.4925000358367728\n",
      "\n",
      "\n",
      "for random state  3  The training accuracy is : 0.9666659441573516\n",
      "for random state  3  The testing accuracy is : 0.6080368084085817\n",
      "\n",
      "\n",
      "for random state  4  The training accuracy is : 0.9677248674978384\n",
      "for random state  4  The testing accuracy is : 0.643686460351286\n",
      "\n",
      "\n",
      "for random state  5  The training accuracy is : 0.9482747823859149\n",
      "for random state  5  The testing accuracy is : 0.8607613230487243\n",
      "\n",
      "\n",
      "for random state  6  The training accuracy is : 0.9550181282178896\n",
      "for random state  6  The testing accuracy is : 0.7577994026825268\n",
      "\n",
      "\n",
      "for random state  7  The training accuracy is : 0.9659726779648024\n",
      "for random state  7  The testing accuracy is : 0.3404963976993529\n",
      "\n",
      "\n",
      "for random state  8  The training accuracy is : 0.9632033887789206\n",
      "for random state  8  The testing accuracy is : 0.6345404497600389\n",
      "\n",
      "\n",
      "for random state  9  The training accuracy is : 0.9440640847853803\n",
      "for random state  9  The testing accuracy is : 0.8448924928958887\n",
      "\n",
      "\n",
      "for random state  10  The training accuracy is : 0.9703269003458785\n",
      "for random state  10  The testing accuracy is : 0.31466125351289864\n",
      "\n",
      "\n",
      "for random state  11  The training accuracy is : 0.98215094395408\n",
      "for random state  11  The testing accuracy is : 0.5716637716955238\n",
      "\n",
      "\n",
      "for random state  12  The training accuracy is : 0.9789536305304374\n",
      "for random state  12  The testing accuracy is : 0.322797403897623\n",
      "\n",
      "\n",
      "for random state  13  The training accuracy is : 0.9708003705889762\n",
      "for random state  13  The testing accuracy is : 0.7310320066353178\n",
      "\n",
      "\n",
      "for random state  14  The training accuracy is : 0.9627212772855807\n",
      "for random state  14  The testing accuracy is : 0.5510850023317647\n",
      "\n",
      "\n",
      "for random state  15  The training accuracy is : 0.9678673791987585\n",
      "for random state  15  The testing accuracy is : 0.30481400470999076\n",
      "\n",
      "\n",
      "for random state  16  The training accuracy is : 0.9880102740020609\n",
      "for random state  16  The testing accuracy is : -0.012008903814572092\n",
      "\n",
      "\n",
      "for random state  17  The training accuracy is : 0.9797698579577186\n",
      "for random state  17  The testing accuracy is : 0.24144471074349572\n",
      "\n",
      "\n",
      "for random state  18  The training accuracy is : 0.9722850196683432\n",
      "for random state  18  The testing accuracy is : -0.09549875118532425\n",
      "\n",
      "\n",
      "for random state  19  The training accuracy is : 0.9408650421635982\n",
      "for random state  19  The testing accuracy is : 0.9146240850019253\n",
      "\n",
      "\n",
      "for random state  20  The training accuracy is : 0.961196807598904\n",
      "for random state  20  The testing accuracy is : 0.6158033701186909\n",
      "\n",
      "\n",
      "for random state  21  The training accuracy is : 0.9723607606595269\n",
      "for random state  21  The testing accuracy is : -0.5237556185217245\n",
      "\n",
      "\n",
      "for random state  22  The training accuracy is : 0.9788223994967058\n",
      "for random state  22  The testing accuracy is : -2.617318337559428\n",
      "\n",
      "\n",
      "for random state  23  The training accuracy is : 0.9823147725974554\n",
      "for random state  23  The testing accuracy is : 0.6646787737034234\n",
      "\n",
      "\n",
      "for random state  24  The training accuracy is : 0.9930800991383703\n",
      "for random state  24  The testing accuracy is : -3.4531231864856737\n",
      "\n",
      "\n",
      "for random state  25  The training accuracy is : 0.9941555586705961\n",
      "for random state  25  The testing accuracy is : -0.955921384260608\n",
      "\n",
      "\n",
      "for random state  26  The training accuracy is : 0.9650198494970857\n",
      "for random state  26  The testing accuracy is : 0.37999177395637396\n",
      "\n",
      "\n",
      "for random state  27  The training accuracy is : 0.9628235207836972\n",
      "for random state  27  The testing accuracy is : 0.7220133804203369\n",
      "\n",
      "\n",
      "for random state  28  The training accuracy is : 0.9672791131856238\n",
      "for random state  28  The testing accuracy is : 0.7588590478249835\n",
      "\n",
      "\n",
      "for random state  29  The training accuracy is : 0.9487507711683961\n",
      "for random state  29  The testing accuracy is : 0.9006631841702369\n",
      "\n",
      "\n",
      "for random state  30  The training accuracy is : 0.9789672680691465\n",
      "for random state  30  The testing accuracy is : 0.7031363350177298\n",
      "\n",
      "\n",
      "for random state  31  The training accuracy is : 0.9912630301389712\n",
      "for random state  31  The testing accuracy is : 0.08580840906161835\n",
      "\n",
      "\n",
      "for random state  32  The training accuracy is : 0.9678200952992121\n",
      "for random state  32  The testing accuracy is : 0.4559075903908866\n",
      "\n",
      "\n",
      "for random state  33  The training accuracy is : 0.9765937034963929\n",
      "for random state  33  The testing accuracy is : 0.6879535133759642\n",
      "\n",
      "\n",
      "for random state  34  The training accuracy is : 0.9651095318092048\n",
      "for random state  34  The testing accuracy is : 0.8565903867625158\n",
      "\n",
      "\n",
      "for random state  35  The training accuracy is : 0.9804426342288162\n",
      "for random state  35  The testing accuracy is : 0.26094983439862685\n",
      "\n",
      "\n",
      "for random state  36  The training accuracy is : 0.9657727074551299\n",
      "for random state  36  The testing accuracy is : 0.7140038097313642\n",
      "\n",
      "\n",
      "for random state  37  The training accuracy is : 0.9540930543272177\n",
      "for random state  37  The testing accuracy is : 0.7486423295836546\n",
      "\n",
      "\n",
      "for random state  38  The training accuracy is : 0.9655792200235076\n",
      "for random state  38  The testing accuracy is : 0.4713202164074757\n",
      "\n",
      "\n",
      "for random state  39  The training accuracy is : 0.9424894740224353\n",
      "for random state  39  The testing accuracy is : 0.7672073711227573\n",
      "\n",
      "\n",
      "for random state  40  The training accuracy is : 0.9749278984933144\n",
      "for random state  40  The testing accuracy is : 0.5595475186648977\n",
      "\n",
      "\n",
      "for random state  41  The training accuracy is : 0.9706352876119478\n",
      "for random state  41  The testing accuracy is : 0.6628745910976905\n",
      "\n",
      "\n",
      "for random state  42  The training accuracy is : 0.9744310368349619\n",
      "for random state  42  The testing accuracy is : 0.8417191883141686\n",
      "\n",
      "\n",
      "for random state  43  The training accuracy is : 0.9846405054146053\n",
      "for random state  43  The testing accuracy is : -0.3267748879101027\n",
      "\n",
      "\n",
      "for random state  44  The training accuracy is : 0.9573989263217096\n",
      "for random state  44  The testing accuracy is : 0.7916989327182814\n",
      "\n",
      "\n",
      "for random state  45  The training accuracy is : 0.9530204155106429\n",
      "for random state  45  The testing accuracy is : 0.5380346961146205\n",
      "\n",
      "\n",
      "for random state  46  The training accuracy is : 0.9835590257324858\n",
      "for random state  46  The testing accuracy is : 0.2296343665553695\n",
      "\n",
      "\n",
      "for random state  47  The training accuracy is : 0.9509722625902082\n",
      "for random state  47  The testing accuracy is : 0.8043978667847669\n",
      "\n",
      "\n",
      "for random state  48  The training accuracy is : 0.959847359729316\n",
      "for random state  48  The testing accuracy is : 0.40549630435731543\n",
      "\n",
      "\n",
      "for random state  49  The training accuracy is : 0.9865868736295444\n",
      "for random state  49  The testing accuracy is : 0.07002715315835484\n",
      "\n",
      "\n",
      "for random state  50  The training accuracy is : 0.985045438234341\n",
      "for random state  50  The testing accuracy is : 0.7180499517669959\n",
      "\n",
      "\n",
      "for random state  51  The training accuracy is : 0.9749191769507298\n",
      "for random state  51  The testing accuracy is : 0.753921848693159\n",
      "\n",
      "\n",
      "for random state  52  The training accuracy is : 0.9797084384689279\n",
      "for random state  52  The testing accuracy is : 0.4382171910740459\n",
      "\n",
      "\n",
      "for random state  53  The training accuracy is : 0.9772272509582116\n",
      "for random state  53  The testing accuracy is : 0.7708527235916953\n",
      "\n",
      "\n",
      "for random state  54  The training accuracy is : 0.9749488850471302\n",
      "for random state  54  The testing accuracy is : 0.6020983694222146\n",
      "\n",
      "\n",
      "for random state  55  The training accuracy is : 0.9577747192968084\n",
      "for random state  55  The testing accuracy is : 0.22676964845132574\n",
      "\n",
      "\n",
      "for random state  56  The training accuracy is : 0.9794106797178141\n",
      "for random state  56  The testing accuracy is : 0.48252654207117796\n",
      "\n",
      "\n",
      "for random state  57  The training accuracy is : 0.9721694038045468\n",
      "for random state  57  The testing accuracy is : 0.092161439090924\n",
      "\n",
      "\n",
      "for random state  58  The training accuracy is : 0.966287973919047\n",
      "for random state  58  The testing accuracy is : 0.5522728096196419\n",
      "\n",
      "\n",
      "for random state  59  The training accuracy is : 0.9801071138972319\n",
      "for random state  59  The testing accuracy is : 0.4102515268038833\n",
      "\n",
      "\n",
      "for random state  60  The training accuracy is : 0.9863445700211518\n",
      "for random state  60  The testing accuracy is : -0.28836739209031537\n",
      "\n",
      "\n",
      "for random state  61  The training accuracy is : 0.9911791631014203\n",
      "for random state  61  The testing accuracy is : -0.7814910314803167\n",
      "\n",
      "\n",
      "for random state  62  The training accuracy is : 0.9659490390527092\n",
      "for random state  62  The testing accuracy is : 0.2495940564138608\n",
      "\n",
      "\n",
      "for random state  63  The training accuracy is : 0.966212032202542\n",
      "for random state  63  The testing accuracy is : 0.21923286737208736\n",
      "\n",
      "\n",
      "for random state  64  The training accuracy is : 0.953457112632018\n",
      "for random state  64  The testing accuracy is : 0.7294016481906815\n",
      "\n",
      "\n",
      "for random state  65  The training accuracy is : 0.949345127154954\n",
      "for random state  65  The testing accuracy is : 0.8139712651582198\n",
      "\n",
      "\n",
      "for random state  66  The training accuracy is : 0.9877578872311117\n",
      "for random state  66  The testing accuracy is : 0.15324596373209498\n",
      "\n",
      "\n",
      "for random state  67  The training accuracy is : 0.9532550055691117\n",
      "for random state  67  The testing accuracy is : 0.5050355333620525\n",
      "\n",
      "\n",
      "for random state  68  The training accuracy is : 0.9693636761977215\n",
      "for random state  68  The testing accuracy is : 0.008608986172484512\n",
      "\n",
      "\n",
      "for random state  69  The training accuracy is : 0.957671921572876\n",
      "for random state  69  The testing accuracy is : 0.7642099897234211\n",
      "\n",
      "\n",
      "for random state  70  The training accuracy is : 0.9753760219369954\n",
      "for random state  70  The testing accuracy is : -2.3747897199461616\n",
      "\n",
      "\n",
      "for random state  71  The training accuracy is : 0.9641986204752432\n",
      "for random state  71  The testing accuracy is : 0.4107196380514704\n",
      "\n",
      "\n",
      "for random state  72  The training accuracy is : 0.9605433044386325\n",
      "for random state  72  The testing accuracy is : 0.5572444932894439\n",
      "\n",
      "\n",
      "for random state  73  The training accuracy is : 0.9796278581057801\n",
      "for random state  73  The testing accuracy is : 0.641022952677575\n",
      "\n",
      "\n",
      "for random state  74  The training accuracy is : 0.9862338132553952\n",
      "for random state  74  The testing accuracy is : -1.7355359566790765\n",
      "\n",
      "\n",
      "for random state  75  The training accuracy is : 0.966769221380218\n",
      "for random state  75  The testing accuracy is : 0.12310047445652184\n",
      "\n",
      "\n"
     ]
    },
    {
     "name": "stdout",
     "output_type": "stream",
     "text": [
      "for random state  76  The training accuracy is : 0.983937266616435\n",
      "for random state  76  The testing accuracy is : -0.08374554906683862\n",
      "\n",
      "\n",
      "for random state  77  The training accuracy is : 0.9803680685922843\n",
      "for random state  77  The testing accuracy is : 0.6184669998886375\n",
      "\n",
      "\n",
      "for random state  78  The training accuracy is : 0.9645050710152628\n",
      "for random state  78  The testing accuracy is : 0.42452321921557346\n",
      "\n",
      "\n",
      "for random state  79  The training accuracy is : 0.976518545227059\n",
      "for random state  79  The testing accuracy is : 0.03296324790268179\n",
      "\n",
      "\n",
      "for random state  80  The training accuracy is : 0.9871926624974597\n",
      "for random state  80  The testing accuracy is : -0.010452456098187568\n",
      "\n",
      "\n",
      "for random state  81  The training accuracy is : 0.9765327210637058\n",
      "for random state  81  The testing accuracy is : -0.42348563499677017\n",
      "\n",
      "\n",
      "for random state  82  The training accuracy is : 0.9798868317327472\n",
      "for random state  82  The testing accuracy is : 0.7412938376326531\n",
      "\n",
      "\n",
      "for random state  83  The training accuracy is : 0.9523424926177553\n",
      "for random state  83  The testing accuracy is : 0.753695610534899\n",
      "\n",
      "\n",
      "for random state  84  The training accuracy is : 0.9522218883635848\n",
      "for random state  84  The testing accuracy is : 0.6438976940363367\n",
      "\n",
      "\n",
      "for random state  85  The training accuracy is : 0.9890108071767069\n",
      "for random state  85  The testing accuracy is : 0.6761914097702644\n",
      "\n",
      "\n",
      "for random state  86  The training accuracy is : 0.949397976466708\n",
      "for random state  86  The testing accuracy is : 0.8724748045577989\n",
      "\n",
      "\n",
      "for random state  87  The training accuracy is : 0.97933855333178\n",
      "for random state  87  The testing accuracy is : 0.32404012528194137\n",
      "\n",
      "\n",
      "for random state  88  The training accuracy is : 0.9838158180237169\n",
      "for random state  88  The testing accuracy is : 0.1515563056142747\n",
      "\n",
      "\n",
      "for random state  89  The training accuracy is : 0.9704898841012443\n",
      "for random state  89  The testing accuracy is : 0.43241508393449357\n",
      "\n",
      "\n",
      "for random state  90  The training accuracy is : 0.9518757753105441\n",
      "for random state  90  The testing accuracy is : 0.884168485383935\n",
      "\n",
      "\n",
      "for random state  91  The training accuracy is : 0.9693174532197283\n",
      "for random state  91  The testing accuracy is : -0.06504681993444161\n",
      "\n",
      "\n",
      "for random state  92  The training accuracy is : 0.9773689446576579\n",
      "for random state  92  The testing accuracy is : 0.7104567071255725\n",
      "\n",
      "\n",
      "for random state  93  The training accuracy is : 0.9646068413811983\n",
      "for random state  93  The testing accuracy is : 0.5585991699063877\n",
      "\n",
      "\n",
      "for random state  94  The training accuracy is : 0.973140619521397\n",
      "for random state  94  The testing accuracy is : 0.05404549935286829\n",
      "\n",
      "\n",
      "for random state  95  The training accuracy is : 0.9668405060824075\n",
      "for random state  95  The testing accuracy is : 0.4066373868776173\n",
      "\n",
      "\n",
      "for random state  96  The training accuracy is : 0.9706096945617315\n",
      "for random state  96  The testing accuracy is : 0.48723808525234014\n",
      "\n",
      "\n",
      "for random state  97  The training accuracy is : 0.9709377606145292\n",
      "for random state  97  The testing accuracy is : 0.17094448778378957\n",
      "\n",
      "\n",
      "for random state  98  The training accuracy is : 0.9743207671308881\n",
      "for random state  98  The testing accuracy is : 0.7322583243154371\n",
      "\n",
      "\n",
      "for random state  99  The training accuracy is : 0.9633208530884467\n",
      "for random state  99  The testing accuracy is : 0.8002930774073738\n",
      "\n",
      "\n",
      "for random state  100  The training accuracy is : 0.9698950632995444\n",
      "for random state  100  The testing accuracy is : -0.2583662988315203\n",
      "\n",
      "\n"
     ]
    }
   ],
   "source": [
    "# Using for loop to find the best random state\n",
    "for i in range(0,101):\n",
    "    \n",
    "    X_train, X_test, y_train, y_test = train_test_split(X, y, test_size=0.24, random_state=i)\n",
    "    mod_1 = LinearRegression() \n",
    "    mod_1.fit(X_train,y_train)\n",
    "    train_score_1 = mod_1.score(X_train,y_train)\n",
    "    pred_1 = mod_1.predict(X_test)\n",
    "    test_score_1 = r2_score(y_test,pred_1)\n",
    "    \n",
    "    print(\"for random state \",i,\" The training accuracy is :\",train_score_1)\n",
    "    print(\"for random state \",i,\" The testing accuracy is :\",test_score_1)\n",
    "    print(\"\\n\")"
   ]
  },
  {
   "cell_type": "code",
   "execution_count": 139,
   "metadata": {},
   "outputs": [
    {
     "name": "stdout",
     "output_type": "stream",
     "text": [
      "The training accuracy is : 0.9518757753105441\n",
      "The testing accuracy is : 0.884168485383935\n",
      "\n",
      "\n"
     ]
    }
   ],
   "source": [
    "# Taking best random state as 90\n",
    "X_train, X_test, y_train, y_test = train_test_split(X, y, test_size=0.24, random_state=90)\n",
    "mod_1 = LinearRegression() \n",
    "mod_1.fit(X_train,y_train)\n",
    "train_score_1 = mod_1.score(X_train,y_train)\n",
    "pred_1 = mod_1.predict(X_test)\n",
    "test_score_1 = r2_score(y_test,pred_1)\n",
    "    \n",
    "print(\"The training accuracy is :\",train_score_1)\n",
    "print(\"The testing accuracy is :\",test_score_1)\n",
    "print(\"\\n\")"
   ]
  },
  {
   "cell_type": "code",
   "execution_count": 140,
   "metadata": {},
   "outputs": [
    {
     "name": "stdout",
     "output_type": "stream",
     "text": [
      "11.785856612184613\n"
     ]
    }
   ],
   "source": [
    "from sklearn.metrics import mean_squared_error\n",
    "MSE_1 = mean_squared_error(y_test,pred_1)\n",
    "print(MSE_1)"
   ]
  },
  {
   "cell_type": "markdown",
   "metadata": {},
   "source": [
    "### Cross validation "
   ]
  },
  {
   "cell_type": "code",
   "execution_count": 141,
   "metadata": {},
   "outputs": [],
   "source": [
    "kfold = KFold(n_splits=10)\n",
    "\n",
    "K_results = cross_val_score(mod_1,X,y,cv=kfold)\n",
    "\n",
    "kfold_accuracy_LR = np.mean(abs(K_results))"
   ]
  },
  {
   "cell_type": "code",
   "execution_count": 142,
   "metadata": {},
   "outputs": [
    {
     "data": {
      "text/plain": [
       "7.808825222778585"
      ]
     },
     "execution_count": 142,
     "metadata": {},
     "output_type": "execute_result"
    }
   ],
   "source": [
    "kfold_accuracy_LR"
   ]
  },
  {
   "cell_type": "code",
   "execution_count": 143,
   "metadata": {},
   "outputs": [],
   "source": [
    "score = {\"Algorithm\":[\"Linear Regression\"],\n",
    "         \"Training_Acc\":[train_score_1],\n",
    "        \"R2 Score\":[test_score_1],\n",
    "         \"MSE\":[MSE_1],\n",
    "        \"Cross_validation\":[kfold_accuracy_LR]}\n",
    "\n",
    "final_card = pd.DataFrame(score)"
   ]
  },
  {
   "cell_type": "code",
   "execution_count": 144,
   "metadata": {},
   "outputs": [
    {
     "data": {
      "text/html": [
       "<div>\n",
       "<style scoped>\n",
       "    .dataframe tbody tr th:only-of-type {\n",
       "        vertical-align: middle;\n",
       "    }\n",
       "\n",
       "    .dataframe tbody tr th {\n",
       "        vertical-align: top;\n",
       "    }\n",
       "\n",
       "    .dataframe thead th {\n",
       "        text-align: right;\n",
       "    }\n",
       "</style>\n",
       "<table border=\"1\" class=\"dataframe\">\n",
       "  <thead>\n",
       "    <tr style=\"text-align: right;\">\n",
       "      <th></th>\n",
       "      <th>Algorithm</th>\n",
       "      <th>Training_Acc</th>\n",
       "      <th>R2 Score</th>\n",
       "      <th>MSE</th>\n",
       "      <th>Cross_validation</th>\n",
       "    </tr>\n",
       "  </thead>\n",
       "  <tbody>\n",
       "    <tr>\n",
       "      <th>0</th>\n",
       "      <td>Linear Regression</td>\n",
       "      <td>0.951876</td>\n",
       "      <td>0.884168</td>\n",
       "      <td>11.785857</td>\n",
       "      <td>7.808825</td>\n",
       "    </tr>\n",
       "  </tbody>\n",
       "</table>\n",
       "</div>"
      ],
      "text/plain": [
       "           Algorithm  Training_Acc  R2 Score        MSE  Cross_validation\n",
       "0  Linear Regression      0.951876  0.884168  11.785857          7.808825"
      ]
     },
     "execution_count": 144,
     "metadata": {},
     "output_type": "execute_result"
    }
   ],
   "source": [
    "final_card"
   ]
  },
  {
   "cell_type": "markdown",
   "metadata": {},
   "source": [
    "### Random Forest Regression"
   ]
  },
  {
   "cell_type": "code",
   "execution_count": 145,
   "metadata": {},
   "outputs": [],
   "source": [
    "from sklearn.ensemble import RandomForestRegressor"
   ]
  },
  {
   "cell_type": "code",
   "execution_count": 146,
   "metadata": {},
   "outputs": [
    {
     "name": "stdout",
     "output_type": "stream",
     "text": [
      "for random state  0  The training accuracy is : 0.9318527997006395\n",
      "for random state  0  The testing accuracy is : 0.3767826232247289\n",
      "\n",
      "\n",
      "for random state  1  The training accuracy is : 0.92258637113607\n",
      "for random state  1  The testing accuracy is : 0.5849652864435619\n",
      "\n",
      "\n",
      "for random state  2  The training accuracy is : 0.9412280303030303\n",
      "for random state  2  The testing accuracy is : 0.239415444361464\n",
      "\n",
      "\n",
      "for random state  3  The training accuracy is : 0.9369865360670706\n",
      "for random state  3  The testing accuracy is : 0.5911220290974635\n",
      "\n",
      "\n",
      "for random state  4  The training accuracy is : 0.9160220816354098\n",
      "for random state  4  The testing accuracy is : 0.07384707273802504\n",
      "\n",
      "\n",
      "for random state  5  The training accuracy is : 0.9294053407732165\n",
      "for random state  5  The testing accuracy is : 0.6330451333813987\n",
      "\n",
      "\n",
      "for random state  6  The training accuracy is : 0.9402725864198823\n",
      "for random state  6  The testing accuracy is : 0.4913692391899288\n",
      "\n",
      "\n",
      "for random state  7  The training accuracy is : 0.9212358709782256\n",
      "for random state  7  The testing accuracy is : 0.6453159661608702\n",
      "\n",
      "\n",
      "for random state  8  The training accuracy is : 0.906996009042692\n",
      "for random state  8  The testing accuracy is : 0.5287115352499105\n",
      "\n",
      "\n",
      "for random state  9  The training accuracy is : 0.9226831854002487\n",
      "for random state  9  The testing accuracy is : 0.1593988840669559\n",
      "\n",
      "\n",
      "for random state  10  The training accuracy is : 0.9373715760560712\n",
      "for random state  10  The testing accuracy is : 0.3159510965935607\n",
      "\n",
      "\n",
      "for random state  11  The training accuracy is : 0.9495274415591426\n",
      "for random state  11  The testing accuracy is : 0.4646695652173911\n",
      "\n",
      "\n",
      "for random state  12  The training accuracy is : 0.9460403681345868\n",
      "for random state  12  The testing accuracy is : 0.38511501240694757\n",
      "\n",
      "\n",
      "for random state  13  The training accuracy is : 0.9424362391930836\n",
      "for random state  13  The testing accuracy is : 0.49007994665777643\n",
      "\n",
      "\n",
      "for random state  14  The training accuracy is : 0.9158000419815282\n",
      "for random state  14  The testing accuracy is : 0.5837503785877793\n",
      "\n",
      "\n",
      "for random state  15  The training accuracy is : 0.936196888937235\n",
      "for random state  15  The testing accuracy is : 0.2844706496519722\n",
      "\n",
      "\n",
      "for random state  16  The training accuracy is : 0.9467123237299013\n",
      "for random state  16  The testing accuracy is : 0.48096190476190537\n",
      "\n",
      "\n",
      "for random state  17  The training accuracy is : 0.9553007577692636\n",
      "for random state  17  The testing accuracy is : 0.3560000000000001\n",
      "\n",
      "\n",
      "for random state  18  The training accuracy is : 0.9406422455213407\n",
      "for random state  18  The testing accuracy is : 0.4776696832579185\n",
      "\n",
      "\n",
      "for random state  19  The training accuracy is : 0.902106631978857\n",
      "for random state  19  The testing accuracy is : 0.7073219302436693\n",
      "\n",
      "\n",
      "for random state  20  The training accuracy is : 0.9390064585760296\n",
      "for random state  20  The testing accuracy is : 0.40035671215487156\n",
      "\n",
      "\n",
      "for random state  21  The training accuracy is : 0.9304247274846983\n",
      "for random state  21  The testing accuracy is : 0.43506398176291816\n",
      "\n",
      "\n",
      "for random state  22  The training accuracy is : 0.9187104173853053\n",
      "for random state  22  The testing accuracy is : 0.22073104519335285\n",
      "\n",
      "\n",
      "for random state  23  The training accuracy is : 0.9241902901371893\n",
      "for random state  23  The testing accuracy is : 0.44804505824426577\n",
      "\n",
      "\n",
      "for random state  24  The training accuracy is : 0.9623775977073966\n",
      "for random state  24  The testing accuracy is : -2.2465159874608136\n",
      "\n",
      "\n",
      "for random state  25  The training accuracy is : 0.9270229020408164\n",
      "for random state  25  The testing accuracy is : 0.3979999241130715\n",
      "\n",
      "\n",
      "for random state  26  The training accuracy is : 0.9221036472855886\n",
      "for random state  26  The testing accuracy is : 0.22448164251207714\n",
      "\n",
      "\n",
      "for random state  27  The training accuracy is : 0.9244743157271786\n",
      "for random state  27  The testing accuracy is : 0.3584057109781983\n",
      "\n",
      "\n",
      "for random state  28  The training accuracy is : 0.9342046773216179\n",
      "for random state  28  The testing accuracy is : 0.6144335703138544\n",
      "\n",
      "\n",
      "for random state  29  The training accuracy is : 0.9141657770800629\n",
      "for random state  29  The testing accuracy is : 0.6517873033098212\n",
      "\n",
      "\n",
      "for random state  30  The training accuracy is : 0.9298537044986264\n",
      "for random state  30  The testing accuracy is : 0.544434676052666\n",
      "\n",
      "\n",
      "for random state  31  The training accuracy is : 0.9510300853952266\n",
      "for random state  31  The testing accuracy is : 0.3533192090395483\n",
      "\n",
      "\n",
      "for random state  32  The training accuracy is : 0.9223919507754129\n",
      "for random state  32  The testing accuracy is : 0.43913137123745793\n",
      "\n",
      "\n",
      "for random state  33  The training accuracy is : 0.924027258650014\n",
      "for random state  33  The testing accuracy is : 0.14405870744943294\n",
      "\n",
      "\n",
      "for random state  34  The training accuracy is : 0.9250208668581326\n",
      "for random state  34  The testing accuracy is : 0.371303782287823\n",
      "\n",
      "\n",
      "for random state  35  The training accuracy is : 0.9011401221144196\n",
      "for random state  35  The testing accuracy is : 0.45653373944344433\n",
      "\n",
      "\n",
      "for random state  36  The training accuracy is : 0.9346705689889075\n",
      "for random state  36  The testing accuracy is : 0.2164514624354803\n",
      "\n",
      "\n",
      "for random state  37  The training accuracy is : 0.9491862924986509\n",
      "for random state  37  The testing accuracy is : -0.01605651788353546\n",
      "\n",
      "\n",
      "for random state  38  The training accuracy is : 0.943373805440295\n",
      "for random state  38  The testing accuracy is : 0.19487112676056284\n",
      "\n",
      "\n",
      "for random state  39  The training accuracy is : 0.939259660808768\n",
      "for random state  39  The testing accuracy is : 0.5243257402728649\n",
      "\n",
      "\n",
      "for random state  40  The training accuracy is : 0.9350181171035263\n",
      "for random state  40  The testing accuracy is : 0.4263734600991198\n",
      "\n",
      "\n",
      "for random state  41  The training accuracy is : 0.9406996006538517\n",
      "for random state  41  The testing accuracy is : 0.5601786902286904\n",
      "\n",
      "\n",
      "for random state  42  The training accuracy is : 0.9058701019959757\n",
      "for random state  42  The testing accuracy is : 0.6966969263157895\n",
      "\n",
      "\n",
      "for random state  43  The training accuracy is : 0.9594259014579537\n",
      "for random state  43  The testing accuracy is : -1.4045137043686413\n",
      "\n",
      "\n",
      "for random state  44  The training accuracy is : 0.8983503577817532\n",
      "for random state  44  The testing accuracy is : 0.6051785687143763\n",
      "\n",
      "\n",
      "for random state  45  The training accuracy is : 0.9177456886727949\n",
      "for random state  45  The testing accuracy is : 0.7433994826694255\n",
      "\n",
      "\n",
      "for random state  46  The training accuracy is : 0.9230370869858395\n",
      "for random state  46  The testing accuracy is : 0.32595059847660546\n",
      "\n",
      "\n",
      "for random state  47  The training accuracy is : 0.9480995043913234\n",
      "for random state  47  The testing accuracy is : 0.41650236220472414\n",
      "\n",
      "\n",
      "for random state  48  The training accuracy is : 0.9041239685618045\n",
      "for random state  48  The testing accuracy is : 0.7183720319634702\n",
      "\n",
      "\n",
      "for random state  49  The training accuracy is : 0.9241718521263781\n",
      "for random state  49  The testing accuracy is : 0.5595531644249818\n",
      "\n",
      "\n",
      "for random state  50  The training accuracy is : 0.9111140180717897\n",
      "for random state  50  The testing accuracy is : 0.6320090546623793\n",
      "\n",
      "\n",
      "for random state  51  The training accuracy is : 0.9234000262444231\n",
      "for random state  51  The testing accuracy is : 0.6079349388077377\n",
      "\n",
      "\n",
      "for random state  52  The training accuracy is : 0.9276993849895762\n",
      "for random state  52  The testing accuracy is : 0.3167312004696218\n",
      "\n",
      "\n",
      "for random state  53  The training accuracy is : 0.9295668458214775\n",
      "for random state  53  The testing accuracy is : 0.6544269038354644\n",
      "\n",
      "\n",
      "for random state  54  The training accuracy is : 0.9278045115358258\n",
      "for random state  54  The testing accuracy is : 0.6855869377301103\n",
      "\n",
      "\n",
      "for random state  55  The training accuracy is : 0.9375678407350689\n",
      "for random state  55  The testing accuracy is : 0.36463801945181284\n",
      "\n",
      "\n",
      "for random state  56  The training accuracy is : 0.9432873756444703\n",
      "for random state  56  The testing accuracy is : 0.3132505460218409\n",
      "\n",
      "\n",
      "for random state  57  The training accuracy is : 0.9220996955616086\n",
      "for random state  57  The testing accuracy is : 0.5060479192938214\n",
      "\n",
      "\n",
      "for random state  58  The training accuracy is : 0.9270235072131461\n",
      "for random state  58  The testing accuracy is : 0.42609657327826767\n",
      "\n",
      "\n",
      "for random state  59  The training accuracy is : 0.9390935425659896\n",
      "for random state  59  The testing accuracy is : 0.3681215973238553\n",
      "\n",
      "\n",
      "for random state  60  The training accuracy is : 0.9200386302091169\n",
      "for random state  60  The testing accuracy is : 0.6920944221017657\n",
      "\n",
      "\n"
     ]
    },
    {
     "name": "stdout",
     "output_type": "stream",
     "text": [
      "for random state  61  The training accuracy is : 0.9454310289273951\n",
      "for random state  61  The testing accuracy is : 0.3218545236668664\n",
      "\n",
      "\n",
      "for random state  62  The training accuracy is : 0.9189782163470489\n",
      "for random state  62  The testing accuracy is : 0.6459330434782613\n",
      "\n",
      "\n",
      "for random state  63  The training accuracy is : 0.9324411220271469\n",
      "for random state  63  The testing accuracy is : 0.380934\n",
      "\n",
      "\n",
      "for random state  64  The training accuracy is : 0.9187957890793295\n",
      "for random state  64  The testing accuracy is : 0.5838692924872356\n",
      "\n",
      "\n",
      "for random state  65  The training accuracy is : 0.9160065682556879\n",
      "for random state  65  The testing accuracy is : 0.3360805362813125\n",
      "\n",
      "\n",
      "for random state  66  The training accuracy is : 0.9516319568526239\n",
      "for random state  66  The testing accuracy is : -0.10717586314152339\n",
      "\n",
      "\n",
      "for random state  67  The training accuracy is : 0.9033985097636177\n",
      "for random state  67  The testing accuracy is : 0.40614642511409194\n",
      "\n",
      "\n",
      "for random state  68  The training accuracy is : 0.9287534337112997\n",
      "for random state  68  The testing accuracy is : 0.3053958649207441\n",
      "\n",
      "\n",
      "for random state  69  The training accuracy is : 0.9244639753376395\n",
      "for random state  69  The testing accuracy is : 0.6704777946076945\n",
      "\n",
      "\n",
      "for random state  70  The training accuracy is : 0.935902809427189\n",
      "for random state  70  The testing accuracy is : 0.5271034421099686\n",
      "\n",
      "\n",
      "for random state  71  The training accuracy is : 0.9182221104122991\n",
      "for random state  71  The testing accuracy is : 0.48139320873914226\n",
      "\n",
      "\n",
      "for random state  72  The training accuracy is : 0.9381252923849197\n",
      "for random state  72  The testing accuracy is : 0.5493896057347666\n",
      "\n",
      "\n",
      "for random state  73  The training accuracy is : 0.9047469222577209\n",
      "for random state  73  The testing accuracy is : 0.7434031113876787\n",
      "\n",
      "\n",
      "for random state  74  The training accuracy is : 0.9169277887194492\n",
      "for random state  74  The testing accuracy is : 0.4267644362969756\n",
      "\n",
      "\n",
      "for random state  75  The training accuracy is : 0.9341411958541679\n",
      "for random state  75  The testing accuracy is : 0.45372112068965476\n",
      "\n",
      "\n",
      "for random state  76  The training accuracy is : 0.8942706360758762\n",
      "for random state  76  The testing accuracy is : 0.5634776360544217\n",
      "\n",
      "\n",
      "for random state  77  The training accuracy is : 0.9141066734971331\n",
      "for random state  77  The testing accuracy is : 0.5178920454545457\n",
      "\n",
      "\n",
      "for random state  78  The training accuracy is : 0.9325486915388723\n",
      "for random state  78  The testing accuracy is : 0.35412072101868675\n",
      "\n",
      "\n",
      "for random state  79  The training accuracy is : 0.9385315134431917\n",
      "for random state  79  The testing accuracy is : 0.610826360763198\n",
      "\n",
      "\n",
      "for random state  80  The training accuracy is : 0.9152947863554758\n",
      "for random state  80  The testing accuracy is : 0.687822660098522\n",
      "\n",
      "\n",
      "for random state  81  The training accuracy is : 0.9246899423684699\n",
      "for random state  81  The testing accuracy is : 0.016998675496688764\n",
      "\n",
      "\n",
      "for random state  82  The training accuracy is : 0.9278236767049745\n",
      "for random state  82  The testing accuracy is : 0.7050613299556683\n",
      "\n",
      "\n",
      "for random state  83  The training accuracy is : 0.9556451092411025\n",
      "for random state  83  The testing accuracy is : 0.22269137298676456\n",
      "\n",
      "\n",
      "for random state  84  The training accuracy is : 0.9373064968695128\n",
      "for random state  84  The testing accuracy is : 0.4530189361702124\n",
      "\n",
      "\n",
      "for random state  85  The training accuracy is : 0.9430035105162524\n",
      "for random state  85  The testing accuracy is : 0.39253451750640467\n",
      "\n",
      "\n",
      "for random state  86  The training accuracy is : 0.9407518404907975\n",
      "for random state  86  The testing accuracy is : 0.5481869656089684\n",
      "\n",
      "\n",
      "for random state  87  The training accuracy is : 0.9379608876787823\n",
      "for random state  87  The testing accuracy is : 0.7010483021263091\n",
      "\n",
      "\n",
      "for random state  88  The training accuracy is : 0.9299733187998818\n",
      "for random state  88  The testing accuracy is : -0.6490404817044926\n",
      "\n",
      "\n",
      "for random state  89  The training accuracy is : 0.9063791462847577\n",
      "for random state  89  The testing accuracy is : 0.6458217171717173\n",
      "\n",
      "\n",
      "for random state  90  The training accuracy is : 0.9135439788453743\n",
      "for random state  90  The testing accuracy is : 0.5508603194103195\n",
      "\n",
      "\n",
      "for random state  91  The training accuracy is : 0.931787679109929\n",
      "for random state  91  The testing accuracy is : 0.4494404240282682\n",
      "\n",
      "\n",
      "for random state  92  The training accuracy is : 0.9413469548349315\n",
      "for random state  92  The testing accuracy is : 0.370694341164454\n",
      "\n",
      "\n",
      "for random state  93  The training accuracy is : 0.9252194002890174\n",
      "for random state  93  The testing accuracy is : 0.7161821016526346\n",
      "\n",
      "\n",
      "for random state  94  The training accuracy is : 0.9263937993274312\n",
      "for random state  94  The testing accuracy is : 0.6650738059020381\n",
      "\n",
      "\n",
      "for random state  95  The training accuracy is : 0.8958271163110806\n",
      "for random state  95  The testing accuracy is : -0.045999794871795396\n",
      "\n",
      "\n",
      "for random state  96  The training accuracy is : 0.9057696572372496\n",
      "for random state  96  The testing accuracy is : 0.328635936030103\n",
      "\n",
      "\n",
      "for random state  97  The training accuracy is : 0.9190441589707159\n",
      "for random state  97  The testing accuracy is : 0.7535328099540809\n",
      "\n",
      "\n",
      "for random state  98  The training accuracy is : 0.9302148865944482\n",
      "for random state  98  The testing accuracy is : 0.4749252453166819\n",
      "\n",
      "\n",
      "for random state  99  The training accuracy is : 0.9179469892677368\n",
      "for random state  99  The testing accuracy is : 0.4868857289844636\n",
      "\n",
      "\n",
      "for random state  100  The training accuracy is : 0.9380112595544522\n",
      "for random state  100  The testing accuracy is : 0.25262550052687016\n",
      "\n",
      "\n"
     ]
    }
   ],
   "source": [
    "# Using for loop to find the best random state\n",
    "for i in range(0,101):\n",
    "    \n",
    "    X_train, X_test, y_train, y_test = train_test_split(X, y, test_size=0.24, random_state=i)\n",
    "    mod_2 = RandomForestRegressor() \n",
    "    mod_2.fit(X_train,y_train)\n",
    "    train_score_2 = mod_2.score(X_train,y_train)\n",
    "    pred_2 = mod_2.predict(X_test)\n",
    "    test_score_2 = r2_score(y_test,pred_2)\n",
    "    \n",
    "    print(\"for random state \",i,\" The training accuracy is :\",train_score_2)\n",
    "    print(\"for random state \",i,\" The testing accuracy is :\",test_score_2)\n",
    "    print(\"\\n\")"
   ]
  },
  {
   "cell_type": "code",
   "execution_count": 147,
   "metadata": {},
   "outputs": [
    {
     "name": "stdout",
     "output_type": "stream",
     "text": [
      "The training accuracy is : 0.9122316195903535\n",
      "The testing accuracy is : 0.6863232998885171\n",
      "\n",
      "\n"
     ]
    }
   ],
   "source": [
    "# Taking the best random state as 19\n",
    "X_train, X_test, y_train, y_test = train_test_split(X, y, test_size=0.24, random_state=19)\n",
    "mod_2 = RandomForestRegressor() \n",
    "mod_2.fit(X_train,y_train)\n",
    "train_score_2 = mod_2.score(X_train,y_train)\n",
    "pred_2 = mod_2.predict(X_test)\n",
    "test_score_2 = r2_score(y_test,pred_2)\n",
    "    \n",
    "print(\"The training accuracy is :\",train_score_2)\n",
    "print(\"The testing accuracy is :\",test_score_2)\n",
    "print(\"\\n\")"
   ]
  },
  {
   "cell_type": "code",
   "execution_count": 148,
   "metadata": {},
   "outputs": [
    {
     "name": "stdout",
     "output_type": "stream",
     "text": [
      "30.774625000000015\n"
     ]
    }
   ],
   "source": [
    "MSE_2 = mean_squared_error(y_test,pred_2)\n",
    "print(MSE_2)"
   ]
  },
  {
   "cell_type": "code",
   "execution_count": 149,
   "metadata": {},
   "outputs": [],
   "source": [
    "kfold = KFold(n_splits=10)\n",
    "\n",
    "K_results = cross_val_score(mod_2,X,y,cv=kfold)\n",
    "\n",
    "kfold_accuracy_RFR = np.mean(abs(K_results))"
   ]
  },
  {
   "cell_type": "code",
   "execution_count": 150,
   "metadata": {},
   "outputs": [
    {
     "data": {
      "text/plain": [
       "12.473678539671718"
      ]
     },
     "execution_count": 150,
     "metadata": {},
     "output_type": "execute_result"
    }
   ],
   "source": [
    "kfold_accuracy_RFR"
   ]
  },
  {
   "cell_type": "code",
   "execution_count": 151,
   "metadata": {},
   "outputs": [],
   "source": [
    "score = {\"Algorithm\":[\"Linear Regression\",\"Random Forest Regression\"],\n",
    "         \"Training_Acc\":[train_score_1,train_score_2],\n",
    "        \"R2 Score\":[test_score_1,test_score_2],\n",
    "         \"MSE\":[MSE_1,MSE_2],\n",
    "        \"Cross_validation\":[kfold_accuracy_LR,kfold_accuracy_RFR]}\n",
    "\n",
    "final_card = pd.DataFrame(score)"
   ]
  },
  {
   "cell_type": "code",
   "execution_count": 152,
   "metadata": {},
   "outputs": [
    {
     "data": {
      "text/html": [
       "<div>\n",
       "<style scoped>\n",
       "    .dataframe tbody tr th:only-of-type {\n",
       "        vertical-align: middle;\n",
       "    }\n",
       "\n",
       "    .dataframe tbody tr th {\n",
       "        vertical-align: top;\n",
       "    }\n",
       "\n",
       "    .dataframe thead th {\n",
       "        text-align: right;\n",
       "    }\n",
       "</style>\n",
       "<table border=\"1\" class=\"dataframe\">\n",
       "  <thead>\n",
       "    <tr style=\"text-align: right;\">\n",
       "      <th></th>\n",
       "      <th>Algorithm</th>\n",
       "      <th>Training_Acc</th>\n",
       "      <th>R2 Score</th>\n",
       "      <th>MSE</th>\n",
       "      <th>Cross_validation</th>\n",
       "    </tr>\n",
       "  </thead>\n",
       "  <tbody>\n",
       "    <tr>\n",
       "      <th>0</th>\n",
       "      <td>Linear Regression</td>\n",
       "      <td>0.951876</td>\n",
       "      <td>0.884168</td>\n",
       "      <td>11.785857</td>\n",
       "      <td>7.808825</td>\n",
       "    </tr>\n",
       "    <tr>\n",
       "      <th>1</th>\n",
       "      <td>Random Forest Regression</td>\n",
       "      <td>0.912232</td>\n",
       "      <td>0.686323</td>\n",
       "      <td>30.774625</td>\n",
       "      <td>12.473679</td>\n",
       "    </tr>\n",
       "  </tbody>\n",
       "</table>\n",
       "</div>"
      ],
      "text/plain": [
       "                  Algorithm  Training_Acc  R2 Score        MSE  \\\n",
       "0         Linear Regression      0.951876  0.884168  11.785857   \n",
       "1  Random Forest Regression      0.912232  0.686323  30.774625   \n",
       "\n",
       "   Cross_validation  \n",
       "0          7.808825  \n",
       "1         12.473679  "
      ]
     },
     "execution_count": 152,
     "metadata": {},
     "output_type": "execute_result"
    }
   ],
   "source": [
    "final_card"
   ]
  },
  {
   "cell_type": "markdown",
   "metadata": {},
   "source": [
    "### Gradient Bosting Regressor"
   ]
  },
  {
   "cell_type": "code",
   "execution_count": 153,
   "metadata": {},
   "outputs": [],
   "source": [
    "from sklearn.ensemble import GradientBoostingRegressor"
   ]
  },
  {
   "cell_type": "code",
   "execution_count": 154,
   "metadata": {},
   "outputs": [
    {
     "name": "stdout",
     "output_type": "stream",
     "text": [
      "for random state  0  The training accuracy is : 0.9999999715098554\n",
      "for random state  0  The testing accuracy is : 0.05186623232403986\n",
      "\n",
      "\n",
      "for random state  1  The training accuracy is : 0.9999999058229063\n",
      "for random state  1  The testing accuracy is : 0.5863415077375076\n",
      "\n",
      "\n",
      "for random state  2  The training accuracy is : 0.9999998638669249\n",
      "for random state  2  The testing accuracy is : 0.407985030046054\n",
      "\n",
      "\n",
      "for random state  3  The training accuracy is : 0.9999999904322877\n",
      "for random state  3  The testing accuracy is : 0.5926192505727245\n",
      "\n",
      "\n",
      "for random state  4  The training accuracy is : 0.9999999723987797\n",
      "for random state  4  The testing accuracy is : -0.07326691159027754\n",
      "\n",
      "\n",
      "for random state  5  The training accuracy is : 0.9999999451062661\n",
      "for random state  5  The testing accuracy is : 0.599039102656554\n",
      "\n",
      "\n",
      "for random state  6  The training accuracy is : 0.9999997645867482\n",
      "for random state  6  The testing accuracy is : 0.47246378104472553\n",
      "\n",
      "\n",
      "for random state  7  The training accuracy is : 0.999999934193367\n",
      "for random state  7  The testing accuracy is : 0.6291429577046584\n",
      "\n",
      "\n",
      "for random state  8  The training accuracy is : 0.999999802465428\n",
      "for random state  8  The testing accuracy is : 0.45985416198990325\n",
      "\n",
      "\n",
      "for random state  9  The training accuracy is : 0.9999999737936188\n",
      "for random state  9  The testing accuracy is : -0.3186408261512568\n",
      "\n",
      "\n",
      "for random state  10  The training accuracy is : 0.9999999734197311\n",
      "for random state  10  The testing accuracy is : -0.7674631279747663\n",
      "\n",
      "\n",
      "for random state  11  The training accuracy is : 0.9999999835700184\n",
      "for random state  11  The testing accuracy is : 0.2971504342872634\n",
      "\n",
      "\n",
      "for random state  12  The training accuracy is : 0.9999998539246754\n",
      "for random state  12  The testing accuracy is : 0.23379579046905197\n",
      "\n",
      "\n",
      "for random state  13  The training accuracy is : 0.9999999445765091\n",
      "for random state  13  The testing accuracy is : 0.054327253781573326\n",
      "\n",
      "\n",
      "for random state  14  The training accuracy is : 0.9999998833320095\n",
      "for random state  14  The testing accuracy is : 0.45725713604664353\n",
      "\n",
      "\n",
      "for random state  15  The training accuracy is : 0.9999999373514509\n",
      "for random state  15  The testing accuracy is : 0.2554904694155977\n",
      "\n",
      "\n",
      "for random state  16  The training accuracy is : 0.9999999470237292\n",
      "for random state  16  The testing accuracy is : -0.42890390105337284\n",
      "\n",
      "\n",
      "for random state  17  The training accuracy is : 0.9999999633333073\n",
      "for random state  17  The testing accuracy is : 0.3012939160234769\n",
      "\n",
      "\n",
      "for random state  18  The training accuracy is : 0.999999942040242\n",
      "for random state  18  The testing accuracy is : 0.1050863091267662\n",
      "\n",
      "\n",
      "for random state  19  The training accuracy is : 0.9999998656993048\n",
      "for random state  19  The testing accuracy is : 0.6096487006999383\n",
      "\n",
      "\n",
      "for random state  20  The training accuracy is : 0.9999998216645041\n",
      "for random state  20  The testing accuracy is : 0.04826438901664254\n",
      "\n",
      "\n",
      "for random state  21  The training accuracy is : 0.9999999454104481\n",
      "for random state  21  The testing accuracy is : 0.30893742663251944\n",
      "\n",
      "\n",
      "for random state  22  The training accuracy is : 0.9999999767098038\n",
      "for random state  22  The testing accuracy is : 0.052744312574265595\n",
      "\n",
      "\n",
      "for random state  23  The training accuracy is : 0.9999999647768083\n",
      "for random state  23  The testing accuracy is : 0.241986289450854\n",
      "\n",
      "\n",
      "for random state  24  The training accuracy is : 0.9999999884729409\n",
      "for random state  24  The testing accuracy is : -4.402886987860663\n",
      "\n",
      "\n",
      "for random state  25  The training accuracy is : 0.9999997923332995\n",
      "for random state  25  The testing accuracy is : 0.3453643462700421\n",
      "\n",
      "\n",
      "for random state  26  The training accuracy is : 0.9999999231718131\n",
      "for random state  26  The testing accuracy is : -0.5482127564535706\n",
      "\n",
      "\n",
      "for random state  27  The training accuracy is : 0.9999999729298382\n",
      "for random state  27  The testing accuracy is : 0.12599337854319037\n",
      "\n",
      "\n",
      "for random state  28  The training accuracy is : 0.9999999274758872\n",
      "for random state  28  The testing accuracy is : 0.6569668502055057\n",
      "\n",
      "\n",
      "for random state  29  The training accuracy is : 0.9999997835588884\n",
      "for random state  29  The testing accuracy is : 0.4967774184334287\n",
      "\n",
      "\n",
      "for random state  30  The training accuracy is : 0.9999998378438861\n",
      "for random state  30  The testing accuracy is : 0.37556376394173263\n",
      "\n",
      "\n",
      "for random state  31  The training accuracy is : 0.9999999473049648\n",
      "for random state  31  The testing accuracy is : 0.5091691434078893\n",
      "\n",
      "\n",
      "for random state  32  The training accuracy is : 0.9999999150480641\n",
      "for random state  32  The testing accuracy is : 0.24941018765876588\n",
      "\n",
      "\n",
      "for random state  33  The training accuracy is : 0.9999999627462876\n",
      "for random state  33  The testing accuracy is : 0.031588114275116985\n",
      "\n",
      "\n",
      "for random state  34  The training accuracy is : 0.9999998837971552\n",
      "for random state  34  The testing accuracy is : 0.4584280516953464\n",
      "\n",
      "\n",
      "for random state  35  The training accuracy is : 0.9999998957293211\n",
      "for random state  35  The testing accuracy is : 0.42620711421857194\n",
      "\n",
      "\n",
      "for random state  36  The training accuracy is : 0.9999998853933668\n",
      "for random state  36  The testing accuracy is : 0.13219705305342055\n",
      "\n",
      "\n",
      "for random state  37  The training accuracy is : 0.9999999397620116\n",
      "for random state  37  The testing accuracy is : -0.1804307525361477\n",
      "\n",
      "\n",
      "for random state  38  The training accuracy is : 0.999999976158084\n",
      "for random state  38  The testing accuracy is : 0.11376884874526605\n",
      "\n",
      "\n",
      "for random state  39  The training accuracy is : 0.9999999760566135\n",
      "for random state  39  The testing accuracy is : 0.27250424105004956\n",
      "\n",
      "\n",
      "for random state  40  The training accuracy is : 0.9999998586677856\n",
      "for random state  40  The testing accuracy is : 0.2308377734797039\n",
      "\n",
      "\n",
      "for random state  41  The training accuracy is : 0.9999999832068239\n",
      "for random state  41  The testing accuracy is : 0.5222556451628919\n",
      "\n",
      "\n",
      "for random state  42  The training accuracy is : 0.9999999009626777\n",
      "for random state  42  The testing accuracy is : 0.6660583547288944\n",
      "\n",
      "\n",
      "for random state  43  The training accuracy is : 0.999999962983721\n",
      "for random state  43  The testing accuracy is : -2.1668061093809747\n",
      "\n",
      "\n",
      "for random state  44  The training accuracy is : 0.999999927381423\n",
      "for random state  44  The testing accuracy is : 0.5166232295511101\n",
      "\n",
      "\n",
      "for random state  45  The training accuracy is : 0.9999999158070125\n",
      "for random state  45  The testing accuracy is : 0.5369363455708328\n",
      "\n",
      "\n",
      "for random state  46  The training accuracy is : 0.9999999407389646\n",
      "for random state  46  The testing accuracy is : -0.1969673704022581\n",
      "\n",
      "\n",
      "for random state  47  The training accuracy is : 0.9999999700774429\n",
      "for random state  47  The testing accuracy is : 0.0802421949082287\n",
      "\n",
      "\n",
      "for random state  48  The training accuracy is : 0.9999998740287611\n",
      "for random state  48  The testing accuracy is : 0.5259838389477055\n",
      "\n",
      "\n",
      "for random state  49  The training accuracy is : 0.9999998694135179\n",
      "for random state  49  The testing accuracy is : 0.4715701508450437\n",
      "\n",
      "\n",
      "for random state  50  The training accuracy is : 0.9999998526317068\n",
      "for random state  50  The testing accuracy is : 0.5611660788188063\n",
      "\n",
      "\n",
      "for random state  51  The training accuracy is : 0.9999998029676828\n",
      "for random state  51  The testing accuracy is : 0.521278394309873\n",
      "\n",
      "\n",
      "for random state  52  The training accuracy is : 0.999999963140127\n",
      "for random state  52  The testing accuracy is : -0.12479245951472406\n",
      "\n",
      "\n",
      "for random state  53  The training accuracy is : 0.9999999422711385\n",
      "for random state  53  The testing accuracy is : 0.4983373403835796\n",
      "\n",
      "\n",
      "for random state  54  The training accuracy is : 0.9999998816934358\n",
      "for random state  54  The testing accuracy is : 0.5522081230303097\n",
      "\n",
      "\n",
      "for random state  55  The training accuracy is : 0.9999998244265176\n",
      "for random state  55  The testing accuracy is : 0.050059737363487344\n",
      "\n",
      "\n",
      "for random state  56  The training accuracy is : 0.9999999469846325\n",
      "for random state  56  The testing accuracy is : -0.07906730099845904\n",
      "\n",
      "\n",
      "for random state  57  The training accuracy is : 0.9999997709000511\n",
      "for random state  57  The testing accuracy is : 0.5577357480569756\n",
      "\n",
      "\n",
      "for random state  58  The training accuracy is : 0.9999998563179182\n",
      "for random state  58  The testing accuracy is : 0.488402394523178\n",
      "\n",
      "\n",
      "for random state  59  The training accuracy is : 0.9999999767662447\n",
      "for random state  59  The testing accuracy is : -0.36096860235576167\n",
      "\n",
      "\n"
     ]
    },
    {
     "name": "stdout",
     "output_type": "stream",
     "text": [
      "for random state  60  The training accuracy is : 0.9999999515698955\n",
      "for random state  60  The testing accuracy is : 0.606917257633632\n",
      "\n",
      "\n",
      "for random state  61  The training accuracy is : 0.9999998687335169\n",
      "for random state  61  The testing accuracy is : 0.2981067612301279\n",
      "\n",
      "\n",
      "for random state  62  The training accuracy is : 0.9999999457420726\n",
      "for random state  62  The testing accuracy is : 0.2913453396426112\n",
      "\n",
      "\n",
      "for random state  63  The training accuracy is : 0.999999773859246\n",
      "for random state  63  The testing accuracy is : 0.10410193385051802\n",
      "\n",
      "\n",
      "for random state  64  The training accuracy is : 0.9999999552091604\n",
      "for random state  64  The testing accuracy is : 0.36757451255833995\n",
      "\n",
      "\n",
      "for random state  65  The training accuracy is : 0.9999999683822876\n",
      "for random state  65  The testing accuracy is : -0.09791694984537869\n",
      "\n",
      "\n",
      "for random state  66  The training accuracy is : 0.999999988655509\n",
      "for random state  66  The testing accuracy is : -0.9034562909689645\n",
      "\n",
      "\n",
      "for random state  67  The training accuracy is : 0.9999999786192831\n",
      "for random state  67  The testing accuracy is : 0.3567143532472258\n",
      "\n",
      "\n",
      "for random state  68  The training accuracy is : 0.9999999654100947\n",
      "for random state  68  The testing accuracy is : 0.3120753916790451\n",
      "\n",
      "\n",
      "for random state  69  The training accuracy is : 0.9999997403146134\n",
      "for random state  69  The testing accuracy is : 0.4971504489110983\n",
      "\n",
      "\n",
      "for random state  70  The training accuracy is : 0.9999999317841457\n",
      "for random state  70  The testing accuracy is : 0.35484242156767765\n",
      "\n",
      "\n",
      "for random state  71  The training accuracy is : 0.9999999727690166\n",
      "for random state  71  The testing accuracy is : 0.10588195458985872\n",
      "\n",
      "\n",
      "for random state  72  The training accuracy is : 0.9999998054839713\n",
      "for random state  72  The testing accuracy is : 0.34369977465855905\n",
      "\n",
      "\n",
      "for random state  73  The training accuracy is : 0.9999999287003817\n",
      "for random state  73  The testing accuracy is : 0.6316378937615975\n",
      "\n",
      "\n",
      "for random state  74  The training accuracy is : 0.9999998989827418\n",
      "for random state  74  The testing accuracy is : 0.2913395190322524\n",
      "\n",
      "\n",
      "for random state  75  The training accuracy is : 0.9999999572506382\n",
      "for random state  75  The testing accuracy is : 0.13650985191780807\n",
      "\n",
      "\n",
      "for random state  76  The training accuracy is : 0.9999999373123201\n",
      "for random state  76  The testing accuracy is : 0.6417576656685846\n",
      "\n",
      "\n",
      "for random state  77  The training accuracy is : 0.9999999077697521\n",
      "for random state  77  The testing accuracy is : 0.590274713513739\n",
      "\n",
      "\n",
      "for random state  78  The training accuracy is : 0.9999998697142066\n",
      "for random state  78  The testing accuracy is : 0.1334022322524845\n",
      "\n",
      "\n",
      "for random state  79  The training accuracy is : 0.9999999486092542\n",
      "for random state  79  The testing accuracy is : 0.6076215608355575\n",
      "\n",
      "\n",
      "for random state  80  The training accuracy is : 0.9999990113913766\n",
      "for random state  80  The testing accuracy is : 0.6266419024564585\n",
      "\n",
      "\n",
      "for random state  81  The training accuracy is : 0.9999999199195094\n",
      "for random state  81  The testing accuracy is : -1.0342105214363633\n",
      "\n",
      "\n",
      "for random state  82  The training accuracy is : 0.9999999545717564\n",
      "for random state  82  The testing accuracy is : 0.5087684683050688\n",
      "\n",
      "\n",
      "for random state  83  The training accuracy is : 0.9999999500011318\n",
      "for random state  83  The testing accuracy is : -0.025481693197983768\n",
      "\n",
      "\n",
      "for random state  84  The training accuracy is : 0.9999999731080317\n",
      "for random state  84  The testing accuracy is : 0.5388314173058507\n",
      "\n",
      "\n",
      "for random state  85  The training accuracy is : 0.9999999754093525\n",
      "for random state  85  The testing accuracy is : -0.1163876826778012\n",
      "\n",
      "\n",
      "for random state  86  The training accuracy is : 0.9999999785363094\n",
      "for random state  86  The testing accuracy is : 0.4380921317267332\n",
      "\n",
      "\n",
      "for random state  87  The training accuracy is : 0.999999971032043\n",
      "for random state  87  The testing accuracy is : 0.43442548019383376\n",
      "\n",
      "\n",
      "for random state  88  The training accuracy is : 0.9999997039466539\n",
      "for random state  88  The testing accuracy is : -0.9876910308517182\n",
      "\n",
      "\n",
      "for random state  89  The training accuracy is : 0.999999644453298\n",
      "for random state  89  The testing accuracy is : -0.0894060269529271\n",
      "\n",
      "\n",
      "for random state  90  The training accuracy is : 0.9999997131991096\n",
      "for random state  90  The testing accuracy is : 0.09602427592849794\n",
      "\n",
      "\n",
      "for random state  91  The training accuracy is : 0.9999999645811519\n",
      "for random state  91  The testing accuracy is : 0.5046450985950643\n",
      "\n",
      "\n",
      "for random state  92  The training accuracy is : 0.9999998810040974\n",
      "for random state  92  The testing accuracy is : -0.2426637483358769\n",
      "\n",
      "\n",
      "for random state  93  The training accuracy is : 0.9999999817841925\n",
      "for random state  93  The testing accuracy is : 0.12220992807995423\n",
      "\n",
      "\n",
      "for random state  94  The training accuracy is : 0.9999999835967174\n",
      "for random state  94  The testing accuracy is : 0.41390607008928026\n",
      "\n",
      "\n",
      "for random state  95  The training accuracy is : 0.9999998487736603\n",
      "for random state  95  The testing accuracy is : 0.15526253937424173\n",
      "\n",
      "\n",
      "for random state  96  The training accuracy is : 0.9999997821472021\n",
      "for random state  96  The testing accuracy is : 0.2675524508610887\n",
      "\n",
      "\n",
      "for random state  97  The training accuracy is : 0.9999999254725327\n",
      "for random state  97  The testing accuracy is : 0.7363161696720717\n",
      "\n",
      "\n",
      "for random state  98  The training accuracy is : 0.9999999814670785\n",
      "for random state  98  The testing accuracy is : 0.3810961979806753\n",
      "\n",
      "\n",
      "for random state  99  The training accuracy is : 0.9999999552088383\n",
      "for random state  99  The testing accuracy is : 0.09877170191096807\n",
      "\n",
      "\n",
      "for random state  100  The training accuracy is : 0.9999999802581506\n",
      "for random state  100  The testing accuracy is : -0.024337584346262542\n",
      "\n",
      "\n"
     ]
    }
   ],
   "source": [
    "# Using for loop to find the best random state\n",
    "for i in range(0,101):\n",
    "    \n",
    "    X_train, X_test, y_train, y_test = train_test_split(X, y, test_size=0.24, random_state=i)\n",
    "    mod_3 = GradientBoostingRegressor() \n",
    "    mod_3.fit(X_train,y_train)\n",
    "    train_score_3 = mod_3.score(X_train,y_train)\n",
    "    pred_3 = mod_3.predict(X_test)\n",
    "    test_score_3 = r2_score(y_test,pred_3)\n",
    "    \n",
    "    print(\"for random state \",i,\" The training accuracy is :\",train_score_3)\n",
    "    print(\"for random state \",i,\" The testing accuracy is :\",test_score_3)\n",
    "    print(\"\\n\")"
   ]
  },
  {
   "cell_type": "code",
   "execution_count": 155,
   "metadata": {},
   "outputs": [
    {
     "name": "stdout",
     "output_type": "stream",
     "text": [
      "The training accuracy is : 0.9999999650235609\n",
      "The testing accuracy is : 0.627004493906608\n",
      "\n",
      "\n"
     ]
    }
   ],
   "source": [
    "# using the best random state as 42\n",
    "X_train, X_test, y_train, y_test = train_test_split(X, y, test_size=0.3, random_state=42)\n",
    "mod_3 = GradientBoostingRegressor() \n",
    "mod_3.fit(X_train,y_train)\n",
    "train_score_3 = mod_3.score(X_train,y_train)\n",
    "pred_3 = mod_3.predict(X_test)\n",
    "test_score_3 = r2_score(y_test,pred_3)\n",
    "    \n",
    "print(\"The training accuracy is :\",train_score_3)\n",
    "print(\"The testing accuracy is :\",test_score_3)\n",
    "print(\"\\n\")"
   ]
  },
  {
   "cell_type": "code",
   "execution_count": 156,
   "metadata": {},
   "outputs": [
    {
     "name": "stdout",
     "output_type": "stream",
     "text": [
      "50.23006148724347\n"
     ]
    }
   ],
   "source": [
    "MSE_3 = mean_squared_error(y_test,pred_3)\n",
    "print(MSE_3)"
   ]
  },
  {
   "cell_type": "code",
   "execution_count": 157,
   "metadata": {},
   "outputs": [],
   "source": [
    "kfold = KFold(n_splits=10,random_state=24)\n",
    "\n",
    "K_results = cross_val_score(mod_3,X,y,cv=kfold)\n",
    "\n",
    "kfold_accuracy_GB = np.mean(abs(K_results))"
   ]
  },
  {
   "cell_type": "code",
   "execution_count": 158,
   "metadata": {},
   "outputs": [
    {
     "data": {
      "text/plain": [
       "8.88144874732645"
      ]
     },
     "execution_count": 158,
     "metadata": {},
     "output_type": "execute_result"
    }
   ],
   "source": [
    "kfold_accuracy_GB"
   ]
  },
  {
   "cell_type": "markdown",
   "metadata": {},
   "source": [
    "### ADA Boosting regressor"
   ]
  },
  {
   "cell_type": "code",
   "execution_count": 159,
   "metadata": {},
   "outputs": [],
   "source": [
    "from sklearn.ensemble import AdaBoostRegressor"
   ]
  },
  {
   "cell_type": "code",
   "execution_count": 160,
   "metadata": {},
   "outputs": [
    {
     "name": "stdout",
     "output_type": "stream",
     "text": [
      "for random state  0  The training accuracy is : 0.9907363530185512\n",
      "for random state  0  The testing accuracy is : 0.11604628856090826\n",
      "\n",
      "\n",
      "for random state  1  The training accuracy is : 0.9867119288390203\n",
      "for random state  1  The testing accuracy is : 0.6137266023823029\n",
      "\n",
      "\n",
      "for random state  2  The training accuracy is : 0.993530493005283\n",
      "for random state  2  The testing accuracy is : 0.007619621709774371\n",
      "\n",
      "\n",
      "for random state  3  The training accuracy is : 0.9892977911814403\n",
      "for random state  3  The testing accuracy is : 0.6438291515911114\n",
      "\n",
      "\n",
      "for random state  4  The training accuracy is : 0.990184832412268\n",
      "for random state  4  The testing accuracy is : -0.10171785052987126\n",
      "\n",
      "\n",
      "for random state  5  The training accuracy is : 0.9919129165454639\n",
      "for random state  5  The testing accuracy is : 0.5459809340703357\n",
      "\n",
      "\n",
      "for random state  6  The training accuracy is : 0.9845522067763616\n",
      "for random state  6  The testing accuracy is : 0.6412213124622224\n",
      "\n",
      "\n",
      "for random state  7  The training accuracy is : 0.9895850075757743\n",
      "for random state  7  The testing accuracy is : 0.7303776620088078\n",
      "\n",
      "\n",
      "for random state  8  The training accuracy is : 0.9956144770315744\n",
      "for random state  8  The testing accuracy is : 0.4876509337680758\n",
      "\n",
      "\n",
      "for random state  9  The training accuracy is : 0.9895559420577678\n",
      "for random state  9  The testing accuracy is : 0.09201175820607221\n",
      "\n",
      "\n",
      "for random state  10  The training accuracy is : 0.9891713673324773\n",
      "for random state  10  The testing accuracy is : 0.30221583111390404\n",
      "\n",
      "\n",
      "for random state  11  The training accuracy is : 0.9884747329921669\n",
      "for random state  11  The testing accuracy is : 0.40891304347826074\n",
      "\n",
      "\n",
      "for random state  12  The training accuracy is : 0.9887012251742194\n",
      "for random state  12  The testing accuracy is : 0.231746172414375\n",
      "\n",
      "\n",
      "for random state  13  The training accuracy is : 0.9968649430802201\n",
      "for random state  13  The testing accuracy is : 0.4339530057730713\n",
      "\n",
      "\n",
      "for random state  14  The training accuracy is : 0.9869524325963243\n",
      "for random state  14  The testing accuracy is : 0.5409974050076686\n",
      "\n",
      "\n",
      "for random state  15  The training accuracy is : 0.9887909765821634\n",
      "for random state  15  The testing accuracy is : 0.4859127378716376\n",
      "\n",
      "\n",
      "for random state  16  The training accuracy is : 0.9930147221788593\n",
      "for random state  16  The testing accuracy is : 0.36861251017501007\n",
      "\n",
      "\n",
      "for random state  17  The training accuracy is : 0.9949303596148878\n",
      "for random state  17  The testing accuracy is : 0.25063798793201053\n",
      "\n",
      "\n",
      "for random state  18  The training accuracy is : 0.9869492235155984\n",
      "for random state  18  The testing accuracy is : 0.34807726509407133\n",
      "\n",
      "\n",
      "for random state  19  The training accuracy is : 0.9890556763153725\n",
      "for random state  19  The testing accuracy is : 0.595184654315089\n",
      "\n",
      "\n",
      "for random state  20  The training accuracy is : 0.9938430848480921\n",
      "for random state  20  The testing accuracy is : 0.4052681688352904\n",
      "\n",
      "\n",
      "for random state  21  The training accuracy is : 0.9904725810399292\n",
      "for random state  21  The testing accuracy is : 0.4203592420246588\n",
      "\n",
      "\n",
      "for random state  22  The training accuracy is : 0.9894699487154244\n",
      "for random state  22  The testing accuracy is : 0.35527617808007417\n",
      "\n",
      "\n",
      "for random state  23  The training accuracy is : 0.9955289554951878\n",
      "for random state  23  The testing accuracy is : 0.3830451279026479\n",
      "\n",
      "\n",
      "for random state  24  The training accuracy is : 0.9941625578867679\n",
      "for random state  24  The testing accuracy is : -2.491771159874608\n",
      "\n",
      "\n",
      "for random state  25  The training accuracy is : 0.9899533333333334\n",
      "for random state  25  The testing accuracy is : 0.2874826834547137\n",
      "\n",
      "\n",
      "for random state  26  The training accuracy is : 0.9932395182904895\n",
      "for random state  26  The testing accuracy is : 0.38597960279119714\n",
      "\n",
      "\n",
      "for random state  27  The training accuracy is : 0.9894770935796791\n",
      "for random state  27  The testing accuracy is : 0.26014363195918266\n",
      "\n",
      "\n",
      "for random state  28  The training accuracy is : 0.9885577439601\n",
      "for random state  28  The testing accuracy is : 0.45846521395680384\n",
      "\n",
      "\n",
      "for random state  29  The training accuracy is : 0.9919072537439885\n",
      "for random state  29  The testing accuracy is : 0.6782721408331827\n",
      "\n",
      "\n",
      "for random state  30  The training accuracy is : 0.9926119281131638\n",
      "for random state  30  The testing accuracy is : 0.6506000634102144\n",
      "\n",
      "\n",
      "for random state  31  The training accuracy is : 0.9937436887023987\n",
      "for random state  31  The testing accuracy is : 0.2600831763967357\n",
      "\n",
      "\n",
      "for random state  32  The training accuracy is : 0.9910485510208352\n",
      "for random state  32  The testing accuracy is : 0.45016722408026755\n",
      "\n",
      "\n",
      "for random state  33  The training accuracy is : 0.9913710284289721\n",
      "for random state  33  The testing accuracy is : 0.4972410720578315\n",
      "\n",
      "\n",
      "for random state  34  The training accuracy is : 0.9907302179014387\n",
      "for random state  34  The testing accuracy is : 0.5120192008999174\n",
      "\n",
      "\n",
      "for random state  35  The training accuracy is : 0.979538859984721\n",
      "for random state  35  The testing accuracy is : 0.3835863830049071\n",
      "\n",
      "\n",
      "for random state  36  The training accuracy is : 0.9880292984509528\n",
      "for random state  36  The testing accuracy is : 0.2853055030433478\n",
      "\n",
      "\n",
      "for random state  37  The training accuracy is : 0.9870144357437164\n",
      "for random state  37  The testing accuracy is : 0.2771116170272315\n",
      "\n",
      "\n",
      "for random state  38  The training accuracy is : 0.9962783430507596\n",
      "for random state  38  The testing accuracy is : 0.3598367675186922\n",
      "\n",
      "\n",
      "for random state  39  The training accuracy is : 0.9915003824816648\n",
      "for random state  39  The testing accuracy is : 0.47951176239402626\n",
      "\n",
      "\n",
      "for random state  40  The training accuracy is : 0.9847462921848378\n",
      "for random state  40  The testing accuracy is : 0.47408495717968513\n",
      "\n",
      "\n",
      "for random state  41  The training accuracy is : 0.9924102843041142\n",
      "for random state  41  The testing accuracy is : 0.566641761954262\n",
      "\n",
      "\n",
      "for random state  42  The training accuracy is : 0.9902045825006479\n",
      "for random state  42  The testing accuracy is : 0.6468538011695907\n",
      "\n",
      "\n",
      "for random state  43  The training accuracy is : 0.994933980567407\n",
      "for random state  43  The testing accuracy is : -1.6259992168510022\n",
      "\n",
      "\n",
      "for random state  44  The training accuracy is : 0.9900854051938236\n",
      "for random state  44  The testing accuracy is : 0.5397843220040814\n",
      "\n",
      "\n",
      "for random state  45  The training accuracy is : 0.9929671436865213\n",
      "for random state  45  The testing accuracy is : 0.5596630645130386\n",
      "\n",
      "\n",
      "for random state  46  The training accuracy is : 0.9912634989187104\n",
      "for random state  46  The testing accuracy is : 0.4786452665941241\n",
      "\n",
      "\n",
      "for random state  47  The training accuracy is : 0.9923668994102945\n",
      "for random state  47  The testing accuracy is : 0.5517530750999731\n",
      "\n",
      "\n",
      "for random state  48  The training accuracy is : 0.9923803912554374\n",
      "for random state  48  The testing accuracy is : 0.5969472190512429\n",
      "\n",
      "\n",
      "for random state  49  The training accuracy is : 0.9958467122912663\n",
      "for random state  49  The testing accuracy is : 0.534463161207207\n",
      "\n",
      "\n",
      "for random state  50  The training accuracy is : 0.9878882164930411\n",
      "for random state  50  The testing accuracy is : 0.46386130760986055\n",
      "\n",
      "\n",
      "for random state  51  The training accuracy is : 0.992879523269956\n",
      "for random state  51  The testing accuracy is : 0.5998069327850719\n",
      "\n",
      "\n",
      "for random state  52  The training accuracy is : 0.9896536850436259\n",
      "for random state  52  The testing accuracy is : -0.13707073671852044\n",
      "\n",
      "\n",
      "for random state  53  The training accuracy is : 0.9931283006053794\n",
      "for random state  53  The testing accuracy is : 0.6483092206680708\n",
      "\n",
      "\n",
      "for random state  54  The training accuracy is : 0.9936394747751635\n",
      "for random state  54  The testing accuracy is : 0.6918331701711153\n",
      "\n",
      "\n",
      "for random state  55  The training accuracy is : 0.9924048708814818\n",
      "for random state  55  The testing accuracy is : 0.04454022988505746\n",
      "\n",
      "\n",
      "for random state  56  The training accuracy is : 0.9932366763784883\n",
      "for random state  56  The testing accuracy is : 0.17045203289613053\n",
      "\n",
      "\n",
      "for random state  57  The training accuracy is : 0.9905967969675137\n",
      "for random state  57  The testing accuracy is : 0.43780399927940916\n",
      "\n",
      "\n",
      "for random state  58  The training accuracy is : 0.9932750527681535\n",
      "for random state  58  The testing accuracy is : 0.3371008112289825\n",
      "\n",
      "\n",
      "for random state  59  The training accuracy is : 0.995087320331973\n",
      "for random state  59  The testing accuracy is : -0.0326155132761865\n",
      "\n",
      "\n",
      "for random state  60  The training accuracy is : 0.987630429859734\n",
      "for random state  60  The testing accuracy is : 0.6337870040911184\n",
      "\n",
      "\n"
     ]
    },
    {
     "name": "stdout",
     "output_type": "stream",
     "text": [
      "for random state  61  The training accuracy is : 0.9929051755898417\n",
      "for random state  61  The testing accuracy is : 0.2006925366215695\n",
      "\n",
      "\n",
      "for random state  62  The training accuracy is : 0.9909950118914044\n",
      "for random state  62  The testing accuracy is : 0.41756029404515416\n",
      "\n",
      "\n",
      "for random state  63  The training accuracy is : 0.9896129489107286\n",
      "for random state  63  The testing accuracy is : 0.06222222222222218\n",
      "\n",
      "\n",
      "for random state  64  The training accuracy is : 0.9870344796187027\n",
      "for random state  64  The testing accuracy is : 0.3167598670880948\n",
      "\n",
      "\n",
      "for random state  65  The training accuracy is : 0.9875384526967462\n",
      "for random state  65  The testing accuracy is : 0.2848202595162488\n",
      "\n",
      "\n",
      "for random state  66  The training accuracy is : 0.9904309406686814\n",
      "for random state  66  The testing accuracy is : -0.44961401875421014\n",
      "\n",
      "\n",
      "for random state  67  The training accuracy is : 0.9941564037399818\n",
      "for random state  67  The testing accuracy is : 0.2944765968896198\n",
      "\n",
      "\n",
      "for random state  68  The training accuracy is : 0.991636786050396\n",
      "for random state  68  The testing accuracy is : 0.25980473236848134\n",
      "\n",
      "\n",
      "for random state  69  The training accuracy is : 0.9933726022705031\n",
      "for random state  69  The testing accuracy is : 0.5954055746638082\n",
      "\n",
      "\n",
      "for random state  70  The training accuracy is : 0.9957795992336896\n",
      "for random state  70  The testing accuracy is : 0.49765263203553123\n",
      "\n",
      "\n",
      "for random state  71  The training accuracy is : 0.988616215528839\n",
      "for random state  71  The testing accuracy is : 0.10281781861545924\n",
      "\n",
      "\n",
      "for random state  72  The training accuracy is : 0.9867386451679988\n",
      "for random state  72  The testing accuracy is : 0.25637951686050797\n",
      "\n",
      "\n",
      "for random state  73  The training accuracy is : 0.9947936966763986\n",
      "for random state  73  The testing accuracy is : 0.7286285694530872\n",
      "\n",
      "\n",
      "for random state  74  The training accuracy is : 0.9890983848649081\n",
      "for random state  74  The testing accuracy is : 0.08258223851716073\n",
      "\n",
      "\n",
      "for random state  75  The training accuracy is : 0.9857822758903486\n",
      "for random state  75  The testing accuracy is : 0.288797143378424\n",
      "\n",
      "\n",
      "for random state  76  The training accuracy is : 0.9860337688828911\n",
      "for random state  76  The testing accuracy is : 0.6312627551020409\n",
      "\n",
      "\n",
      "for random state  77  The training accuracy is : 0.9884030905001516\n",
      "for random state  77  The testing accuracy is : 0.5474259475582226\n",
      "\n",
      "\n",
      "for random state  78  The training accuracy is : 0.992507043265017\n",
      "for random state  78  The testing accuracy is : 0.1265898200719876\n",
      "\n",
      "\n",
      "for random state  79  The training accuracy is : 0.9929316758215284\n",
      "for random state  79  The testing accuracy is : 0.47041778924894295\n",
      "\n",
      "\n",
      "for random state  80  The training accuracy is : 0.9927450081545351\n",
      "for random state  80  The testing accuracy is : 0.6332655667631036\n",
      "\n",
      "\n",
      "for random state  81  The training accuracy is : 0.9905240017553777\n",
      "for random state  81  The testing accuracy is : -0.19478037572644924\n",
      "\n",
      "\n",
      "for random state  82  The training accuracy is : 0.9951651542534079\n",
      "for random state  82  The testing accuracy is : 0.8073604953908944\n",
      "\n",
      "\n",
      "for random state  83  The training accuracy is : 0.9975508247524428\n",
      "for random state  83  The testing accuracy is : 0.18060773578553835\n",
      "\n",
      "\n",
      "for random state  84  The training accuracy is : 0.9857960916699676\n",
      "for random state  84  The testing accuracy is : 0.5932315307328605\n",
      "\n",
      "\n",
      "for random state  85  The training accuracy is : 0.996299288589099\n",
      "for random state  85  The testing accuracy is : 0.29397683874774916\n",
      "\n",
      "\n",
      "for random state  86  The training accuracy is : 0.9951485522401934\n",
      "for random state  86  The testing accuracy is : 0.5765067216479305\n",
      "\n",
      "\n",
      "for random state  87  The training accuracy is : 0.9952875197837036\n",
      "for random state  87  The testing accuracy is : 0.45056053144014574\n",
      "\n",
      "\n",
      "for random state  88  The training accuracy is : 0.992142543784683\n",
      "for random state  88  The testing accuracy is : -1.2901890414958639\n",
      "\n",
      "\n",
      "for random state  89  The training accuracy is : 0.9945475681205245\n",
      "for random state  89  The testing accuracy is : 0.6829292929292929\n",
      "\n",
      "\n",
      "for random state  90  The training accuracy is : 0.9929965883710085\n",
      "for random state  90  The testing accuracy is : 0.4879112066612067\n",
      "\n",
      "\n",
      "for random state  91  The training accuracy is : 0.9920329087637227\n",
      "for random state  91  The testing accuracy is : 0.24675288254288763\n",
      "\n",
      "\n",
      "for random state  92  The training accuracy is : 0.9958413299971385\n",
      "for random state  92  The testing accuracy is : 0.29597084246629446\n",
      "\n",
      "\n",
      "for random state  93  The training accuracy is : 0.9872147052295281\n",
      "for random state  93  The testing accuracy is : 0.26461177964585647\n",
      "\n",
      "\n",
      "for random state  94  The training accuracy is : 0.9837883758952761\n",
      "for random state  94  The testing accuracy is : -0.08150897474901098\n",
      "\n",
      "\n",
      "for random state  95  The training accuracy is : 0.9863938913104433\n",
      "for random state  95  The testing accuracy is : 0.15678303260525472\n",
      "\n",
      "\n",
      "for random state  96  The training accuracy is : 0.9792781470252083\n",
      "for random state  96  The testing accuracy is : 0.3388836625901537\n",
      "\n",
      "\n",
      "for random state  97  The training accuracy is : 0.9920036769542453\n",
      "for random state  97  The testing accuracy is : 0.8865600158001284\n",
      "\n",
      "\n",
      "for random state  98  The training accuracy is : 0.9914441341307455\n",
      "for random state  98  The testing accuracy is : 0.44926249672376495\n",
      "\n",
      "\n",
      "for random state  99  The training accuracy is : 0.9934982961920468\n",
      "for random state  99  The testing accuracy is : 0.4861557334804143\n",
      "\n",
      "\n",
      "for random state  100  The training accuracy is : 0.9904179751191216\n",
      "for random state  100  The testing accuracy is : 0.11625024392147665\n",
      "\n",
      "\n"
     ]
    }
   ],
   "source": [
    "# using for loop to get best random state\n",
    "for i in range(0,101):\n",
    "    \n",
    "    X_train, X_test, y_train, y_test = train_test_split(X, y, test_size=0.24, random_state=i)\n",
    "    mod_4 = AdaBoostRegressor() \n",
    "    mod_4.fit(X_train,y_train)\n",
    "    train_score_4 = mod_4.score(X_train,y_train)\n",
    "    pred_4 = mod_4.predict(X_test)\n",
    "    test_score_4 = r2_score(y_test,pred_4)\n",
    "    \n",
    "    print(\"for random state \",i,\" The training accuracy is :\",train_score_4)\n",
    "    print(\"for random state \",i,\" The testing accuracy is :\",test_score_4)\n",
    "    print(\"\\n\")"
   ]
  },
  {
   "cell_type": "code",
   "execution_count": 161,
   "metadata": {},
   "outputs": [
    {
     "name": "stdout",
     "output_type": "stream",
     "text": [
      "The training accuracy is : 0.9917203270005055\n",
      "The testing accuracy is : 0.6291694931407951\n",
      "\n",
      "\n"
     ]
    }
   ],
   "source": [
    "# Taking the best random state as 7\n",
    "X_train, X_test, y_train, y_test = train_test_split(X, y, test_size=0.24, random_state=7)\n",
    "mod_4 = AdaBoostRegressor() \n",
    "mod_4.fit(X_train,y_train)\n",
    "train_score_4 = mod_4.score(X_train,y_train)\n",
    "pred_4 = mod_4.predict(X_test)\n",
    "test_score_4 = r2_score(y_test,pred_4)\n",
    "    \n",
    "print(\"The training accuracy is :\",train_score_4)\n",
    "print(\"The testing accuracy is :\",test_score_4)\n",
    "print(\"\\n\")"
   ]
  },
  {
   "cell_type": "code",
   "execution_count": 162,
   "metadata": {},
   "outputs": [
    {
     "name": "stdout",
     "output_type": "stream",
     "text": [
      "43.1496060090703\n"
     ]
    }
   ],
   "source": [
    "MSE_4 = mean_squared_error(y_test,pred_4)\n",
    "print(MSE_4)"
   ]
  },
  {
   "cell_type": "code",
   "execution_count": 163,
   "metadata": {},
   "outputs": [],
   "source": [
    "kfold = KFold(n_splits=10)\n",
    "\n",
    "K_results = cross_val_score(mod_4,X,y,cv=kfold)\n",
    "\n",
    "kfold_accuracy_ADA = np.mean(abs(K_results))"
   ]
  },
  {
   "cell_type": "code",
   "execution_count": 164,
   "metadata": {},
   "outputs": [
    {
     "data": {
      "text/plain": [
       "12.906119371325172"
      ]
     },
     "execution_count": 164,
     "metadata": {},
     "output_type": "execute_result"
    }
   ],
   "source": [
    "kfold_accuracy_ADA"
   ]
  },
  {
   "cell_type": "code",
   "execution_count": 165,
   "metadata": {},
   "outputs": [],
   "source": [
    "score = {\"Algorithm\":[\"Linear Regression\",\"Random Forest Regression\",\n",
    "                     \"Gredient Boosting\",\"ADA Boost\"],\n",
    "         \"Training_Acc\":[train_score_1,train_score_2,train_score_3,\n",
    "                        train_score_4],\n",
    "        \"R2 Score\":[test_score_1,test_score_2,test_score_3,\n",
    "                   test_score_4],\n",
    "         \"MSE\":[MSE_1,MSE_2,MSE_3,MSE_4],\n",
    "        \"Cross_validation\":[kfold_accuracy_LR,kfold_accuracy_RFR,\n",
    "                           kfold_accuracy_GB,\n",
    "                           kfold_accuracy_ADA]}\n",
    "\n",
    "final_card = pd.DataFrame(score)"
   ]
  },
  {
   "cell_type": "code",
   "execution_count": 166,
   "metadata": {},
   "outputs": [
    {
     "data": {
      "text/html": [
       "<div>\n",
       "<style scoped>\n",
       "    .dataframe tbody tr th:only-of-type {\n",
       "        vertical-align: middle;\n",
       "    }\n",
       "\n",
       "    .dataframe tbody tr th {\n",
       "        vertical-align: top;\n",
       "    }\n",
       "\n",
       "    .dataframe thead th {\n",
       "        text-align: right;\n",
       "    }\n",
       "</style>\n",
       "<table border=\"1\" class=\"dataframe\">\n",
       "  <thead>\n",
       "    <tr style=\"text-align: right;\">\n",
       "      <th></th>\n",
       "      <th>Algorithm</th>\n",
       "      <th>Training_Acc</th>\n",
       "      <th>R2 Score</th>\n",
       "      <th>MSE</th>\n",
       "      <th>Cross_validation</th>\n",
       "    </tr>\n",
       "  </thead>\n",
       "  <tbody>\n",
       "    <tr>\n",
       "      <th>0</th>\n",
       "      <td>Linear Regression</td>\n",
       "      <td>0.951876</td>\n",
       "      <td>0.884168</td>\n",
       "      <td>11.785857</td>\n",
       "      <td>7.808825</td>\n",
       "    </tr>\n",
       "    <tr>\n",
       "      <th>1</th>\n",
       "      <td>Random Forest Regression</td>\n",
       "      <td>0.912232</td>\n",
       "      <td>0.686323</td>\n",
       "      <td>30.774625</td>\n",
       "      <td>12.473679</td>\n",
       "    </tr>\n",
       "    <tr>\n",
       "      <th>2</th>\n",
       "      <td>Gredient Boosting</td>\n",
       "      <td>1.000000</td>\n",
       "      <td>0.627004</td>\n",
       "      <td>50.230061</td>\n",
       "      <td>8.881449</td>\n",
       "    </tr>\n",
       "    <tr>\n",
       "      <th>3</th>\n",
       "      <td>ADA Boost</td>\n",
       "      <td>0.991720</td>\n",
       "      <td>0.629169</td>\n",
       "      <td>43.149606</td>\n",
       "      <td>12.906119</td>\n",
       "    </tr>\n",
       "  </tbody>\n",
       "</table>\n",
       "</div>"
      ],
      "text/plain": [
       "                  Algorithm  Training_Acc  R2 Score        MSE  \\\n",
       "0         Linear Regression      0.951876  0.884168  11.785857   \n",
       "1  Random Forest Regression      0.912232  0.686323  30.774625   \n",
       "2         Gredient Boosting      1.000000  0.627004  50.230061   \n",
       "3                 ADA Boost      0.991720  0.629169  43.149606   \n",
       "\n",
       "   Cross_validation  \n",
       "0          7.808825  \n",
       "1         12.473679  \n",
       "2          8.881449  \n",
       "3         12.906119  "
      ]
     },
     "execution_count": 166,
     "metadata": {},
     "output_type": "execute_result"
    }
   ],
   "source": [
    "final_card"
   ]
  },
  {
   "cell_type": "markdown",
   "metadata": {},
   "source": [
    "### KNN Regressor"
   ]
  },
  {
   "cell_type": "code",
   "execution_count": 167,
   "metadata": {},
   "outputs": [],
   "source": [
    "from sklearn.neighbors import KNeighborsRegressor"
   ]
  },
  {
   "cell_type": "code",
   "execution_count": 168,
   "metadata": {},
   "outputs": [
    {
     "name": "stdout",
     "output_type": "stream",
     "text": [
      "for random state  0  The training accuracy is : 0.5985276908422915\n",
      "for random state  0  The testing accuracy is : 0.345296574770259\n",
      "\n",
      "\n",
      "for random state  1  The training accuracy is : 0.6340228605506408\n",
      "for random state  1  The testing accuracy is : 0.32097560975609785\n",
      "\n",
      "\n",
      "for random state  2  The training accuracy is : 0.7204099821746881\n",
      "for random state  2  The testing accuracy is : -0.0290186706497384\n",
      "\n",
      "\n",
      "for random state  3  The training accuracy is : 0.4751008549846433\n",
      "for random state  3  The testing accuracy is : 0.5428041714947858\n",
      "\n",
      "\n",
      "for random state  4  The training accuracy is : 0.30785960330504103\n",
      "for random state  4  The testing accuracy is : 0.3742874039030162\n",
      "\n",
      "\n",
      "for random state  5  The training accuracy is : 0.5115731936457326\n",
      "for random state  5  The testing accuracy is : 0.5341888968997837\n",
      "\n",
      "\n",
      "for random state  6  The training accuracy is : 0.6303008730972971\n",
      "for random state  6  The testing accuracy is : 0.1366392993979202\n",
      "\n",
      "\n",
      "for random state  7  The training accuracy is : 0.4904501137471565\n",
      "for random state  7  The testing accuracy is : 0.4475735195380691\n",
      "\n",
      "\n",
      "for random state  8  The training accuracy is : 0.44759933918789685\n",
      "for random state  8  The testing accuracy is : 0.3623285220088276\n",
      "\n",
      "\n",
      "for random state  9  The training accuracy is : 0.4720912484446286\n",
      "for random state  9  The testing accuracy is : 0.030675759454432794\n",
      "\n",
      "\n",
      "for random state  10  The training accuracy is : 0.5296748121487654\n",
      "for random state  10  The testing accuracy is : 0.3943443770415306\n",
      "\n",
      "\n",
      "for random state  11  The training accuracy is : 0.5310277312890281\n",
      "for random state  11  The testing accuracy is : 0.4807357859531769\n",
      "\n",
      "\n",
      "for random state  12  The training accuracy is : 0.5472071251855518\n",
      "for random state  12  The testing accuracy is : 0.3600000000000001\n",
      "\n",
      "\n",
      "for random state  13  The training accuracy is : 0.5100470195662066\n",
      "for random state  13  The testing accuracy is : 0.613962327054509\n",
      "\n",
      "\n",
      "for random state  14  The training accuracy is : 0.4277917716204871\n",
      "for random state  14  The testing accuracy is : 0.5034618770910371\n",
      "\n",
      "\n",
      "for random state  15  The training accuracy is : 0.6382169041662136\n",
      "for random state  15  The testing accuracy is : 0.11944315545243611\n",
      "\n",
      "\n",
      "for random state  16  The training accuracy is : 0.5942136575720258\n",
      "for random state  16  The testing accuracy is : 0.42959706959706967\n",
      "\n",
      "\n",
      "for random state  17  The training accuracy is : 0.6340076628352492\n",
      "for random state  17  The testing accuracy is : 0.013793960482167189\n",
      "\n",
      "\n",
      "for random state  18  The training accuracy is : 0.6465760752910097\n",
      "for random state  18  The testing accuracy is : -0.7154751131221715\n",
      "\n",
      "\n",
      "for random state  19  The training accuracy is : 0.4438586058804096\n",
      "for random state  19  The testing accuracy is : 0.30006688963210715\n",
      "\n",
      "\n",
      "for random state  20  The training accuracy is : 0.57439731378058\n",
      "for random state  20  The testing accuracy is : -0.03261186924785786\n",
      "\n",
      "\n",
      "for random state  21  The training accuracy is : 0.6611491304770234\n",
      "for random state  21  The testing accuracy is : -0.14413373860182355\n",
      "\n",
      "\n",
      "for random state  22  The training accuracy is : 0.5138030355294929\n",
      "for random state  22  The testing accuracy is : 0.15673862400993965\n",
      "\n",
      "\n",
      "for random state  23  The training accuracy is : 0.36249351130886176\n",
      "for random state  23  The testing accuracy is : 0.17419478803890942\n",
      "\n",
      "\n",
      "for random state  24  The training accuracy is : 0.6611861587364329\n",
      "for random state  24  The testing accuracy is : -3.9848275862068974\n",
      "\n",
      "\n",
      "for random state  25  The training accuracy is : 0.6551836734693877\n",
      "for random state  25  The testing accuracy is : 0.054206033010813726\n",
      "\n",
      "\n",
      "for random state  26  The training accuracy is : 0.5289331362164789\n",
      "for random state  26  The testing accuracy is : 0.44966183574879237\n",
      "\n",
      "\n",
      "for random state  27  The training accuracy is : 0.41486314543571545\n",
      "for random state  27  The testing accuracy is : 0.5998610843141037\n",
      "\n",
      "\n",
      "for random state  28  The training accuracy is : 0.577364035752159\n",
      "for random state  28  The testing accuracy is : 0.4155990983180162\n",
      "\n",
      "\n",
      "for random state  29  The training accuracy is : 0.43824175824175815\n",
      "for random state  29  The testing accuracy is : 0.4342268041237114\n",
      "\n",
      "\n",
      "for random state  30  The training accuracy is : 0.6356250000000001\n",
      "for random state  30  The testing accuracy is : 0.05530960761308812\n",
      "\n",
      "\n",
      "for random state  31  The training accuracy is : 0.5227151302824611\n",
      "for random state  31  The testing accuracy is : 0.1476271186440673\n",
      "\n",
      "\n",
      "for random state  32  The training accuracy is : 0.5155681128482034\n",
      "for random state  32  The testing accuracy is : 0.008856187290969708\n",
      "\n",
      "\n",
      "for random state  33  The training accuracy is : 0.30773690757241134\n",
      "for random state  33  The testing accuracy is : 0.17328071040947246\n",
      "\n",
      "\n",
      "for random state  34  The training accuracy is : 0.5406783153925416\n",
      "for random state  34  The testing accuracy is : 0.3690036900369006\n",
      "\n",
      "\n",
      "for random state  35  The training accuracy is : 0.5222047507527601\n",
      "for random state  35  The testing accuracy is : 0.40833448705524\n",
      "\n",
      "\n",
      "for random state  36  The training accuracy is : 0.43182028569148545\n",
      "for random state  36  The testing accuracy is : 0.3344293634104373\n",
      "\n",
      "\n",
      "for random state  37  The training accuracy is : 0.627362385321101\n",
      "for random state  37  The testing accuracy is : -0.39568430387230324\n",
      "\n",
      "\n",
      "for random state  38  The training accuracy is : 0.6218069156293222\n",
      "for random state  38  The testing accuracy is : -0.18556338028168962\n",
      "\n",
      "\n",
      "for random state  39  The training accuracy is : 0.3926303854875284\n",
      "for random state  39  The testing accuracy is : 0.4745144012127337\n",
      "\n",
      "\n",
      "for random state  40  The training accuracy is : 0.5795813690363945\n",
      "for random state  40  The testing accuracy is : 0.2104703145544654\n",
      "\n",
      "\n",
      "for random state  41  The training accuracy is : 0.4876848269155163\n",
      "for random state  41  The testing accuracy is : 0.6084823284823282\n",
      "\n",
      "\n",
      "for random state  42  The training accuracy is : 0.39136572842704165\n",
      "for random state  42  The testing accuracy is : 0.6300799999999999\n",
      "\n",
      "\n",
      "for random state  43  The training accuracy is : 0.6370515490757616\n",
      "for random state  43  The testing accuracy is : -1.2154877318970674\n",
      "\n",
      "\n",
      "for random state  44  The training accuracy is : 0.43445438282647564\n",
      "for random state  44  The testing accuracy is : 0.5148321722609244\n",
      "\n",
      "\n",
      "for random state  45  The training accuracy is : 0.4089265365038366\n",
      "for random state  45  The testing accuracy is : 0.5907708225556128\n",
      "\n",
      "\n",
      "for random state  46  The training accuracy is : 0.6369355257015406\n",
      "for random state  46  The testing accuracy is : 0.023634385201305008\n",
      "\n",
      "\n",
      "for random state  47  The training accuracy is : 0.5199870911228419\n",
      "for random state  47  The testing accuracy is : 0.16954145437702628\n",
      "\n",
      "\n",
      "for random state  48  The training accuracy is : 0.4074349290599163\n",
      "for random state  48  The testing accuracy is : 0.5927853881278538\n",
      "\n",
      "\n",
      "for random state  49  The training accuracy is : 0.436923932178264\n",
      "for random state  49  The testing accuracy is : 0.4545553122719218\n",
      "\n",
      "\n",
      "for random state  50  The training accuracy is : 0.43071375279781166\n",
      "for random state  50  The testing accuracy is : 0.4306675241157557\n",
      "\n",
      "\n",
      "for random state  51  The training accuracy is : 0.4395975855130785\n",
      "for random state  51  The testing accuracy is : 0.47176207395709946\n",
      "\n",
      "\n",
      "for random state  52  The training accuracy is : 0.49620152883947144\n",
      "for random state  52  The testing accuracy is : 0.3166069856178463\n",
      "\n",
      "\n",
      "for random state  53  The training accuracy is : 0.4316770997997683\n",
      "for random state  53  The testing accuracy is : 0.5341856586992775\n",
      "\n",
      "\n",
      "for random state  54  The training accuracy is : 0.5246706769207341\n",
      "for random state  54  The testing accuracy is : 0.4188058267968622\n",
      "\n",
      "\n",
      "for random state  55  The training accuracy is : 0.5975036483199709\n",
      "for random state  55  The testing accuracy is : 0.14779840848806358\n",
      "\n",
      "\n",
      "for random state  56  The training accuracy is : 0.5660387771403677\n",
      "for random state  56  The testing accuracy is : 0.4409449520837976\n",
      "\n",
      "\n",
      "for random state  57  The training accuracy is : 0.6183400096138438\n",
      "for random state  57  The testing accuracy is : 0.25594667627454515\n",
      "\n",
      "\n",
      "for random state  58  The training accuracy is : 0.4302321582115216\n",
      "for random state  58  The testing accuracy is : 0.28099118205156826\n",
      "\n",
      "\n",
      "for random state  59  The training accuracy is : 0.5718165734909064\n",
      "for random state  59  The testing accuracy is : 0.5466610913652519\n",
      "\n",
      "\n",
      "for random state  60  The training accuracy is : 0.5381390100797354\n",
      "for random state  60  The testing accuracy is : 0.10692079034796365\n",
      "\n",
      "\n",
      "for random state  61  The training accuracy is : 0.6125819848202776\n",
      "for random state  61  The testing accuracy is : 0.20118234471739527\n",
      "\n",
      "\n",
      "for random state  62  The training accuracy is : 0.5941910258797245\n",
      "for random state  62  The testing accuracy is : 0.33747826086956545\n",
      "\n",
      "\n",
      "for random state  63  The training accuracy is : 0.5138489347102042\n",
      "for random state  63  The testing accuracy is : 0.4173333333333332\n",
      "\n",
      "\n",
      "for random state  64  The training accuracy is : 0.5435406949517654\n",
      "for random state  64  The testing accuracy is : 0.4594894237782644\n",
      "\n",
      "\n",
      "for random state  65  The training accuracy is : 0.5218634886240521\n",
      "for random state  65  The testing accuracy is : 0.1872986004939433\n",
      "\n",
      "\n",
      "for random state  66  The training accuracy is : 0.5580054265104888\n",
      "for random state  66  The testing accuracy is : 0.2655427682737167\n",
      "\n",
      "\n",
      "for random state  67  The training accuracy is : 0.5022610483042138\n",
      "for random state  67  The testing accuracy is : -0.05802240354031296\n",
      "\n",
      "\n",
      "for random state  68  The training accuracy is : 0.6539760827808414\n",
      "for random state  68  The testing accuracy is : -0.249290144727774\n",
      "\n",
      "\n",
      "for random state  69  The training accuracy is : 0.4751693090624388\n",
      "for random state  69  The testing accuracy is : 0.3971927698677168\n",
      "\n",
      "\n",
      "for random state  70  The training accuracy is : 0.5466083970657094\n",
      "for random state  70  The testing accuracy is : 0.37478170168380265\n",
      "\n",
      "\n",
      "for random state  71  The training accuracy is : 0.5037470300489166\n",
      "for random state  71  The testing accuracy is : 0.42494340615951554\n",
      "\n",
      "\n",
      "for random state  72  The training accuracy is : 0.5656521360221702\n",
      "for random state  72  The testing accuracy is : 0.439928315412186\n",
      "\n",
      "\n",
      "for random state  73  The training accuracy is : 0.5018359957401488\n",
      "for random state  73  The testing accuracy is : 0.3499937772246423\n",
      "\n",
      "\n",
      "for random state  74  The training accuracy is : 0.6479537823795323\n",
      "for random state  74  The testing accuracy is : -0.3781118240146659\n",
      "\n",
      "\n",
      "for random state  75  The training accuracy is : 0.5153989692894225\n",
      "for random state  75  The testing accuracy is : 0.32580459770114945\n",
      "\n",
      "\n",
      "for random state  76  The training accuracy is : 0.4983627919872462\n",
      "for random state  76  The testing accuracy is : 0.37683673469387746\n",
      "\n",
      "\n",
      "for random state  77  The training accuracy is : 0.48754950446279044\n",
      "for random state  77  The testing accuracy is : 0.27303030303030285\n",
      "\n",
      "\n",
      "for random state  78  The training accuracy is : 0.5930327306019685\n",
      "for random state  78  The testing accuracy is : 0.5002348271870352\n",
      "\n",
      "\n",
      "for random state  79  The training accuracy is : 0.5350424978317432\n",
      "for random state  79  The testing accuracy is : 0.3741964181200984\n",
      "\n",
      "\n",
      "for random state  80  The training accuracy is : 0.5583411131059244\n",
      "for random state  80  The testing accuracy is : 0.3867229650480887\n",
      "\n",
      "\n",
      "for random state  81  The training accuracy is : 0.5922810931399887\n",
      "for random state  81  The testing accuracy is : -0.17006622516556313\n",
      "\n",
      "\n",
      "for random state  82  The training accuracy is : 0.4320711349718982\n",
      "for random state  82  The testing accuracy is : 0.488972767574414\n",
      "\n",
      "\n",
      "for random state  83  The training accuracy is : 0.5388373349803135\n",
      "for random state  83  The testing accuracy is : 0.333107957263594\n",
      "\n",
      "\n",
      "for random state  84  The training accuracy is : 0.5009467728490095\n",
      "for random state  84  The testing accuracy is : 0.049531914893616524\n",
      "\n",
      "\n",
      "for random state  85  The training accuracy is : 0.6170569789674951\n",
      "for random state  85  The testing accuracy is : 0.4283176771989754\n",
      "\n",
      "\n",
      "for random state  86  The training accuracy is : 0.540975752264096\n",
      "for random state  86  The testing accuracy is : 0.34303629108873224\n",
      "\n",
      "\n",
      "for random state  87  The training accuracy is : 0.5004605694790711\n",
      "for random state  87  The testing accuracy is : 0.47201523325928263\n",
      "\n",
      "\n",
      "for random state  88  The training accuracy is : 0.5477741649423589\n",
      "for random state  88  The testing accuracy is : -0.020620657711904133\n",
      "\n",
      "\n",
      "for random state  89  The training accuracy is : 0.4720491025760253\n",
      "for random state  89  The testing accuracy is : 0.49521885521885534\n",
      "\n",
      "\n",
      "for random state  90  The training accuracy is : 0.5499870678839585\n",
      "for random state  90  The testing accuracy is : 0.49896805896805907\n",
      "\n",
      "\n",
      "for random state  91  The training accuracy is : 0.5625136264024422\n",
      "for random state  91  The testing accuracy is : 0.3167491166077733\n",
      "\n",
      "\n",
      "for random state  92  The training accuracy is : 0.5211726813556836\n",
      "for random state  92  The testing accuracy is : 0.41027170582226724\n",
      "\n",
      "\n",
      "for random state  93  The training accuracy is : 0.563078034682081\n",
      "for random state  93  The testing accuracy is : 0.17071406298721514\n",
      "\n",
      "\n",
      "for random state  94  The training accuracy is : 0.49015441630636203\n",
      "for random state  94  The testing accuracy is : 0.6379434134469117\n",
      "\n",
      "\n",
      "for random state  95  The training accuracy is : 0.40318421656343195\n",
      "for random state  95  The testing accuracy is : -0.28648205128205095\n",
      "\n",
      "\n",
      "for random state  96  The training accuracy is : 0.4862729712987819\n",
      "for random state  96  The testing accuracy is : 0.1558984007525872\n",
      "\n",
      "\n",
      "for random state  97  The training accuracy is : 0.4316710079722158\n",
      "for random state  97  The testing accuracy is : 0.4800177751444229\n",
      "\n",
      "\n",
      "for random state  98  The training accuracy is : 0.5619177386594447\n",
      "for random state  98  The testing accuracy is : 0.2284847712501593\n",
      "\n",
      "\n",
      "for random state  99  The training accuracy is : 0.4213429575458256\n",
      "for random state  99  The testing accuracy is : 0.3713262681345819\n",
      "\n",
      "\n",
      "for random state  100  The training accuracy is : 0.6108786829555105\n",
      "for random state  100  The testing accuracy is : 0.17735159817351565\n",
      "\n",
      "\n"
     ]
    }
   ],
   "source": [
    "for i in range(0,101):\n",
    "    \n",
    "    X_train, X_test, y_train, y_test = train_test_split(X, y, test_size=0.24, random_state=i)\n",
    "    mod_5 = KNeighborsRegressor() \n",
    "    mod_5.fit(X_train,y_train)\n",
    "    train_score_5 = mod_5.score(X_train,y_train)\n",
    "    pred_5 = mod_5.predict(X_test)\n",
    "    test_score_5 = r2_score(y_test,pred_5)\n",
    "    \n",
    "    print(\"for random state \",i,\" The training accuracy is :\",train_score_5)\n",
    "    print(\"for random state \",i,\" The testing accuracy is :\",test_score_5)\n",
    "    print(\"\\n\")"
   ]
  },
  {
   "cell_type": "code",
   "execution_count": 169,
   "metadata": {},
   "outputs": [
    {
     "name": "stdout",
     "output_type": "stream",
     "text": [
      "The training accuracy is : 0.5115731936457326\n",
      "The testing accuracy is : 0.5341888968997837\n",
      "\n",
      "\n"
     ]
    }
   ],
   "source": [
    "# The best random state is 5\n",
    "X_train, X_test, y_train, y_test = train_test_split(X, y, test_size=0.24, random_state=5)\n",
    "mod_5 = KNeighborsRegressor() \n",
    "mod_5.fit(X_train,y_train)\n",
    "train_score_5 = mod_5.score(X_train,y_train)\n",
    "pred_5 = mod_5.predict(X_test)\n",
    "test_score_5 = r2_score(y_test,pred_5)\n",
    "    \n",
    "print(\"The training accuracy is :\",train_score_5)\n",
    "print(\"The testing accuracy is :\",test_score_5)\n",
    "print(\"\\n\")"
   ]
  },
  {
   "cell_type": "code",
   "execution_count": 170,
   "metadata": {},
   "outputs": [
    {
     "name": "stdout",
     "output_type": "stream",
     "text": [
      "40.38\n"
     ]
    }
   ],
   "source": [
    "MSE_5 = mean_squared_error(y_test,pred_5)\n",
    "print(MSE_5)"
   ]
  },
  {
   "cell_type": "code",
   "execution_count": 171,
   "metadata": {},
   "outputs": [],
   "source": [
    "kfold = KFold(n_splits=10)\n",
    "\n",
    "K_results = cross_val_score(mod_5,X,y,cv=kfold)\n",
    "\n",
    "kfold_accuracy_KNR = np.mean(abs(K_results))"
   ]
  },
  {
   "cell_type": "code",
   "execution_count": 172,
   "metadata": {},
   "outputs": [
    {
     "data": {
      "text/plain": [
       "14.168297697395772"
      ]
     },
     "execution_count": 172,
     "metadata": {},
     "output_type": "execute_result"
    }
   ],
   "source": [
    "kfold_accuracy_KNR"
   ]
  },
  {
   "cell_type": "code",
   "execution_count": 173,
   "metadata": {},
   "outputs": [],
   "source": [
    "score = {\"Algorithm\":[\"Linear Regression\",\"Random Forest Regression\",\n",
    "                     \"Gredient Boosting\",\"ADA Boost\",\n",
    "                     \"K Neighbor Regressor\"],\n",
    "         \"Training_Acc\":[train_score_1,train_score_2,train_score_3,\n",
    "                        train_score_4,train_score_5],\n",
    "        \"R2 Score\":[test_score_1,test_score_2,test_score_3,\n",
    "                   test_score_4,test_score_5],\n",
    "         \"MSE\":[MSE_1,MSE_2,MSE_3,MSE_4,MSE_5],\n",
    "        \"Cross_validation\":[kfold_accuracy_LR,kfold_accuracy_RFR,\n",
    "                           kfold_accuracy_GB,\n",
    "                           kfold_accuracy_ADA,kfold_accuracy_KNR]}\n",
    "\n",
    "final_card = pd.DataFrame(score)"
   ]
  },
  {
   "cell_type": "code",
   "execution_count": 174,
   "metadata": {},
   "outputs": [
    {
     "data": {
      "text/html": [
       "<div>\n",
       "<style scoped>\n",
       "    .dataframe tbody tr th:only-of-type {\n",
       "        vertical-align: middle;\n",
       "    }\n",
       "\n",
       "    .dataframe tbody tr th {\n",
       "        vertical-align: top;\n",
       "    }\n",
       "\n",
       "    .dataframe thead th {\n",
       "        text-align: right;\n",
       "    }\n",
       "</style>\n",
       "<table border=\"1\" class=\"dataframe\">\n",
       "  <thead>\n",
       "    <tr style=\"text-align: right;\">\n",
       "      <th></th>\n",
       "      <th>Algorithm</th>\n",
       "      <th>Training_Acc</th>\n",
       "      <th>R2 Score</th>\n",
       "      <th>MSE</th>\n",
       "      <th>Cross_validation</th>\n",
       "    </tr>\n",
       "  </thead>\n",
       "  <tbody>\n",
       "    <tr>\n",
       "      <th>0</th>\n",
       "      <td>Linear Regression</td>\n",
       "      <td>0.951876</td>\n",
       "      <td>0.884168</td>\n",
       "      <td>11.785857</td>\n",
       "      <td>7.808825</td>\n",
       "    </tr>\n",
       "    <tr>\n",
       "      <th>1</th>\n",
       "      <td>Random Forest Regression</td>\n",
       "      <td>0.912232</td>\n",
       "      <td>0.686323</td>\n",
       "      <td>30.774625</td>\n",
       "      <td>12.473679</td>\n",
       "    </tr>\n",
       "    <tr>\n",
       "      <th>2</th>\n",
       "      <td>Gredient Boosting</td>\n",
       "      <td>1.000000</td>\n",
       "      <td>0.627004</td>\n",
       "      <td>50.230061</td>\n",
       "      <td>8.881449</td>\n",
       "    </tr>\n",
       "    <tr>\n",
       "      <th>3</th>\n",
       "      <td>ADA Boost</td>\n",
       "      <td>0.991720</td>\n",
       "      <td>0.629169</td>\n",
       "      <td>43.149606</td>\n",
       "      <td>12.906119</td>\n",
       "    </tr>\n",
       "    <tr>\n",
       "      <th>4</th>\n",
       "      <td>K Neighbor Regressor</td>\n",
       "      <td>0.511573</td>\n",
       "      <td>0.534189</td>\n",
       "      <td>40.380000</td>\n",
       "      <td>14.168298</td>\n",
       "    </tr>\n",
       "  </tbody>\n",
       "</table>\n",
       "</div>"
      ],
      "text/plain": [
       "                  Algorithm  Training_Acc  R2 Score        MSE  \\\n",
       "0         Linear Regression      0.951876  0.884168  11.785857   \n",
       "1  Random Forest Regression      0.912232  0.686323  30.774625   \n",
       "2         Gredient Boosting      1.000000  0.627004  50.230061   \n",
       "3                 ADA Boost      0.991720  0.629169  43.149606   \n",
       "4      K Neighbor Regressor      0.511573  0.534189  40.380000   \n",
       "\n",
       "   Cross_validation  \n",
       "0          7.808825  \n",
       "1         12.473679  \n",
       "2          8.881449  \n",
       "3         12.906119  \n",
       "4         14.168298  "
      ]
     },
     "execution_count": 174,
     "metadata": {},
     "output_type": "execute_result"
    }
   ],
   "source": [
    "final_card"
   ]
  },
  {
   "cell_type": "markdown",
   "metadata": {},
   "source": [
    "### Bagging Regressor"
   ]
  },
  {
   "cell_type": "code",
   "execution_count": 175,
   "metadata": {},
   "outputs": [],
   "source": [
    "from sklearn.ensemble import BaggingRegressor"
   ]
  },
  {
   "cell_type": "code",
   "execution_count": 176,
   "metadata": {},
   "outputs": [
    {
     "name": "stdout",
     "output_type": "stream",
     "text": [
      "for random state  0  The training accuracy is : 0.9022401006939719\n",
      "for random state  0  The testing accuracy is : 0.1311389585073799\n",
      "\n",
      "\n",
      "for random state  1  The training accuracy is : 0.9130102375509394\n",
      "for random state  1  The testing accuracy is : 0.5690754395916053\n",
      "\n",
      "\n",
      "for random state  2  The training accuracy is : 0.9014616755793227\n",
      "for random state  2  The testing accuracy is : 0.2672023898431666\n",
      "\n",
      "\n",
      "for random state  3  The training accuracy is : 0.9114850170166847\n",
      "for random state  3  The testing accuracy is : 0.5842822196472253\n",
      "\n",
      "\n",
      "for random state  4  The training accuracy is : 0.8810671589706645\n",
      "for random state  4  The testing accuracy is : 0.31596688350088686\n",
      "\n",
      "\n",
      "for random state  5  The training accuracy is : 0.8802691263831159\n",
      "for random state  5  The testing accuracy is : 0.6604037490987742\n",
      "\n",
      "\n",
      "for random state  6  The training accuracy is : 0.9193764787169447\n",
      "for random state  6  The testing accuracy is : 0.43763546798029573\n",
      "\n",
      "\n",
      "for random state  7  The training accuracy is : 0.915511455963601\n",
      "for random state  7  The testing accuracy is : 0.6149107022962267\n",
      "\n",
      "\n",
      "for random state  8  The training accuracy is : 0.9245943830971219\n",
      "for random state  8  The testing accuracy is : 0.5530669211499464\n",
      "\n",
      "\n",
      "for random state  9  The training accuracy is : 0.8991887183741186\n",
      "for random state  9  The testing accuracy is : -0.07567679272576955\n",
      "\n",
      "\n",
      "for random state  10  The training accuracy is : 0.9061037443960346\n",
      "for random state  10  The testing accuracy is : -0.025104993000466536\n",
      "\n",
      "\n",
      "for random state  11  The training accuracy is : 0.9070575320772373\n",
      "for random state  11  The testing accuracy is : 0.5195484949832777\n",
      "\n",
      "\n",
      "for random state  12  The training accuracy is : 0.9438994557149926\n",
      "for random state  12  The testing accuracy is : 0.5196526054590569\n",
      "\n",
      "\n",
      "for random state  13  The training accuracy is : 0.9109764143788865\n",
      "for random state  13  The testing accuracy is : 0.3847774629104852\n",
      "\n",
      "\n",
      "for random state  14  The training accuracy is : 0.864047019311503\n",
      "for random state  14  The testing accuracy is : 0.6608135235076597\n",
      "\n",
      "\n",
      "for random state  15  The training accuracy is : 0.9186624605678233\n",
      "for random state  15  The testing accuracy is : 0.3980742459396751\n",
      "\n",
      "\n",
      "for random state  16  The training accuracy is : 0.9208995195393128\n",
      "for random state  16  The testing accuracy is : 0.444047619047619\n",
      "\n",
      "\n",
      "for random state  17  The training accuracy is : 0.9720527884206045\n",
      "for random state  17  The testing accuracy is : 0.39096806263203665\n",
      "\n",
      "\n",
      "for random state  18  The training accuracy is : 0.8974229340378106\n",
      "for random state  18  The testing accuracy is : 0.3270588235294113\n",
      "\n",
      "\n",
      "for random state  19  The training accuracy is : 0.8969635777998018\n",
      "for random state  19  The testing accuracy is : 0.5802134097786271\n",
      "\n",
      "\n",
      "for random state  20  The training accuracy is : 0.9303916261221133\n",
      "for random state  20  The testing accuracy is : 0.21701047286575714\n",
      "\n",
      "\n",
      "for random state  21  The training accuracy is : 0.8814782862139318\n",
      "for random state  21  The testing accuracy is : 0.3141337386018237\n",
      "\n",
      "\n",
      "for random state  22  The training accuracy is : 0.8760175922731976\n",
      "for random state  22  The testing accuracy is : -0.10473054822177374\n",
      "\n",
      "\n",
      "for random state  23  The training accuracy is : 0.9143186874304783\n",
      "for random state  23  The testing accuracy is : 0.4536711901044793\n",
      "\n",
      "\n",
      "for random state  24  The training accuracy is : 0.9514287596554507\n",
      "for random state  24  The testing accuracy is : -2.1250156739811903\n",
      "\n",
      "\n",
      "for random state  25  The training accuracy is : 0.8813526530612243\n",
      "for random state  25  The testing accuracy is : 0.23867197875166035\n",
      "\n",
      "\n",
      "for random state  26  The training accuracy is : 0.8808664408555869\n",
      "for random state  26  The testing accuracy is : -0.18702898550724623\n",
      "\n",
      "\n",
      "for random state  27  The training accuracy is : 0.9124752182275484\n",
      "for random state  27  The testing accuracy is : 0.2582056723905075\n",
      "\n",
      "\n",
      "for random state  28  The training accuracy is : 0.916829268292683\n",
      "for random state  28  The testing accuracy is : 0.33361539795387596\n",
      "\n",
      "\n",
      "for random state  29  The training accuracy is : 0.8497959183673469\n",
      "for random state  29  The testing accuracy is : 0.5579706999457406\n",
      "\n",
      "\n",
      "for random state  30  The training accuracy is : 0.911441878434066\n",
      "for random state  30  The testing accuracy is : 0.27767435797158113\n",
      "\n",
      "\n",
      "for random state  31  The training accuracy is : 0.9033807751259032\n",
      "for random state  31  The testing accuracy is : 0.3442372881355932\n",
      "\n",
      "\n",
      "for random state  32  The training accuracy is : 0.8981934241644168\n",
      "for random state  32  The testing accuracy is : 0.642836120401338\n",
      "\n",
      "\n",
      "for random state  33  The training accuracy is : 0.8957215748990939\n",
      "for random state  33  The testing accuracy is : 0.41722742969906235\n",
      "\n",
      "\n",
      "for random state  34  The training accuracy is : 0.9058851643171902\n",
      "for random state  34  The testing accuracy is : 0.1634409594095939\n",
      "\n",
      "\n",
      "for random state  35  The training accuracy is : 0.823982519237203\n",
      "for random state  35  The testing accuracy is : 0.5330472103004289\n",
      "\n",
      "\n",
      "for random state  36  The training accuracy is : 0.9126214986832655\n",
      "for random state  36  The testing accuracy is : 0.023559548843433697\n",
      "\n",
      "\n",
      "for random state  37  The training accuracy is : 0.9097493928764165\n",
      "for random state  37  The testing accuracy is : -0.08381909547738786\n",
      "\n",
      "\n",
      "for random state  38  The training accuracy is : 0.8996946058091286\n",
      "for random state  38  The testing accuracy is : 0.24568661971831018\n",
      "\n",
      "\n",
      "for random state  39  The training accuracy is : 0.8563317271352987\n",
      "for random state  39  The testing accuracy is : 0.5528165740272863\n",
      "\n",
      "\n",
      "for random state  40  The training accuracy is : 0.9286234207052612\n",
      "for random state  40  The testing accuracy is : 0.3910630120360069\n",
      "\n",
      "\n",
      "for random state  41  The training accuracy is : 0.9140375343996359\n",
      "for random state  41  The testing accuracy is : 0.4254261954261952\n",
      "\n",
      "\n",
      "for random state  42  The training accuracy is : 0.860816430372135\n",
      "for random state  42  The testing accuracy is : 0.7538863157894735\n",
      "\n",
      "\n",
      "for random state  43  The training accuracy is : 0.9560615725071596\n",
      "for random state  43  The testing accuracy is : -1.7643806104129274\n",
      "\n",
      "\n",
      "for random state  44  The training accuracy is : 0.8896720333929635\n",
      "for random state  44  The testing accuracy is : 0.6163850538315391\n",
      "\n",
      "\n",
      "for random state  45  The training accuracy is : 0.933651523208995\n",
      "for random state  45  The testing accuracy is : 0.7362855664769787\n",
      "\n",
      "\n",
      "for random state  46  The training accuracy is : 0.8861714819233363\n",
      "for random state  46  The testing accuracy is : 0.34761697497279653\n",
      "\n",
      "\n",
      "for random state  47  The training accuracy is : 0.9020114796800444\n",
      "for random state  47  The testing accuracy is : 0.36329782306623437\n",
      "\n",
      "\n",
      "for random state  48  The training accuracy is : 0.8976237623762375\n",
      "for random state  48  The testing accuracy is : 0.7249429223744293\n",
      "\n",
      "\n",
      "for random state  49  The training accuracy is : 0.9275108866858149\n",
      "for random state  49  The testing accuracy is : 0.5182149932228133\n",
      "\n",
      "\n",
      "for random state  50  The training accuracy is : 0.9200783387217111\n",
      "for random state  50  The testing accuracy is : 0.47680514469453406\n",
      "\n",
      "\n",
      "for random state  51  The training accuracy is : 0.8914386317907445\n",
      "for random state  51  The testing accuracy is : 0.5911146203447822\n",
      "\n",
      "\n",
      "for random state  52  The training accuracy is : 0.9040309242529534\n",
      "for random state  52  The testing accuracy is : 0.39517464044614004\n",
      "\n",
      "\n",
      "for random state  53  The training accuracy is : 0.9210791442723153\n",
      "for random state  53  The testing accuracy is : 0.6789660922734854\n",
      "\n",
      "\n",
      "for random state  54  The training accuracy is : 0.9045488464174218\n",
      "for random state  54  The testing accuracy is : 0.5094733472066594\n",
      "\n",
      "\n",
      "for random state  55  The training accuracy is : 0.9262848392036753\n",
      "for random state  55  The testing accuracy is : 0.2626348364279394\n",
      "\n",
      "\n",
      "for random state  56  The training accuracy is : 0.9496688693631544\n",
      "for random state  56  The testing accuracy is : 0.42268776465344315\n",
      "\n",
      "\n",
      "for random state  57  The training accuracy is : 0.8791824226886717\n",
      "for random state  57  The testing accuracy is : 0.36197441902359984\n",
      "\n",
      "\n",
      "for random state  58  The training accuracy is : 0.8269867201681476\n",
      "for random state  58  The testing accuracy is : 0.547378055586561\n",
      "\n",
      "\n",
      "for random state  59  The training accuracy is : 0.9563689760101903\n",
      "for random state  59  The testing accuracy is : 0.13369851557599866\n",
      "\n",
      "\n",
      "for random state  60  The training accuracy is : 0.8556570633368437\n",
      "for random state  60  The testing accuracy is : 0.5898723553068719\n",
      "\n",
      "\n",
      "for random state  61  The training accuracy is : 0.9261205785479021\n",
      "for random state  61  The testing accuracy is : 0.1536169362891956\n",
      "\n",
      "\n",
      "for random state  62  The training accuracy is : 0.8411059393036678\n",
      "for random state  62  The testing accuracy is : 0.49643478260869556\n",
      "\n",
      "\n",
      "for random state  63  The training accuracy is : 0.9101022611257092\n",
      "for random state  63  The testing accuracy is : 0.0052888888888888985\n",
      "\n",
      "\n",
      "for random state  64  The training accuracy is : 0.8830251943429803\n",
      "for random state  64  The testing accuracy is : 0.6761050328227575\n",
      "\n",
      "\n",
      "for random state  65  The training accuracy is : 0.8977862044059227\n",
      "for random state  65  The testing accuracy is : 0.39308949782429703\n",
      "\n",
      "\n",
      "for random state  66  The training accuracy is : 0.9068665210773609\n",
      "for random state  66  The testing accuracy is : 0.22329082426127544\n",
      "\n",
      "\n",
      "for random state  67  The training accuracy is : 0.8356474820143883\n",
      "for random state  67  The testing accuracy is : 0.5005061540589131\n",
      "\n",
      "\n",
      "for random state  68  The training accuracy is : 0.9288522626350249\n",
      "for random state  68  The testing accuracy is : 0.2545279117849758\n",
      "\n",
      "\n",
      "for random state  69  The training accuracy is : 0.9003185554903111\n",
      "for random state  69  The testing accuracy is : 0.5058063213167727\n",
      "\n",
      "\n",
      "for random state  70  The training accuracy is : 0.8896137037615107\n",
      "for random state  70  The testing accuracy is : 0.3688213381016243\n",
      "\n",
      "\n"
     ]
    },
    {
     "name": "stdout",
     "output_type": "stream",
     "text": [
      "for random state  71  The training accuracy is : 0.8602861635220125\n",
      "for random state  71  The testing accuracy is : 0.14505922611213473\n",
      "\n",
      "\n",
      "for random state  72  The training accuracy is : 0.8861251808341902\n",
      "for random state  72  The testing accuracy is : 0.28415770609318936\n",
      "\n",
      "\n",
      "for random state  73  The training accuracy is : 0.9120212992545261\n",
      "for random state  73  The testing accuracy is : 0.7488238954573743\n",
      "\n",
      "\n",
      "for random state  74  The training accuracy is : 0.933508525125204\n",
      "for random state  74  The testing accuracy is : 0.5812832263978001\n",
      "\n",
      "\n",
      "for random state  75  The training accuracy is : 0.8780742188248367\n",
      "for random state  75  The testing accuracy is : 0.5776149425287358\n",
      "\n",
      "\n",
      "for random state  76  The training accuracy is : 0.8071689655969131\n",
      "for random state  76  The testing accuracy is : 0.6775935374149658\n",
      "\n",
      "\n",
      "for random state  77  The training accuracy is : 0.9274498059228026\n",
      "for random state  77  The testing accuracy is : 0.4947853535353537\n",
      "\n",
      "\n",
      "for random state  78  The training accuracy is : 0.889433508812085\n",
      "for random state  78  The testing accuracy is : 0.3986042665784685\n",
      "\n",
      "\n",
      "for random state  79  The training accuracy is : 0.9220936686903729\n",
      "for random state  79  The testing accuracy is : 0.4374247922275546\n",
      "\n",
      "\n",
      "for random state  80  The training accuracy is : 0.9199389587073609\n",
      "for random state  80  The testing accuracy is : 0.8048885761201032\n",
      "\n",
      "\n",
      "for random state  81  The training accuracy is : 0.9027737497676149\n",
      "for random state  81  The testing accuracy is : -0.013675496688741351\n",
      "\n",
      "\n",
      "for random state  82  The training accuracy is : 0.8497177250230685\n",
      "for random state  82  The testing accuracy is : 0.5487067764407856\n",
      "\n",
      "\n",
      "for random state  83  The training accuracy is : 0.9246186211688412\n",
      "for random state  83  The testing accuracy is : 0.29741349067134426\n",
      "\n",
      "\n",
      "for random state  84  The training accuracy is : 0.8937869140313227\n",
      "for random state  84  The testing accuracy is : 0.3365744680851066\n",
      "\n",
      "\n",
      "for random state  85  The training accuracy is : 0.8318661567877628\n",
      "for random state  85  The testing accuracy is : 0.2836071733561061\n",
      "\n",
      "\n",
      "for random state  86  The training accuracy is : 0.9296994595384166\n",
      "for random state  86  The testing accuracy is : 0.6386243587307621\n",
      "\n",
      "\n",
      "for random state  87  The training accuracy is : 0.9349360320167956\n",
      "for random state  87  The testing accuracy is : 0.5862900666455098\n",
      "\n",
      "\n",
      "for random state  88  The training accuracy is : 0.9295998374224062\n",
      "for random state  88  The testing accuracy is : -0.3601482167670227\n",
      "\n",
      "\n",
      "for random state  89  The training accuracy is : 0.899454291825537\n",
      "for random state  89  The testing accuracy is : 0.6801515151515151\n",
      "\n",
      "\n",
      "for random state  90  The training accuracy is : 0.9134760369819916\n",
      "for random state  90  The testing accuracy is : 0.54514742014742\n",
      "\n",
      "\n",
      "for random state  91  The training accuracy is : 0.873910730674858\n",
      "for random state  91  The testing accuracy is : 0.2979646643109537\n",
      "\n",
      "\n",
      "for random state  92  The training accuracy is : 0.9532493960910621\n",
      "for random state  92  The testing accuracy is : 0.32030234933605717\n",
      "\n",
      "\n",
      "for random state  93  The training accuracy is : 0.8708020231213873\n",
      "for random state  93  The testing accuracy is : 0.6568506392266913\n",
      "\n",
      "\n",
      "for random state  94  The training accuracy is : 0.9079973920801592\n",
      "for random state  94  The testing accuracy is : 0.4857803468208096\n",
      "\n",
      "\n",
      "for random state  95  The training accuracy is : 0.9128332186281257\n",
      "for random state  95  The testing accuracy is : 0.11091282051282059\n",
      "\n",
      "\n",
      "for random state  96  The training accuracy is : 0.8849236010737146\n",
      "for random state  96  The testing accuracy is : 0.25539040451552175\n",
      "\n",
      "\n",
      "for random state  97  The training accuracy is : 0.8637524666508802\n",
      "for random state  97  The testing accuracy is : 0.8287424085320694\n",
      "\n",
      "\n",
      "for random state  98  The training accuracy is : 0.9533505416384562\n",
      "for random state  98  The testing accuracy is : 0.6005607238435069\n",
      "\n",
      "\n",
      "for random state  99  The training accuracy is : 0.8962370595498148\n",
      "for random state  99  The testing accuracy is : 0.43021298487498716\n",
      "\n",
      "\n",
      "for random state  100  The training accuracy is : 0.9194636440844058\n",
      "for random state  100  The testing accuracy is : 0.3598033017211095\n",
      "\n",
      "\n"
     ]
    }
   ],
   "source": [
    "for i in range(0,101):\n",
    "    \n",
    "    X_train, X_test, y_train, y_test = train_test_split(X, y, test_size=0.24, random_state=i)\n",
    "    mod_6 = BaggingRegressor() \n",
    "    mod_6.fit(X_train,y_train)\n",
    "    train_score_6 = mod_6.score(X_train,y_train)\n",
    "    pred_6 = mod_6.predict(X_test)\n",
    "    test_score_6 = r2_score(y_test,pred_6)\n",
    "    \n",
    "    print(\"for random state \",i,\" The training accuracy is :\",train_score_6)\n",
    "    print(\"for random state \",i,\" The testing accuracy is :\",test_score_6)\n",
    "    print(\"\\n\")"
   ]
  },
  {
   "cell_type": "code",
   "execution_count": 185,
   "metadata": {},
   "outputs": [
    {
     "name": "stdout",
     "output_type": "stream",
     "text": [
      "The training accuracy is : 0.8920663949905576\n",
      "The testing accuracy is : 0.6542484401588202\n",
      "\n",
      "\n"
     ]
    }
   ],
   "source": [
    "# The best random state is 1\n",
    "X_train, X_test, y_train, y_test = train_test_split(X, y, test_size=0.24, random_state=1)\n",
    "mod_6 = BaggingRegressor() \n",
    "mod_6.fit(X_train,y_train)\n",
    "train_score_6 = mod_6.score(X_train,y_train)\n",
    "pred_6 = mod_6.predict(X_test)\n",
    "test_score_6 = r2_score(y_test,pred_6)\n",
    "    \n",
    "print(\"The training accuracy is :\",train_score_6)\n",
    "print(\"The testing accuracy is :\",test_score_6)\n",
    "print(\"\\n\")"
   ]
  },
  {
   "cell_type": "code",
   "execution_count": 186,
   "metadata": {},
   "outputs": [
    {
     "name": "stdout",
     "output_type": "stream",
     "text": [
      "38.09749999999999\n"
     ]
    }
   ],
   "source": [
    "MSE_6 = mean_squared_error(y_test,pred_6)\n",
    "print(MSE_6)"
   ]
  },
  {
   "cell_type": "code",
   "execution_count": 187,
   "metadata": {},
   "outputs": [],
   "source": [
    "kfold = KFold(n_splits=10,random_state=24)\n",
    "\n",
    "K_results = cross_val_score(mod_6,X,y,cv=kfold)\n",
    "\n",
    "kfold_accuracy_BR = np.mean(abs(K_results))"
   ]
  },
  {
   "cell_type": "code",
   "execution_count": 188,
   "metadata": {},
   "outputs": [
    {
     "data": {
      "text/plain": [
       "12.82379666588561"
      ]
     },
     "execution_count": 188,
     "metadata": {},
     "output_type": "execute_result"
    }
   ],
   "source": [
    "kfold_accuracy_BR"
   ]
  },
  {
   "cell_type": "code",
   "execution_count": 189,
   "metadata": {},
   "outputs": [],
   "source": [
    "score = {\"Algorithm\":[\"Linear Regression\",\"Random Forest Regression\",\n",
    "                     \"Gredient Boosting\",\"ADA Boost\",\n",
    "                     \"K Neighbor Regressor\",\"Bagging Regressor\"],\n",
    "         \"Training_Acc\":[train_score_1,train_score_2,train_score_3,\n",
    "                        train_score_4,train_score_5,train_score_6],\n",
    "        \"R2 Score\":[test_score_1,test_score_2,test_score_3,\n",
    "                   test_score_4,test_score_5,test_score_6],\n",
    "         \"MSE\":[MSE_1,MSE_2,MSE_3,MSE_4,MSE_5,MSE_6],\n",
    "        \"Cross_validation\":[kfold_accuracy_LR,kfold_accuracy_RFR,\n",
    "                           kfold_accuracy_GB,\n",
    "                           kfold_accuracy_ADA,kfold_accuracy_KNR,\n",
    "                           kfold_accuracy_BR]}\n",
    "\n",
    "final_card = pd.DataFrame(score)"
   ]
  },
  {
   "cell_type": "code",
   "execution_count": 190,
   "metadata": {},
   "outputs": [
    {
     "data": {
      "text/html": [
       "<div>\n",
       "<style scoped>\n",
       "    .dataframe tbody tr th:only-of-type {\n",
       "        vertical-align: middle;\n",
       "    }\n",
       "\n",
       "    .dataframe tbody tr th {\n",
       "        vertical-align: top;\n",
       "    }\n",
       "\n",
       "    .dataframe thead th {\n",
       "        text-align: right;\n",
       "    }\n",
       "</style>\n",
       "<table border=\"1\" class=\"dataframe\">\n",
       "  <thead>\n",
       "    <tr style=\"text-align: right;\">\n",
       "      <th></th>\n",
       "      <th>Algorithm</th>\n",
       "      <th>Training_Acc</th>\n",
       "      <th>R2 Score</th>\n",
       "      <th>MSE</th>\n",
       "      <th>Cross_validation</th>\n",
       "    </tr>\n",
       "  </thead>\n",
       "  <tbody>\n",
       "    <tr>\n",
       "      <th>0</th>\n",
       "      <td>Linear Regression</td>\n",
       "      <td>0.951876</td>\n",
       "      <td>0.884168</td>\n",
       "      <td>11.785857</td>\n",
       "      <td>7.808825</td>\n",
       "    </tr>\n",
       "    <tr>\n",
       "      <th>1</th>\n",
       "      <td>Random Forest Regression</td>\n",
       "      <td>0.912232</td>\n",
       "      <td>0.686323</td>\n",
       "      <td>30.774625</td>\n",
       "      <td>12.473679</td>\n",
       "    </tr>\n",
       "    <tr>\n",
       "      <th>2</th>\n",
       "      <td>Gredient Boosting</td>\n",
       "      <td>1.000000</td>\n",
       "      <td>0.627004</td>\n",
       "      <td>50.230061</td>\n",
       "      <td>8.881449</td>\n",
       "    </tr>\n",
       "    <tr>\n",
       "      <th>3</th>\n",
       "      <td>ADA Boost</td>\n",
       "      <td>0.991720</td>\n",
       "      <td>0.629169</td>\n",
       "      <td>43.149606</td>\n",
       "      <td>12.906119</td>\n",
       "    </tr>\n",
       "    <tr>\n",
       "      <th>4</th>\n",
       "      <td>K Neighbor Regressor</td>\n",
       "      <td>0.511573</td>\n",
       "      <td>0.534189</td>\n",
       "      <td>40.380000</td>\n",
       "      <td>14.168298</td>\n",
       "    </tr>\n",
       "    <tr>\n",
       "      <th>5</th>\n",
       "      <td>Bagging Regressor</td>\n",
       "      <td>0.892066</td>\n",
       "      <td>0.654248</td>\n",
       "      <td>38.097500</td>\n",
       "      <td>12.823797</td>\n",
       "    </tr>\n",
       "  </tbody>\n",
       "</table>\n",
       "</div>"
      ],
      "text/plain": [
       "                  Algorithm  Training_Acc  R2 Score        MSE  \\\n",
       "0         Linear Regression      0.951876  0.884168  11.785857   \n",
       "1  Random Forest Regression      0.912232  0.686323  30.774625   \n",
       "2         Gredient Boosting      1.000000  0.627004  50.230061   \n",
       "3                 ADA Boost      0.991720  0.629169  43.149606   \n",
       "4      K Neighbor Regressor      0.511573  0.534189  40.380000   \n",
       "5         Bagging Regressor      0.892066  0.654248  38.097500   \n",
       "\n",
       "   Cross_validation  \n",
       "0          7.808825  \n",
       "1         12.473679  \n",
       "2          8.881449  \n",
       "3         12.906119  \n",
       "4         14.168298  \n",
       "5         12.823797  "
      ]
     },
     "execution_count": 190,
     "metadata": {},
     "output_type": "execute_result"
    }
   ],
   "source": [
    "final_card"
   ]
  },
  {
   "cell_type": "markdown",
   "metadata": {},
   "source": [
    "### XG BOOST Regression"
   ]
  },
  {
   "cell_type": "code",
   "execution_count": 191,
   "metadata": {},
   "outputs": [],
   "source": [
    "import xgboost as xgb"
   ]
  },
  {
   "cell_type": "code",
   "execution_count": 192,
   "metadata": {},
   "outputs": [],
   "source": [
    "from xgboost.sklearn import XGBRegressor"
   ]
  },
  {
   "cell_type": "code",
   "execution_count": 193,
   "metadata": {},
   "outputs": [
    {
     "name": "stdout",
     "output_type": "stream",
     "text": [
      "for random state  0  The training accuracy is : 0.9999999978192522\n",
      "for random state  0  The testing accuracy is : 0.21722156127218561\n",
      "\n",
      "\n",
      "for random state  1  The training accuracy is : 0.9999999971741641\n",
      "for random state  1  The testing accuracy is : 0.620042448231588\n",
      "\n",
      "\n",
      "for random state  2  The training accuracy is : 0.9999999972739672\n",
      "for random state  2  The testing accuracy is : 0.12010648059543938\n",
      "\n",
      "\n",
      "for random state  3  The training accuracy is : 0.999999997588663\n",
      "for random state  3  The testing accuracy is : 0.3069883371194678\n",
      "\n",
      "\n",
      "for random state  4  The training accuracy is : 0.9999999975503508\n",
      "for random state  4  The testing accuracy is : 0.5113648980895733\n",
      "\n",
      "\n",
      "for random state  5  The training accuracy is : 0.999999997993754\n",
      "for random state  5  The testing accuracy is : 0.6004266925374342\n",
      "\n",
      "\n",
      "for random state  6  The training accuracy is : 0.9999999967189872\n",
      "for random state  6  The testing accuracy is : 0.17358358430574972\n",
      "\n",
      "\n",
      "for random state  7  The training accuracy is : 0.9999999978704357\n",
      "for random state  7  The testing accuracy is : 0.35341153512009127\n",
      "\n",
      "\n",
      "for random state  8  The training accuracy is : 0.9999999975465605\n",
      "for random state  8  The testing accuracy is : 0.311647576076687\n",
      "\n",
      "\n",
      "for random state  9  The training accuracy is : 0.9999999972627648\n",
      "for random state  9  The testing accuracy is : -0.09668043368405743\n",
      "\n",
      "\n",
      "for random state  10  The training accuracy is : 0.9999999983665413\n",
      "for random state  10  The testing accuracy is : -0.5569419053965954\n",
      "\n",
      "\n",
      "for random state  11  The training accuracy is : 0.9999999971902341\n",
      "for random state  11  The testing accuracy is : -0.10869002377343384\n",
      "\n",
      "\n",
      "for random state  12  The training accuracy is : 0.9999999984250971\n",
      "for random state  12  The testing accuracy is : 0.3838027006595959\n",
      "\n",
      "\n",
      "for random state  13  The training accuracy is : 0.9999999978916895\n",
      "for random state  13  The testing accuracy is : 0.4345097140186118\n",
      "\n",
      "\n",
      "for random state  14  The training accuracy is : 0.9999999974558462\n",
      "for random state  14  The testing accuracy is : 0.29354777154900547\n",
      "\n",
      "\n",
      "for random state  15  The training accuracy is : 0.9999999978117852\n",
      "for random state  15  The testing accuracy is : 0.07114424735391156\n",
      "\n",
      "\n",
      "for random state  16  The training accuracy is : 0.999999997555674\n",
      "for random state  16  The testing accuracy is : 0.04487113779855911\n",
      "\n",
      "\n",
      "for random state  17  The training accuracy is : 0.9999999971326426\n",
      "for random state  17  The testing accuracy is : 0.23067114442900305\n",
      "\n",
      "\n",
      "for random state  18  The training accuracy is : 0.9999999977425077\n",
      "for random state  18  The testing accuracy is : -0.8446761727895655\n",
      "\n",
      "\n",
      "for random state  19  The training accuracy is : 0.9999999980511467\n",
      "for random state  19  The testing accuracy is : 0.659741066394234\n",
      "\n",
      "\n",
      "for random state  20  The training accuracy is : 0.999999998004843\n",
      "for random state  20  The testing accuracy is : -0.03987873523720431\n",
      "\n",
      "\n",
      "for random state  21  The training accuracy is : 0.999999997435255\n",
      "for random state  21  The testing accuracy is : 0.20447328969552092\n",
      "\n",
      "\n",
      "for random state  22  The training accuracy is : 0.9999999973529745\n",
      "for random state  22  The testing accuracy is : 0.3947312173206955\n",
      "\n",
      "\n",
      "for random state  23  The training accuracy is : 0.9999999975443009\n",
      "for random state  23  The testing accuracy is : 0.24706203432583007\n",
      "\n",
      "\n",
      "for random state  24  The training accuracy is : 0.9999999978386122\n",
      "for random state  24  The testing accuracy is : -3.450660884691998\n",
      "\n",
      "\n",
      "for random state  25  The training accuracy is : 0.9999999971590194\n",
      "for random state  25  The testing accuracy is : 0.3119824304184632\n",
      "\n",
      "\n",
      "for random state  26  The training accuracy is : 0.9999999974659902\n",
      "for random state  26  The testing accuracy is : 0.7352497032493441\n",
      "\n",
      "\n",
      "for random state  27  The training accuracy is : 0.9999999982071934\n",
      "for random state  27  The testing accuracy is : 0.2590301390035614\n",
      "\n",
      "\n",
      "for random state  28  The training accuracy is : 0.9999999974077993\n",
      "for random state  28  The testing accuracy is : 0.1500599738957339\n",
      "\n",
      "\n",
      "for random state  29  The training accuracy is : 0.9999999977211681\n",
      "for random state  29  The testing accuracy is : 0.6947829998106525\n",
      "\n",
      "\n",
      "for random state  30  The training accuracy is : 0.9999999971197377\n",
      "for random state  30  The testing accuracy is : 0.42114297436335857\n",
      "\n",
      "\n",
      "for random state  31  The training accuracy is : 0.9999999978600177\n",
      "for random state  31  The testing accuracy is : 0.2077620696315231\n",
      "\n",
      "\n",
      "for random state  32  The training accuracy is : 0.999999997149066\n",
      "for random state  32  The testing accuracy is : 0.28882523513777514\n",
      "\n",
      "\n",
      "for random state  33  The training accuracy is : 0.9999999961228612\n",
      "for random state  33  The testing accuracy is : 0.2740388913535534\n",
      "\n",
      "\n",
      "for random state  34  The training accuracy is : 0.9999999971235567\n",
      "for random state  34  The testing accuracy is : 0.6453178851975634\n",
      "\n",
      "\n",
      "for random state  35  The training accuracy is : 0.999999997415835\n",
      "for random state  35  The testing accuracy is : 0.25027269163666277\n",
      "\n",
      "\n",
      "for random state  36  The training accuracy is : 0.9999999978469413\n",
      "for random state  36  The testing accuracy is : 0.16371368131547082\n",
      "\n",
      "\n",
      "for random state  37  The training accuracy is : 0.9999999978934846\n",
      "for random state  37  The testing accuracy is : -0.1932074281559366\n",
      "\n",
      "\n",
      "for random state  38  The training accuracy is : 0.9999999975711352\n",
      "for random state  38  The testing accuracy is : -0.3159835213807807\n",
      "\n",
      "\n",
      "for random state  39  The training accuracy is : 0.9999999972567413\n",
      "for random state  39  The testing accuracy is : 0.4996946889141922\n",
      "\n",
      "\n",
      "for random state  40  The training accuracy is : 0.9999999973870051\n",
      "for random state  40  The testing accuracy is : 0.43531754321577043\n",
      "\n",
      "\n",
      "for random state  41  The training accuracy is : 0.9999999978731205\n",
      "for random state  41  The testing accuracy is : 0.5285312840405255\n",
      "\n",
      "\n",
      "for random state  42  The training accuracy is : 0.999999998005385\n",
      "for random state  42  The testing accuracy is : 0.596579500945334\n",
      "\n",
      "\n",
      "for random state  43  The training accuracy is : 0.999999998211859\n",
      "for random state  43  The testing accuracy is : -0.96378991311892\n",
      "\n",
      "\n",
      "for random state  44  The training accuracy is : 0.9999999974695981\n",
      "for random state  44  The testing accuracy is : 0.6476680794143324\n",
      "\n",
      "\n",
      "for random state  45  The training accuracy is : 0.9999999978157711\n",
      "for random state  45  The testing accuracy is : 0.517288108647546\n",
      "\n",
      "\n",
      "for random state  46  The training accuracy is : 0.9999999976484717\n",
      "for random state  46  The testing accuracy is : 0.33663539401322307\n",
      "\n",
      "\n",
      "for random state  47  The training accuracy is : 0.9999999979663694\n",
      "for random state  47  The testing accuracy is : 0.5305993117119439\n",
      "\n",
      "\n",
      "for random state  48  The training accuracy is : 0.9999999980945318\n",
      "for random state  48  The testing accuracy is : 0.49597081766493323\n",
      "\n",
      "\n",
      "for random state  49  The training accuracy is : 0.9999999974910384\n",
      "for random state  49  The testing accuracy is : 0.47700188036179947\n",
      "\n",
      "\n",
      "for random state  50  The training accuracy is : 0.999999996854709\n",
      "for random state  50  The testing accuracy is : 0.5551670003471555\n",
      "\n",
      "\n",
      "for random state  51  The training accuracy is : 0.9999999971575098\n",
      "for random state  51  The testing accuracy is : 0.29439765925980355\n",
      "\n",
      "\n",
      "for random state  52  The training accuracy is : 0.9999999982080717\n",
      "for random state  52  The testing accuracy is : 0.12050211553494383\n",
      "\n",
      "\n",
      "for random state  53  The training accuracy is : 0.9999999981608072\n",
      "for random state  53  The testing accuracy is : 0.660355160576912\n",
      "\n",
      "\n",
      "for random state  54  The training accuracy is : 0.9999999976263946\n",
      "for random state  54  The testing accuracy is : 0.572592599944848\n",
      "\n",
      "\n",
      "for random state  55  The training accuracy is : 0.9999999970600968\n",
      "for random state  55  The testing accuracy is : -0.054095984383562\n",
      "\n",
      "\n",
      "for random state  56  The training accuracy is : 0.999999997369283\n",
      "for random state  56  The testing accuracy is : -0.04260375471409983\n",
      "\n",
      "\n",
      "for random state  57  The training accuracy is : 0.9999999965676669\n",
      "for random state  57  The testing accuracy is : 0.29352597645998146\n",
      "\n",
      "\n",
      "for random state  58  The training accuracy is : 0.9999999973561894\n",
      "for random state  58  The testing accuracy is : 0.42314781340750574\n",
      "\n",
      "\n",
      "for random state  59  The training accuracy is : 0.9999999971743339\n",
      "for random state  59  The testing accuracy is : 0.06578767046687906\n",
      "\n",
      "\n",
      "for random state  60  The training accuracy is : 0.9999999974772251\n",
      "for random state  60  The testing accuracy is : 0.6878534085052956\n",
      "\n",
      "\n",
      "for random state  61  The training accuracy is : 0.9999999970289773\n",
      "for random state  61  The testing accuracy is : 0.31728381574725306\n",
      "\n",
      "\n"
     ]
    },
    {
     "name": "stdout",
     "output_type": "stream",
     "text": [
      "for random state  62  The training accuracy is : 0.9999999983882839\n",
      "for random state  62  The testing accuracy is : 0.8754586881367963\n",
      "\n",
      "\n",
      "for random state  63  The training accuracy is : 0.9999999984855978\n",
      "for random state  63  The testing accuracy is : 0.1826260282976242\n",
      "\n",
      "\n",
      "for random state  64  The training accuracy is : 0.9999999976703176\n",
      "for random state  64  The testing accuracy is : 0.3813081758262734\n",
      "\n",
      "\n",
      "for random state  65  The training accuracy is : 0.9999999970108217\n",
      "for random state  65  The testing accuracy is : -0.19955573884643663\n",
      "\n",
      "\n",
      "for random state  66  The training accuracy is : 0.999999998519965\n",
      "for random state  66  The testing accuracy is : -0.7110596507301041\n",
      "\n",
      "\n",
      "for random state  67  The training accuracy is : 0.999999997518547\n",
      "for random state  67  The testing accuracy is : 0.11927826546854847\n",
      "\n",
      "\n",
      "for random state  68  The training accuracy is : 0.9999999977960531\n",
      "for random state  68  The testing accuracy is : 0.2523866157516963\n",
      "\n",
      "\n",
      "for random state  69  The training accuracy is : 0.9999999975510913\n",
      "for random state  69  The testing accuracy is : 0.595702482863994\n",
      "\n",
      "\n",
      "for random state  70  The training accuracy is : 0.9999999979457088\n",
      "for random state  70  The testing accuracy is : 0.3202690368286756\n",
      "\n",
      "\n",
      "for random state  71  The training accuracy is : 0.9999999981616324\n",
      "for random state  71  The testing accuracy is : 0.04297477034516051\n",
      "\n",
      "\n",
      "for random state  72  The training accuracy is : 0.9999999979847891\n",
      "for random state  72  The testing accuracy is : 0.6808954167495211\n",
      "\n",
      "\n",
      "for random state  73  The training accuracy is : 0.9999999973452347\n",
      "for random state  73  The testing accuracy is : -0.14852520633599298\n",
      "\n",
      "\n",
      "for random state  74  The training accuracy is : 0.9999999974403941\n",
      "for random state  74  The testing accuracy is : -0.11461035322780377\n",
      "\n",
      "\n",
      "for random state  75  The training accuracy is : 0.9999999974697504\n",
      "for random state  75  The testing accuracy is : 0.4006176270646894\n",
      "\n",
      "\n",
      "for random state  76  The training accuracy is : 0.9999999967414012\n",
      "for random state  76  The testing accuracy is : 0.32867136079847514\n",
      "\n",
      "\n",
      "for random state  77  The training accuracy is : 0.9999999977117908\n",
      "for random state  77  The testing accuracy is : 0.43906624111130244\n",
      "\n",
      "\n",
      "for random state  78  The training accuracy is : 0.9999999971474144\n",
      "for random state  78  The testing accuracy is : 0.4344294845315698\n",
      "\n",
      "\n",
      "for random state  79  The training accuracy is : 0.9999999965253888\n",
      "for random state  79  The testing accuracy is : 0.2287658169827126\n",
      "\n",
      "\n",
      "for random state  80  The training accuracy is : 0.9999999970256325\n",
      "for random state  80  The testing accuracy is : 0.5660658206468393\n",
      "\n",
      "\n",
      "for random state  81  The training accuracy is : 0.9999999981368517\n",
      "for random state  81  The testing accuracy is : -0.7288998085296163\n",
      "\n",
      "\n",
      "for random state  82  The training accuracy is : 0.9999999979527124\n",
      "for random state  82  The testing accuracy is : 0.569691323604614\n",
      "\n",
      "\n",
      "for random state  83  The training accuracy is : 0.999999998038391\n",
      "for random state  83  The testing accuracy is : 0.48148606775573266\n",
      "\n",
      "\n",
      "for random state  84  The training accuracy is : 0.9999999977116659\n",
      "for random state  84  The testing accuracy is : 0.4667889139805722\n",
      "\n",
      "\n",
      "for random state  85  The training accuracy is : 0.9999999975305105\n",
      "for random state  85  The testing accuracy is : 0.14096893271459954\n",
      "\n",
      "\n",
      "for random state  86  The training accuracy is : 0.9999999983132623\n",
      "for random state  86  The testing accuracy is : 0.35960382934769075\n",
      "\n",
      "\n",
      "for random state  87  The training accuracy is : 0.9999999979946483\n",
      "for random state  87  The testing accuracy is : 0.37840728737045615\n",
      "\n",
      "\n",
      "for random state  88  The training accuracy is : 0.999999997557887\n",
      "for random state  88  The testing accuracy is : -0.5203292609376624\n",
      "\n",
      "\n",
      "for random state  89  The training accuracy is : 0.9999999977290124\n",
      "for random state  89  The testing accuracy is : 0.74020937955366\n",
      "\n",
      "\n",
      "for random state  90  The training accuracy is : 0.9999999977831475\n",
      "for random state  90  The testing accuracy is : 0.6395629660608402\n",
      "\n",
      "\n",
      "for random state  91  The training accuracy is : 0.9999999977346776\n",
      "for random state  91  The testing accuracy is : 0.36258485471861035\n",
      "\n",
      "\n",
      "for random state  92  The training accuracy is : 0.9999999977637388\n",
      "for random state  92  The testing accuracy is : 0.09827330159318304\n",
      "\n",
      "\n",
      "for random state  93  The training accuracy is : 0.9999999984685791\n",
      "for random state  93  The testing accuracy is : 0.4484195977675641\n",
      "\n",
      "\n",
      "for random state  94  The training accuracy is : 0.9999999977816354\n",
      "for random state  94  The testing accuracy is : -0.26851802812433045\n",
      "\n",
      "\n",
      "for random state  95  The training accuracy is : 0.9999999972960011\n",
      "for random state  95  The testing accuracy is : -0.20911687652090905\n",
      "\n",
      "\n",
      "for random state  96  The training accuracy is : 0.9999999973013994\n",
      "for random state  96  The testing accuracy is : 0.15802665609473876\n",
      "\n",
      "\n",
      "for random state  97  The training accuracy is : 0.9999999973890563\n",
      "for random state  97  The testing accuracy is : 0.6524413978235242\n",
      "\n",
      "\n",
      "for random state  98  The training accuracy is : 0.9999999973365833\n",
      "for random state  98  The testing accuracy is : 0.15566530649090538\n",
      "\n",
      "\n",
      "for random state  99  The training accuracy is : 0.9999999975082489\n",
      "for random state  99  The testing accuracy is : 0.36816033346888755\n",
      "\n",
      "\n",
      "for random state  100  The training accuracy is : 0.9999999983767432\n",
      "for random state  100  The testing accuracy is : -0.03833510799262796\n",
      "\n",
      "\n"
     ]
    }
   ],
   "source": [
    "for i in range(0,101):\n",
    "    \n",
    "    X_train, X_test, y_train, y_test = train_test_split(X, y, test_size=0.24, random_state=i)\n",
    "    mod_7 = XGBRegressor() \n",
    "    mod_7.fit(X_train,y_train)\n",
    "    train_score_7 = mod_7.score(X_train,y_train)\n",
    "    pred_7 = mod_7.predict(X_test)\n",
    "    test_score_7 = r2_score(y_test,pred_7)\n",
    "    \n",
    "    print(\"for random state \",i,\" The training accuracy is :\",train_score_7)\n",
    "    print(\"for random state \",i,\" The testing accuracy is :\",test_score_7)\n",
    "    print(\"\\n\")"
   ]
  },
  {
   "cell_type": "code",
   "execution_count": 194,
   "metadata": {},
   "outputs": [
    {
     "name": "stdout",
     "output_type": "stream",
     "text": [
      "The training accuracy is : 0.9999999971741641\n",
      "The testing accuracy is : 0.620042448231588\n",
      "\n",
      "\n"
     ]
    }
   ],
   "source": [
    "# Taking the best random state as 1\n",
    "X_train, X_test, y_train, y_test = train_test_split(X, y, test_size=0.24, random_state=1)\n",
    "mod_7 = XGBRegressor() \n",
    "mod_7.fit(X_train,y_train)\n",
    "train_score_7 = mod_7.score(X_train,y_train)\n",
    "pred_7 = mod_7.predict(X_test)\n",
    "test_score_7 = r2_score(y_test,pred_7)\n",
    "    \n",
    "print(\"The training accuracy is :\",train_score_7)\n",
    "print(\"The testing accuracy is :\",test_score_7)\n",
    "print(\"\\n\")"
   ]
  },
  {
   "cell_type": "code",
   "execution_count": 195,
   "metadata": {},
   "outputs": [
    {
     "name": "stdout",
     "output_type": "stream",
     "text": [
      "41.866572735481896\n"
     ]
    }
   ],
   "source": [
    "MSE_7 = mean_squared_error(y_test,pred_7)\n",
    "print(MSE_7)"
   ]
  },
  {
   "cell_type": "code",
   "execution_count": 196,
   "metadata": {},
   "outputs": [],
   "source": [
    "kfold = KFold(n_splits=10)\n",
    "\n",
    "K_results = cross_val_score(mod_7,X,y,cv=kfold)\n",
    "\n",
    "kfold_accuracy_XGB = np.mean(abs(K_results))"
   ]
  },
  {
   "cell_type": "code",
   "execution_count": 197,
   "metadata": {},
   "outputs": [
    {
     "data": {
      "text/plain": [
       "12.237968773174455"
      ]
     },
     "execution_count": 197,
     "metadata": {},
     "output_type": "execute_result"
    }
   ],
   "source": [
    "kfold_accuracy_XGB"
   ]
  },
  {
   "cell_type": "code",
   "execution_count": 198,
   "metadata": {},
   "outputs": [],
   "source": [
    "score = {\"Algorithm\":[\"Linear Regression\",\"Random Forest Regression\",\n",
    "                     \"Gredient Boosting\",\"ADA Boost\",\n",
    "                     \"K Neighbor Regressor\",\"Bagging Regressor\",\n",
    "                     \"XG Boost\"],\n",
    "         \"Training_Acc\":[train_score_1,train_score_2,train_score_3,\n",
    "                        train_score_4,train_score_5,train_score_6,\n",
    "                        train_score_7],\n",
    "        \"R2 Score\":[test_score_1,test_score_2,test_score_3,\n",
    "                   test_score_4,test_score_5,test_score_6,\n",
    "                   test_score_7],\n",
    "         \"MSE\":[MSE_1,MSE_2,MSE_3,MSE_4,MSE_5,MSE_6,MSE_7],\n",
    "        \"Cross_validation\":[kfold_accuracy_LR,kfold_accuracy_RFR,\n",
    "                           kfold_accuracy_GB,\n",
    "                           kfold_accuracy_ADA,kfold_accuracy_KNR,\n",
    "                           kfold_accuracy_BR,kfold_accuracy_XGB]}\n",
    "\n",
    "final_card = pd.DataFrame(score)"
   ]
  },
  {
   "cell_type": "code",
   "execution_count": 199,
   "metadata": {},
   "outputs": [
    {
     "data": {
      "text/html": [
       "<div>\n",
       "<style scoped>\n",
       "    .dataframe tbody tr th:only-of-type {\n",
       "        vertical-align: middle;\n",
       "    }\n",
       "\n",
       "    .dataframe tbody tr th {\n",
       "        vertical-align: top;\n",
       "    }\n",
       "\n",
       "    .dataframe thead th {\n",
       "        text-align: right;\n",
       "    }\n",
       "</style>\n",
       "<table border=\"1\" class=\"dataframe\">\n",
       "  <thead>\n",
       "    <tr style=\"text-align: right;\">\n",
       "      <th></th>\n",
       "      <th>Algorithm</th>\n",
       "      <th>Training_Acc</th>\n",
       "      <th>R2 Score</th>\n",
       "      <th>MSE</th>\n",
       "      <th>Cross_validation</th>\n",
       "    </tr>\n",
       "  </thead>\n",
       "  <tbody>\n",
       "    <tr>\n",
       "      <th>0</th>\n",
       "      <td>Linear Regression</td>\n",
       "      <td>0.951876</td>\n",
       "      <td>0.884168</td>\n",
       "      <td>11.785857</td>\n",
       "      <td>7.808825</td>\n",
       "    </tr>\n",
       "    <tr>\n",
       "      <th>1</th>\n",
       "      <td>Random Forest Regression</td>\n",
       "      <td>0.912232</td>\n",
       "      <td>0.686323</td>\n",
       "      <td>30.774625</td>\n",
       "      <td>12.473679</td>\n",
       "    </tr>\n",
       "    <tr>\n",
       "      <th>2</th>\n",
       "      <td>Gredient Boosting</td>\n",
       "      <td>1.000000</td>\n",
       "      <td>0.627004</td>\n",
       "      <td>50.230061</td>\n",
       "      <td>8.881449</td>\n",
       "    </tr>\n",
       "    <tr>\n",
       "      <th>3</th>\n",
       "      <td>ADA Boost</td>\n",
       "      <td>0.991720</td>\n",
       "      <td>0.629169</td>\n",
       "      <td>43.149606</td>\n",
       "      <td>12.906119</td>\n",
       "    </tr>\n",
       "    <tr>\n",
       "      <th>4</th>\n",
       "      <td>K Neighbor Regressor</td>\n",
       "      <td>0.511573</td>\n",
       "      <td>0.534189</td>\n",
       "      <td>40.380000</td>\n",
       "      <td>14.168298</td>\n",
       "    </tr>\n",
       "    <tr>\n",
       "      <th>5</th>\n",
       "      <td>Bagging Regressor</td>\n",
       "      <td>0.892066</td>\n",
       "      <td>0.654248</td>\n",
       "      <td>38.097500</td>\n",
       "      <td>12.823797</td>\n",
       "    </tr>\n",
       "    <tr>\n",
       "      <th>6</th>\n",
       "      <td>XG Boost</td>\n",
       "      <td>1.000000</td>\n",
       "      <td>0.620042</td>\n",
       "      <td>41.866573</td>\n",
       "      <td>12.237969</td>\n",
       "    </tr>\n",
       "  </tbody>\n",
       "</table>\n",
       "</div>"
      ],
      "text/plain": [
       "                  Algorithm  Training_Acc  R2 Score        MSE  \\\n",
       "0         Linear Regression      0.951876  0.884168  11.785857   \n",
       "1  Random Forest Regression      0.912232  0.686323  30.774625   \n",
       "2         Gredient Boosting      1.000000  0.627004  50.230061   \n",
       "3                 ADA Boost      0.991720  0.629169  43.149606   \n",
       "4      K Neighbor Regressor      0.511573  0.534189  40.380000   \n",
       "5         Bagging Regressor      0.892066  0.654248  38.097500   \n",
       "6                  XG Boost      1.000000  0.620042  41.866573   \n",
       "\n",
       "   Cross_validation  \n",
       "0          7.808825  \n",
       "1         12.473679  \n",
       "2          8.881449  \n",
       "3         12.906119  \n",
       "4         14.168298  \n",
       "5         12.823797  \n",
       "6         12.237969  "
      ]
     },
     "execution_count": 199,
     "metadata": {},
     "output_type": "execute_result"
    }
   ],
   "source": [
    "final_card"
   ]
  },
  {
   "cell_type": "markdown",
   "metadata": {},
   "source": [
    "#### Regularization"
   ]
  },
  {
   "cell_type": "markdown",
   "metadata": {},
   "source": [
    "####  Ridge"
   ]
  },
  {
   "cell_type": "code",
   "execution_count": 200,
   "metadata": {},
   "outputs": [],
   "source": [
    "from sklearn.linear_model import Lasso"
   ]
  },
  {
   "cell_type": "code",
   "execution_count": 201,
   "metadata": {},
   "outputs": [
    {
     "name": "stdout",
     "output_type": "stream",
     "text": [
      "for random state  0  The training accuracy is : 0.8667716167750353\n",
      "for random state  0  The testing accuracy is : 0.684342638053776\n",
      "\n",
      "\n",
      "for random state  1  The training accuracy is : 0.9461677352734086\n",
      "for random state  1  The testing accuracy is : 0.28657383795641245\n",
      "\n",
      "\n",
      "for random state  2  The training accuracy is : 0.908030058707336\n",
      "for random state  2  The testing accuracy is : 0.11400585892925708\n",
      "\n",
      "\n",
      "for random state  3  The training accuracy is : 0.8696334279178798\n",
      "for random state  3  The testing accuracy is : 0.5944141189559605\n",
      "\n",
      "\n",
      "for random state  4  The training accuracy is : 0.8186447414318547\n",
      "for random state  4  The testing accuracy is : 0.785410945093816\n",
      "\n",
      "\n",
      "for random state  5  The training accuracy is : 0.861991486994631\n",
      "for random state  5  The testing accuracy is : 0.7012354742244142\n",
      "\n",
      "\n",
      "for random state  6  The training accuracy is : 0.8527617247267877\n",
      "for random state  6  The testing accuracy is : 0.7313321538098837\n",
      "\n",
      "\n",
      "for random state  7  The training accuracy is : 0.8508644544952738\n",
      "for random state  7  The testing accuracy is : 0.7324423267531357\n",
      "\n",
      "\n",
      "for random state  8  The training accuracy is : 0.8192111755824382\n",
      "for random state  8  The testing accuracy is : 0.7953644427950476\n",
      "\n",
      "\n",
      "for random state  9  The training accuracy is : 0.8465712986265094\n",
      "for random state  9  The testing accuracy is : 0.49811660585857287\n",
      "\n",
      "\n",
      "for random state  10  The training accuracy is : 0.8595617337594212\n",
      "for random state  10  The testing accuracy is : 0.7225647773817938\n",
      "\n",
      "\n",
      "for random state  11  The training accuracy is : 0.9197187171896944\n",
      "for random state  11  The testing accuracy is : 0.4484734961213168\n",
      "\n",
      "\n",
      "for random state  12  The training accuracy is : 0.8689035962267788\n",
      "for random state  12  The testing accuracy is : 0.6647594032151061\n",
      "\n",
      "\n",
      "for random state  13  The training accuracy is : 0.892352137457632\n",
      "for random state  13  The testing accuracy is : 0.5355507675138205\n",
      "\n",
      "\n",
      "for random state  14  The training accuracy is : 0.8409233390149468\n",
      "for random state  14  The testing accuracy is : 0.7749475637540402\n",
      "\n",
      "\n",
      "for random state  15  The training accuracy is : 0.9139123263085451\n",
      "for random state  15  The testing accuracy is : 0.17357066670157795\n",
      "\n",
      "\n",
      "for random state  16  The training accuracy is : 0.9185921542629438\n",
      "for random state  16  The testing accuracy is : 0.2600209631336493\n",
      "\n",
      "\n",
      "for random state  17  The training accuracy is : 0.8581423528909086\n",
      "for random state  17  The testing accuracy is : 0.5369172936789095\n",
      "\n",
      "\n",
      "for random state  18  The training accuracy is : 0.8654643020688806\n",
      "for random state  18  The testing accuracy is : 0.15971883606054338\n",
      "\n",
      "\n",
      "for random state  19  The training accuracy is : 0.8190430863493641\n",
      "for random state  19  The testing accuracy is : 0.8836670802079056\n",
      "\n",
      "\n",
      "for random state  20  The training accuracy is : 0.8986772543030295\n",
      "for random state  20  The testing accuracy is : 0.024137823467616837\n",
      "\n",
      "\n",
      "for random state  21  The training accuracy is : 0.8494222777945095\n",
      "for random state  21  The testing accuracy is : 0.46261677124796874\n",
      "\n",
      "\n",
      "for random state  22  The training accuracy is : 0.8527974248275453\n",
      "for random state  22  The testing accuracy is : 0.5196639306111095\n",
      "\n",
      "\n",
      "for random state  23  The training accuracy is : 0.8464077983405698\n",
      "for random state  23  The testing accuracy is : 0.7693118896515311\n",
      "\n",
      "\n",
      "for random state  24  The training accuracy is : 0.9480709187198848\n",
      "for random state  24  The testing accuracy is : -2.7194844304770314\n",
      "\n",
      "\n",
      "for random state  25  The training accuracy is : 0.9446588697156054\n",
      "for random state  25  The testing accuracy is : -0.05753830325534981\n",
      "\n",
      "\n",
      "for random state  26  The training accuracy is : 0.8687370698350815\n",
      "for random state  26  The testing accuracy is : 0.06345677835613972\n",
      "\n",
      "\n",
      "for random state  27  The training accuracy is : 0.8265373068464146\n",
      "for random state  27  The testing accuracy is : 0.8883444207850754\n",
      "\n",
      "\n",
      "for random state  28  The training accuracy is : 0.9000864808656903\n",
      "for random state  28  The testing accuracy is : 0.507494933693627\n",
      "\n",
      "\n",
      "for random state  29  The training accuracy is : 0.8620226301745474\n",
      "for random state  29  The testing accuracy is : 0.7725724052390044\n",
      "\n",
      "\n",
      "for random state  30  The training accuracy is : 0.8917093240616991\n",
      "for random state  30  The testing accuracy is : 0.663800143523949\n",
      "\n",
      "\n",
      "for random state  31  The training accuracy is : 0.9159349862997694\n",
      "for random state  31  The testing accuracy is : 0.16054167743770886\n",
      "\n",
      "\n",
      "for random state  32  The training accuracy is : 0.8248792677029398\n",
      "for random state  32  The testing accuracy is : 0.6446076941470137\n",
      "\n",
      "\n",
      "for random state  33  The training accuracy is : 0.9157623454214788\n",
      "for random state  33  The testing accuracy is : 0.5157006350306163\n",
      "\n",
      "\n",
      "for random state  34  The training accuracy is : 0.9059156408529966\n",
      "for random state  34  The testing accuracy is : 0.6640867005844591\n",
      "\n",
      "\n",
      "for random state  35  The training accuracy is : 0.9212010026525587\n",
      "for random state  35  The testing accuracy is : 0.2939808723079892\n",
      "\n",
      "\n",
      "for random state  36  The training accuracy is : 0.8902841216254492\n",
      "for random state  36  The testing accuracy is : 0.3096510077472586\n",
      "\n",
      "\n",
      "for random state  37  The training accuracy is : 0.8554118276816096\n",
      "for random state  37  The testing accuracy is : 0.39855479377192693\n",
      "\n",
      "\n",
      "for random state  38  The training accuracy is : 0.8630862223451427\n",
      "for random state  38  The testing accuracy is : 0.18963121434952046\n",
      "\n",
      "\n",
      "for random state  39  The training accuracy is : 0.8411570954472061\n",
      "for random state  39  The testing accuracy is : 0.7743306635127547\n",
      "\n",
      "\n",
      "for random state  40  The training accuracy is : 0.8891850643919197\n",
      "for random state  40  The testing accuracy is : 0.6490658862649347\n",
      "\n",
      "\n",
      "for random state  41  The training accuracy is : 0.9234644956606018\n",
      "for random state  41  The testing accuracy is : 0.4040549967104513\n",
      "\n",
      "\n",
      "for random state  42  The training accuracy is : 0.8785335525073221\n",
      "for random state  42  The testing accuracy is : 0.718029143416954\n",
      "\n",
      "\n",
      "for random state  43  The training accuracy is : 0.9376533301861243\n",
      "for random state  43  The testing accuracy is : -1.1122109076713484\n",
      "\n",
      "\n",
      "for random state  44  The training accuracy is : 0.8425579841852815\n",
      "for random state  44  The testing accuracy is : 0.6348502706643788\n",
      "\n",
      "\n",
      "for random state  45  The training accuracy is : 0.8397840656004376\n",
      "for random state  45  The testing accuracy is : 0.8226874334420357\n",
      "\n",
      "\n",
      "for random state  46  The training accuracy is : 0.8810359703854813\n",
      "for random state  46  The testing accuracy is : 0.4511941335999413\n",
      "\n",
      "\n",
      "for random state  47  The training accuracy is : 0.8829257664123326\n",
      "for random state  47  The testing accuracy is : 0.3631710227126227\n",
      "\n",
      "\n",
      "for random state  48  The training accuracy is : 0.8203980894190652\n",
      "for random state  48  The testing accuracy is : 0.9232985708088637\n",
      "\n",
      "\n",
      "for random state  49  The training accuracy is : 0.9037476828898728\n",
      "for random state  49  The testing accuracy is : 0.4241539513128645\n",
      "\n",
      "\n",
      "for random state  50  The training accuracy is : 0.9162026960680094\n",
      "for random state  50  The testing accuracy is : 0.5880165477159232\n",
      "\n",
      "\n",
      "for random state  51  The training accuracy is : 0.9016287814456692\n",
      "for random state  51  The testing accuracy is : 0.29530900031143337\n",
      "\n",
      "\n",
      "for random state  52  The training accuracy is : 0.9172468266777865\n",
      "for random state  52  The testing accuracy is : -0.13017297041129727\n",
      "\n",
      "\n",
      "for random state  53  The training accuracy is : 0.8868776603168846\n",
      "for random state  53  The testing accuracy is : 0.5510950919772907\n",
      "\n",
      "\n",
      "for random state  54  The training accuracy is : 0.8758478214563264\n",
      "for random state  54  The testing accuracy is : 0.7044909892471403\n",
      "\n",
      "\n",
      "for random state  55  The training accuracy is : 0.8946480201053985\n",
      "for random state  55  The testing accuracy is : 0.29343506089161486\n",
      "\n",
      "\n",
      "for random state  56  The training accuracy is : 0.9387008829321143\n",
      "for random state  56  The testing accuracy is : 0.25576761498274014\n",
      "\n",
      "\n",
      "for random state  57  The training accuracy is : 0.9248752300080869\n",
      "for random state  57  The testing accuracy is : 0.3302568588913979\n",
      "\n",
      "\n",
      "for random state  58  The training accuracy is : 0.8570513509431242\n",
      "for random state  58  The testing accuracy is : 0.5954293636741113\n",
      "\n",
      "\n",
      "for random state  59  The training accuracy is : 0.9480792080506013\n",
      "for random state  59  The testing accuracy is : 0.174506258651558\n",
      "\n",
      "\n",
      "for random state  60  The training accuracy is : 0.9053525265203234\n",
      "for random state  60  The testing accuracy is : 0.36675260849983937\n",
      "\n",
      "\n",
      "for random state  61  The training accuracy is : 0.9055053722516375\n",
      "for random state  61  The testing accuracy is : 0.21426183575539015\n",
      "\n",
      "\n",
      "for random state  62  The training accuracy is : 0.8631150023737901\n",
      "for random state  62  The testing accuracy is : 0.1276971357086485\n",
      "\n",
      "\n",
      "for random state  63  The training accuracy is : 0.8522147644115773\n",
      "for random state  63  The testing accuracy is : 0.7985076430175776\n",
      "\n",
      "\n",
      "for random state  64  The training accuracy is : 0.8400661595828455\n",
      "for random state  64  The testing accuracy is : 0.8101741225231831\n",
      "\n",
      "\n",
      "for random state  65  The training accuracy is : 0.8892214900793454\n",
      "for random state  65  The testing accuracy is : 0.5954257474054157\n",
      "\n",
      "\n",
      "for random state  66  The training accuracy is : 0.9235380811974307\n",
      "for random state  66  The testing accuracy is : -0.12038583164084726\n",
      "\n",
      "\n",
      "for random state  67  The training accuracy is : 0.8621589732852226\n",
      "for random state  67  The testing accuracy is : 0.5138548080448078\n",
      "\n",
      "\n",
      "for random state  68  The training accuracy is : 0.916091570134439\n",
      "for random state  68  The testing accuracy is : 0.19494771305607372\n",
      "\n",
      "\n",
      "for random state  69  The training accuracy is : 0.8705988454401503\n",
      "for random state  69  The testing accuracy is : 0.6373045896325843\n",
      "\n",
      "\n"
     ]
    },
    {
     "name": "stdout",
     "output_type": "stream",
     "text": [
      "for random state  70  The training accuracy is : 0.8765423738745262\n",
      "for random state  70  The testing accuracy is : 0.6897689506086334\n",
      "\n",
      "\n",
      "for random state  71  The training accuracy is : 0.8642666656216424\n",
      "for random state  71  The testing accuracy is : 0.39091453456049463\n",
      "\n",
      "\n",
      "for random state  72  The training accuracy is : 0.8760337509042583\n",
      "for random state  72  The testing accuracy is : 0.5338508080437647\n",
      "\n",
      "\n",
      "for random state  73  The training accuracy is : 0.839058290091517\n",
      "for random state  73  The testing accuracy is : 0.6372162754285479\n",
      "\n",
      "\n",
      "for random state  74  The training accuracy is : 0.8588157518420594\n",
      "for random state  74  The testing accuracy is : 0.6641580678395589\n",
      "\n",
      "\n",
      "for random state  75  The training accuracy is : 0.836018493812788\n",
      "for random state  75  The testing accuracy is : 0.7914856470837774\n",
      "\n",
      "\n",
      "for random state  76  The training accuracy is : 0.9397726279874885\n",
      "for random state  76  The testing accuracy is : 0.37828317271345\n",
      "\n",
      "\n",
      "for random state  77  The training accuracy is : 0.9060132301926686\n",
      "for random state  77  The testing accuracy is : 0.46640125560653944\n",
      "\n",
      "\n",
      "for random state  78  The training accuracy is : 0.9080646477094265\n",
      "for random state  78  The testing accuracy is : 0.38105073496652664\n",
      "\n",
      "\n",
      "for random state  79  The training accuracy is : 0.8848939330423111\n",
      "for random state  79  The testing accuracy is : 0.5271610562056303\n",
      "\n",
      "\n",
      "for random state  80  The training accuracy is : 0.8936226868802922\n",
      "for random state  80  The testing accuracy is : 0.377644882540231\n",
      "\n",
      "\n",
      "for random state  81  The training accuracy is : 0.8633307119825802\n",
      "for random state  81  The testing accuracy is : -0.31574159794767787\n",
      "\n",
      "\n",
      "for random state  82  The training accuracy is : 0.8985280583810253\n",
      "for random state  82  The testing accuracy is : 0.5368350267170324\n",
      "\n",
      "\n",
      "for random state  83  The training accuracy is : 0.8931402241976166\n",
      "for random state  83  The testing accuracy is : 0.4888929917421545\n",
      "\n",
      "\n",
      "for random state  84  The training accuracy is : 0.8637186074254237\n",
      "for random state  84  The testing accuracy is : 0.2889188102239668\n",
      "\n",
      "\n",
      "for random state  85  The training accuracy is : 0.921103587597368\n",
      "for random state  85  The testing accuracy is : 0.4757607352589599\n",
      "\n",
      "\n",
      "for random state  86  The training accuracy is : 0.8339374621430024\n",
      "for random state  86  The testing accuracy is : 0.7755918366865419\n",
      "\n",
      "\n",
      "for random state  87  The training accuracy is : 0.8654209600608799\n",
      "for random state  87  The testing accuracy is : 0.5553890957370349\n",
      "\n",
      "\n",
      "for random state  88  The training accuracy is : 0.9263670607955486\n",
      "for random state  88  The testing accuracy is : -0.4864546805955303\n",
      "\n",
      "\n",
      "for random state  89  The training accuracy is : 0.8324871672355797\n",
      "for random state  89  The testing accuracy is : 0.8088840838783133\n",
      "\n",
      "\n",
      "for random state  90  The training accuracy is : 0.8552715520420923\n",
      "for random state  90  The testing accuracy is : 0.7324699905028589\n",
      "\n",
      "\n",
      "for random state  91  The training accuracy is : 0.8742179683698161\n",
      "for random state  91  The testing accuracy is : 0.1293877463351193\n",
      "\n",
      "\n",
      "for random state  92  The training accuracy is : 0.9002316672872344\n",
      "for random state  92  The testing accuracy is : 0.3206679769433274\n",
      "\n",
      "\n",
      "for random state  93  The training accuracy is : 0.8757679281806766\n",
      "for random state  93  The testing accuracy is : 0.18525104701174222\n",
      "\n",
      "\n",
      "for random state  94  The training accuracy is : 0.875693166597292\n",
      "for random state  94  The testing accuracy is : 0.41205224850439004\n",
      "\n",
      "\n",
      "for random state  95  The training accuracy is : 0.8685663523209242\n",
      "for random state  95  The testing accuracy is : -0.012578746810331332\n",
      "\n",
      "\n",
      "for random state  96  The training accuracy is : 0.856664017638489\n",
      "for random state  96  The testing accuracy is : 0.6453571038665231\n",
      "\n",
      "\n",
      "for random state  97  The training accuracy is : 0.8328860858751957\n",
      "for random state  97  The testing accuracy is : 0.8252478076426188\n",
      "\n",
      "\n",
      "for random state  98  The training accuracy is : 0.9165174843446441\n",
      "for random state  98  The testing accuracy is : 0.5287203870871107\n",
      "\n",
      "\n",
      "for random state  99  The training accuracy is : 0.8391886902978987\n",
      "for random state  99  The testing accuracy is : 0.7945900439576948\n",
      "\n",
      "\n",
      "for random state  100  The training accuracy is : 0.8579879341211752\n",
      "for random state  100  The testing accuracy is : 0.5798284205109405\n",
      "\n",
      "\n"
     ]
    }
   ],
   "source": [
    "for i in range(0,101):\n",
    "    \n",
    "    X_train, X_test, y_train, y_test = train_test_split(X, y, test_size=0.24, random_state=i)\n",
    "    mod_8 = Lasso() \n",
    "    mod_8.fit(X_train,y_train)\n",
    "    train_score_8 = mod_8.score(X_train,y_train)\n",
    "    pred_8 = mod_8.predict(X_test)\n",
    "    test_score_8 = r2_score(y_test,pred_8)\n",
    "    \n",
    "    print(\"for random state \",i,\" The training accuracy is :\",train_score_8)\n",
    "    print(\"for random state \",i,\" The testing accuracy is :\",test_score_8)\n",
    "    print(\"\\n\")"
   ]
  },
  {
   "cell_type": "code",
   "execution_count": 202,
   "metadata": {},
   "outputs": [
    {
     "name": "stdout",
     "output_type": "stream",
     "text": [
      "The training accuracy is : 0.8186447414318547\n",
      "The testing accuracy is : 0.785410945093816\n",
      "\n",
      "\n"
     ]
    }
   ],
   "source": [
    "# Taking the best random state as 4\n",
    "X_train, X_test, y_train, y_test = train_test_split(X, y, test_size=0.24, random_state=4)\n",
    "mod_8 = Lasso() \n",
    "mod_8.fit(X_train,y_train)\n",
    "train_score_8 = mod_8.score(X_train,y_train)\n",
    "pred_8 = mod_8.predict(X_test)\n",
    "test_score_8 = r2_score(y_test,pred_8)\n",
    "    \n",
    "print(\"The training accuracy is :\",train_score_8)\n",
    "print(\"The testing accuracy is :\",test_score_8)\n",
    "print(\"\\n\")"
   ]
  },
  {
   "cell_type": "code",
   "execution_count": 203,
   "metadata": {},
   "outputs": [
    {
     "name": "stdout",
     "output_type": "stream",
     "text": [
      "22.679380740397317\n"
     ]
    }
   ],
   "source": [
    "MSE_8 = mean_squared_error(y_test,pred_8)\n",
    "print(MSE_8)"
   ]
  },
  {
   "cell_type": "code",
   "execution_count": 204,
   "metadata": {},
   "outputs": [],
   "source": [
    "kfold = KFold(n_splits=10)\n",
    "\n",
    "K_results = cross_val_score(mod_8,X,y,cv=kfold)\n",
    "\n",
    "kfold_accuracy_lasso = np.mean(abs(K_results))"
   ]
  },
  {
   "cell_type": "code",
   "execution_count": 205,
   "metadata": {},
   "outputs": [
    {
     "data": {
      "text/plain": [
       "10.504179750619835"
      ]
     },
     "execution_count": 205,
     "metadata": {},
     "output_type": "execute_result"
    }
   ],
   "source": [
    "kfold_accuracy_lasso"
   ]
  },
  {
   "cell_type": "markdown",
   "metadata": {},
   "source": [
    "## Ridge"
   ]
  },
  {
   "cell_type": "code",
   "execution_count": 206,
   "metadata": {},
   "outputs": [],
   "source": [
    "from sklearn.linear_model import Ridge"
   ]
  },
  {
   "cell_type": "code",
   "execution_count": 207,
   "metadata": {},
   "outputs": [
    {
     "name": "stdout",
     "output_type": "stream",
     "text": [
      "for random state  0  The training accuracy is : 0.8963212963748736\n",
      "for random state  0  The testing accuracy is : 0.3994211115171553\n",
      "\n",
      "\n",
      "for random state  1  The training accuracy is : 0.9545682365972386\n",
      "for random state  1  The testing accuracy is : 0.2938322446996704\n",
      "\n",
      "\n",
      "for random state  2  The training accuracy is : 0.9307904268536834\n",
      "for random state  2  The testing accuracy is : 0.21675712369726308\n",
      "\n",
      "\n",
      "for random state  3  The training accuracy is : 0.9118860573451646\n",
      "for random state  3  The testing accuracy is : 0.5882171402194895\n",
      "\n",
      "\n",
      "for random state  4  The training accuracy is : 0.8280972006006501\n",
      "for random state  4  The testing accuracy is : 0.842040399004559\n",
      "\n",
      "\n",
      "for random state  5  The training accuracy is : 0.8788854183557774\n",
      "for random state  5  The testing accuracy is : 0.7125177472427493\n",
      "\n",
      "\n",
      "for random state  6  The training accuracy is : 0.8595609480378377\n",
      "for random state  6  The testing accuracy is : 0.683479030445703\n",
      "\n",
      "\n",
      "for random state  7  The training accuracy is : 0.8582374381218786\n",
      "for random state  7  The testing accuracy is : 0.7527227046159333\n",
      "\n",
      "\n",
      "for random state  8  The training accuracy is : 0.8374393115377126\n",
      "for random state  8  The testing accuracy is : 0.8119675122566961\n",
      "\n",
      "\n",
      "for random state  9  The training accuracy is : 0.8598677933672512\n",
      "for random state  9  The testing accuracy is : 0.49381199464399583\n",
      "\n",
      "\n",
      "for random state  10  The training accuracy is : 0.8755551296697175\n",
      "for random state  10  The testing accuracy is : 0.5852987641487455\n",
      "\n",
      "\n",
      "for random state  11  The training accuracy is : 0.9427654337834216\n",
      "for random state  11  The testing accuracy is : 0.0581611540273812\n",
      "\n",
      "\n",
      "for random state  12  The training accuracy is : 0.910858943021921\n",
      "for random state  12  The testing accuracy is : 0.47347647676335713\n",
      "\n",
      "\n",
      "for random state  13  The training accuracy is : 0.9219866920001969\n",
      "for random state  13  The testing accuracy is : 0.3617409367844786\n",
      "\n",
      "\n",
      "for random state  14  The training accuracy is : 0.8470851351715973\n",
      "for random state  14  The testing accuracy is : 0.7706425004315014\n",
      "\n",
      "\n",
      "for random state  15  The training accuracy is : 0.9287776664196896\n",
      "for random state  15  The testing accuracy is : 0.06315733844971139\n",
      "\n",
      "\n",
      "for random state  16  The training accuracy is : 0.9455049418570963\n",
      "for random state  16  The testing accuracy is : -0.12433548251597504\n",
      "\n",
      "\n",
      "for random state  17  The training accuracy is : 0.8629216400547747\n",
      "for random state  17  The testing accuracy is : 0.5921748346517203\n",
      "\n",
      "\n",
      "for random state  18  The training accuracy is : 0.8734090828034589\n",
      "for random state  18  The testing accuracy is : 0.4686423073176279\n",
      "\n",
      "\n",
      "for random state  19  The training accuracy is : 0.8431715206011039\n",
      "for random state  19  The testing accuracy is : 0.7797167136610909\n",
      "\n",
      "\n",
      "for random state  20  The training accuracy is : 0.9074123371479673\n",
      "for random state  20  The testing accuracy is : 0.049836040732842535\n",
      "\n",
      "\n",
      "for random state  21  The training accuracy is : 0.8763639744956458\n",
      "for random state  21  The testing accuracy is : 0.3914289529009112\n",
      "\n",
      "\n",
      "for random state  22  The training accuracy is : 0.865463611631851\n",
      "for random state  22  The testing accuracy is : 0.3935715404296549\n",
      "\n",
      "\n",
      "for random state  23  The training accuracy is : 0.8640698231769424\n",
      "for random state  23  The testing accuracy is : 0.7842779163477533\n",
      "\n",
      "\n",
      "for random state  24  The training accuracy is : 0.9609795206429195\n",
      "for random state  24  The testing accuracy is : -3.5902449719344913\n",
      "\n",
      "\n",
      "for random state  25  The training accuracy is : 0.9562085347822409\n",
      "for random state  25  The testing accuracy is : -0.2800395235486006\n",
      "\n",
      "\n",
      "for random state  26  The training accuracy is : 0.8793845963817762\n",
      "for random state  26  The testing accuracy is : -0.4062547068203961\n",
      "\n",
      "\n",
      "for random state  27  The training accuracy is : 0.8425946177865546\n",
      "for random state  27  The testing accuracy is : 0.9011968963144293\n",
      "\n",
      "\n",
      "for random state  28  The training accuracy is : 0.9049312362998716\n",
      "for random state  28  The testing accuracy is : 0.4682161000238114\n",
      "\n",
      "\n",
      "for random state  29  The training accuracy is : 0.8731070783992492\n",
      "for random state  29  The testing accuracy is : 0.7114460852579413\n",
      "\n",
      "\n",
      "for random state  30  The training accuracy is : 0.9141272548077435\n",
      "for random state  30  The testing accuracy is : 0.47596227427359716\n",
      "\n",
      "\n",
      "for random state  31  The training accuracy is : 0.9684992246075322\n",
      "for random state  31  The testing accuracy is : -0.24163758510154199\n",
      "\n",
      "\n",
      "for random state  32  The training accuracy is : 0.836327159208278\n",
      "for random state  32  The testing accuracy is : 0.7935892998055366\n",
      "\n",
      "\n",
      "for random state  33  The training accuracy is : 0.9273680048950591\n",
      "for random state  33  The testing accuracy is : 0.46191990121625104\n",
      "\n",
      "\n",
      "for random state  34  The training accuracy is : 0.9160914464599124\n",
      "for random state  34  The testing accuracy is : 0.5702120233108812\n",
      "\n",
      "\n",
      "for random state  35  The training accuracy is : 0.9439619831241464\n",
      "for random state  35  The testing accuracy is : 0.07872546701833583\n",
      "\n",
      "\n",
      "for random state  36  The training accuracy is : 0.9021054924848153\n",
      "for random state  36  The testing accuracy is : 0.2666132282024155\n",
      "\n",
      "\n",
      "for random state  37  The training accuracy is : 0.8743937926486663\n",
      "for random state  37  The testing accuracy is : 0.4191539202728074\n",
      "\n",
      "\n",
      "for random state  38  The training accuracy is : 0.8759562108815526\n",
      "for random state  38  The testing accuracy is : 0.3050258275941512\n",
      "\n",
      "\n",
      "for random state  39  The training accuracy is : 0.8577585679637079\n",
      "for random state  39  The testing accuracy is : 0.7188605450014399\n",
      "\n",
      "\n",
      "for random state  40  The training accuracy is : 0.9248944573114996\n",
      "for random state  40  The testing accuracy is : 0.547576923749587\n",
      "\n",
      "\n",
      "for random state  41  The training accuracy is : 0.9356833941665379\n",
      "for random state  41  The testing accuracy is : 0.34984889641893424\n",
      "\n",
      "\n",
      "for random state  42  The training accuracy is : 0.8892131587583123\n",
      "for random state  42  The testing accuracy is : 0.7204139291676783\n",
      "\n",
      "\n",
      "for random state  43  The training accuracy is : 0.9507366724141195\n",
      "for random state  43  The testing accuracy is : -1.5558673783686117\n",
      "\n",
      "\n",
      "for random state  44  The training accuracy is : 0.8634113335432725\n",
      "for random state  44  The testing accuracy is : 0.6311764635042014\n",
      "\n",
      "\n",
      "for random state  45  The training accuracy is : 0.8733221041596987\n",
      "for random state  45  The testing accuracy is : 0.6451050349872047\n",
      "\n",
      "\n",
      "for random state  46  The training accuracy is : 0.8919818344273516\n",
      "for random state  46  The testing accuracy is : 0.5385000174839845\n",
      "\n",
      "\n",
      "for random state  47  The training accuracy is : 0.8939403666218402\n",
      "for random state  47  The testing accuracy is : 0.34398487011028556\n",
      "\n",
      "\n",
      "for random state  48  The training accuracy is : 0.8377127101945399\n",
      "for random state  48  The testing accuracy is : 0.9166344483947446\n",
      "\n",
      "\n",
      "for random state  49  The training accuracy is : 0.930248515072352\n",
      "for random state  49  The testing accuracy is : 0.2336439162554399\n",
      "\n",
      "\n",
      "for random state  50  The training accuracy is : 0.919879800863453\n",
      "for random state  50  The testing accuracy is : 0.5741592306185117\n",
      "\n",
      "\n",
      "for random state  51  The training accuracy is : 0.9138889552596784\n",
      "for random state  51  The testing accuracy is : 0.2786606433370743\n",
      "\n",
      "\n",
      "for random state  52  The training accuracy is : 0.926191765360501\n",
      "for random state  52  The testing accuracy is : -0.2931811865656493\n",
      "\n",
      "\n",
      "for random state  53  The training accuracy is : 0.9026062967373266\n",
      "for random state  53  The testing accuracy is : 0.5191897384867028\n",
      "\n",
      "\n",
      "for random state  54  The training accuracy is : 0.8894364707455251\n",
      "for random state  54  The testing accuracy is : 0.7046189008101051\n",
      "\n",
      "\n",
      "for random state  55  The training accuracy is : 0.906312319884999\n",
      "for random state  55  The testing accuracy is : 0.2126051710649446\n",
      "\n",
      "\n",
      "for random state  56  The training accuracy is : 0.9465071911703762\n",
      "for random state  56  The testing accuracy is : 0.15554643651159494\n",
      "\n",
      "\n",
      "for random state  57  The training accuracy is : 0.9458984050548972\n",
      "for random state  57  The testing accuracy is : 0.11855116183456316\n",
      "\n",
      "\n",
      "for random state  58  The training accuracy is : 0.8790111640579429\n",
      "for random state  58  The testing accuracy is : 0.6359352632278532\n",
      "\n",
      "\n",
      "for random state  59  The training accuracy is : 0.9547361694428081\n",
      "for random state  59  The testing accuracy is : 0.08906183189301731\n",
      "\n",
      "\n",
      "for random state  60  The training accuracy is : 0.9307475001013967\n",
      "for random state  60  The testing accuracy is : -0.0357144778538232\n",
      "\n",
      "\n",
      "for random state  61  The training accuracy is : 0.9293481614958549\n",
      "for random state  61  The testing accuracy is : -0.05209683478232674\n",
      "\n",
      "\n",
      "for random state  62  The training accuracy is : 0.9177388016910412\n",
      "for random state  62  The testing accuracy is : -1.469822881567831\n",
      "\n",
      "\n",
      "for random state  63  The training accuracy is : 0.8718040033322202\n",
      "for random state  63  The testing accuracy is : 0.761235203123254\n",
      "\n",
      "\n",
      "for random state  64  The training accuracy is : 0.8510920267624917\n",
      "for random state  64  The testing accuracy is : 0.8309025896964146\n",
      "\n",
      "\n",
      "for random state  65  The training accuracy is : 0.9024384174648229\n",
      "for random state  65  The testing accuracy is : 0.5651299182485611\n",
      "\n",
      "\n",
      "for random state  66  The training accuracy is : 0.9342802925613083\n",
      "for random state  66  The testing accuracy is : -0.1510520906575048\n",
      "\n",
      "\n",
      "for random state  67  The training accuracy is : 0.8818789344358279\n",
      "for random state  67  The testing accuracy is : 0.21577164298453821\n",
      "\n",
      "\n",
      "for random state  68  The training accuracy is : 0.9444145884654918\n",
      "for random state  68  The testing accuracy is : -0.8334918426146596\n",
      "\n",
      "\n",
      "for random state  69  The training accuracy is : 0.911528124389163\n",
      "for random state  69  The testing accuracy is : 0.5313884044368978\n",
      "\n",
      "\n",
      "for random state  70  The training accuracy is : 0.8967675012461741\n",
      "for random state  70  The testing accuracy is : 0.6289367830262145\n",
      "\n",
      "\n",
      "for random state  71  The training accuracy is : 0.8758637401306526\n",
      "for random state  71  The testing accuracy is : 0.06901154598820858\n",
      "\n",
      "\n",
      "for random state  72  The training accuracy is : 0.8814827309162839\n",
      "for random state  72  The testing accuracy is : 0.5512487012374927\n",
      "\n",
      "\n",
      "for random state  73  The training accuracy is : 0.8496479397209825\n",
      "for random state  73  The testing accuracy is : 0.7812910654169436\n",
      "\n",
      "\n",
      "for random state  74  The training accuracy is : 0.8666708454574207\n",
      "for random state  74  The testing accuracy is : 0.689880007430437\n",
      "\n",
      "\n",
      "for random state  75  The training accuracy is : 0.8505936592745769\n",
      "for random state  75  The testing accuracy is : 0.8316572522728881\n",
      "\n",
      "\n",
      "for random state  76  The training accuracy is : 0.95553031849097\n",
      "for random state  76  The testing accuracy is : 0.3507439453764917\n",
      "\n",
      "\n",
      "for random state  77  The training accuracy is : 0.9164023284275447\n",
      "for random state  77  The testing accuracy is : 0.44578373504360846\n",
      "\n",
      "\n",
      "for random state  78  The training accuracy is : 0.9147107160525767\n",
      "for random state  78  The testing accuracy is : 0.3117998769009902\n",
      "\n",
      "\n"
     ]
    },
    {
     "name": "stdout",
     "output_type": "stream",
     "text": [
      "for random state  79  The training accuracy is : 0.9175041088595901\n",
      "for random state  79  The testing accuracy is : 0.5306853617079568\n",
      "\n",
      "\n",
      "for random state  80  The training accuracy is : 0.9221621699375431\n",
      "for random state  80  The testing accuracy is : 0.10777449642205217\n",
      "\n",
      "\n",
      "for random state  81  The training accuracy is : 0.8894780369821604\n",
      "for random state  81  The testing accuracy is : -2.2598608213365425\n",
      "\n",
      "\n",
      "for random state  82  The training accuracy is : 0.9113342340380156\n",
      "for random state  82  The testing accuracy is : 0.46299884213012643\n",
      "\n",
      "\n",
      "for random state  83  The training accuracy is : 0.9168349533490027\n",
      "for random state  83  The testing accuracy is : 0.3610328144942988\n",
      "\n",
      "\n",
      "for random state  84  The training accuracy is : 0.8884757290797146\n",
      "for random state  84  The testing accuracy is : -0.02559344108864625\n",
      "\n",
      "\n",
      "for random state  85  The training accuracy is : 0.9353822368515545\n",
      "for random state  85  The testing accuracy is : 0.5038238008812591\n",
      "\n",
      "\n",
      "for random state  86  The training accuracy is : 0.8570378897012741\n",
      "for random state  86  The testing accuracy is : 0.7042144410583955\n",
      "\n",
      "\n",
      "for random state  87  The training accuracy is : 0.8794125354296125\n",
      "for random state  87  The testing accuracy is : 0.5822245130214676\n",
      "\n",
      "\n",
      "for random state  88  The training accuracy is : 0.9465235137253998\n",
      "for random state  88  The testing accuracy is : -2.7308766343377977\n",
      "\n",
      "\n",
      "for random state  89  The training accuracy is : 0.8479483654697716\n",
      "for random state  89  The testing accuracy is : 0.831096945305148\n",
      "\n",
      "\n",
      "for random state  90  The training accuracy is : 0.86565890168582\n",
      "for random state  90  The testing accuracy is : 0.7577853810485179\n",
      "\n",
      "\n",
      "for random state  91  The training accuracy is : 0.8932908192216579\n",
      "for random state  91  The testing accuracy is : 0.1064607032436492\n",
      "\n",
      "\n",
      "for random state  92  The training accuracy is : 0.9147022987945528\n",
      "for random state  92  The testing accuracy is : 0.2879201095125027\n",
      "\n",
      "\n",
      "for random state  93  The training accuracy is : 0.8894847218676964\n",
      "for random state  93  The testing accuracy is : -0.006312740444439191\n",
      "\n",
      "\n",
      "for random state  94  The training accuracy is : 0.8848168315290793\n",
      "for random state  94  The testing accuracy is : 0.38591794666033874\n",
      "\n",
      "\n",
      "for random state  95  The training accuracy is : 0.8810236517033023\n",
      "for random state  95  The testing accuracy is : -0.3686226862733202\n",
      "\n",
      "\n",
      "for random state  96  The training accuracy is : 0.8630594533154089\n",
      "for random state  96  The testing accuracy is : 0.6896104635390428\n",
      "\n",
      "\n",
      "for random state  97  The training accuracy is : 0.8751988911330891\n",
      "for random state  97  The testing accuracy is : 0.6938199080929326\n",
      "\n",
      "\n",
      "for random state  98  The training accuracy is : 0.9479809076516618\n",
      "for random state  98  The testing accuracy is : 0.5129436186442495\n",
      "\n",
      "\n",
      "for random state  99  The training accuracy is : 0.8591749364176564\n",
      "for random state  99  The testing accuracy is : 0.7472277463485264\n",
      "\n",
      "\n",
      "for random state  100  The training accuracy is : 0.8822262050610398\n",
      "for random state  100  The testing accuracy is : 0.033077111632198286\n",
      "\n",
      "\n"
     ]
    }
   ],
   "source": [
    "for i in range(0,101):\n",
    "    \n",
    "    X_train, X_test, y_train, y_test = train_test_split(X, y, test_size=0.24, random_state=i)\n",
    "    mod_9 = Ridge() \n",
    "    mod_9.fit(X_train,y_train)\n",
    "    train_score_9 = mod_9.score(X_train,y_train)\n",
    "    pred_9 = mod_9.predict(X_test)\n",
    "    test_score_9 = r2_score(y_test,pred_9)\n",
    "    \n",
    "    print(\"for random state \",i,\" The training accuracy is :\",train_score_9)\n",
    "    print(\"for random state \",i,\" The testing accuracy is :\",test_score_9)\n",
    "    print(\"\\n\")"
   ]
  },
  {
   "cell_type": "code",
   "execution_count": 208,
   "metadata": {},
   "outputs": [
    {
     "name": "stdout",
     "output_type": "stream",
     "text": [
      "The training accuracy is : 0.8280972006006501\n",
      "The testing accuracy is : 0.842040399004559\n",
      "\n",
      "\n"
     ]
    }
   ],
   "source": [
    "# taking the best random state as 4\n",
    "X_train, X_test, y_train, y_test = train_test_split(X, y, test_size=0.24, random_state=4)\n",
    "mod_9 = Ridge() \n",
    "mod_9.fit(X_train,y_train)\n",
    "train_score_9 = mod_9.score(X_train,y_train)\n",
    "pred_9 = mod_9.predict(X_test)\n",
    "test_score_9 = r2_score(y_test,pred_9)\n",
    "    \n",
    "print(\"The training accuracy is :\",train_score_9)\n",
    "print(\"The testing accuracy is :\",test_score_9)\n",
    "print(\"\\n\")"
   ]
  },
  {
   "cell_type": "code",
   "execution_count": 209,
   "metadata": {},
   "outputs": [
    {
     "name": "stdout",
     "output_type": "stream",
     "text": [
      "16.694355330205674\n"
     ]
    }
   ],
   "source": [
    "MSE_9 = mean_squared_error(y_test,pred_9)\n",
    "print(MSE_9)"
   ]
  },
  {
   "cell_type": "code",
   "execution_count": 210,
   "metadata": {},
   "outputs": [],
   "source": [
    "kfold = KFold(n_splits=10)\n",
    "\n",
    "K_results = cross_val_score(mod_9,X,y,cv=kfold)\n",
    "\n",
    "kfold_accuracy_Ridge = np.mean(abs(K_results))"
   ]
  },
  {
   "cell_type": "code",
   "execution_count": 211,
   "metadata": {},
   "outputs": [
    {
     "data": {
      "text/plain": [
       "10.400055988349461"
      ]
     },
     "execution_count": 211,
     "metadata": {},
     "output_type": "execute_result"
    }
   ],
   "source": [
    "kfold_accuracy_Ridge"
   ]
  },
  {
   "cell_type": "markdown",
   "metadata": {},
   "source": [
    "## Polynomial"
   ]
  },
  {
   "cell_type": "code",
   "execution_count": 214,
   "metadata": {},
   "outputs": [],
   "source": [
    "from sklearn.preprocessing import PolynomialFeatures\n",
    "from sklearn.linear_model import LinearRegression"
   ]
  },
  {
   "cell_type": "code",
   "execution_count": 236,
   "metadata": {},
   "outputs": [],
   "source": [
    "poly = PolynomialFeatures(degree=5)"
   ]
  },
  {
   "cell_type": "code",
   "execution_count": 237,
   "metadata": {},
   "outputs": [],
   "source": [
    "X_poly = poly.fit_transform(X_train)"
   ]
  },
  {
   "cell_type": "code",
   "execution_count": 238,
   "metadata": {},
   "outputs": [],
   "source": [
    "Lr = LinearRegression()"
   ]
  },
  {
   "cell_type": "code",
   "execution_count": 239,
   "metadata": {},
   "outputs": [
    {
     "data": {
      "text/plain": [
       "LinearRegression()"
      ]
     },
     "execution_count": 239,
     "metadata": {},
     "output_type": "execute_result"
    }
   ],
   "source": [
    "Lr.fit(X_poly,y_train)"
   ]
  },
  {
   "cell_type": "code",
   "execution_count": 240,
   "metadata": {},
   "outputs": [],
   "source": [
    "predict = Lr.predict(poly.transform(X_test))"
   ]
  },
  {
   "cell_type": "code",
   "execution_count": 241,
   "metadata": {},
   "outputs": [
    {
     "name": "stdout",
     "output_type": "stream",
     "text": [
      "[[ 24.44  86.  ]\n",
      " [ 46.93  83.  ]\n",
      " [ 76.09  74.  ]\n",
      " [ 91.07 100.  ]\n",
      " [ 91.75  90.  ]\n",
      " [ 70.37  92.  ]\n",
      " [-68.21  97.  ]\n",
      " [ 56.85  68.  ]]\n"
     ]
    }
   ],
   "source": [
    "np.set_printoptions(precision=2)\n",
    "print(np.concatenate((predict.reshape(len(predict),1), y_test.reshape(len(y_test),1)),1))"
   ]
  },
  {
   "cell_type": "code",
   "execution_count": 242,
   "metadata": {},
   "outputs": [
    {
     "data": {
      "text/plain": [
       "-38.10757156951862"
      ]
     },
     "execution_count": 242,
     "metadata": {},
     "output_type": "execute_result"
    }
   ],
   "source": [
    "from sklearn.metrics import r2_score\n",
    "r2_score(y_test, predict)"
   ]
  },
  {
   "cell_type": "code",
   "execution_count": 243,
   "metadata": {},
   "outputs": [],
   "source": [
    "from sklearn.naive_bayes import GaussianNB"
   ]
  },
  {
   "cell_type": "code",
   "execution_count": 244,
   "metadata": {},
   "outputs": [
    {
     "data": {
      "text/html": [
       "<div>\n",
       "<style scoped>\n",
       "    .dataframe tbody tr th:only-of-type {\n",
       "        vertical-align: middle;\n",
       "    }\n",
       "\n",
       "    .dataframe tbody tr th {\n",
       "        vertical-align: top;\n",
       "    }\n",
       "\n",
       "    .dataframe thead th {\n",
       "        text-align: right;\n",
       "    }\n",
       "</style>\n",
       "<table border=\"1\" class=\"dataframe\">\n",
       "  <thead>\n",
       "    <tr style=\"text-align: right;\">\n",
       "      <th></th>\n",
       "      <th>W</th>\n",
       "      <th>R</th>\n",
       "      <th>AB</th>\n",
       "      <th>H</th>\n",
       "      <th>2B</th>\n",
       "      <th>3B</th>\n",
       "      <th>HR</th>\n",
       "      <th>BB</th>\n",
       "      <th>SO</th>\n",
       "      <th>SB</th>\n",
       "      <th>RA</th>\n",
       "      <th>ER</th>\n",
       "      <th>ERA</th>\n",
       "      <th>CG</th>\n",
       "      <th>SHO</th>\n",
       "      <th>SV</th>\n",
       "      <th>E</th>\n",
       "    </tr>\n",
       "  </thead>\n",
       "  <tbody>\n",
       "    <tr>\n",
       "      <th>0</th>\n",
       "      <td>95</td>\n",
       "      <td>6.586172</td>\n",
       "      <td>5575</td>\n",
       "      <td>7.311886</td>\n",
       "      <td>300</td>\n",
       "      <td>42</td>\n",
       "      <td>139</td>\n",
       "      <td>383</td>\n",
       "      <td>973</td>\n",
       "      <td>104</td>\n",
       "      <td>641</td>\n",
       "      <td>601</td>\n",
       "      <td>3.73</td>\n",
       "      <td>1.098612</td>\n",
       "      <td>8</td>\n",
       "      <td>56</td>\n",
       "      <td>4.488636</td>\n",
       "    </tr>\n",
       "    <tr>\n",
       "      <th>1</th>\n",
       "      <td>83</td>\n",
       "      <td>6.546785</td>\n",
       "      <td>5467</td>\n",
       "      <td>7.207860</td>\n",
       "      <td>277</td>\n",
       "      <td>44</td>\n",
       "      <td>156</td>\n",
       "      <td>439</td>\n",
       "      <td>1264</td>\n",
       "      <td>70</td>\n",
       "      <td>700</td>\n",
       "      <td>653</td>\n",
       "      <td>4.07</td>\n",
       "      <td>1.098612</td>\n",
       "      <td>12</td>\n",
       "      <td>45</td>\n",
       "      <td>4.465908</td>\n",
       "    </tr>\n",
       "    <tr>\n",
       "      <th>2</th>\n",
       "      <td>81</td>\n",
       "      <td>6.507278</td>\n",
       "      <td>5439</td>\n",
       "      <td>7.241366</td>\n",
       "      <td>303</td>\n",
       "      <td>29</td>\n",
       "      <td>141</td>\n",
       "      <td>533</td>\n",
       "      <td>1157</td>\n",
       "      <td>86</td>\n",
       "      <td>640</td>\n",
       "      <td>584</td>\n",
       "      <td>3.67</td>\n",
       "      <td>2.484907</td>\n",
       "      <td>10</td>\n",
       "      <td>38</td>\n",
       "      <td>4.382027</td>\n",
       "    </tr>\n",
       "    <tr>\n",
       "      <th>3</th>\n",
       "      <td>76</td>\n",
       "      <td>6.434547</td>\n",
       "      <td>5533</td>\n",
       "      <td>7.231287</td>\n",
       "      <td>260</td>\n",
       "      <td>27</td>\n",
       "      <td>136</td>\n",
       "      <td>404</td>\n",
       "      <td>1231</td>\n",
       "      <td>68</td>\n",
       "      <td>701</td>\n",
       "      <td>643</td>\n",
       "      <td>3.98</td>\n",
       "      <td>2.079442</td>\n",
       "      <td>9</td>\n",
       "      <td>37</td>\n",
       "      <td>4.624973</td>\n",
       "    </tr>\n",
       "    <tr>\n",
       "      <th>4</th>\n",
       "      <td>74</td>\n",
       "      <td>6.536692</td>\n",
       "      <td>5605</td>\n",
       "      <td>7.323831</td>\n",
       "      <td>289</td>\n",
       "      <td>49</td>\n",
       "      <td>151</td>\n",
       "      <td>455</td>\n",
       "      <td>1259</td>\n",
       "      <td>83</td>\n",
       "      <td>803</td>\n",
       "      <td>746</td>\n",
       "      <td>4.64</td>\n",
       "      <td>2.079442</td>\n",
       "      <td>12</td>\n",
       "      <td>35</td>\n",
       "      <td>4.465908</td>\n",
       "    </tr>\n",
       "  </tbody>\n",
       "</table>\n",
       "</div>"
      ],
      "text/plain": [
       "    W         R    AB         H   2B  3B   HR   BB    SO   SB   RA   ER   ERA  \\\n",
       "0  95  6.586172  5575  7.311886  300  42  139  383   973  104  641  601  3.73   \n",
       "1  83  6.546785  5467  7.207860  277  44  156  439  1264   70  700  653  4.07   \n",
       "2  81  6.507278  5439  7.241366  303  29  141  533  1157   86  640  584  3.67   \n",
       "3  76  6.434547  5533  7.231287  260  27  136  404  1231   68  701  643  3.98   \n",
       "4  74  6.536692  5605  7.323831  289  49  151  455  1259   83  803  746  4.64   \n",
       "\n",
       "         CG  SHO  SV         E  \n",
       "0  1.098612    8  56  4.488636  \n",
       "1  1.098612   12  45  4.465908  \n",
       "2  2.484907   10  38  4.382027  \n",
       "3  2.079442    9  37  4.624973  \n",
       "4  2.079442   12  35  4.465908  "
      ]
     },
     "execution_count": 244,
     "metadata": {},
     "output_type": "execute_result"
    }
   ],
   "source": [
    "df.head()"
   ]
  },
  {
   "cell_type": "code",
   "execution_count": 246,
   "metadata": {},
   "outputs": [
    {
     "data": {
      "text/plain": [
       "array([9.50e+01, 6.59e+00, 5.58e+03, 7.31e+00, 3.00e+02, 4.20e+01,\n",
       "       1.39e+02, 3.83e+02, 9.73e+02, 1.04e+02, 6.41e+02, 6.01e+02,\n",
       "       3.73e+00, 1.10e+00, 8.00e+00, 5.60e+01, 4.49e+00])"
      ]
     },
     "execution_count": 246,
     "metadata": {},
     "output_type": "execute_result"
    }
   ],
   "source": [
    "df.iloc[0,0:].values"
   ]
  },
  {
   "cell_type": "code",
   "execution_count": 258,
   "metadata": {},
   "outputs": [
    {
     "data": {
      "text/plain": [
       "array([84.4])"
      ]
     },
     "execution_count": 258,
     "metadata": {},
     "output_type": "execute_result"
    }
   ],
   "source": [
    "mod_5.predict(sc.transform([[6.59e+00, 5.58e+03, 7.31e+00, 3.00e+02, 4.20e+01,\n",
    "       1.39e+02, 3.83e+02, 9.73e+02, 1.04e+02, 6.41e+02, 6.01e+02,\n",
    "       3.73e+00, 1.10e+00, 8.00e+00, 5.60e+01, 4.49e+00]]))"
   ]
  },
  {
   "cell_type": "code",
   "execution_count": 260,
   "metadata": {},
   "outputs": [
    {
     "data": {
      "text/plain": [
       "array([8.30e+01, 6.55e+00, 5.47e+03, 7.21e+00, 2.77e+02, 4.40e+01,\n",
       "       1.56e+02, 4.39e+02, 1.26e+03, 7.00e+01, 7.00e+02, 6.53e+02,\n",
       "       4.07e+00, 1.10e+00, 1.20e+01, 4.50e+01, 4.47e+00])"
      ]
     },
     "execution_count": 260,
     "metadata": {},
     "output_type": "execute_result"
    }
   ],
   "source": [
    "df.iloc[1,0:].values"
   ]
  },
  {
   "cell_type": "code",
   "execution_count": 261,
   "metadata": {},
   "outputs": [
    {
     "data": {
      "text/plain": [
       "array([84.4])"
      ]
     },
     "execution_count": 261,
     "metadata": {},
     "output_type": "execute_result"
    }
   ],
   "source": [
    "mod_5.predict(sc.transform([[6.55e+00, 5.47e+03, 7.21e+00, 2.77e+02, 4.40e+01,\n",
    "       1.56e+02, 4.39e+02, 1.26e+03, 7.00e+01, 7.00e+02, 6.53e+02,\n",
    "       4.07e+00, 1.10e+00, 1.20e+01, 4.50e+01, 4.47e+00]]))"
   ]
  },
  {
   "cell_type": "code",
   "execution_count": null,
   "metadata": {},
   "outputs": [],
   "source": []
  }
 ],
 "metadata": {
  "kernelspec": {
   "display_name": "Python 3",
   "language": "python",
   "name": "python3"
  },
  "language_info": {
   "codemirror_mode": {
    "name": "ipython",
    "version": 3
   },
   "file_extension": ".py",
   "mimetype": "text/x-python",
   "name": "python",
   "nbconvert_exporter": "python",
   "pygments_lexer": "ipython3",
   "version": "3.8.5"
  }
 },
 "nbformat": 4,
 "nbformat_minor": 4
}

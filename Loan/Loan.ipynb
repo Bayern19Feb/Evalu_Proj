{
 "cells": [
  {
   "cell_type": "code",
   "execution_count": 1,
   "metadata": {},
   "outputs": [],
   "source": [
    "# importing libraries\n",
    "\n",
    "import numpy as np\n",
    "import pandas as pd\n",
    "import matplotlib.pyplot as plt\n",
    "import seaborn as sns\n",
    "\n",
    "%matplotlib inline"
   ]
  },
  {
   "cell_type": "code",
   "execution_count": 2,
   "metadata": {},
   "outputs": [],
   "source": [
    "# code to display rows and columns"
   ]
  },
  {
   "cell_type": "code",
   "execution_count": 3,
   "metadata": {},
   "outputs": [
    {
     "data": {
      "text/html": [
       "<style type=\"text/css\">\n",
       "table.dataframe td, table.dataframe th {\n",
       "    border: 1px  black solid !important;\n",
       "  color: black !important;\n",
       "}\n",
       "</style>\n"
      ],
      "text/plain": [
       "<IPython.core.display.HTML object>"
      ]
     },
     "metadata": {},
     "output_type": "display_data"
    }
   ],
   "source": [
    "%%HTML\n",
    "<style type=\"text/css\">\n",
    "table.dataframe td, table.dataframe th {\n",
    "    border: 1px  black solid !important;\n",
    "  color: black !important;\n",
    "}\n",
    "</style>"
   ]
  },
  {
   "cell_type": "code",
   "execution_count": 4,
   "metadata": {},
   "outputs": [],
   "source": [
    "# Code to display all the columns in the dataset\n",
    "pd.set_option('display.max_columns', None)"
   ]
  },
  {
   "cell_type": "code",
   "execution_count": 5,
   "metadata": {},
   "outputs": [],
   "source": [
    "import warnings\n",
    "warnings.filterwarnings('ignore')"
   ]
  },
  {
   "cell_type": "markdown",
   "metadata": {},
   "source": [
    "# Importing dataset"
   ]
  },
  {
   "cell_type": "code",
   "execution_count": 6,
   "metadata": {},
   "outputs": [],
   "source": [
    "df = pd.read_csv(\"loan.csv\")"
   ]
  },
  {
   "cell_type": "code",
   "execution_count": 7,
   "metadata": {},
   "outputs": [
    {
     "data": {
      "text/html": [
       "<div>\n",
       "<style scoped>\n",
       "    .dataframe tbody tr th:only-of-type {\n",
       "        vertical-align: middle;\n",
       "    }\n",
       "\n",
       "    .dataframe tbody tr th {\n",
       "        vertical-align: top;\n",
       "    }\n",
       "\n",
       "    .dataframe thead th {\n",
       "        text-align: right;\n",
       "    }\n",
       "</style>\n",
       "<table border=\"1\" class=\"dataframe\">\n",
       "  <thead>\n",
       "    <tr style=\"text-align: right;\">\n",
       "      <th></th>\n",
       "      <th>Loan_ID</th>\n",
       "      <th>Gender</th>\n",
       "      <th>Married</th>\n",
       "      <th>Dependents</th>\n",
       "      <th>Education</th>\n",
       "      <th>Self_Employed</th>\n",
       "      <th>ApplicantIncome</th>\n",
       "      <th>CoapplicantIncome</th>\n",
       "      <th>LoanAmount</th>\n",
       "      <th>Loan_Amount_Term</th>\n",
       "      <th>Credit_History</th>\n",
       "      <th>Property_Area</th>\n",
       "      <th>Loan_Status</th>\n",
       "    </tr>\n",
       "  </thead>\n",
       "  <tbody>\n",
       "    <tr>\n",
       "      <th>0</th>\n",
       "      <td>LP001002</td>\n",
       "      <td>Male</td>\n",
       "      <td>No</td>\n",
       "      <td>0</td>\n",
       "      <td>Graduate</td>\n",
       "      <td>No</td>\n",
       "      <td>5849</td>\n",
       "      <td>0.0</td>\n",
       "      <td>NaN</td>\n",
       "      <td>360.0</td>\n",
       "      <td>1.0</td>\n",
       "      <td>Urban</td>\n",
       "      <td>Y</td>\n",
       "    </tr>\n",
       "    <tr>\n",
       "      <th>1</th>\n",
       "      <td>LP001003</td>\n",
       "      <td>Male</td>\n",
       "      <td>Yes</td>\n",
       "      <td>1</td>\n",
       "      <td>Graduate</td>\n",
       "      <td>No</td>\n",
       "      <td>4583</td>\n",
       "      <td>1508.0</td>\n",
       "      <td>128.0</td>\n",
       "      <td>360.0</td>\n",
       "      <td>1.0</td>\n",
       "      <td>Rural</td>\n",
       "      <td>N</td>\n",
       "    </tr>\n",
       "    <tr>\n",
       "      <th>2</th>\n",
       "      <td>LP001005</td>\n",
       "      <td>Male</td>\n",
       "      <td>Yes</td>\n",
       "      <td>0</td>\n",
       "      <td>Graduate</td>\n",
       "      <td>Yes</td>\n",
       "      <td>3000</td>\n",
       "      <td>0.0</td>\n",
       "      <td>66.0</td>\n",
       "      <td>360.0</td>\n",
       "      <td>1.0</td>\n",
       "      <td>Urban</td>\n",
       "      <td>Y</td>\n",
       "    </tr>\n",
       "    <tr>\n",
       "      <th>3</th>\n",
       "      <td>LP001006</td>\n",
       "      <td>Male</td>\n",
       "      <td>Yes</td>\n",
       "      <td>0</td>\n",
       "      <td>Not Graduate</td>\n",
       "      <td>No</td>\n",
       "      <td>2583</td>\n",
       "      <td>2358.0</td>\n",
       "      <td>120.0</td>\n",
       "      <td>360.0</td>\n",
       "      <td>1.0</td>\n",
       "      <td>Urban</td>\n",
       "      <td>Y</td>\n",
       "    </tr>\n",
       "    <tr>\n",
       "      <th>4</th>\n",
       "      <td>LP001008</td>\n",
       "      <td>Male</td>\n",
       "      <td>No</td>\n",
       "      <td>0</td>\n",
       "      <td>Graduate</td>\n",
       "      <td>No</td>\n",
       "      <td>6000</td>\n",
       "      <td>0.0</td>\n",
       "      <td>141.0</td>\n",
       "      <td>360.0</td>\n",
       "      <td>1.0</td>\n",
       "      <td>Urban</td>\n",
       "      <td>Y</td>\n",
       "    </tr>\n",
       "  </tbody>\n",
       "</table>\n",
       "</div>"
      ],
      "text/plain": [
       "    Loan_ID Gender Married Dependents     Education Self_Employed  \\\n",
       "0  LP001002   Male      No          0      Graduate            No   \n",
       "1  LP001003   Male     Yes          1      Graduate            No   \n",
       "2  LP001005   Male     Yes          0      Graduate           Yes   \n",
       "3  LP001006   Male     Yes          0  Not Graduate            No   \n",
       "4  LP001008   Male      No          0      Graduate            No   \n",
       "\n",
       "   ApplicantIncome  CoapplicantIncome  LoanAmount  Loan_Amount_Term  \\\n",
       "0             5849                0.0         NaN             360.0   \n",
       "1             4583             1508.0       128.0             360.0   \n",
       "2             3000                0.0        66.0             360.0   \n",
       "3             2583             2358.0       120.0             360.0   \n",
       "4             6000                0.0       141.0             360.0   \n",
       "\n",
       "   Credit_History Property_Area Loan_Status  \n",
       "0             1.0         Urban           Y  \n",
       "1             1.0         Rural           N  \n",
       "2             1.0         Urban           Y  \n",
       "3             1.0         Urban           Y  \n",
       "4             1.0         Urban           Y  "
      ]
     },
     "execution_count": 7,
     "metadata": {},
     "output_type": "execute_result"
    }
   ],
   "source": [
    "df.head()"
   ]
  },
  {
   "cell_type": "markdown",
   "metadata": {},
   "source": [
    "## Column info\n",
    "\n"
   ]
  },
  {
   "cell_type": "code",
   "execution_count": 8,
   "metadata": {},
   "outputs": [
    {
     "name": "stdout",
     "output_type": "stream",
     "text": [
      "<class 'pandas.core.frame.DataFrame'>\n",
      "RangeIndex: 614 entries, 0 to 613\n",
      "Data columns (total 13 columns):\n",
      " #   Column             Non-Null Count  Dtype  \n",
      "---  ------             --------------  -----  \n",
      " 0   Loan_ID            614 non-null    object \n",
      " 1   Gender             601 non-null    object \n",
      " 2   Married            611 non-null    object \n",
      " 3   Dependents         599 non-null    object \n",
      " 4   Education          614 non-null    object \n",
      " 5   Self_Employed      582 non-null    object \n",
      " 6   ApplicantIncome    614 non-null    int64  \n",
      " 7   CoapplicantIncome  614 non-null    float64\n",
      " 8   LoanAmount         592 non-null    float64\n",
      " 9   Loan_Amount_Term   600 non-null    float64\n",
      " 10  Credit_History     564 non-null    float64\n",
      " 11  Property_Area      614 non-null    object \n",
      " 12  Loan_Status        614 non-null    object \n",
      "dtypes: float64(4), int64(1), object(8)\n",
      "memory usage: 62.5+ KB\n"
     ]
    }
   ],
   "source": [
    "df.info()"
   ]
  },
  {
   "cell_type": "markdown",
   "metadata": {},
   "source": [
    "# Problem Type\n",
    "\n",
    "1) Given the number of  inputs the Machine learning Algorithm has to \n",
    "   predict the Loan_Status of an individual\n",
    "   \n",
    "2) Target Variable is Loan_Status\n",
    "\n",
    "3) Solving it as a Classification problem\n",
    "\n",
    "4) We have to build a model that can predict whether the loan of the  applicant will be approved or not"
   ]
  },
  {
   "cell_type": "markdown",
   "metadata": {},
   "source": [
    "# Checking the data types"
   ]
  },
  {
   "cell_type": "code",
   "execution_count": 9,
   "metadata": {},
   "outputs": [
    {
     "data": {
      "text/plain": [
       "Loan_ID               object\n",
       "Gender                object\n",
       "Married               object\n",
       "Dependents            object\n",
       "Education             object\n",
       "Self_Employed         object\n",
       "ApplicantIncome        int64\n",
       "CoapplicantIncome    float64\n",
       "LoanAmount           float64\n",
       "Loan_Amount_Term     float64\n",
       "Credit_History       float64\n",
       "Property_Area         object\n",
       "Loan_Status           object\n",
       "dtype: object"
      ]
     },
     "execution_count": 9,
     "metadata": {},
     "output_type": "execute_result"
    }
   ],
   "source": [
    "df.dtypes"
   ]
  },
  {
   "cell_type": "markdown",
   "metadata": {},
   "source": [
    "## Data types include:\n",
    "\n",
    "- Object\n",
    "- Int\n",
    "- float"
   ]
  },
  {
   "cell_type": "markdown",
   "metadata": {},
   "source": [
    "### Lets check for duplicate values"
   ]
  },
  {
   "cell_type": "code",
   "execution_count": 10,
   "metadata": {},
   "outputs": [
    {
     "data": {
      "text/plain": [
       "0"
      ]
     },
     "execution_count": 10,
     "metadata": {},
     "output_type": "execute_result"
    }
   ],
   "source": [
    "df.duplicated().sum()"
   ]
  },
  {
   "cell_type": "markdown",
   "metadata": {},
   "source": [
    "### No duplicated values"
   ]
  },
  {
   "cell_type": "markdown",
   "metadata": {},
   "source": [
    "### Lets check for missing values"
   ]
  },
  {
   "cell_type": "code",
   "execution_count": 11,
   "metadata": {},
   "outputs": [
    {
     "data": {
      "text/plain": [
       "Loan_ID               0\n",
       "Gender               13\n",
       "Married               3\n",
       "Dependents           15\n",
       "Education             0\n",
       "Self_Employed        32\n",
       "ApplicantIncome       0\n",
       "CoapplicantIncome     0\n",
       "LoanAmount           22\n",
       "Loan_Amount_Term     14\n",
       "Credit_History       50\n",
       "Property_Area         0\n",
       "Loan_Status           0\n",
       "dtype: int64"
      ]
     },
     "execution_count": 11,
     "metadata": {},
     "output_type": "execute_result"
    }
   ],
   "source": [
    "df.isnull().sum()"
   ]
  },
  {
   "cell_type": "markdown",
   "metadata": {},
   "source": [
    "## Some missing values in data:\n",
    "\n",
    "- Gender : 13\n",
    "- Married : 3\n",
    "- Dependents : 15\n",
    "- Self_Employed : 32\n",
    "- LoanAmount : 22\n",
    "- Loan_Amount_Term : 14\n",
    "- Credit_History : 50"
   ]
  },
  {
   "cell_type": "code",
   "execution_count": 12,
   "metadata": {},
   "outputs": [
    {
     "data": {
      "text/plain": [
       "<AxesSubplot:>"
      ]
     },
     "execution_count": 12,
     "metadata": {},
     "output_type": "execute_result"
    },
    {
     "data": {
      "image/png": "[encoded data removed]",
      "text/plain": [
       "<Figure size 576x576 with 2 Axes>"
      ]
     },
     "metadata": {
      "needs_background": "light"
     },
     "output_type": "display_data"
    }
   ],
   "source": [
    "# Visualizing the missing values\n",
    "plt.figure(figsize=(8,8))\n",
    "sns.heatmap(df.isnull())"
   ]
  },
  {
   "cell_type": "markdown",
   "metadata": {},
   "source": [
    "### Data Shape"
   ]
  },
  {
   "cell_type": "code",
   "execution_count": 13,
   "metadata": {},
   "outputs": [
    {
     "data": {
      "text/plain": [
       "(614, 13)"
      ]
     },
     "execution_count": 13,
     "metadata": {},
     "output_type": "execute_result"
    }
   ],
   "source": [
    "df.shape"
   ]
  },
  {
   "cell_type": "markdown",
   "metadata": {},
   "source": [
    "Rows : 614\n",
    "\n",
    "Columns : 13"
   ]
  },
  {
   "cell_type": "markdown",
   "metadata": {},
   "source": [
    "#### Data Descriptiion"
   ]
  },
  {
   "cell_type": "code",
   "execution_count": 14,
   "metadata": {},
   "outputs": [
    {
     "data": {
      "text/html": [
       "<div>\n",
       "<style scoped>\n",
       "    .dataframe tbody tr th:only-of-type {\n",
       "        vertical-align: middle;\n",
       "    }\n",
       "\n",
       "    .dataframe tbody tr th {\n",
       "        vertical-align: top;\n",
       "    }\n",
       "\n",
       "    .dataframe thead th {\n",
       "        text-align: right;\n",
       "    }\n",
       "</style>\n",
       "<table border=\"1\" class=\"dataframe\">\n",
       "  <thead>\n",
       "    <tr style=\"text-align: right;\">\n",
       "      <th></th>\n",
       "      <th>count</th>\n",
       "      <th>mean</th>\n",
       "      <th>std</th>\n",
       "      <th>min</th>\n",
       "      <th>25%</th>\n",
       "      <th>50%</th>\n",
       "      <th>75%</th>\n",
       "      <th>max</th>\n",
       "    </tr>\n",
       "  </thead>\n",
       "  <tbody>\n",
       "    <tr>\n",
       "      <th>ApplicantIncome</th>\n",
       "      <td>614.0</td>\n",
       "      <td>5403.459283</td>\n",
       "      <td>6109.041673</td>\n",
       "      <td>150.0</td>\n",
       "      <td>2877.5</td>\n",
       "      <td>3812.5</td>\n",
       "      <td>5795.00</td>\n",
       "      <td>81000.0</td>\n",
       "    </tr>\n",
       "    <tr>\n",
       "      <th>CoapplicantIncome</th>\n",
       "      <td>614.0</td>\n",
       "      <td>1621.245798</td>\n",
       "      <td>2926.248369</td>\n",
       "      <td>0.0</td>\n",
       "      <td>0.0</td>\n",
       "      <td>1188.5</td>\n",
       "      <td>2297.25</td>\n",
       "      <td>41667.0</td>\n",
       "    </tr>\n",
       "    <tr>\n",
       "      <th>LoanAmount</th>\n",
       "      <td>592.0</td>\n",
       "      <td>146.412162</td>\n",
       "      <td>85.587325</td>\n",
       "      <td>9.0</td>\n",
       "      <td>100.0</td>\n",
       "      <td>128.0</td>\n",
       "      <td>168.00</td>\n",
       "      <td>700.0</td>\n",
       "    </tr>\n",
       "    <tr>\n",
       "      <th>Loan_Amount_Term</th>\n",
       "      <td>600.0</td>\n",
       "      <td>342.000000</td>\n",
       "      <td>65.120410</td>\n",
       "      <td>12.0</td>\n",
       "      <td>360.0</td>\n",
       "      <td>360.0</td>\n",
       "      <td>360.00</td>\n",
       "      <td>480.0</td>\n",
       "    </tr>\n",
       "    <tr>\n",
       "      <th>Credit_History</th>\n",
       "      <td>564.0</td>\n",
       "      <td>0.842199</td>\n",
       "      <td>0.364878</td>\n",
       "      <td>0.0</td>\n",
       "      <td>1.0</td>\n",
       "      <td>1.0</td>\n",
       "      <td>1.00</td>\n",
       "      <td>1.0</td>\n",
       "    </tr>\n",
       "  </tbody>\n",
       "</table>\n",
       "</div>"
      ],
      "text/plain": [
       "                   count         mean          std    min     25%     50%  \\\n",
       "ApplicantIncome    614.0  5403.459283  6109.041673  150.0  2877.5  3812.5   \n",
       "CoapplicantIncome  614.0  1621.245798  2926.248369    0.0     0.0  1188.5   \n",
       "LoanAmount         592.0   146.412162    85.587325    9.0   100.0   128.0   \n",
       "Loan_Amount_Term   600.0   342.000000    65.120410   12.0   360.0   360.0   \n",
       "Credit_History     564.0     0.842199     0.364878    0.0     1.0     1.0   \n",
       "\n",
       "                       75%      max  \n",
       "ApplicantIncome    5795.00  81000.0  \n",
       "CoapplicantIncome  2297.25  41667.0  \n",
       "LoanAmount          168.00    700.0  \n",
       "Loan_Amount_Term    360.00    480.0  \n",
       "Credit_History        1.00      1.0  "
      ]
     },
     "execution_count": 14,
     "metadata": {},
     "output_type": "execute_result"
    }
   ],
   "source": [
    "df.describe().transpose()"
   ]
  },
  {
   "cell_type": "markdown",
   "metadata": {},
   "source": [
    "Overview of data:\n",
    "\n",
    "- Applicant Income ranges from (150.0 to 81000.0)\n",
    "\n",
    "- Coapplicant Income ranges between (0.0 to 41667.0)\n",
    "\n",
    "- Loan Amount ranges between (9.0 to 700)\n",
    "\n",
    "- Loan Amount Term ranges from (12 to 480)"
   ]
  },
  {
   "cell_type": "markdown",
   "metadata": {},
   "source": [
    "# EDA"
   ]
  },
  {
   "cell_type": "code",
   "execution_count": 15,
   "metadata": {},
   "outputs": [
    {
     "data": {
      "text/html": [
       "<div>\n",
       "<style scoped>\n",
       "    .dataframe tbody tr th:only-of-type {\n",
       "        vertical-align: middle;\n",
       "    }\n",
       "\n",
       "    .dataframe tbody tr th {\n",
       "        vertical-align: top;\n",
       "    }\n",
       "\n",
       "    .dataframe thead th {\n",
       "        text-align: right;\n",
       "    }\n",
       "</style>\n",
       "<table border=\"1\" class=\"dataframe\">\n",
       "  <thead>\n",
       "    <tr style=\"text-align: right;\">\n",
       "      <th></th>\n",
       "      <th>Loan_ID</th>\n",
       "      <th>Gender</th>\n",
       "      <th>Married</th>\n",
       "      <th>Dependents</th>\n",
       "      <th>Education</th>\n",
       "      <th>Self_Employed</th>\n",
       "      <th>ApplicantIncome</th>\n",
       "      <th>CoapplicantIncome</th>\n",
       "      <th>LoanAmount</th>\n",
       "      <th>Loan_Amount_Term</th>\n",
       "      <th>Credit_History</th>\n",
       "      <th>Property_Area</th>\n",
       "      <th>Loan_Status</th>\n",
       "    </tr>\n",
       "  </thead>\n",
       "  <tbody>\n",
       "    <tr>\n",
       "      <th>0</th>\n",
       "      <td>LP001002</td>\n",
       "      <td>Male</td>\n",
       "      <td>No</td>\n",
       "      <td>0</td>\n",
       "      <td>Graduate</td>\n",
       "      <td>No</td>\n",
       "      <td>5849</td>\n",
       "      <td>0.0</td>\n",
       "      <td>NaN</td>\n",
       "      <td>360.0</td>\n",
       "      <td>1.0</td>\n",
       "      <td>Urban</td>\n",
       "      <td>Y</td>\n",
       "    </tr>\n",
       "    <tr>\n",
       "      <th>1</th>\n",
       "      <td>LP001003</td>\n",
       "      <td>Male</td>\n",
       "      <td>Yes</td>\n",
       "      <td>1</td>\n",
       "      <td>Graduate</td>\n",
       "      <td>No</td>\n",
       "      <td>4583</td>\n",
       "      <td>1508.0</td>\n",
       "      <td>128.0</td>\n",
       "      <td>360.0</td>\n",
       "      <td>1.0</td>\n",
       "      <td>Rural</td>\n",
       "      <td>N</td>\n",
       "    </tr>\n",
       "    <tr>\n",
       "      <th>2</th>\n",
       "      <td>LP001005</td>\n",
       "      <td>Male</td>\n",
       "      <td>Yes</td>\n",
       "      <td>0</td>\n",
       "      <td>Graduate</td>\n",
       "      <td>Yes</td>\n",
       "      <td>3000</td>\n",
       "      <td>0.0</td>\n",
       "      <td>66.0</td>\n",
       "      <td>360.0</td>\n",
       "      <td>1.0</td>\n",
       "      <td>Urban</td>\n",
       "      <td>Y</td>\n",
       "    </tr>\n",
       "    <tr>\n",
       "      <th>3</th>\n",
       "      <td>LP001006</td>\n",
       "      <td>Male</td>\n",
       "      <td>Yes</td>\n",
       "      <td>0</td>\n",
       "      <td>Not Graduate</td>\n",
       "      <td>No</td>\n",
       "      <td>2583</td>\n",
       "      <td>2358.0</td>\n",
       "      <td>120.0</td>\n",
       "      <td>360.0</td>\n",
       "      <td>1.0</td>\n",
       "      <td>Urban</td>\n",
       "      <td>Y</td>\n",
       "    </tr>\n",
       "    <tr>\n",
       "      <th>4</th>\n",
       "      <td>LP001008</td>\n",
       "      <td>Male</td>\n",
       "      <td>No</td>\n",
       "      <td>0</td>\n",
       "      <td>Graduate</td>\n",
       "      <td>No</td>\n",
       "      <td>6000</td>\n",
       "      <td>0.0</td>\n",
       "      <td>141.0</td>\n",
       "      <td>360.0</td>\n",
       "      <td>1.0</td>\n",
       "      <td>Urban</td>\n",
       "      <td>Y</td>\n",
       "    </tr>\n",
       "  </tbody>\n",
       "</table>\n",
       "</div>"
      ],
      "text/plain": [
       "    Loan_ID Gender Married Dependents     Education Self_Employed  \\\n",
       "0  LP001002   Male      No          0      Graduate            No   \n",
       "1  LP001003   Male     Yes          1      Graduate            No   \n",
       "2  LP001005   Male     Yes          0      Graduate           Yes   \n",
       "3  LP001006   Male     Yes          0  Not Graduate            No   \n",
       "4  LP001008   Male      No          0      Graduate            No   \n",
       "\n",
       "   ApplicantIncome  CoapplicantIncome  LoanAmount  Loan_Amount_Term  \\\n",
       "0             5849                0.0         NaN             360.0   \n",
       "1             4583             1508.0       128.0             360.0   \n",
       "2             3000                0.0        66.0             360.0   \n",
       "3             2583             2358.0       120.0             360.0   \n",
       "4             6000                0.0       141.0             360.0   \n",
       "\n",
       "   Credit_History Property_Area Loan_Status  \n",
       "0             1.0         Urban           Y  \n",
       "1             1.0         Rural           N  \n",
       "2             1.0         Urban           Y  \n",
       "3             1.0         Urban           Y  \n",
       "4             1.0         Urban           Y  "
      ]
     },
     "execution_count": 15,
     "metadata": {},
     "output_type": "execute_result"
    }
   ],
   "source": [
    "df.head()"
   ]
  },
  {
   "cell_type": "code",
   "execution_count": 16,
   "metadata": {},
   "outputs": [],
   "source": [
    "sns.set_theme(style=\"darkgrid\")"
   ]
  },
  {
   "cell_type": "code",
   "execution_count": 17,
   "metadata": {},
   "outputs": [
    {
     "data": {
      "text/plain": [
       "<AxesSubplot:xlabel='Gender', ylabel='count'>"
      ]
     },
     "execution_count": 17,
     "metadata": {},
     "output_type": "execute_result"
    },
    {
     "data": {
      "image/png": "[encoded data removed]",
      "text/plain": [
       "<Figure size 432x288 with 1 Axes>"
      ]
     },
     "metadata": {},
     "output_type": "display_data"
    }
   ],
   "source": [
    "sns.countplot(x=\"Gender\",data=df)"
   ]
  },
  {
   "cell_type": "markdown",
   "metadata": {},
   "source": [
    "Observations from the above plot:\n",
    "\n",
    "Most of the male applicants have applied for loan.\n",
    "\n",
    "There are very few female applicants who have applied for loan."
   ]
  },
  {
   "cell_type": "code",
   "execution_count": 18,
   "metadata": {},
   "outputs": [
    {
     "data": {
      "text/plain": [
       "<AxesSubplot:xlabel='Gender', ylabel='count'>"
      ]
     },
     "execution_count": 18,
     "metadata": {},
     "output_type": "execute_result"
    },
    {
     "data": {
      "image/png": "[encoded data removed]",
      "text/plain": [
       "<Figure size 432x288 with 1 Axes>"
      ]
     },
     "metadata": {},
     "output_type": "display_data"
    }
   ],
   "source": [
    "sns.countplot(x=\"Gender\",hue=\"Married\",data=df)"
   ]
  },
  {
   "cell_type": "markdown",
   "metadata": {},
   "source": [
    "Observations from the above plot:\n",
    "\n",
    "Most of the men who are married have applied for a loan\n",
    "\n",
    "Very few married women have applied for a loan\n",
    "\n",
    "So there are higher chances that if an individual is married has applied for a loan "
   ]
  },
  {
   "cell_type": "code",
   "execution_count": 19,
   "metadata": {},
   "outputs": [
    {
     "data": {
      "text/plain": [
       "<AxesSubplot:xlabel='Gender', ylabel='count'>"
      ]
     },
     "execution_count": 19,
     "metadata": {},
     "output_type": "execute_result"
    },
    {
     "data": {
      "image/png": "[encoded data removed]",
      "text/plain": [
       "<Figure size 432x288 with 1 Axes>"
      ]
     },
     "metadata": {},
     "output_type": "display_data"
    }
   ],
   "source": [
    "sns.countplot(x=\"Gender\",hue=\"Dependents\",data=df)"
   ]
  },
  {
   "cell_type": "markdown",
   "metadata": {},
   "source": [
    "Observations from the above plot:\n",
    "\n",
    "The male applicants are having more individuals dependent on them\n",
    "\n",
    "The female applicants are having fewer applicants dependent on them"
   ]
  },
  {
   "cell_type": "code",
   "execution_count": 20,
   "metadata": {},
   "outputs": [
    {
     "data": {
      "text/plain": [
       "<AxesSubplot:xlabel='Gender', ylabel='count'>"
      ]
     },
     "execution_count": 20,
     "metadata": {},
     "output_type": "execute_result"
    },
    {
     "data": {
      "image/png": "[encoded data removed]",
      "text/plain": [
       "<Figure size 432x288 with 1 Axes>"
      ]
     },
     "metadata": {},
     "output_type": "display_data"
    }
   ],
   "source": [
    "sns.countplot(x=\"Gender\",hue=\"Education\",data=df)"
   ]
  },
  {
   "cell_type": "markdown",
   "metadata": {},
   "source": [
    "Observations from the above plot:\n",
    "\n",
    "High graduation rate for both male and female loan applicants\n",
    "\n",
    "So we can say that most of the people are educated"
   ]
  },
  {
   "cell_type": "code",
   "execution_count": 21,
   "metadata": {},
   "outputs": [
    {
     "data": {
      "text/plain": [
       "<AxesSubplot:xlabel='Gender', ylabel='count'>"
      ]
     },
     "execution_count": 21,
     "metadata": {},
     "output_type": "execute_result"
    },
    {
     "data": {
      "image/png": "[encoded data removed]",
      "text/plain": [
       "<Figure size 432x288 with 1 Axes>"
      ]
     },
     "metadata": {},
     "output_type": "display_data"
    }
   ],
   "source": [
    "sns.countplot(x=\"Gender\",hue=\"Self_Employed\",data=df)"
   ]
  },
  {
   "cell_type": "markdown",
   "metadata": {},
   "source": [
    "Observations from the above plot:\n",
    "\n",
    "Very few male and female candidates are self-employed\n",
    "\n",
    "The overall self-employment rate is low"
   ]
  },
  {
   "cell_type": "code",
   "execution_count": 22,
   "metadata": {},
   "outputs": [
    {
     "data": {
      "text/plain": [
       "<AxesSubplot:xlabel='Gender', ylabel='count'>"
      ]
     },
     "execution_count": 22,
     "metadata": {},
     "output_type": "execute_result"
    },
    {
     "data": {
      "image/png": "[encoded data removed]",
      "text/plain": [
       "<Figure size 432x288 with 1 Axes>"
      ]
     },
     "metadata": {},
     "output_type": "display_data"
    }
   ],
   "source": [
    "sns.countplot(x=\"Gender\",hue=\"Property_Area\",data=df)"
   ]
  },
  {
   "cell_type": "markdown",
   "metadata": {},
   "source": [
    "Observations from the above plot:\n",
    "\n",
    "The property area for most male candidates is Semi-Urban\n",
    "\n",
    "Most of the female candidates originate from Semi-Urban property"
   ]
  },
  {
   "cell_type": "code",
   "execution_count": 23,
   "metadata": {},
   "outputs": [
    {
     "data": {
      "text/plain": [
       "<AxesSubplot:xlabel='Gender', ylabel='count'>"
      ]
     },
     "execution_count": 23,
     "metadata": {},
     "output_type": "execute_result"
    },
    {
     "data": {
      "image/png": "[encoded data removed]",
      "text/plain": [
       "<Figure size 432x288 with 1 Axes>"
      ]
     },
     "metadata": {},
     "output_type": "display_data"
    }
   ],
   "source": [
    "sns.countplot(x=\"Gender\",hue=\"Loan_Status\",data=df)"
   ]
  },
  {
   "cell_type": "markdown",
   "metadata": {},
   "source": [
    "Observations from the above plot:\n",
    "\n",
    "Most of the loan applications for both men and women have been approved"
   ]
  },
  {
   "cell_type": "code",
   "execution_count": 24,
   "metadata": {},
   "outputs": [
    {
     "data": {
      "text/plain": [
       "<AxesSubplot:xlabel='Loan_Status', ylabel='count'>"
      ]
     },
     "execution_count": 24,
     "metadata": {},
     "output_type": "execute_result"
    },
    {
     "data": {
      "image/png": "[encoded data removed]",
      "text/plain": [
       "<Figure size 432x288 with 1 Axes>"
      ]
     },
     "metadata": {},
     "output_type": "display_data"
    }
   ],
   "source": [
    "sns.countplot(x=\"Loan_Status\",hue=\"Gender\",data=df)"
   ]
  },
  {
   "cell_type": "markdown",
   "metadata": {},
   "source": [
    "Observations from the above plot:\n",
    "\n",
    "Most of the male candidates have their loan application approved"
   ]
  },
  {
   "cell_type": "code",
   "execution_count": 25,
   "metadata": {},
   "outputs": [
    {
     "data": {
      "text/plain": [
       "<AxesSubplot:xlabel='Loan_Status', ylabel='count'>"
      ]
     },
     "execution_count": 25,
     "metadata": {},
     "output_type": "execute_result"
    },
    {
     "data": {
      "image/png": "[encoded data removed]",
      "text/plain": [
       "<Figure size 432x288 with 1 Axes>"
      ]
     },
     "metadata": {},
     "output_type": "display_data"
    }
   ],
   "source": [
    "sns.countplot(x=\"Loan_Status\",hue=\"Married\",data=df)"
   ]
  },
  {
   "cell_type": "markdown",
   "metadata": {},
   "source": [
    "Observations from the above plot:\n",
    "\n",
    "Married individuals are having a high chance of their loan application being approved\n",
    "\n",
    "we can say that if both Husband and wife are working then there is a high chance of repayment of the loan "
   ]
  },
  {
   "cell_type": "code",
   "execution_count": 26,
   "metadata": {},
   "outputs": [
    {
     "data": {
      "text/plain": [
       "<AxesSubplot:xlabel='Loan_Status', ylabel='count'>"
      ]
     },
     "execution_count": 26,
     "metadata": {},
     "output_type": "execute_result"
    },
    {
     "data": {
      "image/png": "[encoded data removed]",
      "text/plain": [
       "<Figure size 432x288 with 1 Axes>"
      ]
     },
     "metadata": {},
     "output_type": "display_data"
    }
   ],
   "source": [
    "sns.countplot(x=\"Loan_Status\",hue=\"Education\",data=df)"
   ]
  },
  {
   "cell_type": "markdown",
   "metadata": {},
   "source": [
    "Observations from the above plot:\n",
    "    \n",
    "We can assume that if an individual is educated then there is a good chance that he/she might have a job so an individual with a job has a higher chance of repaying their loan"
   ]
  },
  {
   "cell_type": "code",
   "execution_count": 27,
   "metadata": {},
   "outputs": [
    {
     "data": {
      "text/plain": [
       "<AxesSubplot:xlabel='Loan_Status', ylabel='count'>"
      ]
     },
     "execution_count": 27,
     "metadata": {},
     "output_type": "execute_result"
    },
    {
     "data": {
      "image/png": "[encoded data removed]",
      "text/plain": [
       "<Figure size 432x288 with 1 Axes>"
      ]
     },
     "metadata": {},
     "output_type": "display_data"
    }
   ],
   "source": [
    "sns.countplot(x=\"Loan_Status\",hue=\"Credit_History\",data=df)"
   ]
  },
  {
   "cell_type": "markdown",
   "metadata": {},
   "source": [
    "Observations from the above plot:\n",
    "\n",
    "The more the transaction history an individual has higher are the chances of him/her getting a loan from the bank"
   ]
  },
  {
   "cell_type": "code",
   "execution_count": 28,
   "metadata": {},
   "outputs": [
    {
     "data": {
      "text/plain": [
       "<AxesSubplot:xlabel='Loan_Status', ylabel='count'>"
      ]
     },
     "execution_count": 28,
     "metadata": {},
     "output_type": "execute_result"
    },
    {
     "data": {
      "image/png": "[encoded data removed]",
      "text/plain": [
       "<Figure size 432x288 with 1 Axes>"
      ]
     },
     "metadata": {},
     "output_type": "display_data"
    }
   ],
   "source": [
    "sns.countplot(x=\"Loan_Status\",hue=\"Property_Area\",data=df)"
   ]
  },
  {
   "cell_type": "markdown",
   "metadata": {},
   "source": [
    "Observations from the above plot:\n",
    "\n",
    "Individuals originating from semi-urban and urban area have the highest chance of loan approval "
   ]
  },
  {
   "cell_type": "code",
   "execution_count": 29,
   "metadata": {},
   "outputs": [
    {
     "data": {
      "text/plain": [
       "<AxesSubplot:xlabel='ApplicantIncome', ylabel='Loan_Status'>"
      ]
     },
     "execution_count": 29,
     "metadata": {},
     "output_type": "execute_result"
    },
    {
     "data": {
      "image/png": "[encoded data removed]",
      "text/plain": [
       "<Figure size 432x288 with 1 Axes>"
      ]
     },
     "metadata": {},
     "output_type": "display_data"
    }
   ],
   "source": [
    "sns.barplot(y=\"Loan_Status\",x=\"ApplicantIncome\",data=df)"
   ]
  },
  {
   "cell_type": "markdown",
   "metadata": {},
   "source": [
    "Observations from the above plot:\n",
    "\n",
    "We can say that if an individual has high income then there is a less chance that he will take a loan"
   ]
  },
  {
   "cell_type": "code",
   "execution_count": 30,
   "metadata": {},
   "outputs": [
    {
     "data": {
      "text/plain": [
       "<AxesSubplot:xlabel='LoanAmount', ylabel='Loan_Status'>"
      ]
     },
     "execution_count": 30,
     "metadata": {},
     "output_type": "execute_result"
    },
    {
     "data": {
      "image/png": "[encoded data removed]",
      "text/plain": [
       "<Figure size 432x288 with 1 Axes>"
      ]
     },
     "metadata": {},
     "output_type": "display_data"
    }
   ],
   "source": [
    "sns.barplot(y=\"Loan_Status\",x=\"LoanAmount\",data=df)"
   ]
  },
  {
   "cell_type": "markdown",
   "metadata": {},
   "source": [
    "Observations from the above plot:\n",
    "\n",
    "if the loan amount is exceeding 145 then there is a higher chance that the loan application might be rejected"
   ]
  },
  {
   "cell_type": "code",
   "execution_count": 31,
   "metadata": {},
   "outputs": [
    {
     "data": {
      "text/plain": [
       "<AxesSubplot:xlabel='ApplicantIncome', ylabel='Count'>"
      ]
     },
     "execution_count": 31,
     "metadata": {},
     "output_type": "execute_result"
    },
    {
     "data": {
      "image/png": "[encoded data removed]",
      "text/plain": [
       "<Figure size 432x288 with 1 Axes>"
      ]
     },
     "metadata": {},
     "output_type": "display_data"
    }
   ],
   "source": [
    "sns.histplot(x=\"ApplicantIncome\",data=df,bins=30)"
   ]
  },
  {
   "cell_type": "markdown",
   "metadata": {},
   "source": [
    "Observations from the above plot:\n",
    "\n",
    "Most of the applicants have income within a range of (150,6000)"
   ]
  },
  {
   "cell_type": "code",
   "execution_count": 32,
   "metadata": {},
   "outputs": [
    {
     "data": {
      "text/plain": [
       "<AxesSubplot:xlabel='CoapplicantIncome', ylabel='Count'>"
      ]
     },
     "execution_count": 32,
     "metadata": {},
     "output_type": "execute_result"
    },
    {
     "data": {
      "image/png": "[encoded data removed]",
      "text/plain": [
       "<Figure size 432x288 with 1 Axes>"
      ]
     },
     "metadata": {},
     "output_type": "display_data"
    }
   ],
   "source": [
    "sns.histplot(x=\"CoapplicantIncome\",data=df,bins=30)"
   ]
  },
  {
   "cell_type": "markdown",
   "metadata": {},
   "source": [
    "Observations from the above plot:\n",
    "\n",
    "The overall co applicant income rate is less as compared to the  Applicant income"
   ]
  },
  {
   "cell_type": "markdown",
   "metadata": {},
   "source": [
    "# Data Cleaning"
   ]
  },
  {
   "cell_type": "code",
   "execution_count": 33,
   "metadata": {},
   "outputs": [
    {
     "data": {
      "text/html": [
       "<div>\n",
       "<style scoped>\n",
       "    .dataframe tbody tr th:only-of-type {\n",
       "        vertical-align: middle;\n",
       "    }\n",
       "\n",
       "    .dataframe tbody tr th {\n",
       "        vertical-align: top;\n",
       "    }\n",
       "\n",
       "    .dataframe thead th {\n",
       "        text-align: right;\n",
       "    }\n",
       "</style>\n",
       "<table border=\"1\" class=\"dataframe\">\n",
       "  <thead>\n",
       "    <tr style=\"text-align: right;\">\n",
       "      <th></th>\n",
       "      <th>Loan_ID</th>\n",
       "      <th>Gender</th>\n",
       "      <th>Married</th>\n",
       "      <th>Dependents</th>\n",
       "      <th>Education</th>\n",
       "      <th>Self_Employed</th>\n",
       "      <th>ApplicantIncome</th>\n",
       "      <th>CoapplicantIncome</th>\n",
       "      <th>LoanAmount</th>\n",
       "      <th>Loan_Amount_Term</th>\n",
       "      <th>Credit_History</th>\n",
       "      <th>Property_Area</th>\n",
       "      <th>Loan_Status</th>\n",
       "    </tr>\n",
       "  </thead>\n",
       "  <tbody>\n",
       "    <tr>\n",
       "      <th>0</th>\n",
       "      <td>LP001002</td>\n",
       "      <td>Male</td>\n",
       "      <td>No</td>\n",
       "      <td>0</td>\n",
       "      <td>Graduate</td>\n",
       "      <td>No</td>\n",
       "      <td>5849</td>\n",
       "      <td>0.0</td>\n",
       "      <td>NaN</td>\n",
       "      <td>360.0</td>\n",
       "      <td>1.0</td>\n",
       "      <td>Urban</td>\n",
       "      <td>Y</td>\n",
       "    </tr>\n",
       "    <tr>\n",
       "      <th>1</th>\n",
       "      <td>LP001003</td>\n",
       "      <td>Male</td>\n",
       "      <td>Yes</td>\n",
       "      <td>1</td>\n",
       "      <td>Graduate</td>\n",
       "      <td>No</td>\n",
       "      <td>4583</td>\n",
       "      <td>1508.0</td>\n",
       "      <td>128.0</td>\n",
       "      <td>360.0</td>\n",
       "      <td>1.0</td>\n",
       "      <td>Rural</td>\n",
       "      <td>N</td>\n",
       "    </tr>\n",
       "    <tr>\n",
       "      <th>2</th>\n",
       "      <td>LP001005</td>\n",
       "      <td>Male</td>\n",
       "      <td>Yes</td>\n",
       "      <td>0</td>\n",
       "      <td>Graduate</td>\n",
       "      <td>Yes</td>\n",
       "      <td>3000</td>\n",
       "      <td>0.0</td>\n",
       "      <td>66.0</td>\n",
       "      <td>360.0</td>\n",
       "      <td>1.0</td>\n",
       "      <td>Urban</td>\n",
       "      <td>Y</td>\n",
       "    </tr>\n",
       "    <tr>\n",
       "      <th>3</th>\n",
       "      <td>LP001006</td>\n",
       "      <td>Male</td>\n",
       "      <td>Yes</td>\n",
       "      <td>0</td>\n",
       "      <td>Not Graduate</td>\n",
       "      <td>No</td>\n",
       "      <td>2583</td>\n",
       "      <td>2358.0</td>\n",
       "      <td>120.0</td>\n",
       "      <td>360.0</td>\n",
       "      <td>1.0</td>\n",
       "      <td>Urban</td>\n",
       "      <td>Y</td>\n",
       "    </tr>\n",
       "    <tr>\n",
       "      <th>4</th>\n",
       "      <td>LP001008</td>\n",
       "      <td>Male</td>\n",
       "      <td>No</td>\n",
       "      <td>0</td>\n",
       "      <td>Graduate</td>\n",
       "      <td>No</td>\n",
       "      <td>6000</td>\n",
       "      <td>0.0</td>\n",
       "      <td>141.0</td>\n",
       "      <td>360.0</td>\n",
       "      <td>1.0</td>\n",
       "      <td>Urban</td>\n",
       "      <td>Y</td>\n",
       "    </tr>\n",
       "  </tbody>\n",
       "</table>\n",
       "</div>"
      ],
      "text/plain": [
       "    Loan_ID Gender Married Dependents     Education Self_Employed  \\\n",
       "0  LP001002   Male      No          0      Graduate            No   \n",
       "1  LP001003   Male     Yes          1      Graduate            No   \n",
       "2  LP001005   Male     Yes          0      Graduate           Yes   \n",
       "3  LP001006   Male     Yes          0  Not Graduate            No   \n",
       "4  LP001008   Male      No          0      Graduate            No   \n",
       "\n",
       "   ApplicantIncome  CoapplicantIncome  LoanAmount  Loan_Amount_Term  \\\n",
       "0             5849                0.0         NaN             360.0   \n",
       "1             4583             1508.0       128.0             360.0   \n",
       "2             3000                0.0        66.0             360.0   \n",
       "3             2583             2358.0       120.0             360.0   \n",
       "4             6000                0.0       141.0             360.0   \n",
       "\n",
       "   Credit_History Property_Area Loan_Status  \n",
       "0             1.0         Urban           Y  \n",
       "1             1.0         Rural           N  \n",
       "2             1.0         Urban           Y  \n",
       "3             1.0         Urban           Y  \n",
       "4             1.0         Urban           Y  "
      ]
     },
     "execution_count": 33,
     "metadata": {},
     "output_type": "execute_result"
    }
   ],
   "source": [
    "df.head()"
   ]
  },
  {
   "cell_type": "code",
   "execution_count": 34,
   "metadata": {},
   "outputs": [
    {
     "data": {
      "text/plain": [
       "Loan_ID               0\n",
       "Gender               13\n",
       "Married               3\n",
       "Dependents           15\n",
       "Education             0\n",
       "Self_Employed        32\n",
       "ApplicantIncome       0\n",
       "CoapplicantIncome     0\n",
       "LoanAmount           22\n",
       "Loan_Amount_Term     14\n",
       "Credit_History       50\n",
       "Property_Area         0\n",
       "Loan_Status           0\n",
       "dtype: int64"
      ]
     },
     "execution_count": 34,
     "metadata": {},
     "output_type": "execute_result"
    }
   ],
   "source": [
    "df.isnull().sum()"
   ]
  },
  {
   "cell_type": "markdown",
   "metadata": {},
   "source": [
    "Replacing the null values in gender with Mode of data"
   ]
  },
  {
   "cell_type": "code",
   "execution_count": 35,
   "metadata": {},
   "outputs": [
    {
     "data": {
      "text/plain": [
       "0    Male\n",
       "dtype: object"
      ]
     },
     "execution_count": 35,
     "metadata": {},
     "output_type": "execute_result"
    }
   ],
   "source": [
    "df[\"Gender\"].mode()"
   ]
  },
  {
   "cell_type": "code",
   "execution_count": 36,
   "metadata": {},
   "outputs": [
    {
     "data": {
      "text/plain": [
       "13"
      ]
     },
     "execution_count": 36,
     "metadata": {},
     "output_type": "execute_result"
    }
   ],
   "source": [
    "df[\"Gender\"].isnull().sum()"
   ]
  },
  {
   "cell_type": "code",
   "execution_count": 37,
   "metadata": {},
   "outputs": [],
   "source": [
    "df['Gender'] = df['Gender'].fillna(\"Male\")"
   ]
  },
  {
   "cell_type": "code",
   "execution_count": 38,
   "metadata": {},
   "outputs": [
    {
     "data": {
      "text/plain": [
       "0"
      ]
     },
     "execution_count": 38,
     "metadata": {},
     "output_type": "execute_result"
    }
   ],
   "source": [
    "df[\"Gender\"].isnull().sum()"
   ]
  },
  {
   "cell_type": "code",
   "execution_count": 39,
   "metadata": {},
   "outputs": [
    {
     "data": {
      "text/plain": [
       "Loan_ID               0\n",
       "Gender                0\n",
       "Married               3\n",
       "Dependents           15\n",
       "Education             0\n",
       "Self_Employed        32\n",
       "ApplicantIncome       0\n",
       "CoapplicantIncome     0\n",
       "LoanAmount           22\n",
       "Loan_Amount_Term     14\n",
       "Credit_History       50\n",
       "Property_Area         0\n",
       "Loan_Status           0\n",
       "dtype: int64"
      ]
     },
     "execution_count": 39,
     "metadata": {},
     "output_type": "execute_result"
    }
   ],
   "source": [
    "df.isnull().sum()"
   ]
  },
  {
   "cell_type": "markdown",
   "metadata": {},
   "source": [
    "Replacing the null values in Married with Mode of data"
   ]
  },
  {
   "cell_type": "code",
   "execution_count": 40,
   "metadata": {},
   "outputs": [
    {
     "data": {
      "text/plain": [
       "3"
      ]
     },
     "execution_count": 40,
     "metadata": {},
     "output_type": "execute_result"
    }
   ],
   "source": [
    "df[\"Married\"].isnull().sum()"
   ]
  },
  {
   "cell_type": "code",
   "execution_count": 41,
   "metadata": {},
   "outputs": [
    {
     "data": {
      "text/plain": [
       "0    Yes\n",
       "dtype: object"
      ]
     },
     "execution_count": 41,
     "metadata": {},
     "output_type": "execute_result"
    }
   ],
   "source": [
    "df[\"Married\"].mode()"
   ]
  },
  {
   "cell_type": "code",
   "execution_count": 42,
   "metadata": {},
   "outputs": [],
   "source": [
    "df['Married'] = df['Married'].fillna(\"Yes\")"
   ]
  },
  {
   "cell_type": "code",
   "execution_count": 43,
   "metadata": {},
   "outputs": [
    {
     "data": {
      "text/plain": [
       "0"
      ]
     },
     "execution_count": 43,
     "metadata": {},
     "output_type": "execute_result"
    }
   ],
   "source": [
    "df[\"Married\"].isnull().sum()"
   ]
  },
  {
   "cell_type": "code",
   "execution_count": 44,
   "metadata": {},
   "outputs": [
    {
     "data": {
      "text/plain": [
       "Loan_ID               0\n",
       "Gender                0\n",
       "Married               0\n",
       "Dependents           15\n",
       "Education             0\n",
       "Self_Employed        32\n",
       "ApplicantIncome       0\n",
       "CoapplicantIncome     0\n",
       "LoanAmount           22\n",
       "Loan_Amount_Term     14\n",
       "Credit_History       50\n",
       "Property_Area         0\n",
       "Loan_Status           0\n",
       "dtype: int64"
      ]
     },
     "execution_count": 44,
     "metadata": {},
     "output_type": "execute_result"
    }
   ],
   "source": [
    "df.isnull().sum()"
   ]
  },
  {
   "cell_type": "code",
   "execution_count": 45,
   "metadata": {},
   "outputs": [
    {
     "data": {
      "text/plain": [
       "0     345\n",
       "1     102\n",
       "2     101\n",
       "3+     51\n",
       "Name: Dependents, dtype: int64"
      ]
     },
     "execution_count": 45,
     "metadata": {},
     "output_type": "execute_result"
    }
   ],
   "source": [
    "df[\"Dependents\"].value_counts()"
   ]
  },
  {
   "cell_type": "markdown",
   "metadata": {},
   "source": [
    "Replacing the null values in Dependents with Mode of data"
   ]
  },
  {
   "cell_type": "code",
   "execution_count": 46,
   "metadata": {},
   "outputs": [
    {
     "data": {
      "text/plain": [
       "15"
      ]
     },
     "execution_count": 46,
     "metadata": {},
     "output_type": "execute_result"
    }
   ],
   "source": [
    "df[\"Dependents\"].isnull().sum()"
   ]
  },
  {
   "cell_type": "code",
   "execution_count": 47,
   "metadata": {},
   "outputs": [
    {
     "data": {
      "text/plain": [
       "0    0\n",
       "dtype: object"
      ]
     },
     "execution_count": 47,
     "metadata": {},
     "output_type": "execute_result"
    }
   ],
   "source": [
    "df[\"Dependents\"].mode()"
   ]
  },
  {
   "cell_type": "code",
   "execution_count": 48,
   "metadata": {},
   "outputs": [],
   "source": [
    "df['Dependents'] = df['Dependents'].fillna(\"0\")"
   ]
  },
  {
   "cell_type": "code",
   "execution_count": 49,
   "metadata": {},
   "outputs": [
    {
     "data": {
      "text/plain": [
       "0"
      ]
     },
     "execution_count": 49,
     "metadata": {},
     "output_type": "execute_result"
    }
   ],
   "source": [
    "df[\"Dependents\"].isnull().sum()"
   ]
  },
  {
   "cell_type": "code",
   "execution_count": 50,
   "metadata": {},
   "outputs": [
    {
     "data": {
      "text/plain": [
       "Loan_ID               0\n",
       "Gender                0\n",
       "Married               0\n",
       "Dependents            0\n",
       "Education             0\n",
       "Self_Employed        32\n",
       "ApplicantIncome       0\n",
       "CoapplicantIncome     0\n",
       "LoanAmount           22\n",
       "Loan_Amount_Term     14\n",
       "Credit_History       50\n",
       "Property_Area         0\n",
       "Loan_Status           0\n",
       "dtype: int64"
      ]
     },
     "execution_count": 50,
     "metadata": {},
     "output_type": "execute_result"
    }
   ],
   "source": [
    "df.isnull().sum()"
   ]
  },
  {
   "cell_type": "markdown",
   "metadata": {},
   "source": [
    "Replacing the null values in Self_Employed with Mode of data"
   ]
  },
  {
   "cell_type": "code",
   "execution_count": 51,
   "metadata": {},
   "outputs": [
    {
     "data": {
      "text/plain": [
       "32"
      ]
     },
     "execution_count": 51,
     "metadata": {},
     "output_type": "execute_result"
    }
   ],
   "source": [
    "df[\"Self_Employed\"].isnull().sum()"
   ]
  },
  {
   "cell_type": "code",
   "execution_count": 52,
   "metadata": {},
   "outputs": [
    {
     "data": {
      "text/plain": [
       "0    No\n",
       "dtype: object"
      ]
     },
     "execution_count": 52,
     "metadata": {},
     "output_type": "execute_result"
    }
   ],
   "source": [
    "df[\"Self_Employed\"].mode()"
   ]
  },
  {
   "cell_type": "code",
   "execution_count": 53,
   "metadata": {},
   "outputs": [],
   "source": [
    "df['Self_Employed'] = df['Self_Employed'].fillna(\"No\")"
   ]
  },
  {
   "cell_type": "code",
   "execution_count": 54,
   "metadata": {},
   "outputs": [
    {
     "data": {
      "text/plain": [
       "0"
      ]
     },
     "execution_count": 54,
     "metadata": {},
     "output_type": "execute_result"
    }
   ],
   "source": [
    "df['Self_Employed'].isnull().sum()"
   ]
  },
  {
   "cell_type": "code",
   "execution_count": 55,
   "metadata": {},
   "outputs": [
    {
     "data": {
      "text/plain": [
       "Loan_ID               0\n",
       "Gender                0\n",
       "Married               0\n",
       "Dependents            0\n",
       "Education             0\n",
       "Self_Employed         0\n",
       "ApplicantIncome       0\n",
       "CoapplicantIncome     0\n",
       "LoanAmount           22\n",
       "Loan_Amount_Term     14\n",
       "Credit_History       50\n",
       "Property_Area         0\n",
       "Loan_Status           0\n",
       "dtype: int64"
      ]
     },
     "execution_count": 55,
     "metadata": {},
     "output_type": "execute_result"
    }
   ],
   "source": [
    "df.isnull().sum()"
   ]
  },
  {
   "cell_type": "code",
   "execution_count": 56,
   "metadata": {},
   "outputs": [
    {
     "data": {
      "text/plain": [
       "count    592.000000\n",
       "mean     146.412162\n",
       "std       85.587325\n",
       "min        9.000000\n",
       "25%      100.000000\n",
       "50%      128.000000\n",
       "75%      168.000000\n",
       "max      700.000000\n",
       "Name: LoanAmount, dtype: float64"
      ]
     },
     "execution_count": 56,
     "metadata": {},
     "output_type": "execute_result"
    }
   ],
   "source": [
    "df[\"LoanAmount\"].describe()"
   ]
  },
  {
   "cell_type": "markdown",
   "metadata": {},
   "source": [
    "Replacing the missing values in loan amount with median"
   ]
  },
  {
   "cell_type": "code",
   "execution_count": 57,
   "metadata": {},
   "outputs": [
    {
     "data": {
      "text/plain": [
       "128.0"
      ]
     },
     "execution_count": 57,
     "metadata": {},
     "output_type": "execute_result"
    }
   ],
   "source": [
    "df[\"LoanAmount\"].median()"
   ]
  },
  {
   "cell_type": "code",
   "execution_count": 58,
   "metadata": {},
   "outputs": [],
   "source": [
    "df['LoanAmount'] = df['LoanAmount'].fillna(128.0)"
   ]
  },
  {
   "cell_type": "code",
   "execution_count": 59,
   "metadata": {},
   "outputs": [
    {
     "data": {
      "text/plain": [
       "Loan_ID               0\n",
       "Gender                0\n",
       "Married               0\n",
       "Dependents            0\n",
       "Education             0\n",
       "Self_Employed         0\n",
       "ApplicantIncome       0\n",
       "CoapplicantIncome     0\n",
       "LoanAmount            0\n",
       "Loan_Amount_Term     14\n",
       "Credit_History       50\n",
       "Property_Area         0\n",
       "Loan_Status           0\n",
       "dtype: int64"
      ]
     },
     "execution_count": 59,
     "metadata": {},
     "output_type": "execute_result"
    }
   ],
   "source": [
    "df.isnull().sum()"
   ]
  },
  {
   "cell_type": "code",
   "execution_count": 60,
   "metadata": {},
   "outputs": [
    {
     "data": {
      "text/plain": [
       "count    600.00000\n",
       "mean     342.00000\n",
       "std       65.12041\n",
       "min       12.00000\n",
       "25%      360.00000\n",
       "50%      360.00000\n",
       "75%      360.00000\n",
       "max      480.00000\n",
       "Name: Loan_Amount_Term, dtype: float64"
      ]
     },
     "execution_count": 60,
     "metadata": {},
     "output_type": "execute_result"
    }
   ],
   "source": [
    "df[\"Loan_Amount_Term\"].describe()"
   ]
  },
  {
   "cell_type": "code",
   "execution_count": 61,
   "metadata": {},
   "outputs": [
    {
     "data": {
      "text/plain": [
       "360.0"
      ]
     },
     "execution_count": 61,
     "metadata": {},
     "output_type": "execute_result"
    }
   ],
   "source": [
    "df[\"Loan_Amount_Term\"].median()"
   ]
  },
  {
   "cell_type": "markdown",
   "metadata": {},
   "source": [
    "Replacing the missing values in Loan_Amount_Term with median"
   ]
  },
  {
   "cell_type": "code",
   "execution_count": 62,
   "metadata": {},
   "outputs": [],
   "source": [
    "df['Loan_Amount_Term'] = df['Loan_Amount_Term'].fillna(360.0)"
   ]
  },
  {
   "cell_type": "code",
   "execution_count": 63,
   "metadata": {},
   "outputs": [
    {
     "data": {
      "text/plain": [
       "Loan_ID               0\n",
       "Gender                0\n",
       "Married               0\n",
       "Dependents            0\n",
       "Education             0\n",
       "Self_Employed         0\n",
       "ApplicantIncome       0\n",
       "CoapplicantIncome     0\n",
       "LoanAmount            0\n",
       "Loan_Amount_Term      0\n",
       "Credit_History       50\n",
       "Property_Area         0\n",
       "Loan_Status           0\n",
       "dtype: int64"
      ]
     },
     "execution_count": 63,
     "metadata": {},
     "output_type": "execute_result"
    }
   ],
   "source": [
    "df.isnull().sum()"
   ]
  },
  {
   "cell_type": "code",
   "execution_count": 64,
   "metadata": {},
   "outputs": [
    {
     "data": {
      "text/plain": [
       "1.0    475\n",
       "0.0     89\n",
       "Name: Credit_History, dtype: int64"
      ]
     },
     "execution_count": 64,
     "metadata": {},
     "output_type": "execute_result"
    }
   ],
   "source": [
    "df[\"Credit_History\"].value_counts()"
   ]
  },
  {
   "cell_type": "markdown",
   "metadata": {},
   "source": [
    "Replacing the missing values in Credit_History with median"
   ]
  },
  {
   "cell_type": "code",
   "execution_count": 65,
   "metadata": {},
   "outputs": [
    {
     "data": {
      "text/plain": [
       "1.0"
      ]
     },
     "execution_count": 65,
     "metadata": {},
     "output_type": "execute_result"
    }
   ],
   "source": [
    "df['Credit_History'].median()"
   ]
  },
  {
   "cell_type": "code",
   "execution_count": 66,
   "metadata": {},
   "outputs": [],
   "source": [
    "df['Credit_History'] = df['Credit_History'].fillna(1.0)"
   ]
  },
  {
   "cell_type": "code",
   "execution_count": 67,
   "metadata": {},
   "outputs": [
    {
     "data": {
      "text/plain": [
       "Loan_ID              0\n",
       "Gender               0\n",
       "Married              0\n",
       "Dependents           0\n",
       "Education            0\n",
       "Self_Employed        0\n",
       "ApplicantIncome      0\n",
       "CoapplicantIncome    0\n",
       "LoanAmount           0\n",
       "Loan_Amount_Term     0\n",
       "Credit_History       0\n",
       "Property_Area        0\n",
       "Loan_Status          0\n",
       "dtype: int64"
      ]
     },
     "execution_count": 67,
     "metadata": {},
     "output_type": "execute_result"
    }
   ],
   "source": [
    "df.isnull().sum()"
   ]
  },
  {
   "cell_type": "markdown",
   "metadata": {},
   "source": [
    "No more missing values in the dataframe"
   ]
  },
  {
   "cell_type": "code",
   "execution_count": 68,
   "metadata": {},
   "outputs": [
    {
     "data": {
      "text/html": [
       "<div>\n",
       "<style scoped>\n",
       "    .dataframe tbody tr th:only-of-type {\n",
       "        vertical-align: middle;\n",
       "    }\n",
       "\n",
       "    .dataframe tbody tr th {\n",
       "        vertical-align: top;\n",
       "    }\n",
       "\n",
       "    .dataframe thead th {\n",
       "        text-align: right;\n",
       "    }\n",
       "</style>\n",
       "<table border=\"1\" class=\"dataframe\">\n",
       "  <thead>\n",
       "    <tr style=\"text-align: right;\">\n",
       "      <th></th>\n",
       "      <th>Loan_ID</th>\n",
       "      <th>Gender</th>\n",
       "      <th>Married</th>\n",
       "      <th>Dependents</th>\n",
       "      <th>Education</th>\n",
       "      <th>Self_Employed</th>\n",
       "      <th>ApplicantIncome</th>\n",
       "      <th>CoapplicantIncome</th>\n",
       "      <th>LoanAmount</th>\n",
       "      <th>Loan_Amount_Term</th>\n",
       "      <th>Credit_History</th>\n",
       "      <th>Property_Area</th>\n",
       "      <th>Loan_Status</th>\n",
       "    </tr>\n",
       "  </thead>\n",
       "  <tbody>\n",
       "    <tr>\n",
       "      <th>0</th>\n",
       "      <td>LP001002</td>\n",
       "      <td>Male</td>\n",
       "      <td>No</td>\n",
       "      <td>0</td>\n",
       "      <td>Graduate</td>\n",
       "      <td>No</td>\n",
       "      <td>5849</td>\n",
       "      <td>0.0</td>\n",
       "      <td>128.0</td>\n",
       "      <td>360.0</td>\n",
       "      <td>1.0</td>\n",
       "      <td>Urban</td>\n",
       "      <td>Y</td>\n",
       "    </tr>\n",
       "    <tr>\n",
       "      <th>1</th>\n",
       "      <td>LP001003</td>\n",
       "      <td>Male</td>\n",
       "      <td>Yes</td>\n",
       "      <td>1</td>\n",
       "      <td>Graduate</td>\n",
       "      <td>No</td>\n",
       "      <td>4583</td>\n",
       "      <td>1508.0</td>\n",
       "      <td>128.0</td>\n",
       "      <td>360.0</td>\n",
       "      <td>1.0</td>\n",
       "      <td>Rural</td>\n",
       "      <td>N</td>\n",
       "    </tr>\n",
       "    <tr>\n",
       "      <th>2</th>\n",
       "      <td>LP001005</td>\n",
       "      <td>Male</td>\n",
       "      <td>Yes</td>\n",
       "      <td>0</td>\n",
       "      <td>Graduate</td>\n",
       "      <td>Yes</td>\n",
       "      <td>3000</td>\n",
       "      <td>0.0</td>\n",
       "      <td>66.0</td>\n",
       "      <td>360.0</td>\n",
       "      <td>1.0</td>\n",
       "      <td>Urban</td>\n",
       "      <td>Y</td>\n",
       "    </tr>\n",
       "    <tr>\n",
       "      <th>3</th>\n",
       "      <td>LP001006</td>\n",
       "      <td>Male</td>\n",
       "      <td>Yes</td>\n",
       "      <td>0</td>\n",
       "      <td>Not Graduate</td>\n",
       "      <td>No</td>\n",
       "      <td>2583</td>\n",
       "      <td>2358.0</td>\n",
       "      <td>120.0</td>\n",
       "      <td>360.0</td>\n",
       "      <td>1.0</td>\n",
       "      <td>Urban</td>\n",
       "      <td>Y</td>\n",
       "    </tr>\n",
       "    <tr>\n",
       "      <th>4</th>\n",
       "      <td>LP001008</td>\n",
       "      <td>Male</td>\n",
       "      <td>No</td>\n",
       "      <td>0</td>\n",
       "      <td>Graduate</td>\n",
       "      <td>No</td>\n",
       "      <td>6000</td>\n",
       "      <td>0.0</td>\n",
       "      <td>141.0</td>\n",
       "      <td>360.0</td>\n",
       "      <td>1.0</td>\n",
       "      <td>Urban</td>\n",
       "      <td>Y</td>\n",
       "    </tr>\n",
       "  </tbody>\n",
       "</table>\n",
       "</div>"
      ],
      "text/plain": [
       "    Loan_ID Gender Married Dependents     Education Self_Employed  \\\n",
       "0  LP001002   Male      No          0      Graduate            No   \n",
       "1  LP001003   Male     Yes          1      Graduate            No   \n",
       "2  LP001005   Male     Yes          0      Graduate           Yes   \n",
       "3  LP001006   Male     Yes          0  Not Graduate            No   \n",
       "4  LP001008   Male      No          0      Graduate            No   \n",
       "\n",
       "   ApplicantIncome  CoapplicantIncome  LoanAmount  Loan_Amount_Term  \\\n",
       "0             5849                0.0       128.0             360.0   \n",
       "1             4583             1508.0       128.0             360.0   \n",
       "2             3000                0.0        66.0             360.0   \n",
       "3             2583             2358.0       120.0             360.0   \n",
       "4             6000                0.0       141.0             360.0   \n",
       "\n",
       "   Credit_History Property_Area Loan_Status  \n",
       "0             1.0         Urban           Y  \n",
       "1             1.0         Rural           N  \n",
       "2             1.0         Urban           Y  \n",
       "3             1.0         Urban           Y  \n",
       "4             1.0         Urban           Y  "
      ]
     },
     "execution_count": 68,
     "metadata": {},
     "output_type": "execute_result"
    }
   ],
   "source": [
    "df.head()"
   ]
  },
  {
   "cell_type": "markdown",
   "metadata": {},
   "source": [
    "Droping the Loan_id column"
   ]
  },
  {
   "cell_type": "code",
   "execution_count": 69,
   "metadata": {},
   "outputs": [],
   "source": [
    "df = df.drop(\"Loan_ID\",axis=1)"
   ]
  },
  {
   "cell_type": "code",
   "execution_count": 70,
   "metadata": {},
   "outputs": [
    {
     "data": {
      "text/html": [
       "<div>\n",
       "<style scoped>\n",
       "    .dataframe tbody tr th:only-of-type {\n",
       "        vertical-align: middle;\n",
       "    }\n",
       "\n",
       "    .dataframe tbody tr th {\n",
       "        vertical-align: top;\n",
       "    }\n",
       "\n",
       "    .dataframe thead th {\n",
       "        text-align: right;\n",
       "    }\n",
       "</style>\n",
       "<table border=\"1\" class=\"dataframe\">\n",
       "  <thead>\n",
       "    <tr style=\"text-align: right;\">\n",
       "      <th></th>\n",
       "      <th>Gender</th>\n",
       "      <th>Married</th>\n",
       "      <th>Dependents</th>\n",
       "      <th>Education</th>\n",
       "      <th>Self_Employed</th>\n",
       "      <th>ApplicantIncome</th>\n",
       "      <th>CoapplicantIncome</th>\n",
       "      <th>LoanAmount</th>\n",
       "      <th>Loan_Amount_Term</th>\n",
       "      <th>Credit_History</th>\n",
       "      <th>Property_Area</th>\n",
       "      <th>Loan_Status</th>\n",
       "    </tr>\n",
       "  </thead>\n",
       "  <tbody>\n",
       "    <tr>\n",
       "      <th>0</th>\n",
       "      <td>Male</td>\n",
       "      <td>No</td>\n",
       "      <td>0</td>\n",
       "      <td>Graduate</td>\n",
       "      <td>No</td>\n",
       "      <td>5849</td>\n",
       "      <td>0.0</td>\n",
       "      <td>128.0</td>\n",
       "      <td>360.0</td>\n",
       "      <td>1.0</td>\n",
       "      <td>Urban</td>\n",
       "      <td>Y</td>\n",
       "    </tr>\n",
       "    <tr>\n",
       "      <th>1</th>\n",
       "      <td>Male</td>\n",
       "      <td>Yes</td>\n",
       "      <td>1</td>\n",
       "      <td>Graduate</td>\n",
       "      <td>No</td>\n",
       "      <td>4583</td>\n",
       "      <td>1508.0</td>\n",
       "      <td>128.0</td>\n",
       "      <td>360.0</td>\n",
       "      <td>1.0</td>\n",
       "      <td>Rural</td>\n",
       "      <td>N</td>\n",
       "    </tr>\n",
       "    <tr>\n",
       "      <th>2</th>\n",
       "      <td>Male</td>\n",
       "      <td>Yes</td>\n",
       "      <td>0</td>\n",
       "      <td>Graduate</td>\n",
       "      <td>Yes</td>\n",
       "      <td>3000</td>\n",
       "      <td>0.0</td>\n",
       "      <td>66.0</td>\n",
       "      <td>360.0</td>\n",
       "      <td>1.0</td>\n",
       "      <td>Urban</td>\n",
       "      <td>Y</td>\n",
       "    </tr>\n",
       "    <tr>\n",
       "      <th>3</th>\n",
       "      <td>Male</td>\n",
       "      <td>Yes</td>\n",
       "      <td>0</td>\n",
       "      <td>Not Graduate</td>\n",
       "      <td>No</td>\n",
       "      <td>2583</td>\n",
       "      <td>2358.0</td>\n",
       "      <td>120.0</td>\n",
       "      <td>360.0</td>\n",
       "      <td>1.0</td>\n",
       "      <td>Urban</td>\n",
       "      <td>Y</td>\n",
       "    </tr>\n",
       "    <tr>\n",
       "      <th>4</th>\n",
       "      <td>Male</td>\n",
       "      <td>No</td>\n",
       "      <td>0</td>\n",
       "      <td>Graduate</td>\n",
       "      <td>No</td>\n",
       "      <td>6000</td>\n",
       "      <td>0.0</td>\n",
       "      <td>141.0</td>\n",
       "      <td>360.0</td>\n",
       "      <td>1.0</td>\n",
       "      <td>Urban</td>\n",
       "      <td>Y</td>\n",
       "    </tr>\n",
       "  </tbody>\n",
       "</table>\n",
       "</div>"
      ],
      "text/plain": [
       "  Gender Married Dependents     Education Self_Employed  ApplicantIncome  \\\n",
       "0   Male      No          0      Graduate            No             5849   \n",
       "1   Male     Yes          1      Graduate            No             4583   \n",
       "2   Male     Yes          0      Graduate           Yes             3000   \n",
       "3   Male     Yes          0  Not Graduate            No             2583   \n",
       "4   Male      No          0      Graduate            No             6000   \n",
       "\n",
       "   CoapplicantIncome  LoanAmount  Loan_Amount_Term  Credit_History  \\\n",
       "0                0.0       128.0             360.0             1.0   \n",
       "1             1508.0       128.0             360.0             1.0   \n",
       "2                0.0        66.0             360.0             1.0   \n",
       "3             2358.0       120.0             360.0             1.0   \n",
       "4                0.0       141.0             360.0             1.0   \n",
       "\n",
       "  Property_Area Loan_Status  \n",
       "0         Urban           Y  \n",
       "1         Rural           N  \n",
       "2         Urban           Y  \n",
       "3         Urban           Y  \n",
       "4         Urban           Y  "
      ]
     },
     "execution_count": 70,
     "metadata": {},
     "output_type": "execute_result"
    }
   ],
   "source": [
    "df.head()"
   ]
  },
  {
   "cell_type": "markdown",
   "metadata": {},
   "source": [
    "## Outliers"
   ]
  },
  {
   "cell_type": "code",
   "execution_count": 71,
   "metadata": {},
   "outputs": [],
   "source": [
    "from scipy import stats\n",
    "# creating function to count outliers\n",
    "def outliers(cname):\n",
    "    Q1 = df[cname].quantile(0.25)\n",
    "    Q3 = df[cname].quantile(0.75)\n",
    "    IQR = stats.iqr(df[cname])\n",
    "    print('The first quartile :',Q1,'for',cname)\n",
    "    print('The third quartile :',Q3,'for',cname)\n",
    "    print('The IQR :', IQR,'for',cname)\n",
    "    \n",
    "    L_outlier = Q1 - 1.5*(Q3 - Q1)  \n",
    "    U_outlier = Q3 + 1.5*(Q3 - Q1)\n",
    "\n",
    "    print('The left outlier :',L_outlier,'for',cname)\n",
    "    print('The Right outlier :',U_outlier,'for',cname)\n",
    "    \n",
    "    print(\"Left Outliers :\",df[df[cname] < L_outlier][cname].count())\n",
    "    print(\"Right Outliers :\",df[df[cname] > U_outlier][cname].count())"
   ]
  },
  {
   "cell_type": "code",
   "execution_count": 72,
   "metadata": {},
   "outputs": [
    {
     "name": "stdout",
     "output_type": "stream",
     "text": [
      "The first quartile : 2877.5 for ApplicantIncome\n",
      "The third quartile : 5795.0 for ApplicantIncome\n",
      "The IQR : 2917.5 for ApplicantIncome\n",
      "The left outlier : -1498.75 for ApplicantIncome\n",
      "The Right outlier : 10171.25 for ApplicantIncome\n",
      "Left Outliers : 0\n",
      "Right Outliers : 50\n"
     ]
    }
   ],
   "source": [
    "outliers(\"ApplicantIncome\")"
   ]
  },
  {
   "cell_type": "code",
   "execution_count": 73,
   "metadata": {},
   "outputs": [
    {
     "data": {
      "text/plain": [
       "<AxesSubplot:xlabel='ApplicantIncome'>"
      ]
     },
     "execution_count": 73,
     "metadata": {},
     "output_type": "execute_result"
    },
    {
     "data": {
      "image/png": "[encoded data removed]",
      "text/plain": [
       "<Figure size 432x288 with 1 Axes>"
      ]
     },
     "metadata": {},
     "output_type": "display_data"
    }
   ],
   "source": [
    "sns.boxplot(x=\"ApplicantIncome\",data=df)"
   ]
  },
  {
   "cell_type": "markdown",
   "metadata": {},
   "source": [
    "There are outliers in Applicant Income, but there is a huge possibility that those individuals can have that kind of income its very realistic"
   ]
  },
  {
   "cell_type": "code",
   "execution_count": 74,
   "metadata": {},
   "outputs": [
    {
     "name": "stdout",
     "output_type": "stream",
     "text": [
      "The first quartile : 0.0 for CoapplicantIncome\n",
      "The third quartile : 2297.25 for CoapplicantIncome\n",
      "The IQR : 2297.25 for CoapplicantIncome\n",
      "The left outlier : -3445.875 for CoapplicantIncome\n",
      "The Right outlier : 5743.125 for CoapplicantIncome\n",
      "Left Outliers : 0\n",
      "Right Outliers : 18\n"
     ]
    }
   ],
   "source": [
    "outliers(\"CoapplicantIncome\")"
   ]
  },
  {
   "cell_type": "code",
   "execution_count": 75,
   "metadata": {},
   "outputs": [
    {
     "data": {
      "text/plain": [
       "<AxesSubplot:xlabel='CoapplicantIncome'>"
      ]
     },
     "execution_count": 75,
     "metadata": {},
     "output_type": "execute_result"
    },
    {
     "data": {
      "image/png": "[encoded data removed]",
      "text/plain": [
       "<Figure size 432x288 with 1 Axes>"
      ]
     },
     "metadata": {},
     "output_type": "display_data"
    }
   ],
   "source": [
    "sns.boxplot(x=\"CoapplicantIncome\",data=df)"
   ]
  },
  {
   "cell_type": "markdown",
   "metadata": {},
   "source": [
    "There are a few outliers in Coapplicant Income"
   ]
  },
  {
   "cell_type": "code",
   "execution_count": 76,
   "metadata": {},
   "outputs": [
    {
     "name": "stdout",
     "output_type": "stream",
     "text": [
      "The first quartile : 100.25 for LoanAmount\n",
      "The third quartile : 164.75 for LoanAmount\n",
      "The IQR : 64.5 for LoanAmount\n",
      "The left outlier : 3.5 for LoanAmount\n",
      "The Right outlier : 261.5 for LoanAmount\n",
      "Left Outliers : 0\n",
      "Right Outliers : 41\n"
     ]
    }
   ],
   "source": [
    "outliers(\"LoanAmount\")"
   ]
  },
  {
   "cell_type": "code",
   "execution_count": 77,
   "metadata": {},
   "outputs": [
    {
     "data": {
      "text/plain": [
       "<AxesSubplot:xlabel='LoanAmount'>"
      ]
     },
     "execution_count": 77,
     "metadata": {},
     "output_type": "execute_result"
    },
    {
     "data": {
      "image/png": "[encoded data removed]",
      "text/plain": [
       "<Figure size 432x288 with 1 Axes>"
      ]
     },
     "metadata": {},
     "output_type": "display_data"
    }
   ],
   "source": [
    "sns.boxplot(x=\"LoanAmount\",data=df)"
   ]
  },
  {
   "cell_type": "markdown",
   "metadata": {},
   "source": [
    "There are a few outliers in Loan Amount"
   ]
  },
  {
   "cell_type": "code",
   "execution_count": 78,
   "metadata": {},
   "outputs": [
    {
     "name": "stdout",
     "output_type": "stream",
     "text": [
      "The first quartile : 360.0 for Loan_Amount_Term\n",
      "The third quartile : 360.0 for Loan_Amount_Term\n",
      "The IQR : 0.0 for Loan_Amount_Term\n",
      "The left outlier : 360.0 for Loan_Amount_Term\n",
      "The Right outlier : 360.0 for Loan_Amount_Term\n",
      "Left Outliers : 73\n",
      "Right Outliers : 15\n"
     ]
    }
   ],
   "source": [
    "outliers(\"Loan_Amount_Term\")"
   ]
  },
  {
   "cell_type": "code",
   "execution_count": 79,
   "metadata": {},
   "outputs": [
    {
     "data": {
      "text/plain": [
       "<AxesSubplot:xlabel='Loan_Amount_Term'>"
      ]
     },
     "execution_count": 79,
     "metadata": {},
     "output_type": "execute_result"
    },
    {
     "data": {
      "image/png": "[encoded data removed]",
      "text/plain": [
       "<Figure size 432x288 with 1 Axes>"
      ]
     },
     "metadata": {},
     "output_type": "display_data"
    }
   ],
   "source": [
    "sns.boxplot(x=\"Loan_Amount_Term\",data=df)"
   ]
  },
  {
   "cell_type": "markdown",
   "metadata": {},
   "source": [
    "Creating seprate variables for categorical and continuous columns"
   ]
  },
  {
   "cell_type": "code",
   "execution_count": 80,
   "metadata": {},
   "outputs": [],
   "source": [
    "df_cont = df[[\"ApplicantIncome\",\"CoapplicantIncome\",\"LoanAmount\",\"Loan_Amount_Term\"]]"
   ]
  },
  {
   "cell_type": "code",
   "execution_count": 81,
   "metadata": {},
   "outputs": [
    {
     "data": {
      "text/html": [
       "<div>\n",
       "<style scoped>\n",
       "    .dataframe tbody tr th:only-of-type {\n",
       "        vertical-align: middle;\n",
       "    }\n",
       "\n",
       "    .dataframe tbody tr th {\n",
       "        vertical-align: top;\n",
       "    }\n",
       "\n",
       "    .dataframe thead th {\n",
       "        text-align: right;\n",
       "    }\n",
       "</style>\n",
       "<table border=\"1\" class=\"dataframe\">\n",
       "  <thead>\n",
       "    <tr style=\"text-align: right;\">\n",
       "      <th></th>\n",
       "      <th>ApplicantIncome</th>\n",
       "      <th>CoapplicantIncome</th>\n",
       "      <th>LoanAmount</th>\n",
       "      <th>Loan_Amount_Term</th>\n",
       "    </tr>\n",
       "  </thead>\n",
       "  <tbody>\n",
       "    <tr>\n",
       "      <th>0</th>\n",
       "      <td>5849</td>\n",
       "      <td>0.0</td>\n",
       "      <td>128.0</td>\n",
       "      <td>360.0</td>\n",
       "    </tr>\n",
       "    <tr>\n",
       "      <th>1</th>\n",
       "      <td>4583</td>\n",
       "      <td>1508.0</td>\n",
       "      <td>128.0</td>\n",
       "      <td>360.0</td>\n",
       "    </tr>\n",
       "    <tr>\n",
       "      <th>2</th>\n",
       "      <td>3000</td>\n",
       "      <td>0.0</td>\n",
       "      <td>66.0</td>\n",
       "      <td>360.0</td>\n",
       "    </tr>\n",
       "    <tr>\n",
       "      <th>3</th>\n",
       "      <td>2583</td>\n",
       "      <td>2358.0</td>\n",
       "      <td>120.0</td>\n",
       "      <td>360.0</td>\n",
       "    </tr>\n",
       "    <tr>\n",
       "      <th>4</th>\n",
       "      <td>6000</td>\n",
       "      <td>0.0</td>\n",
       "      <td>141.0</td>\n",
       "      <td>360.0</td>\n",
       "    </tr>\n",
       "  </tbody>\n",
       "</table>\n",
       "</div>"
      ],
      "text/plain": [
       "   ApplicantIncome  CoapplicantIncome  LoanAmount  Loan_Amount_Term\n",
       "0             5849                0.0       128.0             360.0\n",
       "1             4583             1508.0       128.0             360.0\n",
       "2             3000                0.0        66.0             360.0\n",
       "3             2583             2358.0       120.0             360.0\n",
       "4             6000                0.0       141.0             360.0"
      ]
     },
     "execution_count": 81,
     "metadata": {},
     "output_type": "execute_result"
    }
   ],
   "source": [
    "df_cont.head()"
   ]
  },
  {
   "cell_type": "code",
   "execution_count": 82,
   "metadata": {},
   "outputs": [],
   "source": [
    "df_cata = df.drop([\"ApplicantIncome\",\"CoapplicantIncome\",\"LoanAmount\",\"Loan_Amount_Term\"],axis=1)"
   ]
  },
  {
   "cell_type": "code",
   "execution_count": 83,
   "metadata": {},
   "outputs": [
    {
     "data": {
      "text/html": [
       "<div>\n",
       "<style scoped>\n",
       "    .dataframe tbody tr th:only-of-type {\n",
       "        vertical-align: middle;\n",
       "    }\n",
       "\n",
       "    .dataframe tbody tr th {\n",
       "        vertical-align: top;\n",
       "    }\n",
       "\n",
       "    .dataframe thead th {\n",
       "        text-align: right;\n",
       "    }\n",
       "</style>\n",
       "<table border=\"1\" class=\"dataframe\">\n",
       "  <thead>\n",
       "    <tr style=\"text-align: right;\">\n",
       "      <th></th>\n",
       "      <th>Gender</th>\n",
       "      <th>Married</th>\n",
       "      <th>Dependents</th>\n",
       "      <th>Education</th>\n",
       "      <th>Self_Employed</th>\n",
       "      <th>Credit_History</th>\n",
       "      <th>Property_Area</th>\n",
       "      <th>Loan_Status</th>\n",
       "    </tr>\n",
       "  </thead>\n",
       "  <tbody>\n",
       "    <tr>\n",
       "      <th>0</th>\n",
       "      <td>Male</td>\n",
       "      <td>No</td>\n",
       "      <td>0</td>\n",
       "      <td>Graduate</td>\n",
       "      <td>No</td>\n",
       "      <td>1.0</td>\n",
       "      <td>Urban</td>\n",
       "      <td>Y</td>\n",
       "    </tr>\n",
       "    <tr>\n",
       "      <th>1</th>\n",
       "      <td>Male</td>\n",
       "      <td>Yes</td>\n",
       "      <td>1</td>\n",
       "      <td>Graduate</td>\n",
       "      <td>No</td>\n",
       "      <td>1.0</td>\n",
       "      <td>Rural</td>\n",
       "      <td>N</td>\n",
       "    </tr>\n",
       "    <tr>\n",
       "      <th>2</th>\n",
       "      <td>Male</td>\n",
       "      <td>Yes</td>\n",
       "      <td>0</td>\n",
       "      <td>Graduate</td>\n",
       "      <td>Yes</td>\n",
       "      <td>1.0</td>\n",
       "      <td>Urban</td>\n",
       "      <td>Y</td>\n",
       "    </tr>\n",
       "    <tr>\n",
       "      <th>3</th>\n",
       "      <td>Male</td>\n",
       "      <td>Yes</td>\n",
       "      <td>0</td>\n",
       "      <td>Not Graduate</td>\n",
       "      <td>No</td>\n",
       "      <td>1.0</td>\n",
       "      <td>Urban</td>\n",
       "      <td>Y</td>\n",
       "    </tr>\n",
       "    <tr>\n",
       "      <th>4</th>\n",
       "      <td>Male</td>\n",
       "      <td>No</td>\n",
       "      <td>0</td>\n",
       "      <td>Graduate</td>\n",
       "      <td>No</td>\n",
       "      <td>1.0</td>\n",
       "      <td>Urban</td>\n",
       "      <td>Y</td>\n",
       "    </tr>\n",
       "  </tbody>\n",
       "</table>\n",
       "</div>"
      ],
      "text/plain": [
       "  Gender Married Dependents     Education Self_Employed  Credit_History  \\\n",
       "0   Male      No          0      Graduate            No             1.0   \n",
       "1   Male     Yes          1      Graduate            No             1.0   \n",
       "2   Male     Yes          0      Graduate           Yes             1.0   \n",
       "3   Male     Yes          0  Not Graduate            No             1.0   \n",
       "4   Male      No          0      Graduate            No             1.0   \n",
       "\n",
       "  Property_Area Loan_Status  \n",
       "0         Urban           Y  \n",
       "1         Rural           N  \n",
       "2         Urban           Y  \n",
       "3         Urban           Y  \n",
       "4         Urban           Y  "
      ]
     },
     "execution_count": 83,
     "metadata": {},
     "output_type": "execute_result"
    }
   ],
   "source": [
    "df_cata.head()"
   ]
  },
  {
   "cell_type": "code",
   "execution_count": 84,
   "metadata": {},
   "outputs": [
    {
     "data": {
      "text/plain": [
       "<AxesSubplot:>"
      ]
     },
     "execution_count": 84,
     "metadata": {},
     "output_type": "execute_result"
    },
    {
     "data": {
      "image/png": "[encoded data removed]",
      "text/plain": [
       "<Figure size 1080x1080 with 1 Axes>"
      ]
     },
     "metadata": {},
     "output_type": "display_data"
    }
   ],
   "source": [
    "plt.figure(figsize=(15,15))\n",
    "sns.boxplot(data=df_cont)"
   ]
  },
  {
   "cell_type": "markdown",
   "metadata": {},
   "source": [
    "We can clearly observe the outliers we need to reduce them"
   ]
  },
  {
   "cell_type": "markdown",
   "metadata": {},
   "source": [
    "## Removing Outliers"
   ]
  },
  {
   "cell_type": "markdown",
   "metadata": {},
   "source": [
    "#### Z score technique"
   ]
  },
  {
   "cell_type": "code",
   "execution_count": 85,
   "metadata": {},
   "outputs": [],
   "source": [
    "from scipy.stats import zscore"
   ]
  },
  {
   "cell_type": "code",
   "execution_count": 86,
   "metadata": {},
   "outputs": [],
   "source": [
    "z = np.abs(zscore(df_cont))"
   ]
  },
  {
   "cell_type": "code",
   "execution_count": 87,
   "metadata": {},
   "outputs": [
    {
     "data": {
      "text/plain": [
       "(614, 4)"
      ]
     },
     "execution_count": 87,
     "metadata": {},
     "output_type": "execute_result"
    }
   ],
   "source": [
    "z.shape"
   ]
  },
  {
   "cell_type": "code",
   "execution_count": 88,
   "metadata": {},
   "outputs": [
    {
     "name": "stdout",
     "output_type": "stream",
     "text": [
      "(array([  9,  14,  68,  94, 126, 130, 133, 155, 155, 171, 171, 177, 177,\n",
      "       183, 185, 242, 262, 278, 308, 313, 333, 333, 369, 402, 409, 417,\n",
      "       432, 443, 487, 495, 497, 506, 523, 525, 546, 561, 575, 581, 585,\n",
      "       600, 604], dtype=int64), array([1, 3, 3, 3, 0, 2, 3, 0, 2, 0, 2, 1, 2, 0, 0, 3, 3, 2, 2, 3, 0, 2,\n",
      "       2, 1, 0, 1, 2, 0, 2, 3, 3, 2, 2, 2, 3, 2, 3, 1, 3, 1, 2],\n",
      "      dtype=int64))\n"
     ]
    }
   ],
   "source": [
    "threshhold = 3\n",
    "print(np.where(z > 3))"
   ]
  },
  {
   "cell_type": "code",
   "execution_count": 89,
   "metadata": {},
   "outputs": [
    {
     "name": "stdout",
     "output_type": "stream",
     "text": [
      "(614, 12)\n",
      "(577, 12)\n"
     ]
    }
   ],
   "source": [
    "df_new = df[(z < 3).all(axis=1)]\n",
    "print(df.shape)\n",
    "print(df_new.shape)"
   ]
  },
  {
   "cell_type": "markdown",
   "metadata": {},
   "source": [
    "### Percentage data loss "
   ]
  },
  {
   "cell_type": "code",
   "execution_count": 90,
   "metadata": {},
   "outputs": [],
   "source": [
    "loss = (614-577)/614*100"
   ]
  },
  {
   "cell_type": "code",
   "execution_count": 91,
   "metadata": {},
   "outputs": [
    {
     "name": "stdout",
     "output_type": "stream",
     "text": [
      "The data loss is  6.0  %\n"
     ]
    }
   ],
   "source": [
    "print(\"The data loss is \",round(loss,1),\" %\")"
   ]
  },
  {
   "cell_type": "markdown",
   "metadata": {},
   "source": [
    "Considering the amount of outliers and size of the Data set we can go ahead with 6% loss of data"
   ]
  },
  {
   "cell_type": "code",
   "execution_count": 92,
   "metadata": {},
   "outputs": [
    {
     "data": {
      "text/html": [
       "<div>\n",
       "<style scoped>\n",
       "    .dataframe tbody tr th:only-of-type {\n",
       "        vertical-align: middle;\n",
       "    }\n",
       "\n",
       "    .dataframe tbody tr th {\n",
       "        vertical-align: top;\n",
       "    }\n",
       "\n",
       "    .dataframe thead th {\n",
       "        text-align: right;\n",
       "    }\n",
       "</style>\n",
       "<table border=\"1\" class=\"dataframe\">\n",
       "  <thead>\n",
       "    <tr style=\"text-align: right;\">\n",
       "      <th></th>\n",
       "      <th>Gender</th>\n",
       "      <th>Married</th>\n",
       "      <th>Dependents</th>\n",
       "      <th>Education</th>\n",
       "      <th>Self_Employed</th>\n",
       "      <th>ApplicantIncome</th>\n",
       "      <th>CoapplicantIncome</th>\n",
       "      <th>LoanAmount</th>\n",
       "      <th>Loan_Amount_Term</th>\n",
       "      <th>Credit_History</th>\n",
       "      <th>Property_Area</th>\n",
       "      <th>Loan_Status</th>\n",
       "    </tr>\n",
       "  </thead>\n",
       "  <tbody>\n",
       "    <tr>\n",
       "      <th>0</th>\n",
       "      <td>Male</td>\n",
       "      <td>No</td>\n",
       "      <td>0</td>\n",
       "      <td>Graduate</td>\n",
       "      <td>No</td>\n",
       "      <td>5849</td>\n",
       "      <td>0.0</td>\n",
       "      <td>128.0</td>\n",
       "      <td>360.0</td>\n",
       "      <td>1.0</td>\n",
       "      <td>Urban</td>\n",
       "      <td>Y</td>\n",
       "    </tr>\n",
       "    <tr>\n",
       "      <th>1</th>\n",
       "      <td>Male</td>\n",
       "      <td>Yes</td>\n",
       "      <td>1</td>\n",
       "      <td>Graduate</td>\n",
       "      <td>No</td>\n",
       "      <td>4583</td>\n",
       "      <td>1508.0</td>\n",
       "      <td>128.0</td>\n",
       "      <td>360.0</td>\n",
       "      <td>1.0</td>\n",
       "      <td>Rural</td>\n",
       "      <td>N</td>\n",
       "    </tr>\n",
       "    <tr>\n",
       "      <th>2</th>\n",
       "      <td>Male</td>\n",
       "      <td>Yes</td>\n",
       "      <td>0</td>\n",
       "      <td>Graduate</td>\n",
       "      <td>Yes</td>\n",
       "      <td>3000</td>\n",
       "      <td>0.0</td>\n",
       "      <td>66.0</td>\n",
       "      <td>360.0</td>\n",
       "      <td>1.0</td>\n",
       "      <td>Urban</td>\n",
       "      <td>Y</td>\n",
       "    </tr>\n",
       "    <tr>\n",
       "      <th>3</th>\n",
       "      <td>Male</td>\n",
       "      <td>Yes</td>\n",
       "      <td>0</td>\n",
       "      <td>Not Graduate</td>\n",
       "      <td>No</td>\n",
       "      <td>2583</td>\n",
       "      <td>2358.0</td>\n",
       "      <td>120.0</td>\n",
       "      <td>360.0</td>\n",
       "      <td>1.0</td>\n",
       "      <td>Urban</td>\n",
       "      <td>Y</td>\n",
       "    </tr>\n",
       "    <tr>\n",
       "      <th>4</th>\n",
       "      <td>Male</td>\n",
       "      <td>No</td>\n",
       "      <td>0</td>\n",
       "      <td>Graduate</td>\n",
       "      <td>No</td>\n",
       "      <td>6000</td>\n",
       "      <td>0.0</td>\n",
       "      <td>141.0</td>\n",
       "      <td>360.0</td>\n",
       "      <td>1.0</td>\n",
       "      <td>Urban</td>\n",
       "      <td>Y</td>\n",
       "    </tr>\n",
       "  </tbody>\n",
       "</table>\n",
       "</div>"
      ],
      "text/plain": [
       "  Gender Married Dependents     Education Self_Employed  ApplicantIncome  \\\n",
       "0   Male      No          0      Graduate            No             5849   \n",
       "1   Male     Yes          1      Graduate            No             4583   \n",
       "2   Male     Yes          0      Graduate           Yes             3000   \n",
       "3   Male     Yes          0  Not Graduate            No             2583   \n",
       "4   Male      No          0      Graduate            No             6000   \n",
       "\n",
       "   CoapplicantIncome  LoanAmount  Loan_Amount_Term  Credit_History  \\\n",
       "0                0.0       128.0             360.0             1.0   \n",
       "1             1508.0       128.0             360.0             1.0   \n",
       "2                0.0        66.0             360.0             1.0   \n",
       "3             2358.0       120.0             360.0             1.0   \n",
       "4                0.0       141.0             360.0             1.0   \n",
       "\n",
       "  Property_Area Loan_Status  \n",
       "0         Urban           Y  \n",
       "1         Rural           N  \n",
       "2         Urban           Y  \n",
       "3         Urban           Y  \n",
       "4         Urban           Y  "
      ]
     },
     "execution_count": 92,
     "metadata": {},
     "output_type": "execute_result"
    }
   ],
   "source": [
    "df_new.head()"
   ]
  },
  {
   "cell_type": "markdown",
   "metadata": {},
   "source": [
    "## Checking Skewness"
   ]
  },
  {
   "cell_type": "code",
   "execution_count": 93,
   "metadata": {},
   "outputs": [],
   "source": [
    "df_cont = df_new[[\"ApplicantIncome\",\"CoapplicantIncome\",\"LoanAmount\",\"Loan_Amount_Term\"]]"
   ]
  },
  {
   "cell_type": "code",
   "execution_count": 94,
   "metadata": {},
   "outputs": [
    {
     "data": {
      "text/html": [
       "<div>\n",
       "<style scoped>\n",
       "    .dataframe tbody tr th:only-of-type {\n",
       "        vertical-align: middle;\n",
       "    }\n",
       "\n",
       "    .dataframe tbody tr th {\n",
       "        vertical-align: top;\n",
       "    }\n",
       "\n",
       "    .dataframe thead th {\n",
       "        text-align: right;\n",
       "    }\n",
       "</style>\n",
       "<table border=\"1\" class=\"dataframe\">\n",
       "  <thead>\n",
       "    <tr style=\"text-align: right;\">\n",
       "      <th></th>\n",
       "      <th>ApplicantIncome</th>\n",
       "      <th>CoapplicantIncome</th>\n",
       "      <th>LoanAmount</th>\n",
       "      <th>Loan_Amount_Term</th>\n",
       "    </tr>\n",
       "  </thead>\n",
       "  <tbody>\n",
       "    <tr>\n",
       "      <th>0</th>\n",
       "      <td>5849</td>\n",
       "      <td>0.0</td>\n",
       "      <td>128.0</td>\n",
       "      <td>360.0</td>\n",
       "    </tr>\n",
       "    <tr>\n",
       "      <th>1</th>\n",
       "      <td>4583</td>\n",
       "      <td>1508.0</td>\n",
       "      <td>128.0</td>\n",
       "      <td>360.0</td>\n",
       "    </tr>\n",
       "    <tr>\n",
       "      <th>2</th>\n",
       "      <td>3000</td>\n",
       "      <td>0.0</td>\n",
       "      <td>66.0</td>\n",
       "      <td>360.0</td>\n",
       "    </tr>\n",
       "    <tr>\n",
       "      <th>3</th>\n",
       "      <td>2583</td>\n",
       "      <td>2358.0</td>\n",
       "      <td>120.0</td>\n",
       "      <td>360.0</td>\n",
       "    </tr>\n",
       "    <tr>\n",
       "      <th>4</th>\n",
       "      <td>6000</td>\n",
       "      <td>0.0</td>\n",
       "      <td>141.0</td>\n",
       "      <td>360.0</td>\n",
       "    </tr>\n",
       "  </tbody>\n",
       "</table>\n",
       "</div>"
      ],
      "text/plain": [
       "   ApplicantIncome  CoapplicantIncome  LoanAmount  Loan_Amount_Term\n",
       "0             5849                0.0       128.0             360.0\n",
       "1             4583             1508.0       128.0             360.0\n",
       "2             3000                0.0        66.0             360.0\n",
       "3             2583             2358.0       120.0             360.0\n",
       "4             6000                0.0       141.0             360.0"
      ]
     },
     "execution_count": 94,
     "metadata": {},
     "output_type": "execute_result"
    }
   ],
   "source": [
    "df_cont.head()"
   ]
  },
  {
   "cell_type": "code",
   "execution_count": 95,
   "metadata": {},
   "outputs": [],
   "source": [
    "df_cata = df_new.drop([\"ApplicantIncome\",\"CoapplicantIncome\",\"LoanAmount\",\"Loan_Amount_Term\"],axis=1)"
   ]
  },
  {
   "cell_type": "code",
   "execution_count": 96,
   "metadata": {},
   "outputs": [
    {
     "data": {
      "text/html": [
       "<div>\n",
       "<style scoped>\n",
       "    .dataframe tbody tr th:only-of-type {\n",
       "        vertical-align: middle;\n",
       "    }\n",
       "\n",
       "    .dataframe tbody tr th {\n",
       "        vertical-align: top;\n",
       "    }\n",
       "\n",
       "    .dataframe thead th {\n",
       "        text-align: right;\n",
       "    }\n",
       "</style>\n",
       "<table border=\"1\" class=\"dataframe\">\n",
       "  <thead>\n",
       "    <tr style=\"text-align: right;\">\n",
       "      <th></th>\n",
       "      <th>Gender</th>\n",
       "      <th>Married</th>\n",
       "      <th>Dependents</th>\n",
       "      <th>Education</th>\n",
       "      <th>Self_Employed</th>\n",
       "      <th>Credit_History</th>\n",
       "      <th>Property_Area</th>\n",
       "      <th>Loan_Status</th>\n",
       "    </tr>\n",
       "  </thead>\n",
       "  <tbody>\n",
       "    <tr>\n",
       "      <th>0</th>\n",
       "      <td>Male</td>\n",
       "      <td>No</td>\n",
       "      <td>0</td>\n",
       "      <td>Graduate</td>\n",
       "      <td>No</td>\n",
       "      <td>1.0</td>\n",
       "      <td>Urban</td>\n",
       "      <td>Y</td>\n",
       "    </tr>\n",
       "    <tr>\n",
       "      <th>1</th>\n",
       "      <td>Male</td>\n",
       "      <td>Yes</td>\n",
       "      <td>1</td>\n",
       "      <td>Graduate</td>\n",
       "      <td>No</td>\n",
       "      <td>1.0</td>\n",
       "      <td>Rural</td>\n",
       "      <td>N</td>\n",
       "    </tr>\n",
       "    <tr>\n",
       "      <th>2</th>\n",
       "      <td>Male</td>\n",
       "      <td>Yes</td>\n",
       "      <td>0</td>\n",
       "      <td>Graduate</td>\n",
       "      <td>Yes</td>\n",
       "      <td>1.0</td>\n",
       "      <td>Urban</td>\n",
       "      <td>Y</td>\n",
       "    </tr>\n",
       "    <tr>\n",
       "      <th>3</th>\n",
       "      <td>Male</td>\n",
       "      <td>Yes</td>\n",
       "      <td>0</td>\n",
       "      <td>Not Graduate</td>\n",
       "      <td>No</td>\n",
       "      <td>1.0</td>\n",
       "      <td>Urban</td>\n",
       "      <td>Y</td>\n",
       "    </tr>\n",
       "    <tr>\n",
       "      <th>4</th>\n",
       "      <td>Male</td>\n",
       "      <td>No</td>\n",
       "      <td>0</td>\n",
       "      <td>Graduate</td>\n",
       "      <td>No</td>\n",
       "      <td>1.0</td>\n",
       "      <td>Urban</td>\n",
       "      <td>Y</td>\n",
       "    </tr>\n",
       "  </tbody>\n",
       "</table>\n",
       "</div>"
      ],
      "text/plain": [
       "  Gender Married Dependents     Education Self_Employed  Credit_History  \\\n",
       "0   Male      No          0      Graduate            No             1.0   \n",
       "1   Male     Yes          1      Graduate            No             1.0   \n",
       "2   Male     Yes          0      Graduate           Yes             1.0   \n",
       "3   Male     Yes          0  Not Graduate            No             1.0   \n",
       "4   Male      No          0      Graduate            No             1.0   \n",
       "\n",
       "  Property_Area Loan_Status  \n",
       "0         Urban           Y  \n",
       "1         Rural           N  \n",
       "2         Urban           Y  \n",
       "3         Urban           Y  \n",
       "4         Urban           Y  "
      ]
     },
     "execution_count": 96,
     "metadata": {},
     "output_type": "execute_result"
    }
   ],
   "source": [
    "df_cata.head()"
   ]
  },
  {
   "cell_type": "markdown",
   "metadata": {},
   "source": [
    "Skewness is only valid in continuous variables"
   ]
  },
  {
   "cell_type": "code",
   "execution_count": 97,
   "metadata": {},
   "outputs": [
    {
     "data": {
      "text/plain": [
       "ApplicantIncome      2.148522\n",
       "CoapplicantIncome    1.350517\n",
       "LoanAmount           1.151525\n",
       "Loan_Amount_Term    -2.098806\n",
       "dtype: float64"
      ]
     },
     "execution_count": 97,
     "metadata": {},
     "output_type": "execute_result"
    }
   ],
   "source": [
    "df_cont.skew()"
   ]
  },
  {
   "cell_type": "markdown",
   "metadata": {},
   "source": [
    "### Log Transformation"
   ]
  },
  {
   "cell_type": "code",
   "execution_count": 98,
   "metadata": {},
   "outputs": [
    {
     "data": {
      "text/html": [
       "<div>\n",
       "<style scoped>\n",
       "    .dataframe tbody tr th:only-of-type {\n",
       "        vertical-align: middle;\n",
       "    }\n",
       "\n",
       "    .dataframe tbody tr th {\n",
       "        vertical-align: top;\n",
       "    }\n",
       "\n",
       "    .dataframe thead th {\n",
       "        text-align: right;\n",
       "    }\n",
       "</style>\n",
       "<table border=\"1\" class=\"dataframe\">\n",
       "  <thead>\n",
       "    <tr style=\"text-align: right;\">\n",
       "      <th></th>\n",
       "      <th>ApplicantIncome</th>\n",
       "      <th>CoapplicantIncome</th>\n",
       "      <th>LoanAmount</th>\n",
       "      <th>Loan_Amount_Term</th>\n",
       "    </tr>\n",
       "  </thead>\n",
       "  <tbody>\n",
       "    <tr>\n",
       "      <th>0</th>\n",
       "      <td>5849</td>\n",
       "      <td>0.0</td>\n",
       "      <td>128.0</td>\n",
       "      <td>360.0</td>\n",
       "    </tr>\n",
       "    <tr>\n",
       "      <th>1</th>\n",
       "      <td>4583</td>\n",
       "      <td>1508.0</td>\n",
       "      <td>128.0</td>\n",
       "      <td>360.0</td>\n",
       "    </tr>\n",
       "    <tr>\n",
       "      <th>2</th>\n",
       "      <td>3000</td>\n",
       "      <td>0.0</td>\n",
       "      <td>66.0</td>\n",
       "      <td>360.0</td>\n",
       "    </tr>\n",
       "    <tr>\n",
       "      <th>3</th>\n",
       "      <td>2583</td>\n",
       "      <td>2358.0</td>\n",
       "      <td>120.0</td>\n",
       "      <td>360.0</td>\n",
       "    </tr>\n",
       "    <tr>\n",
       "      <th>4</th>\n",
       "      <td>6000</td>\n",
       "      <td>0.0</td>\n",
       "      <td>141.0</td>\n",
       "      <td>360.0</td>\n",
       "    </tr>\n",
       "  </tbody>\n",
       "</table>\n",
       "</div>"
      ],
      "text/plain": [
       "   ApplicantIncome  CoapplicantIncome  LoanAmount  Loan_Amount_Term\n",
       "0             5849                0.0       128.0             360.0\n",
       "1             4583             1508.0       128.0             360.0\n",
       "2             3000                0.0        66.0             360.0\n",
       "3             2583             2358.0       120.0             360.0\n",
       "4             6000                0.0       141.0             360.0"
      ]
     },
     "execution_count": 98,
     "metadata": {},
     "output_type": "execute_result"
    }
   ],
   "source": [
    "df_cont.head()"
   ]
  },
  {
   "cell_type": "code",
   "execution_count": 99,
   "metadata": {},
   "outputs": [],
   "source": [
    "df_cont[\"ApplicantIncome\"] = np.log(df_cont[\"ApplicantIncome\"]+1)"
   ]
  },
  {
   "cell_type": "code",
   "execution_count": 100,
   "metadata": {},
   "outputs": [
    {
     "data": {
      "text/plain": [
       "-0.20491277344947714"
      ]
     },
     "execution_count": 100,
     "metadata": {},
     "output_type": "execute_result"
    }
   ],
   "source": [
    "df_cont[\"ApplicantIncome\"].skew()"
   ]
  },
  {
   "cell_type": "code",
   "execution_count": 101,
   "metadata": {},
   "outputs": [],
   "source": [
    "df_cont[\"CoapplicantIncome\"] = np.log(df_cont[\"CoapplicantIncome\"]+1)"
   ]
  },
  {
   "cell_type": "code",
   "execution_count": 102,
   "metadata": {},
   "outputs": [
    {
     "data": {
      "text/plain": [
       "-0.21675695794770106"
      ]
     },
     "execution_count": 102,
     "metadata": {},
     "output_type": "execute_result"
    }
   ],
   "source": [
    "df_cont[\"CoapplicantIncome\"].skew()"
   ]
  },
  {
   "cell_type": "code",
   "execution_count": 103,
   "metadata": {},
   "outputs": [],
   "source": [
    "df_cont[\"LoanAmount\"] = np.log(df_cont[\"LoanAmount\"]+1)"
   ]
  },
  {
   "cell_type": "code",
   "execution_count": 104,
   "metadata": {},
   "outputs": [
    {
     "data": {
      "text/plain": [
       "-0.6691962490193747"
      ]
     },
     "execution_count": 104,
     "metadata": {},
     "output_type": "execute_result"
    }
   ],
   "source": [
    "df_cont[\"LoanAmount\"].skew()"
   ]
  },
  {
   "cell_type": "markdown",
   "metadata": {},
   "source": [
    "Skewness has been reduced"
   ]
  },
  {
   "cell_type": "markdown",
   "metadata": {},
   "source": [
    "### Encoding"
   ]
  },
  {
   "cell_type": "code",
   "execution_count": 105,
   "metadata": {},
   "outputs": [
    {
     "data": {
      "text/html": [
       "<div>\n",
       "<style scoped>\n",
       "    .dataframe tbody tr th:only-of-type {\n",
       "        vertical-align: middle;\n",
       "    }\n",
       "\n",
       "    .dataframe tbody tr th {\n",
       "        vertical-align: top;\n",
       "    }\n",
       "\n",
       "    .dataframe thead th {\n",
       "        text-align: right;\n",
       "    }\n",
       "</style>\n",
       "<table border=\"1\" class=\"dataframe\">\n",
       "  <thead>\n",
       "    <tr style=\"text-align: right;\">\n",
       "      <th></th>\n",
       "      <th>ApplicantIncome</th>\n",
       "      <th>CoapplicantIncome</th>\n",
       "      <th>LoanAmount</th>\n",
       "      <th>Loan_Amount_Term</th>\n",
       "    </tr>\n",
       "  </thead>\n",
       "  <tbody>\n",
       "    <tr>\n",
       "      <th>0</th>\n",
       "      <td>8.674197</td>\n",
       "      <td>0.000000</td>\n",
       "      <td>4.859812</td>\n",
       "      <td>360.0</td>\n",
       "    </tr>\n",
       "    <tr>\n",
       "      <th>1</th>\n",
       "      <td>8.430327</td>\n",
       "      <td>7.319202</td>\n",
       "      <td>4.859812</td>\n",
       "      <td>360.0</td>\n",
       "    </tr>\n",
       "    <tr>\n",
       "      <th>2</th>\n",
       "      <td>8.006701</td>\n",
       "      <td>0.000000</td>\n",
       "      <td>4.204693</td>\n",
       "      <td>360.0</td>\n",
       "    </tr>\n",
       "    <tr>\n",
       "      <th>3</th>\n",
       "      <td>7.857094</td>\n",
       "      <td>7.765993</td>\n",
       "      <td>4.795791</td>\n",
       "      <td>360.0</td>\n",
       "    </tr>\n",
       "    <tr>\n",
       "      <th>4</th>\n",
       "      <td>8.699681</td>\n",
       "      <td>0.000000</td>\n",
       "      <td>4.955827</td>\n",
       "      <td>360.0</td>\n",
       "    </tr>\n",
       "  </tbody>\n",
       "</table>\n",
       "</div>"
      ],
      "text/plain": [
       "   ApplicantIncome  CoapplicantIncome  LoanAmount  Loan_Amount_Term\n",
       "0         8.674197           0.000000    4.859812             360.0\n",
       "1         8.430327           7.319202    4.859812             360.0\n",
       "2         8.006701           0.000000    4.204693             360.0\n",
       "3         7.857094           7.765993    4.795791             360.0\n",
       "4         8.699681           0.000000    4.955827             360.0"
      ]
     },
     "execution_count": 105,
     "metadata": {},
     "output_type": "execute_result"
    }
   ],
   "source": [
    "df_cont.head()"
   ]
  },
  {
   "cell_type": "code",
   "execution_count": 106,
   "metadata": {},
   "outputs": [
    {
     "data": {
      "text/html": [
       "<div>\n",
       "<style scoped>\n",
       "    .dataframe tbody tr th:only-of-type {\n",
       "        vertical-align: middle;\n",
       "    }\n",
       "\n",
       "    .dataframe tbody tr th {\n",
       "        vertical-align: top;\n",
       "    }\n",
       "\n",
       "    .dataframe thead th {\n",
       "        text-align: right;\n",
       "    }\n",
       "</style>\n",
       "<table border=\"1\" class=\"dataframe\">\n",
       "  <thead>\n",
       "    <tr style=\"text-align: right;\">\n",
       "      <th></th>\n",
       "      <th>Gender</th>\n",
       "      <th>Married</th>\n",
       "      <th>Dependents</th>\n",
       "      <th>Education</th>\n",
       "      <th>Self_Employed</th>\n",
       "      <th>Credit_History</th>\n",
       "      <th>Property_Area</th>\n",
       "      <th>Loan_Status</th>\n",
       "    </tr>\n",
       "  </thead>\n",
       "  <tbody>\n",
       "    <tr>\n",
       "      <th>0</th>\n",
       "      <td>Male</td>\n",
       "      <td>No</td>\n",
       "      <td>0</td>\n",
       "      <td>Graduate</td>\n",
       "      <td>No</td>\n",
       "      <td>1.0</td>\n",
       "      <td>Urban</td>\n",
       "      <td>Y</td>\n",
       "    </tr>\n",
       "    <tr>\n",
       "      <th>1</th>\n",
       "      <td>Male</td>\n",
       "      <td>Yes</td>\n",
       "      <td>1</td>\n",
       "      <td>Graduate</td>\n",
       "      <td>No</td>\n",
       "      <td>1.0</td>\n",
       "      <td>Rural</td>\n",
       "      <td>N</td>\n",
       "    </tr>\n",
       "    <tr>\n",
       "      <th>2</th>\n",
       "      <td>Male</td>\n",
       "      <td>Yes</td>\n",
       "      <td>0</td>\n",
       "      <td>Graduate</td>\n",
       "      <td>Yes</td>\n",
       "      <td>1.0</td>\n",
       "      <td>Urban</td>\n",
       "      <td>Y</td>\n",
       "    </tr>\n",
       "    <tr>\n",
       "      <th>3</th>\n",
       "      <td>Male</td>\n",
       "      <td>Yes</td>\n",
       "      <td>0</td>\n",
       "      <td>Not Graduate</td>\n",
       "      <td>No</td>\n",
       "      <td>1.0</td>\n",
       "      <td>Urban</td>\n",
       "      <td>Y</td>\n",
       "    </tr>\n",
       "    <tr>\n",
       "      <th>4</th>\n",
       "      <td>Male</td>\n",
       "      <td>No</td>\n",
       "      <td>0</td>\n",
       "      <td>Graduate</td>\n",
       "      <td>No</td>\n",
       "      <td>1.0</td>\n",
       "      <td>Urban</td>\n",
       "      <td>Y</td>\n",
       "    </tr>\n",
       "  </tbody>\n",
       "</table>\n",
       "</div>"
      ],
      "text/plain": [
       "  Gender Married Dependents     Education Self_Employed  Credit_History  \\\n",
       "0   Male      No          0      Graduate            No             1.0   \n",
       "1   Male     Yes          1      Graduate            No             1.0   \n",
       "2   Male     Yes          0      Graduate           Yes             1.0   \n",
       "3   Male     Yes          0  Not Graduate            No             1.0   \n",
       "4   Male      No          0      Graduate            No             1.0   \n",
       "\n",
       "  Property_Area Loan_Status  \n",
       "0         Urban           Y  \n",
       "1         Rural           N  \n",
       "2         Urban           Y  \n",
       "3         Urban           Y  \n",
       "4         Urban           Y  "
      ]
     },
     "execution_count": 106,
     "metadata": {},
     "output_type": "execute_result"
    }
   ],
   "source": [
    "df_cata.head()"
   ]
  },
  {
   "cell_type": "code",
   "execution_count": 107,
   "metadata": {},
   "outputs": [],
   "source": [
    "df_cata['Loan_Status'] = [0 if x == \"N\" else 1 for x in df_cata['Loan_Status']]"
   ]
  },
  {
   "cell_type": "code",
   "execution_count": 108,
   "metadata": {},
   "outputs": [
    {
     "data": {
      "text/html": [
       "<div>\n",
       "<style scoped>\n",
       "    .dataframe tbody tr th:only-of-type {\n",
       "        vertical-align: middle;\n",
       "    }\n",
       "\n",
       "    .dataframe tbody tr th {\n",
       "        vertical-align: top;\n",
       "    }\n",
       "\n",
       "    .dataframe thead th {\n",
       "        text-align: right;\n",
       "    }\n",
       "</style>\n",
       "<table border=\"1\" class=\"dataframe\">\n",
       "  <thead>\n",
       "    <tr style=\"text-align: right;\">\n",
       "      <th></th>\n",
       "      <th>Gender</th>\n",
       "      <th>Married</th>\n",
       "      <th>Dependents</th>\n",
       "      <th>Education</th>\n",
       "      <th>Self_Employed</th>\n",
       "      <th>Credit_History</th>\n",
       "      <th>Property_Area</th>\n",
       "      <th>Loan_Status</th>\n",
       "    </tr>\n",
       "  </thead>\n",
       "  <tbody>\n",
       "    <tr>\n",
       "      <th>0</th>\n",
       "      <td>Male</td>\n",
       "      <td>No</td>\n",
       "      <td>0</td>\n",
       "      <td>Graduate</td>\n",
       "      <td>No</td>\n",
       "      <td>1.0</td>\n",
       "      <td>Urban</td>\n",
       "      <td>1</td>\n",
       "    </tr>\n",
       "    <tr>\n",
       "      <th>1</th>\n",
       "      <td>Male</td>\n",
       "      <td>Yes</td>\n",
       "      <td>1</td>\n",
       "      <td>Graduate</td>\n",
       "      <td>No</td>\n",
       "      <td>1.0</td>\n",
       "      <td>Rural</td>\n",
       "      <td>0</td>\n",
       "    </tr>\n",
       "    <tr>\n",
       "      <th>2</th>\n",
       "      <td>Male</td>\n",
       "      <td>Yes</td>\n",
       "      <td>0</td>\n",
       "      <td>Graduate</td>\n",
       "      <td>Yes</td>\n",
       "      <td>1.0</td>\n",
       "      <td>Urban</td>\n",
       "      <td>1</td>\n",
       "    </tr>\n",
       "    <tr>\n",
       "      <th>3</th>\n",
       "      <td>Male</td>\n",
       "      <td>Yes</td>\n",
       "      <td>0</td>\n",
       "      <td>Not Graduate</td>\n",
       "      <td>No</td>\n",
       "      <td>1.0</td>\n",
       "      <td>Urban</td>\n",
       "      <td>1</td>\n",
       "    </tr>\n",
       "    <tr>\n",
       "      <th>4</th>\n",
       "      <td>Male</td>\n",
       "      <td>No</td>\n",
       "      <td>0</td>\n",
       "      <td>Graduate</td>\n",
       "      <td>No</td>\n",
       "      <td>1.0</td>\n",
       "      <td>Urban</td>\n",
       "      <td>1</td>\n",
       "    </tr>\n",
       "  </tbody>\n",
       "</table>\n",
       "</div>"
      ],
      "text/plain": [
       "  Gender Married Dependents     Education Self_Employed  Credit_History  \\\n",
       "0   Male      No          0      Graduate            No             1.0   \n",
       "1   Male     Yes          1      Graduate            No             1.0   \n",
       "2   Male     Yes          0      Graduate           Yes             1.0   \n",
       "3   Male     Yes          0  Not Graduate            No             1.0   \n",
       "4   Male      No          0      Graduate            No             1.0   \n",
       "\n",
       "  Property_Area  Loan_Status  \n",
       "0         Urban            1  \n",
       "1         Rural            0  \n",
       "2         Urban            1  \n",
       "3         Urban            1  \n",
       "4         Urban            1  "
      ]
     },
     "execution_count": 108,
     "metadata": {},
     "output_type": "execute_result"
    }
   ],
   "source": [
    "df_cata.head()"
   ]
  },
  {
   "cell_type": "code",
   "execution_count": 109,
   "metadata": {},
   "outputs": [
    {
     "data": {
      "text/plain": [
       "1    398\n",
       "0    179\n",
       "Name: Loan_Status, dtype: int64"
      ]
     },
     "execution_count": 109,
     "metadata": {},
     "output_type": "execute_result"
    }
   ],
   "source": [
    "df_cata[\"Loan_Status\"].value_counts()"
   ]
  },
  {
   "cell_type": "code",
   "execution_count": 110,
   "metadata": {},
   "outputs": [],
   "source": [
    "df_cata = pd.get_dummies(data=df_cata,drop_first=True)"
   ]
  },
  {
   "cell_type": "code",
   "execution_count": 111,
   "metadata": {},
   "outputs": [
    {
     "data": {
      "text/html": [
       "<div>\n",
       "<style scoped>\n",
       "    .dataframe tbody tr th:only-of-type {\n",
       "        vertical-align: middle;\n",
       "    }\n",
       "\n",
       "    .dataframe tbody tr th {\n",
       "        vertical-align: top;\n",
       "    }\n",
       "\n",
       "    .dataframe thead th {\n",
       "        text-align: right;\n",
       "    }\n",
       "</style>\n",
       "<table border=\"1\" class=\"dataframe\">\n",
       "  <thead>\n",
       "    <tr style=\"text-align: right;\">\n",
       "      <th></th>\n",
       "      <th>Credit_History</th>\n",
       "      <th>Loan_Status</th>\n",
       "      <th>Gender_Male</th>\n",
       "      <th>Married_Yes</th>\n",
       "      <th>Dependents_1</th>\n",
       "      <th>Dependents_2</th>\n",
       "      <th>Dependents_3+</th>\n",
       "      <th>Education_Not Graduate</th>\n",
       "      <th>Self_Employed_Yes</th>\n",
       "      <th>Property_Area_Semiurban</th>\n",
       "      <th>Property_Area_Urban</th>\n",
       "    </tr>\n",
       "  </thead>\n",
       "  <tbody>\n",
       "    <tr>\n",
       "      <th>0</th>\n",
       "      <td>1.0</td>\n",
       "      <td>1</td>\n",
       "      <td>1</td>\n",
       "      <td>0</td>\n",
       "      <td>0</td>\n",
       "      <td>0</td>\n",
       "      <td>0</td>\n",
       "      <td>0</td>\n",
       "      <td>0</td>\n",
       "      <td>0</td>\n",
       "      <td>1</td>\n",
       "    </tr>\n",
       "    <tr>\n",
       "      <th>1</th>\n",
       "      <td>1.0</td>\n",
       "      <td>0</td>\n",
       "      <td>1</td>\n",
       "      <td>1</td>\n",
       "      <td>1</td>\n",
       "      <td>0</td>\n",
       "      <td>0</td>\n",
       "      <td>0</td>\n",
       "      <td>0</td>\n",
       "      <td>0</td>\n",
       "      <td>0</td>\n",
       "    </tr>\n",
       "    <tr>\n",
       "      <th>2</th>\n",
       "      <td>1.0</td>\n",
       "      <td>1</td>\n",
       "      <td>1</td>\n",
       "      <td>1</td>\n",
       "      <td>0</td>\n",
       "      <td>0</td>\n",
       "      <td>0</td>\n",
       "      <td>0</td>\n",
       "      <td>1</td>\n",
       "      <td>0</td>\n",
       "      <td>1</td>\n",
       "    </tr>\n",
       "    <tr>\n",
       "      <th>3</th>\n",
       "      <td>1.0</td>\n",
       "      <td>1</td>\n",
       "      <td>1</td>\n",
       "      <td>1</td>\n",
       "      <td>0</td>\n",
       "      <td>0</td>\n",
       "      <td>0</td>\n",
       "      <td>1</td>\n",
       "      <td>0</td>\n",
       "      <td>0</td>\n",
       "      <td>1</td>\n",
       "    </tr>\n",
       "    <tr>\n",
       "      <th>4</th>\n",
       "      <td>1.0</td>\n",
       "      <td>1</td>\n",
       "      <td>1</td>\n",
       "      <td>0</td>\n",
       "      <td>0</td>\n",
       "      <td>0</td>\n",
       "      <td>0</td>\n",
       "      <td>0</td>\n",
       "      <td>0</td>\n",
       "      <td>0</td>\n",
       "      <td>1</td>\n",
       "    </tr>\n",
       "  </tbody>\n",
       "</table>\n",
       "</div>"
      ],
      "text/plain": [
       "   Credit_History  Loan_Status  Gender_Male  Married_Yes  Dependents_1  \\\n",
       "0             1.0            1            1            0             0   \n",
       "1             1.0            0            1            1             1   \n",
       "2             1.0            1            1            1             0   \n",
       "3             1.0            1            1            1             0   \n",
       "4             1.0            1            1            0             0   \n",
       "\n",
       "   Dependents_2  Dependents_3+  Education_Not Graduate  Self_Employed_Yes  \\\n",
       "0             0              0                       0                  0   \n",
       "1             0              0                       0                  0   \n",
       "2             0              0                       0                  1   \n",
       "3             0              0                       1                  0   \n",
       "4             0              0                       0                  0   \n",
       "\n",
       "   Property_Area_Semiurban  Property_Area_Urban  \n",
       "0                        0                    1  \n",
       "1                        0                    0  \n",
       "2                        0                    1  \n",
       "3                        0                    1  \n",
       "4                        0                    1  "
      ]
     },
     "execution_count": 111,
     "metadata": {},
     "output_type": "execute_result"
    }
   ],
   "source": [
    "df_cata.head()"
   ]
  },
  {
   "cell_type": "code",
   "execution_count": 112,
   "metadata": {},
   "outputs": [],
   "source": [
    "df = pd.concat([df_cont,df_cata],axis=1)"
   ]
  },
  {
   "cell_type": "code",
   "execution_count": 113,
   "metadata": {},
   "outputs": [
    {
     "data": {
      "text/html": [
       "<div>\n",
       "<style scoped>\n",
       "    .dataframe tbody tr th:only-of-type {\n",
       "        vertical-align: middle;\n",
       "    }\n",
       "\n",
       "    .dataframe tbody tr th {\n",
       "        vertical-align: top;\n",
       "    }\n",
       "\n",
       "    .dataframe thead th {\n",
       "        text-align: right;\n",
       "    }\n",
       "</style>\n",
       "<table border=\"1\" class=\"dataframe\">\n",
       "  <thead>\n",
       "    <tr style=\"text-align: right;\">\n",
       "      <th></th>\n",
       "      <th>ApplicantIncome</th>\n",
       "      <th>CoapplicantIncome</th>\n",
       "      <th>LoanAmount</th>\n",
       "      <th>Loan_Amount_Term</th>\n",
       "      <th>Credit_History</th>\n",
       "      <th>Loan_Status</th>\n",
       "      <th>Gender_Male</th>\n",
       "      <th>Married_Yes</th>\n",
       "      <th>Dependents_1</th>\n",
       "      <th>Dependents_2</th>\n",
       "      <th>Dependents_3+</th>\n",
       "      <th>Education_Not Graduate</th>\n",
       "      <th>Self_Employed_Yes</th>\n",
       "      <th>Property_Area_Semiurban</th>\n",
       "      <th>Property_Area_Urban</th>\n",
       "    </tr>\n",
       "  </thead>\n",
       "  <tbody>\n",
       "    <tr>\n",
       "      <th>0</th>\n",
       "      <td>8.674197</td>\n",
       "      <td>0.000000</td>\n",
       "      <td>4.859812</td>\n",
       "      <td>360.0</td>\n",
       "      <td>1.0</td>\n",
       "      <td>1</td>\n",
       "      <td>1</td>\n",
       "      <td>0</td>\n",
       "      <td>0</td>\n",
       "      <td>0</td>\n",
       "      <td>0</td>\n",
       "      <td>0</td>\n",
       "      <td>0</td>\n",
       "      <td>0</td>\n",
       "      <td>1</td>\n",
       "    </tr>\n",
       "    <tr>\n",
       "      <th>1</th>\n",
       "      <td>8.430327</td>\n",
       "      <td>7.319202</td>\n",
       "      <td>4.859812</td>\n",
       "      <td>360.0</td>\n",
       "      <td>1.0</td>\n",
       "      <td>0</td>\n",
       "      <td>1</td>\n",
       "      <td>1</td>\n",
       "      <td>1</td>\n",
       "      <td>0</td>\n",
       "      <td>0</td>\n",
       "      <td>0</td>\n",
       "      <td>0</td>\n",
       "      <td>0</td>\n",
       "      <td>0</td>\n",
       "    </tr>\n",
       "    <tr>\n",
       "      <th>2</th>\n",
       "      <td>8.006701</td>\n",
       "      <td>0.000000</td>\n",
       "      <td>4.204693</td>\n",
       "      <td>360.0</td>\n",
       "      <td>1.0</td>\n",
       "      <td>1</td>\n",
       "      <td>1</td>\n",
       "      <td>1</td>\n",
       "      <td>0</td>\n",
       "      <td>0</td>\n",
       "      <td>0</td>\n",
       "      <td>0</td>\n",
       "      <td>1</td>\n",
       "      <td>0</td>\n",
       "      <td>1</td>\n",
       "    </tr>\n",
       "    <tr>\n",
       "      <th>3</th>\n",
       "      <td>7.857094</td>\n",
       "      <td>7.765993</td>\n",
       "      <td>4.795791</td>\n",
       "      <td>360.0</td>\n",
       "      <td>1.0</td>\n",
       "      <td>1</td>\n",
       "      <td>1</td>\n",
       "      <td>1</td>\n",
       "      <td>0</td>\n",
       "      <td>0</td>\n",
       "      <td>0</td>\n",
       "      <td>1</td>\n",
       "      <td>0</td>\n",
       "      <td>0</td>\n",
       "      <td>1</td>\n",
       "    </tr>\n",
       "    <tr>\n",
       "      <th>4</th>\n",
       "      <td>8.699681</td>\n",
       "      <td>0.000000</td>\n",
       "      <td>4.955827</td>\n",
       "      <td>360.0</td>\n",
       "      <td>1.0</td>\n",
       "      <td>1</td>\n",
       "      <td>1</td>\n",
       "      <td>0</td>\n",
       "      <td>0</td>\n",
       "      <td>0</td>\n",
       "      <td>0</td>\n",
       "      <td>0</td>\n",
       "      <td>0</td>\n",
       "      <td>0</td>\n",
       "      <td>1</td>\n",
       "    </tr>\n",
       "  </tbody>\n",
       "</table>\n",
       "</div>"
      ],
      "text/plain": [
       "   ApplicantIncome  CoapplicantIncome  LoanAmount  Loan_Amount_Term  \\\n",
       "0         8.674197           0.000000    4.859812             360.0   \n",
       "1         8.430327           7.319202    4.859812             360.0   \n",
       "2         8.006701           0.000000    4.204693             360.0   \n",
       "3         7.857094           7.765993    4.795791             360.0   \n",
       "4         8.699681           0.000000    4.955827             360.0   \n",
       "\n",
       "   Credit_History  Loan_Status  Gender_Male  Married_Yes  Dependents_1  \\\n",
       "0             1.0            1            1            0             0   \n",
       "1             1.0            0            1            1             1   \n",
       "2             1.0            1            1            1             0   \n",
       "3             1.0            1            1            1             0   \n",
       "4             1.0            1            1            0             0   \n",
       "\n",
       "   Dependents_2  Dependents_3+  Education_Not Graduate  Self_Employed_Yes  \\\n",
       "0             0              0                       0                  0   \n",
       "1             0              0                       0                  0   \n",
       "2             0              0                       0                  1   \n",
       "3             0              0                       1                  0   \n",
       "4             0              0                       0                  0   \n",
       "\n",
       "   Property_Area_Semiurban  Property_Area_Urban  \n",
       "0                        0                    1  \n",
       "1                        0                    0  \n",
       "2                        0                    1  \n",
       "3                        0                    1  \n",
       "4                        0                    1  "
      ]
     },
     "execution_count": 113,
     "metadata": {},
     "output_type": "execute_result"
    }
   ],
   "source": [
    "df.head()"
   ]
  },
  {
   "cell_type": "markdown",
   "metadata": {},
   "source": [
    "### Correlation"
   ]
  },
  {
   "cell_type": "code",
   "execution_count": 114,
   "metadata": {},
   "outputs": [],
   "source": [
    "cor = df.corr()"
   ]
  },
  {
   "cell_type": "code",
   "execution_count": 115,
   "metadata": {},
   "outputs": [
    {
     "data": {
      "text/plain": [
       "<AxesSubplot:>"
      ]
     },
     "execution_count": 115,
     "metadata": {},
     "output_type": "execute_result"
    },
    {
     "data": {
      "image/png": "[encoded data removed]",
      "text/plain": [
       "<Figure size 1080x1080 with 2 Axes>"
      ]
     },
     "metadata": {},
     "output_type": "display_data"
    }
   ],
   "source": [
    "plt.figure(figsize=(15,15))\n",
    "sns.heatmap(data=cor,annot=True)"
   ]
  },
  {
   "cell_type": "markdown",
   "metadata": {},
   "source": [
    "Checking the best correlation with target variable"
   ]
  },
  {
   "cell_type": "code",
   "execution_count": 116,
   "metadata": {},
   "outputs": [
    {
     "data": {
      "text/plain": [
       "Loan_Status                1.000000\n",
       "Credit_History             0.560936\n",
       "Property_Area_Semiurban    0.141686\n",
       "Married_Yes                0.089026\n",
       "CoapplicantIncome          0.081455\n",
       "Dependents_2               0.055274\n",
       "Gender_Male                0.017408\n",
       "ApplicantIncome           -0.001761\n",
       "LoanAmount                -0.018683\n",
       "Dependents_3+             -0.019058\n",
       "Loan_Amount_Term          -0.020291\n",
       "Dependents_1              -0.021897\n",
       "Self_Employed_Yes         -0.026525\n",
       "Property_Area_Urban       -0.050830\n",
       "Education_Not Graduate    -0.092658\n",
       "Name: Loan_Status, dtype: float64"
      ]
     },
     "execution_count": 116,
     "metadata": {},
     "output_type": "execute_result"
    }
   ],
   "source": [
    "cor[\"Loan_Status\"].sort_values(ascending=False)"
   ]
  },
  {
   "cell_type": "markdown",
   "metadata": {},
   "source": [
    "We can clearly observe that Credit_History,Property_Area_Semiurban and Married_Yes are having good correlation with the target variable"
   ]
  },
  {
   "cell_type": "markdown",
   "metadata": {},
   "source": [
    "## Train Test Split"
   ]
  },
  {
   "cell_type": "code",
   "execution_count": 117,
   "metadata": {},
   "outputs": [
    {
     "data": {
      "text/html": [
       "<div>\n",
       "<style scoped>\n",
       "    .dataframe tbody tr th:only-of-type {\n",
       "        vertical-align: middle;\n",
       "    }\n",
       "\n",
       "    .dataframe tbody tr th {\n",
       "        vertical-align: top;\n",
       "    }\n",
       "\n",
       "    .dataframe thead th {\n",
       "        text-align: right;\n",
       "    }\n",
       "</style>\n",
       "<table border=\"1\" class=\"dataframe\">\n",
       "  <thead>\n",
       "    <tr style=\"text-align: right;\">\n",
       "      <th></th>\n",
       "      <th>ApplicantIncome</th>\n",
       "      <th>CoapplicantIncome</th>\n",
       "      <th>LoanAmount</th>\n",
       "      <th>Loan_Amount_Term</th>\n",
       "      <th>Credit_History</th>\n",
       "      <th>Loan_Status</th>\n",
       "      <th>Gender_Male</th>\n",
       "      <th>Married_Yes</th>\n",
       "      <th>Dependents_1</th>\n",
       "      <th>Dependents_2</th>\n",
       "      <th>Dependents_3+</th>\n",
       "      <th>Education_Not Graduate</th>\n",
       "      <th>Self_Employed_Yes</th>\n",
       "      <th>Property_Area_Semiurban</th>\n",
       "      <th>Property_Area_Urban</th>\n",
       "    </tr>\n",
       "  </thead>\n",
       "  <tbody>\n",
       "    <tr>\n",
       "      <th>0</th>\n",
       "      <td>8.674197</td>\n",
       "      <td>0.000000</td>\n",
       "      <td>4.859812</td>\n",
       "      <td>360.0</td>\n",
       "      <td>1.0</td>\n",
       "      <td>1</td>\n",
       "      <td>1</td>\n",
       "      <td>0</td>\n",
       "      <td>0</td>\n",
       "      <td>0</td>\n",
       "      <td>0</td>\n",
       "      <td>0</td>\n",
       "      <td>0</td>\n",
       "      <td>0</td>\n",
       "      <td>1</td>\n",
       "    </tr>\n",
       "    <tr>\n",
       "      <th>1</th>\n",
       "      <td>8.430327</td>\n",
       "      <td>7.319202</td>\n",
       "      <td>4.859812</td>\n",
       "      <td>360.0</td>\n",
       "      <td>1.0</td>\n",
       "      <td>0</td>\n",
       "      <td>1</td>\n",
       "      <td>1</td>\n",
       "      <td>1</td>\n",
       "      <td>0</td>\n",
       "      <td>0</td>\n",
       "      <td>0</td>\n",
       "      <td>0</td>\n",
       "      <td>0</td>\n",
       "      <td>0</td>\n",
       "    </tr>\n",
       "    <tr>\n",
       "      <th>2</th>\n",
       "      <td>8.006701</td>\n",
       "      <td>0.000000</td>\n",
       "      <td>4.204693</td>\n",
       "      <td>360.0</td>\n",
       "      <td>1.0</td>\n",
       "      <td>1</td>\n",
       "      <td>1</td>\n",
       "      <td>1</td>\n",
       "      <td>0</td>\n",
       "      <td>0</td>\n",
       "      <td>0</td>\n",
       "      <td>0</td>\n",
       "      <td>1</td>\n",
       "      <td>0</td>\n",
       "      <td>1</td>\n",
       "    </tr>\n",
       "    <tr>\n",
       "      <th>3</th>\n",
       "      <td>7.857094</td>\n",
       "      <td>7.765993</td>\n",
       "      <td>4.795791</td>\n",
       "      <td>360.0</td>\n",
       "      <td>1.0</td>\n",
       "      <td>1</td>\n",
       "      <td>1</td>\n",
       "      <td>1</td>\n",
       "      <td>0</td>\n",
       "      <td>0</td>\n",
       "      <td>0</td>\n",
       "      <td>1</td>\n",
       "      <td>0</td>\n",
       "      <td>0</td>\n",
       "      <td>1</td>\n",
       "    </tr>\n",
       "    <tr>\n",
       "      <th>4</th>\n",
       "      <td>8.699681</td>\n",
       "      <td>0.000000</td>\n",
       "      <td>4.955827</td>\n",
       "      <td>360.0</td>\n",
       "      <td>1.0</td>\n",
       "      <td>1</td>\n",
       "      <td>1</td>\n",
       "      <td>0</td>\n",
       "      <td>0</td>\n",
       "      <td>0</td>\n",
       "      <td>0</td>\n",
       "      <td>0</td>\n",
       "      <td>0</td>\n",
       "      <td>0</td>\n",
       "      <td>1</td>\n",
       "    </tr>\n",
       "  </tbody>\n",
       "</table>\n",
       "</div>"
      ],
      "text/plain": [
       "   ApplicantIncome  CoapplicantIncome  LoanAmount  Loan_Amount_Term  \\\n",
       "0         8.674197           0.000000    4.859812             360.0   \n",
       "1         8.430327           7.319202    4.859812             360.0   \n",
       "2         8.006701           0.000000    4.204693             360.0   \n",
       "3         7.857094           7.765993    4.795791             360.0   \n",
       "4         8.699681           0.000000    4.955827             360.0   \n",
       "\n",
       "   Credit_History  Loan_Status  Gender_Male  Married_Yes  Dependents_1  \\\n",
       "0             1.0            1            1            0             0   \n",
       "1             1.0            0            1            1             1   \n",
       "2             1.0            1            1            1             0   \n",
       "3             1.0            1            1            1             0   \n",
       "4             1.0            1            1            0             0   \n",
       "\n",
       "   Dependents_2  Dependents_3+  Education_Not Graduate  Self_Employed_Yes  \\\n",
       "0             0              0                       0                  0   \n",
       "1             0              0                       0                  0   \n",
       "2             0              0                       0                  1   \n",
       "3             0              0                       1                  0   \n",
       "4             0              0                       0                  0   \n",
       "\n",
       "   Property_Area_Semiurban  Property_Area_Urban  \n",
       "0                        0                    1  \n",
       "1                        0                    0  \n",
       "2                        0                    1  \n",
       "3                        0                    1  \n",
       "4                        0                    1  "
      ]
     },
     "execution_count": 117,
     "metadata": {},
     "output_type": "execute_result"
    }
   ],
   "source": [
    "df.head()"
   ]
  },
  {
   "cell_type": "code",
   "execution_count": 118,
   "metadata": {},
   "outputs": [],
   "source": [
    "X = df.drop(\"Loan_Status\",axis=1)\n",
    "y = df[\"Loan_Status\"]"
   ]
  },
  {
   "cell_type": "code",
   "execution_count": 119,
   "metadata": {},
   "outputs": [
    {
     "data": {
      "text/html": [
       "<div>\n",
       "<style scoped>\n",
       "    .dataframe tbody tr th:only-of-type {\n",
       "        vertical-align: middle;\n",
       "    }\n",
       "\n",
       "    .dataframe tbody tr th {\n",
       "        vertical-align: top;\n",
       "    }\n",
       "\n",
       "    .dataframe thead th {\n",
       "        text-align: right;\n",
       "    }\n",
       "</style>\n",
       "<table border=\"1\" class=\"dataframe\">\n",
       "  <thead>\n",
       "    <tr style=\"text-align: right;\">\n",
       "      <th></th>\n",
       "      <th>ApplicantIncome</th>\n",
       "      <th>CoapplicantIncome</th>\n",
       "      <th>LoanAmount</th>\n",
       "      <th>Loan_Amount_Term</th>\n",
       "      <th>Credit_History</th>\n",
       "      <th>Gender_Male</th>\n",
       "      <th>Married_Yes</th>\n",
       "      <th>Dependents_1</th>\n",
       "      <th>Dependents_2</th>\n",
       "      <th>Dependents_3+</th>\n",
       "      <th>Education_Not Graduate</th>\n",
       "      <th>Self_Employed_Yes</th>\n",
       "      <th>Property_Area_Semiurban</th>\n",
       "      <th>Property_Area_Urban</th>\n",
       "    </tr>\n",
       "  </thead>\n",
       "  <tbody>\n",
       "    <tr>\n",
       "      <th>0</th>\n",
       "      <td>8.674197</td>\n",
       "      <td>0.000000</td>\n",
       "      <td>4.859812</td>\n",
       "      <td>360.0</td>\n",
       "      <td>1.0</td>\n",
       "      <td>1</td>\n",
       "      <td>0</td>\n",
       "      <td>0</td>\n",
       "      <td>0</td>\n",
       "      <td>0</td>\n",
       "      <td>0</td>\n",
       "      <td>0</td>\n",
       "      <td>0</td>\n",
       "      <td>1</td>\n",
       "    </tr>\n",
       "    <tr>\n",
       "      <th>1</th>\n",
       "      <td>8.430327</td>\n",
       "      <td>7.319202</td>\n",
       "      <td>4.859812</td>\n",
       "      <td>360.0</td>\n",
       "      <td>1.0</td>\n",
       "      <td>1</td>\n",
       "      <td>1</td>\n",
       "      <td>1</td>\n",
       "      <td>0</td>\n",
       "      <td>0</td>\n",
       "      <td>0</td>\n",
       "      <td>0</td>\n",
       "      <td>0</td>\n",
       "      <td>0</td>\n",
       "    </tr>\n",
       "    <tr>\n",
       "      <th>2</th>\n",
       "      <td>8.006701</td>\n",
       "      <td>0.000000</td>\n",
       "      <td>4.204693</td>\n",
       "      <td>360.0</td>\n",
       "      <td>1.0</td>\n",
       "      <td>1</td>\n",
       "      <td>1</td>\n",
       "      <td>0</td>\n",
       "      <td>0</td>\n",
       "      <td>0</td>\n",
       "      <td>0</td>\n",
       "      <td>1</td>\n",
       "      <td>0</td>\n",
       "      <td>1</td>\n",
       "    </tr>\n",
       "    <tr>\n",
       "      <th>3</th>\n",
       "      <td>7.857094</td>\n",
       "      <td>7.765993</td>\n",
       "      <td>4.795791</td>\n",
       "      <td>360.0</td>\n",
       "      <td>1.0</td>\n",
       "      <td>1</td>\n",
       "      <td>1</td>\n",
       "      <td>0</td>\n",
       "      <td>0</td>\n",
       "      <td>0</td>\n",
       "      <td>1</td>\n",
       "      <td>0</td>\n",
       "      <td>0</td>\n",
       "      <td>1</td>\n",
       "    </tr>\n",
       "    <tr>\n",
       "      <th>4</th>\n",
       "      <td>8.699681</td>\n",
       "      <td>0.000000</td>\n",
       "      <td>4.955827</td>\n",
       "      <td>360.0</td>\n",
       "      <td>1.0</td>\n",
       "      <td>1</td>\n",
       "      <td>0</td>\n",
       "      <td>0</td>\n",
       "      <td>0</td>\n",
       "      <td>0</td>\n",
       "      <td>0</td>\n",
       "      <td>0</td>\n",
       "      <td>0</td>\n",
       "      <td>1</td>\n",
       "    </tr>\n",
       "  </tbody>\n",
       "</table>\n",
       "</div>"
      ],
      "text/plain": [
       "   ApplicantIncome  CoapplicantIncome  LoanAmount  Loan_Amount_Term  \\\n",
       "0         8.674197           0.000000    4.859812             360.0   \n",
       "1         8.430327           7.319202    4.859812             360.0   \n",
       "2         8.006701           0.000000    4.204693             360.0   \n",
       "3         7.857094           7.765993    4.795791             360.0   \n",
       "4         8.699681           0.000000    4.955827             360.0   \n",
       "\n",
       "   Credit_History  Gender_Male  Married_Yes  Dependents_1  Dependents_2  \\\n",
       "0             1.0            1            0             0             0   \n",
       "1             1.0            1            1             1             0   \n",
       "2             1.0            1            1             0             0   \n",
       "3             1.0            1            1             0             0   \n",
       "4             1.0            1            0             0             0   \n",
       "\n",
       "   Dependents_3+  Education_Not Graduate  Self_Employed_Yes  \\\n",
       "0              0                       0                  0   \n",
       "1              0                       0                  0   \n",
       "2              0                       0                  1   \n",
       "3              0                       1                  0   \n",
       "4              0                       0                  0   \n",
       "\n",
       "   Property_Area_Semiurban  Property_Area_Urban  \n",
       "0                        0                    1  \n",
       "1                        0                    0  \n",
       "2                        0                    1  \n",
       "3                        0                    1  \n",
       "4                        0                    1  "
      ]
     },
     "execution_count": 119,
     "metadata": {},
     "output_type": "execute_result"
    }
   ],
   "source": [
    "X.head()"
   ]
  },
  {
   "cell_type": "code",
   "execution_count": 120,
   "metadata": {},
   "outputs": [
    {
     "data": {
      "text/plain": [
       "0    1\n",
       "1    0\n",
       "2    1\n",
       "3    1\n",
       "4    1\n",
       "Name: Loan_Status, dtype: int64"
      ]
     },
     "execution_count": 120,
     "metadata": {},
     "output_type": "execute_result"
    }
   ],
   "source": [
    "y.head()"
   ]
  },
  {
   "cell_type": "code",
   "execution_count": 121,
   "metadata": {},
   "outputs": [],
   "source": [
    "X =X.values\n",
    "y = y.values"
   ]
  },
  {
   "cell_type": "code",
   "execution_count": 122,
   "metadata": {},
   "outputs": [
    {
     "data": {
      "text/plain": [
       "array([[8.67419694, 0.        , 4.8598124 , ..., 0.        , 0.        ,\n",
       "        1.        ],\n",
       "       [8.43032726, 7.31920246, 4.8598124 , ..., 0.        , 0.        ,\n",
       "        0.        ],\n",
       "       [8.00670085, 0.        , 4.20469262, ..., 1.        , 0.        ,\n",
       "        1.        ],\n",
       "       ...,\n",
       "       [8.99628044, 5.48479693, 5.53733427, ..., 0.        , 0.        ,\n",
       "        1.        ],\n",
       "       [8.93379604, 0.        , 5.23644196, ..., 0.        , 0.        ,\n",
       "        1.        ],\n",
       "       [8.43032726, 0.        , 4.8978398 , ..., 1.        , 1.        ,\n",
       "        0.        ]])"
      ]
     },
     "execution_count": 122,
     "metadata": {},
     "output_type": "execute_result"
    }
   ],
   "source": [
    "X"
   ]
  },
  {
   "cell_type": "code",
   "execution_count": 123,
   "metadata": {},
   "outputs": [
    {
     "data": {
      "text/plain": [
       "array([1, 0, 1, 1, 1, 1, 1, 0, 1, 1, 1, 1, 0, 1, 1, 0, 0, 1, 0, 1, 0, 0,\n",
       "       0, 1, 1, 1, 0, 1, 0, 0, 0, 1, 0, 1, 0, 1, 1, 1, 0, 1, 1, 1, 1, 1,\n",
       "       1, 1, 0, 1, 1, 1, 0, 0, 0, 1, 1, 0, 1, 1, 1, 1, 0, 0, 0, 0, 0, 1,\n",
       "       0, 1, 1, 1, 0, 1, 0, 0, 0, 0, 1, 1, 1, 0, 0, 1, 1, 1, 1, 1, 1, 1,\n",
       "       1, 1, 1, 0, 1, 1, 1, 1, 1, 1, 1, 1, 1, 1, 1, 0, 0, 1, 1, 1, 0, 1,\n",
       "       1, 1, 1, 1, 0, 1, 1, 1, 1, 1, 1, 1, 1, 0, 0, 1, 1, 1, 0, 0, 1, 0,\n",
       "       0, 0, 1, 1, 1, 1, 1, 1, 1, 0, 1, 0, 1, 0, 0, 1, 1, 1, 1, 1, 1, 0,\n",
       "       0, 1, 1, 1, 0, 1, 0, 1, 1, 0, 1, 0, 1, 1, 1, 0, 0, 0, 1, 1, 0, 1,\n",
       "       1, 1, 1, 0, 0, 1, 1, 0, 1, 1, 1, 0, 1, 1, 0, 1, 1, 1, 1, 1, 1, 0,\n",
       "       0, 0, 1, 1, 1, 1, 0, 1, 0, 1, 0, 1, 1, 1, 1, 0, 0, 1, 1, 1, 1, 1,\n",
       "       1, 1, 1, 1, 0, 1, 1, 1, 1, 0, 1, 1, 0, 1, 1, 1, 1, 0, 0, 1, 1, 0,\n",
       "       1, 0, 0, 0, 0, 1, 1, 1, 1, 1, 1, 1, 0, 1, 1, 1, 1, 1, 1, 1, 1, 1,\n",
       "       1, 0, 1, 1, 1, 0, 1, 0, 1, 1, 1, 1, 0, 1, 0, 1, 1, 1, 1, 0, 0, 0,\n",
       "       1, 1, 1, 1, 0, 1, 0, 1, 1, 1, 1, 0, 1, 1, 1, 1, 0, 1, 1, 1, 1, 1,\n",
       "       0, 1, 1, 0, 1, 1, 1, 1, 1, 1, 1, 1, 0, 1, 0, 0, 1, 1, 1, 1, 0, 1,\n",
       "       1, 1, 1, 0, 1, 0, 1, 1, 1, 0, 0, 1, 0, 1, 1, 1, 1, 0, 0, 0, 1, 1,\n",
       "       1, 1, 0, 1, 1, 1, 1, 0, 1, 1, 1, 1, 1, 0, 1, 1, 0, 1, 1, 1, 1, 1,\n",
       "       1, 1, 1, 0, 1, 1, 0, 0, 0, 1, 0, 1, 1, 1, 0, 0, 1, 0, 1, 0, 1, 0,\n",
       "       1, 1, 1, 0, 1, 0, 1, 1, 0, 1, 1, 1, 1, 0, 1, 1, 1, 1, 1, 0, 1, 1,\n",
       "       1, 1, 1, 1, 1, 0, 0, 0, 0, 1, 0, 1, 1, 1, 1, 0, 1, 0, 1, 1, 1, 1,\n",
       "       0, 1, 0, 1, 1, 0, 1, 0, 1, 1, 1, 1, 1, 0, 1, 0, 1, 1, 1, 1, 1, 1,\n",
       "       0, 1, 0, 1, 1, 1, 1, 0, 1, 1, 0, 1, 1, 1, 0, 1, 1, 0, 1, 1, 0, 1,\n",
       "       1, 0, 0, 1, 1, 0, 0, 0, 1, 1, 1, 0, 1, 1, 1, 1, 1, 1, 0, 0, 1, 1,\n",
       "       1, 1, 0, 1, 1, 0, 1, 1, 1, 1, 1, 0, 1, 0, 1, 1, 0, 0, 1, 1, 1, 1,\n",
       "       1, 1, 1, 1, 0, 1, 1, 0, 0, 0, 1, 0, 1, 0, 0, 0, 1, 1, 1, 1, 1, 0,\n",
       "       0, 1, 1, 1, 0, 1, 0, 1, 1, 1, 1, 0, 0, 1, 1, 1, 1, 1, 0, 1, 1, 1,\n",
       "       1, 1, 1, 1, 0], dtype=int64)"
      ]
     },
     "execution_count": 123,
     "metadata": {},
     "output_type": "execute_result"
    }
   ],
   "source": [
    "y"
   ]
  },
  {
   "cell_type": "code",
   "execution_count": 124,
   "metadata": {},
   "outputs": [],
   "source": [
    "from sklearn.model_selection import train_test_split"
   ]
  },
  {
   "cell_type": "code",
   "execution_count": 125,
   "metadata": {},
   "outputs": [],
   "source": [
    "X_train, X_test, y_train, y_test = train_test_split(X, y, test_size=0.25, random_state=42)"
   ]
  },
  {
   "cell_type": "code",
   "execution_count": 126,
   "metadata": {},
   "outputs": [
    {
     "data": {
      "text/plain": [
       "(432, 14)"
      ]
     },
     "execution_count": 126,
     "metadata": {},
     "output_type": "execute_result"
    }
   ],
   "source": [
    "X_train.shape"
   ]
  },
  {
   "cell_type": "code",
   "execution_count": 127,
   "metadata": {},
   "outputs": [
    {
     "data": {
      "text/plain": [
       "(145, 14)"
      ]
     },
     "execution_count": 127,
     "metadata": {},
     "output_type": "execute_result"
    }
   ],
   "source": [
    "X_test.shape"
   ]
  },
  {
   "cell_type": "markdown",
   "metadata": {},
   "source": [
    "## Scaling"
   ]
  },
  {
   "cell_type": "code",
   "execution_count": 128,
   "metadata": {},
   "outputs": [],
   "source": [
    "from sklearn.preprocessing import MinMaxScaler"
   ]
  },
  {
   "cell_type": "code",
   "execution_count": 129,
   "metadata": {},
   "outputs": [],
   "source": [
    "sc = MinMaxScaler()"
   ]
  },
  {
   "cell_type": "code",
   "execution_count": 130,
   "metadata": {},
   "outputs": [],
   "source": [
    "X_train = sc.fit_transform(X_train)\n",
    "X_test = sc.transform(X_test)"
   ]
  },
  {
   "cell_type": "code",
   "execution_count": 131,
   "metadata": {},
   "outputs": [
    {
     "data": {
      "text/plain": [
       "array([[0.5712392 , 0.        , 0.28229127, ..., 0.        , 0.        ,\n",
       "        0.        ],\n",
       "       [0.57683544, 0.91157373, 0.65531758, ..., 1.        , 0.        ,\n",
       "        0.        ],\n",
       "       [0.55662217, 0.86293872, 0.61358786, ..., 0.        , 0.        ,\n",
       "        1.        ],\n",
       "       ...,\n",
       "       [0.61815259, 0.88880368, 0.45485072, ..., 0.        , 0.        ,\n",
       "        0.        ],\n",
       "       [0.81538694, 0.        , 0.67457227, ..., 0.        , 1.        ,\n",
       "        0.        ],\n",
       "       [0.87936815, 0.77838254, 0.80269295, ..., 0.        , 0.        ,\n",
       "        1.        ]])"
      ]
     },
     "execution_count": 131,
     "metadata": {},
     "output_type": "execute_result"
    }
   ],
   "source": [
    "X_train"
   ]
  },
  {
   "cell_type": "code",
   "execution_count": 132,
   "metadata": {},
   "outputs": [
    {
     "data": {
      "text/plain": [
       "array([[0.53879098, 1.00828167, 0.61633545, ..., 0.        , 1.        ,\n",
       "        0.        ],\n",
       "       [0.5399288 , 0.89528386, 0.71461116, ..., 0.        , 1.        ,\n",
       "        0.        ],\n",
       "       [0.6088701 , 0.71978412, 0.5058221 , ..., 0.        , 1.        ,\n",
       "        0.        ],\n",
       "       ...,\n",
       "       [0.51565339, 0.86053068, 0.56666979, ..., 0.        , 0.        ,\n",
       "        1.        ],\n",
       "       [0.79824526, 0.        , 0.51308754, ..., 0.        , 0.        ,\n",
       "        1.        ],\n",
       "       [0.79619167, 0.        , 0.73314416, ..., 0.        , 0.        ,\n",
       "        1.        ]])"
      ]
     },
     "execution_count": 132,
     "metadata": {},
     "output_type": "execute_result"
    }
   ],
   "source": [
    "X_test"
   ]
  },
  {
   "cell_type": "markdown",
   "metadata": {},
   "source": [
    "## Machine Learning"
   ]
  },
  {
   "cell_type": "markdown",
   "metadata": {},
   "source": [
    "### Logistic regression"
   ]
  },
  {
   "cell_type": "code",
   "execution_count": 133,
   "metadata": {},
   "outputs": [],
   "source": [
    "from sklearn.linear_model import LogisticRegression"
   ]
  },
  {
   "cell_type": "code",
   "execution_count": 134,
   "metadata": {},
   "outputs": [],
   "source": [
    "from sklearn.metrics import accuracy_score,confusion_matrix,classification_report"
   ]
  },
  {
   "cell_type": "code",
   "execution_count": 135,
   "metadata": {},
   "outputs": [
    {
     "name": "stdout",
     "output_type": "stream",
     "text": [
      "for random state  0  The training accuracy is : 0.8194444444444444\n",
      "for random state  0  The testing accuracy is : 0.8137931034482758\n",
      "\n",
      "\n",
      "for random state  1  The training accuracy is : 0.8125\n",
      "for random state  1  The testing accuracy is : 0.8275862068965517\n",
      "\n",
      "\n",
      "for random state  2  The training accuracy is : 0.8194444444444444\n",
      "for random state  2  The testing accuracy is : 0.8137931034482758\n",
      "\n",
      "\n",
      "for random state  3  The training accuracy is : 0.8240740740740741\n",
      "for random state  3  The testing accuracy is : 0.8\n",
      "\n",
      "\n",
      "for random state  4  The training accuracy is : 0.8333333333333334\n",
      "for random state  4  The testing accuracy is : 0.7724137931034483\n",
      "\n",
      "\n",
      "for random state  5  The training accuracy is : 0.8263888888888888\n",
      "for random state  5  The testing accuracy is : 0.7862068965517242\n",
      "\n",
      "\n",
      "for random state  6  The training accuracy is : 0.8287037037037037\n",
      "for random state  6  The testing accuracy is : 0.7931034482758621\n",
      "\n",
      "\n",
      "for random state  7  The training accuracy is : 0.8263888888888888\n",
      "for random state  7  The testing accuracy is : 0.7931034482758621\n",
      "\n",
      "\n",
      "for random state  8  The training accuracy is : 0.8263888888888888\n",
      "for random state  8  The testing accuracy is : 0.7931034482758621\n",
      "\n",
      "\n",
      "for random state  9  The training accuracy is : 0.8287037037037037\n",
      "for random state  9  The testing accuracy is : 0.7931034482758621\n",
      "\n",
      "\n",
      "for random state  10  The training accuracy is : 0.8148148148148148\n",
      "for random state  10  The testing accuracy is : 0.8275862068965517\n",
      "\n",
      "\n",
      "for random state  11  The training accuracy is : 0.8263888888888888\n",
      "for random state  11  The testing accuracy is : 0.7931034482758621\n",
      "\n",
      "\n",
      "for random state  12  The training accuracy is : 0.7916666666666666\n",
      "for random state  12  The testing accuracy is : 0.896551724137931\n",
      "\n",
      "\n",
      "for random state  13  The training accuracy is : 0.8194444444444444\n",
      "for random state  13  The testing accuracy is : 0.8068965517241379\n",
      "\n",
      "\n",
      "for random state  14  The training accuracy is : 0.8402777777777778\n",
      "for random state  14  The testing accuracy is : 0.7517241379310344\n",
      "\n",
      "\n",
      "for random state  15  The training accuracy is : 0.8194444444444444\n",
      "for random state  15  The testing accuracy is : 0.8275862068965517\n",
      "\n",
      "\n",
      "for random state  16  The training accuracy is : 0.8240740740740741\n",
      "for random state  16  The testing accuracy is : 0.8\n",
      "\n",
      "\n",
      "for random state  17  The training accuracy is : 0.8194444444444444\n",
      "for random state  17  The testing accuracy is : 0.8275862068965517\n",
      "\n",
      "\n",
      "for random state  18  The training accuracy is : 0.8402777777777778\n",
      "for random state  18  The testing accuracy is : 0.7517241379310344\n",
      "\n",
      "\n",
      "for random state  19  The training accuracy is : 0.8171296296296297\n",
      "for random state  19  The testing accuracy is : 0.8206896551724138\n",
      "\n",
      "\n",
      "for random state  20  The training accuracy is : 0.8263888888888888\n",
      "for random state  20  The testing accuracy is : 0.8\n",
      "\n",
      "\n",
      "for random state  21  The training accuracy is : 0.8125\n",
      "for random state  21  The testing accuracy is : 0.8344827586206897\n",
      "\n",
      "\n",
      "for random state  22  The training accuracy is : 0.8287037037037037\n",
      "for random state  22  The testing accuracy is : 0.8068965517241379\n",
      "\n",
      "\n",
      "for random state  23  The training accuracy is : 0.8310185185185185\n",
      "for random state  23  The testing accuracy is : 0.7931034482758621\n",
      "\n",
      "\n",
      "for random state  24  The training accuracy is : 0.8101851851851852\n",
      "for random state  24  The testing accuracy is : 0.8551724137931035\n",
      "\n",
      "\n",
      "for random state  25  The training accuracy is : 0.8078703703703703\n",
      "for random state  25  The testing accuracy is : 0.8413793103448276\n",
      "\n",
      "\n",
      "for random state  26  The training accuracy is : 0.8032407407407407\n",
      "for random state  26  The testing accuracy is : 0.8620689655172413\n",
      "\n",
      "\n",
      "for random state  27  The training accuracy is : 0.8171296296296297\n",
      "for random state  27  The testing accuracy is : 0.7931034482758621\n",
      "\n",
      "\n",
      "for random state  28  The training accuracy is : 0.8194444444444444\n",
      "for random state  28  The testing accuracy is : 0.8137931034482758\n",
      "\n",
      "\n",
      "for random state  29  The training accuracy is : 0.8356481481481481\n",
      "for random state  29  The testing accuracy is : 0.7655172413793103\n",
      "\n",
      "\n",
      "for random state  30  The training accuracy is : 0.8287037037037037\n",
      "for random state  30  The testing accuracy is : 0.7862068965517242\n",
      "\n",
      "\n",
      "for random state  31  The training accuracy is : 0.8217592592592593\n",
      "for random state  31  The testing accuracy is : 0.8137931034482758\n",
      "\n",
      "\n",
      "for random state  32  The training accuracy is : 0.8217592592592593\n",
      "for random state  32  The testing accuracy is : 0.8137931034482758\n",
      "\n",
      "\n",
      "for random state  33  The training accuracy is : 0.8032407407407407\n",
      "for random state  33  The testing accuracy is : 0.8344827586206897\n",
      "\n",
      "\n",
      "for random state  34  The training accuracy is : 0.8263888888888888\n",
      "for random state  34  The testing accuracy is : 0.7931034482758621\n",
      "\n",
      "\n",
      "for random state  35  The training accuracy is : 0.8240740740740741\n",
      "for random state  35  The testing accuracy is : 0.8068965517241379\n",
      "\n",
      "\n",
      "for random state  36  The training accuracy is : 0.8217592592592593\n",
      "for random state  36  The testing accuracy is : 0.8275862068965517\n",
      "\n",
      "\n",
      "for random state  37  The training accuracy is : 0.8148148148148148\n",
      "for random state  37  The testing accuracy is : 0.8068965517241379\n",
      "\n",
      "\n",
      "for random state  38  The training accuracy is : 0.8101851851851852\n",
      "for random state  38  The testing accuracy is : 0.8482758620689655\n",
      "\n",
      "\n",
      "for random state  39  The training accuracy is : 0.7962962962962963\n",
      "for random state  39  The testing accuracy is : 0.8827586206896552\n",
      "\n",
      "\n",
      "for random state  40  The training accuracy is : 0.8217592592592593\n",
      "for random state  40  The testing accuracy is : 0.7931034482758621\n",
      "\n",
      "\n",
      "for random state  41  The training accuracy is : 0.8194444444444444\n",
      "for random state  41  The testing accuracy is : 0.8206896551724138\n",
      "\n",
      "\n",
      "for random state  42  The training accuracy is : 0.8101851851851852\n",
      "for random state  42  The testing accuracy is : 0.8413793103448276\n",
      "\n",
      "\n",
      "for random state  43  The training accuracy is : 0.8240740740740741\n",
      "for random state  43  The testing accuracy is : 0.7931034482758621\n",
      "\n",
      "\n",
      "for random state  44  The training accuracy is : 0.8194444444444444\n",
      "for random state  44  The testing accuracy is : 0.8137931034482758\n",
      "\n",
      "\n",
      "for random state  45  The training accuracy is : 0.8240740740740741\n",
      "for random state  45  The testing accuracy is : 0.8\n",
      "\n",
      "\n",
      "for random state  46  The training accuracy is : 0.8194444444444444\n",
      "for random state  46  The testing accuracy is : 0.8068965517241379\n",
      "\n",
      "\n",
      "for random state  47  The training accuracy is : 0.8217592592592593\n",
      "for random state  47  The testing accuracy is : 0.8137931034482758\n",
      "\n",
      "\n",
      "for random state  48  The training accuracy is : 0.8217592592592593\n",
      "for random state  48  The testing accuracy is : 0.8068965517241379\n",
      "\n",
      "\n",
      "for random state  49  The training accuracy is : 0.8217592592592593\n",
      "for random state  49  The testing accuracy is : 0.8068965517241379\n",
      "\n",
      "\n",
      "for random state  50  The training accuracy is : 0.8194444444444444\n",
      "for random state  50  The testing accuracy is : 0.8137931034482758\n",
      "\n",
      "\n",
      "for random state  51  The training accuracy is : 0.8217592592592593\n",
      "for random state  51  The testing accuracy is : 0.8068965517241379\n",
      "\n",
      "\n",
      "for random state  52  The training accuracy is : 0.8032407407407407\n",
      "for random state  52  The testing accuracy is : 0.8620689655172413\n",
      "\n",
      "\n",
      "for random state  53  The training accuracy is : 0.8217592592592593\n",
      "for random state  53  The testing accuracy is : 0.8\n",
      "\n",
      "\n",
      "for random state  54  The training accuracy is : 0.8333333333333334\n",
      "for random state  54  The testing accuracy is : 0.7724137931034483\n",
      "\n",
      "\n",
      "for random state  55  The training accuracy is : 0.8032407407407407\n",
      "for random state  55  The testing accuracy is : 0.8551724137931035\n",
      "\n",
      "\n",
      "for random state  56  The training accuracy is : 0.8125\n",
      "for random state  56  The testing accuracy is : 0.8344827586206897\n",
      "\n",
      "\n",
      "for random state  57  The training accuracy is : 0.8217592592592593\n",
      "for random state  57  The testing accuracy is : 0.8068965517241379\n",
      "\n",
      "\n",
      "for random state  58  The training accuracy is : 0.8101851851851852\n",
      "for random state  58  The testing accuracy is : 0.8413793103448276\n",
      "\n",
      "\n",
      "for random state  59  The training accuracy is : 0.8217592592592593\n",
      "for random state  59  The testing accuracy is : 0.8068965517241379\n",
      "\n",
      "\n",
      "for random state  60  The training accuracy is : 0.8194444444444444\n",
      "for random state  60  The testing accuracy is : 0.8206896551724138\n",
      "\n",
      "\n",
      "for random state  61  The training accuracy is : 0.8263888888888888\n",
      "for random state  61  The testing accuracy is : 0.7862068965517242\n",
      "\n",
      "\n",
      "for random state  62  The training accuracy is : 0.8171296296296297\n",
      "for random state  62  The testing accuracy is : 0.8206896551724138\n",
      "\n",
      "\n",
      "for random state  63  The training accuracy is : 0.8240740740740741\n",
      "for random state  63  The testing accuracy is : 0.8\n",
      "\n",
      "\n",
      "for random state  64  The training accuracy is : 0.8263888888888888\n",
      "for random state  64  The testing accuracy is : 0.8068965517241379\n",
      "\n",
      "\n"
     ]
    },
    {
     "name": "stdout",
     "output_type": "stream",
     "text": [
      "for random state  65  The training accuracy is : 0.8310185185185185\n",
      "for random state  65  The testing accuracy is : 0.7793103448275862\n",
      "\n",
      "\n",
      "for random state  66  The training accuracy is : 0.8194444444444444\n",
      "for random state  66  The testing accuracy is : 0.8206896551724138\n",
      "\n",
      "\n",
      "for random state  67  The training accuracy is : 0.8333333333333334\n",
      "for random state  67  The testing accuracy is : 0.7655172413793103\n",
      "\n",
      "\n",
      "for random state  68  The training accuracy is : 0.8032407407407407\n",
      "for random state  68  The testing accuracy is : 0.8896551724137931\n",
      "\n",
      "\n",
      "for random state  69  The training accuracy is : 0.8217592592592593\n",
      "for random state  69  The testing accuracy is : 0.8068965517241379\n",
      "\n",
      "\n",
      "for random state  70  The training accuracy is : 0.8425925925925926\n",
      "for random state  70  The testing accuracy is : 0.7448275862068966\n",
      "\n",
      "\n",
      "for random state  71  The training accuracy is : 0.8055555555555556\n",
      "for random state  71  The testing accuracy is : 0.8551724137931035\n",
      "\n",
      "\n",
      "for random state  72  The training accuracy is : 0.8263888888888888\n",
      "for random state  72  The testing accuracy is : 0.7931034482758621\n",
      "\n",
      "\n",
      "for random state  73  The training accuracy is : 0.8217592592592593\n",
      "for random state  73  The testing accuracy is : 0.8\n",
      "\n",
      "\n",
      "for random state  74  The training accuracy is : 0.8310185185185185\n",
      "for random state  74  The testing accuracy is : 0.7793103448275862\n",
      "\n",
      "\n",
      "for random state  75  The training accuracy is : 0.8240740740740741\n",
      "for random state  75  The testing accuracy is : 0.8\n",
      "\n",
      "\n",
      "for random state  76  The training accuracy is : 0.8287037037037037\n",
      "for random state  76  The testing accuracy is : 0.7862068965517242\n",
      "\n",
      "\n",
      "for random state  77  The training accuracy is : 0.8240740740740741\n",
      "for random state  77  The testing accuracy is : 0.8\n",
      "\n",
      "\n",
      "for random state  78  The training accuracy is : 0.8148148148148148\n",
      "for random state  78  The testing accuracy is : 0.8413793103448276\n",
      "\n",
      "\n",
      "for random state  79  The training accuracy is : 0.8148148148148148\n",
      "for random state  79  The testing accuracy is : 0.8275862068965517\n",
      "\n",
      "\n",
      "for random state  80  The training accuracy is : 0.8263888888888888\n",
      "for random state  80  The testing accuracy is : 0.7931034482758621\n",
      "\n",
      "\n",
      "for random state  81  The training accuracy is : 0.8263888888888888\n",
      "for random state  81  The testing accuracy is : 0.8\n",
      "\n",
      "\n",
      "for random state  82  The training accuracy is : 0.8032407407407407\n",
      "for random state  82  The testing accuracy is : 0.8551724137931035\n",
      "\n",
      "\n",
      "for random state  83  The training accuracy is : 0.8148148148148148\n",
      "for random state  83  The testing accuracy is : 0.8275862068965517\n",
      "\n",
      "\n",
      "for random state  84  The training accuracy is : 0.7939814814814815\n",
      "for random state  84  The testing accuracy is : 0.8758620689655172\n",
      "\n",
      "\n",
      "for random state  85  The training accuracy is : 0.8287037037037037\n",
      "for random state  85  The testing accuracy is : 0.7862068965517242\n",
      "\n",
      "\n",
      "for random state  86  The training accuracy is : 0.8032407407407407\n",
      "for random state  86  The testing accuracy is : 0.8620689655172413\n",
      "\n",
      "\n",
      "for random state  87  The training accuracy is : 0.8125\n",
      "for random state  87  The testing accuracy is : 0.8344827586206897\n",
      "\n",
      "\n",
      "for random state  88  The training accuracy is : 0.8287037037037037\n",
      "for random state  88  The testing accuracy is : 0.7862068965517242\n",
      "\n",
      "\n",
      "for random state  89  The training accuracy is : 0.8379629629629629\n",
      "for random state  89  The testing accuracy is : 0.7586206896551724\n",
      "\n",
      "\n",
      "for random state  90  The training accuracy is : 0.8101851851851852\n",
      "for random state  90  The testing accuracy is : 0.8551724137931035\n",
      "\n",
      "\n",
      "for random state  91  The training accuracy is : 0.8009259259259259\n",
      "for random state  91  The testing accuracy is : 0.8758620689655172\n",
      "\n",
      "\n",
      "for random state  92  The training accuracy is : 0.8217592592592593\n",
      "for random state  92  The testing accuracy is : 0.8068965517241379\n",
      "\n",
      "\n",
      "for random state  93  The training accuracy is : 0.8055555555555556\n",
      "for random state  93  The testing accuracy is : 0.8551724137931035\n",
      "\n",
      "\n",
      "for random state  94  The training accuracy is : 0.8101851851851852\n",
      "for random state  94  The testing accuracy is : 0.8482758620689655\n",
      "\n",
      "\n",
      "for random state  95  The training accuracy is : 0.8078703703703703\n",
      "for random state  95  The testing accuracy is : 0.8482758620689655\n",
      "\n",
      "\n",
      "for random state  96  The training accuracy is : 0.8101851851851852\n",
      "for random state  96  The testing accuracy is : 0.8413793103448276\n",
      "\n",
      "\n",
      "for random state  97  The training accuracy is : 0.8148148148148148\n",
      "for random state  97  The testing accuracy is : 0.8344827586206897\n",
      "\n",
      "\n",
      "for random state  98  The training accuracy is : 0.8217592592592593\n",
      "for random state  98  The testing accuracy is : 0.8068965517241379\n",
      "\n",
      "\n",
      "for random state  99  The training accuracy is : 0.8217592592592593\n",
      "for random state  99  The testing accuracy is : 0.8068965517241379\n",
      "\n",
      "\n",
      "for random state  100  The training accuracy is : 0.8171296296296297\n",
      "for random state  100  The testing accuracy is : 0.8206896551724138\n",
      "\n",
      "\n"
     ]
    }
   ],
   "source": [
    "for i in range(0,101):\n",
    "    \n",
    "    X_train, X_test, y_train, y_test = train_test_split(X, y, test_size=0.25, random_state=i)\n",
    "    mod_1 = LogisticRegression() \n",
    "    mod_1.fit(X_train,y_train)\n",
    "    train_score_1 = mod_1.score(X_train,y_train)\n",
    "    pred_1 = mod_1.predict(X_test)\n",
    "    test_score_1 = accuracy_score(y_test,pred_1)\n",
    "    \n",
    "    print(\"for random state \",i,\" The training accuracy is :\",train_score_1)\n",
    "    print(\"for random state \",i,\" The testing accuracy is :\",test_score_1)\n",
    "    print(\"\\n\")"
   ]
  },
  {
   "cell_type": "code",
   "execution_count": 136,
   "metadata": {},
   "outputs": [
    {
     "name": "stdout",
     "output_type": "stream",
     "text": [
      "The training accuracy is : 0.8194444444444444\n",
      "The testing accuracy is : 0.8275862068965517\n"
     ]
    }
   ],
   "source": [
    "# Taking 15 as best random state\n",
    "X_train, X_test, y_train, y_test = train_test_split(X, y, test_size=0.25, random_state=15)\n",
    "mod_1 = LogisticRegression()\n",
    "mod_1.fit(X_train,y_train)\n",
    "train_score_1 = mod_1.score(X_train,y_train)\n",
    "pred_1 = mod_1.predict(X_test)\n",
    "test_score_1 = accuracy_score(y_test,pred_1)\n",
    "    \n",
    "print(\"The training accuracy is :\",train_score_1)\n",
    "print(\"The testing accuracy is :\",test_score_1)\n"
   ]
  },
  {
   "cell_type": "code",
   "execution_count": 137,
   "metadata": {},
   "outputs": [
    {
     "name": "stdout",
     "output_type": "stream",
     "text": [
      "[[ 15  24]\n",
      " [  1 105]]\n",
      "\n",
      "\n",
      "              precision    recall  f1-score   support\n",
      "\n",
      "           0       0.94      0.38      0.55        39\n",
      "           1       0.81      0.99      0.89       106\n",
      "\n",
      "    accuracy                           0.83       145\n",
      "   macro avg       0.88      0.69      0.72       145\n",
      "weighted avg       0.85      0.83      0.80       145\n",
      "\n",
      "\n",
      "\n"
     ]
    }
   ],
   "source": [
    "print(confusion_matrix(y_test,pred_1))\n",
    "print(\"\\n\")\n",
    "print(classification_report(y_test,pred_1))\n",
    "print(\"\\n\")"
   ]
  },
  {
   "cell_type": "markdown",
   "metadata": {},
   "source": [
    "## Stratified Validation"
   ]
  },
  {
   "cell_type": "code",
   "execution_count": 138,
   "metadata": {},
   "outputs": [],
   "source": [
    "from sklearn.model_selection import cross_val_score\n",
    "from sklearn.model_selection import StratifiedKFold"
   ]
  },
  {
   "cell_type": "code",
   "execution_count": 139,
   "metadata": {},
   "outputs": [],
   "source": [
    "kfold = StratifiedKFold(n_splits=10)\n",
    "\n",
    "K_results = cross_val_score(mod_1,X,y,cv=kfold)\n",
    "\n",
    "kfold_accuracy_LR = np.mean(abs(K_results))"
   ]
  },
  {
   "cell_type": "code",
   "execution_count": 140,
   "metadata": {},
   "outputs": [
    {
     "data": {
      "text/plain": [
       "0.8163944343617665"
      ]
     },
     "execution_count": 140,
     "metadata": {},
     "output_type": "execute_result"
    }
   ],
   "source": [
    "kfold_accuracy_LR"
   ]
  },
  {
   "cell_type": "code",
   "execution_count": 141,
   "metadata": {},
   "outputs": [],
   "source": [
    "score = {\"Algorithm\":[\"Logistic Regression\"],\n",
    "         \"Training_Acc\":[train_score_1],\n",
    "        \"Accuracy\":[test_score_1],\n",
    "        \"Cross_validation\":[kfold_accuracy_LR]}\n",
    "\n",
    "final_card = pd.DataFrame(score)"
   ]
  },
  {
   "cell_type": "code",
   "execution_count": 142,
   "metadata": {},
   "outputs": [
    {
     "data": {
      "text/html": [
       "<div>\n",
       "<style scoped>\n",
       "    .dataframe tbody tr th:only-of-type {\n",
       "        vertical-align: middle;\n",
       "    }\n",
       "\n",
       "    .dataframe tbody tr th {\n",
       "        vertical-align: top;\n",
       "    }\n",
       "\n",
       "    .dataframe thead th {\n",
       "        text-align: right;\n",
       "    }\n",
       "</style>\n",
       "<table border=\"1\" class=\"dataframe\">\n",
       "  <thead>\n",
       "    <tr style=\"text-align: right;\">\n",
       "      <th></th>\n",
       "      <th>Algorithm</th>\n",
       "      <th>Training_Acc</th>\n",
       "      <th>Accuracy</th>\n",
       "      <th>Cross_validation</th>\n",
       "    </tr>\n",
       "  </thead>\n",
       "  <tbody>\n",
       "    <tr>\n",
       "      <th>0</th>\n",
       "      <td>Logistic Regression</td>\n",
       "      <td>0.819444</td>\n",
       "      <td>0.827586</td>\n",
       "      <td>0.816394</td>\n",
       "    </tr>\n",
       "  </tbody>\n",
       "</table>\n",
       "</div>"
      ],
      "text/plain": [
       "             Algorithm  Training_Acc  Accuracy  Cross_validation\n",
       "0  Logistic Regression      0.819444  0.827586          0.816394"
      ]
     },
     "execution_count": 142,
     "metadata": {},
     "output_type": "execute_result"
    }
   ],
   "source": [
    "final_card"
   ]
  },
  {
   "cell_type": "markdown",
   "metadata": {},
   "source": [
    "## Naive Bayes"
   ]
  },
  {
   "cell_type": "code",
   "execution_count": 143,
   "metadata": {},
   "outputs": [],
   "source": [
    "from sklearn.naive_bayes import GaussianNB"
   ]
  },
  {
   "cell_type": "code",
   "execution_count": 144,
   "metadata": {},
   "outputs": [
    {
     "name": "stdout",
     "output_type": "stream",
     "text": [
      "for random state  0  The training accuracy is : 0.8194444444444444\n",
      "for random state  0  The testing accuracy is : 0.8137931034482758\n",
      "\n",
      "\n",
      "for random state  1  The training accuracy is : 0.8101851851851852\n",
      "for random state  1  The testing accuracy is : 0.8206896551724138\n",
      "\n",
      "\n",
      "for random state  2  The training accuracy is : 0.8217592592592593\n",
      "for random state  2  The testing accuracy is : 0.8068965517241379\n",
      "\n",
      "\n",
      "for random state  3  The training accuracy is : 0.8055555555555556\n",
      "for random state  3  The testing accuracy is : 0.7517241379310344\n",
      "\n",
      "\n",
      "for random state  4  The training accuracy is : 0.8310185185185185\n",
      "for random state  4  The testing accuracy is : 0.7724137931034483\n",
      "\n",
      "\n",
      "for random state  5  The training accuracy is : 0.8240740740740741\n",
      "for random state  5  The testing accuracy is : 0.7586206896551724\n",
      "\n",
      "\n",
      "for random state  6  The training accuracy is : 0.8101851851851852\n",
      "for random state  6  The testing accuracy is : 0.7103448275862069\n",
      "\n",
      "\n",
      "for random state  7  The training accuracy is : 0.8310185185185185\n",
      "for random state  7  The testing accuracy is : 0.7931034482758621\n",
      "\n",
      "\n",
      "for random state  8  The training accuracy is : 0.8310185185185185\n",
      "for random state  8  The testing accuracy is : 0.7793103448275862\n",
      "\n",
      "\n",
      "for random state  9  The training accuracy is : 0.8217592592592593\n",
      "for random state  9  The testing accuracy is : 0.7724137931034483\n",
      "\n",
      "\n",
      "for random state  10  The training accuracy is : 0.8217592592592593\n",
      "for random state  10  The testing accuracy is : 0.8344827586206897\n",
      "\n",
      "\n",
      "for random state  11  The training accuracy is : 0.8148148148148148\n",
      "for random state  11  The testing accuracy is : 0.7517241379310344\n",
      "\n",
      "\n",
      "for random state  12  The training accuracy is : 0.7916666666666666\n",
      "for random state  12  The testing accuracy is : 0.8896551724137931\n",
      "\n",
      "\n",
      "for random state  13  The training accuracy is : 0.8148148148148148\n",
      "for random state  13  The testing accuracy is : 0.7586206896551724\n",
      "\n",
      "\n",
      "for random state  14  The training accuracy is : 0.8263888888888888\n",
      "for random state  14  The testing accuracy is : 0.7448275862068966\n",
      "\n",
      "\n",
      "for random state  15  The training accuracy is : 0.8032407407407407\n",
      "for random state  15  The testing accuracy is : 0.8068965517241379\n",
      "\n",
      "\n",
      "for random state  16  The training accuracy is : 0.8287037037037037\n",
      "for random state  16  The testing accuracy is : 0.7862068965517242\n",
      "\n",
      "\n",
      "for random state  17  The training accuracy is : 0.8055555555555556\n",
      "for random state  17  The testing accuracy is : 0.7517241379310344\n",
      "\n",
      "\n",
      "for random state  18  The training accuracy is : 0.8425925925925926\n",
      "for random state  18  The testing accuracy is : 0.7517241379310344\n",
      "\n",
      "\n",
      "for random state  19  The training accuracy is : 0.8148148148148148\n",
      "for random state  19  The testing accuracy is : 0.8137931034482758\n",
      "\n",
      "\n",
      "for random state  20  The training accuracy is : 0.8101851851851852\n",
      "for random state  20  The testing accuracy is : 0.7586206896551724\n",
      "\n",
      "\n",
      "for random state  21  The training accuracy is : 0.8101851851851852\n",
      "for random state  21  The testing accuracy is : 0.8344827586206897\n",
      "\n",
      "\n",
      "for random state  22  The training accuracy is : 0.8194444444444444\n",
      "for random state  22  The testing accuracy is : 0.8206896551724138\n",
      "\n",
      "\n",
      "for random state  23  The training accuracy is : 0.8194444444444444\n",
      "for random state  23  The testing accuracy is : 0.7793103448275862\n",
      "\n",
      "\n",
      "for random state  24  The training accuracy is : 0.7986111111111112\n",
      "for random state  24  The testing accuracy is : 0.8689655172413793\n",
      "\n",
      "\n",
      "for random state  25  The training accuracy is : 0.8125\n",
      "for random state  25  The testing accuracy is : 0.8551724137931035\n",
      "\n",
      "\n",
      "for random state  26  The training accuracy is : 0.8078703703703703\n",
      "for random state  26  The testing accuracy is : 0.8620689655172413\n",
      "\n",
      "\n",
      "for random state  27  The training accuracy is : 0.8194444444444444\n",
      "for random state  27  The testing accuracy is : 0.8\n",
      "\n",
      "\n",
      "for random state  28  The training accuracy is : 0.8217592592592593\n",
      "for random state  28  The testing accuracy is : 0.8137931034482758\n",
      "\n",
      "\n",
      "for random state  29  The training accuracy is : 0.8310185185185185\n",
      "for random state  29  The testing accuracy is : 0.7586206896551724\n",
      "\n",
      "\n",
      "for random state  30  The training accuracy is : 0.8078703703703703\n",
      "for random state  30  The testing accuracy is : 0.7793103448275862\n",
      "\n",
      "\n",
      "for random state  31  The training accuracy is : 0.8101851851851852\n",
      "for random state  31  The testing accuracy is : 0.8\n",
      "\n",
      "\n",
      "for random state  32  The training accuracy is : 0.8148148148148148\n",
      "for random state  32  The testing accuracy is : 0.7793103448275862\n",
      "\n",
      "\n",
      "for random state  33  The training accuracy is : 0.8032407407407407\n",
      "for random state  33  The testing accuracy is : 0.7931034482758621\n",
      "\n",
      "\n",
      "for random state  34  The training accuracy is : 0.8240740740740741\n",
      "for random state  34  The testing accuracy is : 0.7931034482758621\n",
      "\n",
      "\n",
      "for random state  35  The training accuracy is : 0.8240740740740741\n",
      "for random state  35  The testing accuracy is : 0.8\n",
      "\n",
      "\n",
      "for random state  36  The training accuracy is : 0.8148148148148148\n",
      "for random state  36  The testing accuracy is : 0.8206896551724138\n",
      "\n",
      "\n",
      "for random state  37  The training accuracy is : 0.8101851851851852\n",
      "for random state  37  The testing accuracy is : 0.7724137931034483\n",
      "\n",
      "\n",
      "for random state  38  The training accuracy is : 0.8078703703703703\n",
      "for random state  38  The testing accuracy is : 0.8482758620689655\n",
      "\n",
      "\n",
      "for random state  39  The training accuracy is : 0.7847222222222222\n",
      "for random state  39  The testing accuracy is : 0.8413793103448276\n",
      "\n",
      "\n",
      "for random state  40  The training accuracy is : 0.8101851851851852\n",
      "for random state  40  The testing accuracy is : 0.8068965517241379\n",
      "\n",
      "\n",
      "for random state  41  The training accuracy is : 0.8125\n",
      "for random state  41  The testing accuracy is : 0.8137931034482758\n",
      "\n",
      "\n",
      "for random state  42  The training accuracy is : 0.8078703703703703\n",
      "for random state  42  The testing accuracy is : 0.8344827586206897\n",
      "\n",
      "\n",
      "for random state  43  The training accuracy is : 0.8055555555555556\n",
      "for random state  43  The testing accuracy is : 0.7172413793103448\n",
      "\n",
      "\n",
      "for random state  44  The training accuracy is : 0.8055555555555556\n",
      "for random state  44  The testing accuracy is : 0.7931034482758621\n",
      "\n",
      "\n",
      "for random state  45  The training accuracy is : 0.8148148148148148\n",
      "for random state  45  The testing accuracy is : 0.7931034482758621\n",
      "\n",
      "\n",
      "for random state  46  The training accuracy is : 0.8055555555555556\n",
      "for random state  46  The testing accuracy is : 0.7862068965517242\n",
      "\n",
      "\n",
      "for random state  47  The training accuracy is : 0.8171296296296297\n",
      "for random state  47  The testing accuracy is : 0.8\n",
      "\n",
      "\n",
      "for random state  48  The training accuracy is : 0.8148148148148148\n",
      "for random state  48  The testing accuracy is : 0.7931034482758621\n",
      "\n",
      "\n",
      "for random state  49  The training accuracy is : 0.8240740740740741\n",
      "for random state  49  The testing accuracy is : 0.8068965517241379\n",
      "\n",
      "\n",
      "for random state  50  The training accuracy is : 0.8055555555555556\n",
      "for random state  50  The testing accuracy is : 0.8137931034482758\n",
      "\n",
      "\n",
      "for random state  51  The training accuracy is : 0.8171296296296297\n",
      "for random state  51  The testing accuracy is : 0.7655172413793103\n",
      "\n",
      "\n",
      "for random state  52  The training accuracy is : 0.8055555555555556\n",
      "for random state  52  The testing accuracy is : 0.8620689655172413\n",
      "\n",
      "\n",
      "for random state  53  The training accuracy is : 0.8101851851851852\n",
      "for random state  53  The testing accuracy is : 0.7448275862068966\n",
      "\n",
      "\n",
      "for random state  54  The training accuracy is : 0.8356481481481481\n",
      "for random state  54  The testing accuracy is : 0.7724137931034483\n",
      "\n",
      "\n",
      "for random state  55  The training accuracy is : 0.7800925925925926\n",
      "for random state  55  The testing accuracy is : 0.8206896551724138\n",
      "\n",
      "\n",
      "for random state  56  The training accuracy is : 0.8032407407407407\n",
      "for random state  56  The testing accuracy is : 0.8275862068965517\n",
      "\n",
      "\n",
      "for random state  57  The training accuracy is : 0.8194444444444444\n",
      "for random state  57  The testing accuracy is : 0.8137931034482758\n",
      "\n",
      "\n",
      "for random state  58  The training accuracy is : 0.8009259259259259\n",
      "for random state  58  The testing accuracy is : 0.8206896551724138\n",
      "\n",
      "\n",
      "for random state  59  The training accuracy is : 0.8194444444444444\n",
      "for random state  59  The testing accuracy is : 0.8137931034482758\n",
      "\n",
      "\n",
      "for random state  60  The training accuracy is : 0.8125\n",
      "for random state  60  The testing accuracy is : 0.8068965517241379\n",
      "\n",
      "\n",
      "for random state  61  The training accuracy is : 0.8194444444444444\n",
      "for random state  61  The testing accuracy is : 0.7724137931034483\n",
      "\n",
      "\n",
      "for random state  62  The training accuracy is : 0.8217592592592593\n",
      "for random state  62  The testing accuracy is : 0.8137931034482758\n",
      "\n",
      "\n",
      "for random state  63  The training accuracy is : 0.8240740740740741\n",
      "for random state  63  The testing accuracy is : 0.8\n",
      "\n",
      "\n",
      "for random state  64  The training accuracy is : 0.8240740740740741\n",
      "for random state  64  The testing accuracy is : 0.7931034482758621\n",
      "\n",
      "\n",
      "for random state  65  The training accuracy is : 0.8194444444444444\n",
      "for random state  65  The testing accuracy is : 0.7517241379310344\n",
      "\n",
      "\n",
      "for random state  66  The training accuracy is : 0.8078703703703703\n",
      "for random state  66  The testing accuracy is : 0.7931034482758621\n",
      "\n",
      "\n",
      "for random state  67  The training accuracy is : 0.8287037037037037\n",
      "for random state  67  The testing accuracy is : 0.7655172413793103\n",
      "\n",
      "\n",
      "for random state  68  The training accuracy is : 0.7962962962962963\n",
      "for random state  68  The testing accuracy is : 0.8689655172413793\n",
      "\n",
      "\n",
      "for random state  69  The training accuracy is : 0.8194444444444444\n",
      "for random state  69  The testing accuracy is : 0.8\n",
      "\n",
      "\n",
      "for random state  70  The training accuracy is : 0.8333333333333334\n",
      "for random state  70  The testing accuracy is : 0.7448275862068966\n",
      "\n",
      "\n",
      "for random state  71  The training accuracy is : 0.7847222222222222\n",
      "for random state  71  The testing accuracy is : 0.7931034482758621\n",
      "\n",
      "\n",
      "for random state  72  The training accuracy is : 0.8333333333333334\n",
      "for random state  72  The testing accuracy is : 0.7931034482758621\n",
      "\n",
      "\n",
      "for random state  73  The training accuracy is : 0.8009259259259259\n",
      "for random state  73  The testing accuracy is : 0.7724137931034483\n",
      "\n",
      "\n",
      "for random state  74  The training accuracy is : 0.8171296296296297\n",
      "for random state  74  The testing accuracy is : 0.7586206896551724\n",
      "\n",
      "\n",
      "for random state  75  The training accuracy is : 0.8263888888888888\n",
      "for random state  75  The testing accuracy is : 0.7517241379310344\n",
      "\n",
      "\n",
      "for random state  76  The training accuracy is : 0.8217592592592593\n",
      "for random state  76  The testing accuracy is : 0.7862068965517242\n",
      "\n",
      "\n",
      "for random state  77  The training accuracy is : 0.8148148148148148\n",
      "for random state  77  The testing accuracy is : 0.7586206896551724\n",
      "\n",
      "\n",
      "for random state  78  The training accuracy is : 0.8032407407407407\n",
      "for random state  78  The testing accuracy is : 0.8413793103448276\n",
      "\n",
      "\n",
      "for random state  79  The training accuracy is : 0.8171296296296297\n",
      "for random state  79  The testing accuracy is : 0.8068965517241379\n",
      "\n",
      "\n",
      "for random state  80  The training accuracy is : 0.8287037037037037\n",
      "for random state  80  The testing accuracy is : 0.7862068965517242\n",
      "\n",
      "\n",
      "for random state  81  The training accuracy is : 0.8263888888888888\n",
      "for random state  81  The testing accuracy is : 0.8\n",
      "\n",
      "\n",
      "for random state  82  The training accuracy is : 0.8032407407407407\n",
      "for random state  82  The testing accuracy is : 0.8068965517241379\n",
      "\n",
      "\n",
      "for random state  83  The training accuracy is : 0.8101851851851852\n",
      "for random state  83  The testing accuracy is : 0.8275862068965517\n",
      "\n",
      "\n",
      "for random state  84  The training accuracy is : 0.7962962962962963\n",
      "for random state  84  The testing accuracy is : 0.8827586206896552\n",
      "\n",
      "\n",
      "for random state  85  The training accuracy is : 0.8287037037037037\n",
      "for random state  85  The testing accuracy is : 0.7793103448275862\n",
      "\n",
      "\n",
      "for random state  86  The training accuracy is : 0.7986111111111112\n",
      "for random state  86  The testing accuracy is : 0.8413793103448276\n",
      "\n",
      "\n",
      "for random state  87  The training accuracy is : 0.8125\n",
      "for random state  87  The testing accuracy is : 0.8206896551724138\n",
      "\n",
      "\n",
      "for random state  88  The training accuracy is : 0.8310185185185185\n",
      "for random state  88  The testing accuracy is : 0.7862068965517242\n",
      "\n",
      "\n",
      "for random state  89  The training accuracy is : 0.8356481481481481\n",
      "for random state  89  The testing accuracy is : 0.7793103448275862\n",
      "\n",
      "\n",
      "for random state  90  The training accuracy is : 0.8078703703703703\n",
      "for random state  90  The testing accuracy is : 0.8620689655172413\n",
      "\n",
      "\n",
      "for random state  91  The training accuracy is : 0.7962962962962963\n",
      "for random state  91  The testing accuracy is : 0.8827586206896552\n",
      "\n",
      "\n",
      "for random state  92  The training accuracy is : 0.8217592592592593\n",
      "for random state  92  The testing accuracy is : 0.8068965517241379\n",
      "\n",
      "\n",
      "for random state  93  The training accuracy is : 0.7939814814814815\n",
      "for random state  93  The testing accuracy is : 0.8551724137931035\n",
      "\n",
      "\n",
      "for random state  94  The training accuracy is : 0.8009259259259259\n",
      "for random state  94  The testing accuracy is : 0.7379310344827587\n",
      "\n",
      "\n",
      "for random state  95  The training accuracy is : 0.8101851851851852\n",
      "for random state  95  The testing accuracy is : 0.8413793103448276\n",
      "\n",
      "\n",
      "for random state  96  The training accuracy is : 0.8125\n",
      "for random state  96  The testing accuracy is : 0.8344827586206897\n",
      "\n",
      "\n",
      "for random state  97  The training accuracy is : 0.8055555555555556\n",
      "for random state  97  The testing accuracy is : 0.7931034482758621\n",
      "\n",
      "\n",
      "for random state  98  The training accuracy is : 0.8217592592592593\n",
      "for random state  98  The testing accuracy is : 0.8068965517241379\n",
      "\n",
      "\n",
      "for random state  99  The training accuracy is : 0.8194444444444444\n",
      "for random state  99  The testing accuracy is : 0.8068965517241379\n",
      "\n",
      "\n",
      "for random state  100  The training accuracy is : 0.8194444444444444\n",
      "for random state  100  The testing accuracy is : 0.8206896551724138\n",
      "\n",
      "\n"
     ]
    }
   ],
   "source": [
    "for i in range(0,101):\n",
    "    \n",
    "    X_train, X_test, y_train, y_test = train_test_split(X, y, test_size=0.25, random_state=i)\n",
    "    mod_2 = GaussianNB() \n",
    "    mod_2.fit(X_train,y_train)\n",
    "    train_score_2 = mod_2.score(X_train,y_train)\n",
    "    pred_2 = mod_2.predict(X_test)\n",
    "    test_score_2 = accuracy_score(y_test,pred_2)\n",
    "    \n",
    "    print(\"for random state \",i,\" The training accuracy is :\",train_score_2)\n",
    "    print(\"for random state \",i,\" The testing accuracy is :\",test_score_2)\n",
    "    print(\"\\n\")"
   ]
  },
  {
   "cell_type": "code",
   "execution_count": 145,
   "metadata": {},
   "outputs": [
    {
     "name": "stdout",
     "output_type": "stream",
     "text": [
      "The training accuracy is : 0.8148148148148148\n",
      "The testing accuracy is : 0.8206896551724138\n",
      "\n",
      "\n"
     ]
    }
   ],
   "source": [
    "# Taking 36 as best random state\n",
    "X_train, X_test, y_train, y_test = train_test_split(X, y, test_size=0.25, random_state=36)\n",
    "mod_2 = GaussianNB() \n",
    "mod_2.fit(X_train,y_train)\n",
    "train_score_2 = mod_2.score(X_train,y_train)\n",
    "pred_2 = mod_2.predict(X_test)\n",
    "test_score_2 = accuracy_score(y_test,pred_2)\n",
    "    \n",
    "print(\"The training accuracy is :\",train_score_2)\n",
    "print(\"The testing accuracy is :\",test_score_2)\n",
    "print(\"\\n\")"
   ]
  },
  {
   "cell_type": "code",
   "execution_count": 146,
   "metadata": {},
   "outputs": [
    {
     "name": "stdout",
     "output_type": "stream",
     "text": [
      "[[ 19  24]\n",
      " [  2 100]]\n",
      "\n",
      "\n",
      "              precision    recall  f1-score   support\n",
      "\n",
      "           0       0.90      0.44      0.59        43\n",
      "           1       0.81      0.98      0.88       102\n",
      "\n",
      "    accuracy                           0.82       145\n",
      "   macro avg       0.86      0.71      0.74       145\n",
      "weighted avg       0.84      0.82      0.80       145\n",
      "\n",
      "\n",
      "\n"
     ]
    }
   ],
   "source": [
    "print(confusion_matrix(y_test,pred_2))\n",
    "print(\"\\n\")\n",
    "print(classification_report(y_test,pred_2))\n",
    "print(\"\\n\")"
   ]
  },
  {
   "cell_type": "markdown",
   "metadata": {},
   "source": [
    "## Stratified Crossvalidation"
   ]
  },
  {
   "cell_type": "code",
   "execution_count": 147,
   "metadata": {},
   "outputs": [],
   "source": [
    "kfold = StratifiedKFold(n_splits=10)\n",
    "\n",
    "K_results = cross_val_score(mod_2,X,y,cv=kfold)\n",
    "\n",
    "kfold_accuracy_NB = np.mean(abs(K_results))"
   ]
  },
  {
   "cell_type": "code",
   "execution_count": 148,
   "metadata": {},
   "outputs": [
    {
     "data": {
      "text/plain": [
       "0.8094071385359951"
      ]
     },
     "execution_count": 148,
     "metadata": {},
     "output_type": "execute_result"
    }
   ],
   "source": [
    "kfold_accuracy_NB"
   ]
  },
  {
   "cell_type": "code",
   "execution_count": 149,
   "metadata": {},
   "outputs": [],
   "source": [
    "score = {\"Algorithm\":[\"Logistic Regression\",\"Naive Bayes\"],\n",
    "         \"Training_Acc\":[train_score_1,train_score_2],\n",
    "        \"Accuracy\":[test_score_1,test_score_2],\n",
    "        \"Cross_validation\":[kfold_accuracy_LR,kfold_accuracy_NB]}\n",
    "\n",
    "final_card = pd.DataFrame(score)"
   ]
  },
  {
   "cell_type": "code",
   "execution_count": 150,
   "metadata": {},
   "outputs": [
    {
     "data": {
      "text/html": [
       "<div>\n",
       "<style scoped>\n",
       "    .dataframe tbody tr th:only-of-type {\n",
       "        vertical-align: middle;\n",
       "    }\n",
       "\n",
       "    .dataframe tbody tr th {\n",
       "        vertical-align: top;\n",
       "    }\n",
       "\n",
       "    .dataframe thead th {\n",
       "        text-align: right;\n",
       "    }\n",
       "</style>\n",
       "<table border=\"1\" class=\"dataframe\">\n",
       "  <thead>\n",
       "    <tr style=\"text-align: right;\">\n",
       "      <th></th>\n",
       "      <th>Algorithm</th>\n",
       "      <th>Training_Acc</th>\n",
       "      <th>Accuracy</th>\n",
       "      <th>Cross_validation</th>\n",
       "    </tr>\n",
       "  </thead>\n",
       "  <tbody>\n",
       "    <tr>\n",
       "      <th>0</th>\n",
       "      <td>Logistic Regression</td>\n",
       "      <td>0.819444</td>\n",
       "      <td>0.827586</td>\n",
       "      <td>0.816394</td>\n",
       "    </tr>\n",
       "    <tr>\n",
       "      <th>1</th>\n",
       "      <td>Naive Bayes</td>\n",
       "      <td>0.814815</td>\n",
       "      <td>0.820690</td>\n",
       "      <td>0.809407</td>\n",
       "    </tr>\n",
       "  </tbody>\n",
       "</table>\n",
       "</div>"
      ],
      "text/plain": [
       "             Algorithm  Training_Acc  Accuracy  Cross_validation\n",
       "0  Logistic Regression      0.819444  0.827586          0.816394\n",
       "1          Naive Bayes      0.814815  0.820690          0.809407"
      ]
     },
     "execution_count": 150,
     "metadata": {},
     "output_type": "execute_result"
    }
   ],
   "source": [
    "final_card"
   ]
  },
  {
   "cell_type": "markdown",
   "metadata": {},
   "source": [
    "##  Random_forest_classification"
   ]
  },
  {
   "cell_type": "code",
   "execution_count": 151,
   "metadata": {},
   "outputs": [],
   "source": [
    "from sklearn.ensemble import RandomForestClassifier"
   ]
  },
  {
   "cell_type": "code",
   "execution_count": 152,
   "metadata": {},
   "outputs": [
    {
     "name": "stdout",
     "output_type": "stream",
     "text": [
      "for random state  0  The training accuracy is : 1.0\n",
      "for random state  0  The testing accuracy is : 0.8\n",
      "\n",
      "\n",
      "for random state  1  The training accuracy is : 1.0\n",
      "for random state  1  The testing accuracy is : 0.7931034482758621\n",
      "\n",
      "\n",
      "for random state  2  The training accuracy is : 1.0\n",
      "for random state  2  The testing accuracy is : 0.8068965517241379\n",
      "\n",
      "\n",
      "for random state  3  The training accuracy is : 1.0\n",
      "for random state  3  The testing accuracy is : 0.8\n",
      "\n",
      "\n",
      "for random state  4  The training accuracy is : 1.0\n",
      "for random state  4  The testing accuracy is : 0.7586206896551724\n",
      "\n",
      "\n",
      "for random state  5  The training accuracy is : 1.0\n",
      "for random state  5  The testing accuracy is : 0.7517241379310344\n",
      "\n",
      "\n",
      "for random state  6  The training accuracy is : 1.0\n",
      "for random state  6  The testing accuracy is : 0.7655172413793103\n",
      "\n",
      "\n",
      "for random state  7  The training accuracy is : 1.0\n",
      "for random state  7  The testing accuracy is : 0.7793103448275862\n",
      "\n",
      "\n",
      "for random state  8  The training accuracy is : 1.0\n",
      "for random state  8  The testing accuracy is : 0.7862068965517242\n",
      "\n",
      "\n",
      "for random state  9  The training accuracy is : 1.0\n",
      "for random state  9  The testing accuracy is : 0.7862068965517242\n",
      "\n",
      "\n",
      "for random state  10  The training accuracy is : 1.0\n",
      "for random state  10  The testing accuracy is : 0.8068965517241379\n",
      "\n",
      "\n",
      "for random state  11  The training accuracy is : 1.0\n",
      "for random state  11  The testing accuracy is : 0.7793103448275862\n",
      "\n",
      "\n",
      "for random state  12  The training accuracy is : 1.0\n",
      "for random state  12  The testing accuracy is : 0.8413793103448276\n",
      "\n",
      "\n",
      "for random state  13  The training accuracy is : 1.0\n",
      "for random state  13  The testing accuracy is : 0.7931034482758621\n",
      "\n",
      "\n",
      "for random state  14  The training accuracy is : 1.0\n",
      "for random state  14  The testing accuracy is : 0.7448275862068966\n",
      "\n",
      "\n",
      "for random state  15  The training accuracy is : 1.0\n",
      "for random state  15  The testing accuracy is : 0.7931034482758621\n",
      "\n",
      "\n",
      "for random state  16  The training accuracy is : 1.0\n",
      "for random state  16  The testing accuracy is : 0.7724137931034483\n",
      "\n",
      "\n",
      "for random state  17  The training accuracy is : 1.0\n",
      "for random state  17  The testing accuracy is : 0.8206896551724138\n",
      "\n",
      "\n",
      "for random state  18  The training accuracy is : 1.0\n",
      "for random state  18  The testing accuracy is : 0.7517241379310344\n",
      "\n",
      "\n",
      "for random state  19  The training accuracy is : 1.0\n",
      "for random state  19  The testing accuracy is : 0.8206896551724138\n",
      "\n",
      "\n",
      "for random state  20  The training accuracy is : 1.0\n",
      "for random state  20  The testing accuracy is : 0.7931034482758621\n",
      "\n",
      "\n",
      "for random state  21  The training accuracy is : 1.0\n",
      "for random state  21  The testing accuracy is : 0.8068965517241379\n",
      "\n",
      "\n",
      "for random state  22  The training accuracy is : 1.0\n",
      "for random state  22  The testing accuracy is : 0.7793103448275862\n",
      "\n",
      "\n",
      "for random state  23  The training accuracy is : 1.0\n",
      "for random state  23  The testing accuracy is : 0.7724137931034483\n",
      "\n",
      "\n",
      "for random state  24  The training accuracy is : 1.0\n",
      "for random state  24  The testing accuracy is : 0.8413793103448276\n",
      "\n",
      "\n",
      "for random state  25  The training accuracy is : 1.0\n",
      "for random state  25  The testing accuracy is : 0.7931034482758621\n",
      "\n",
      "\n",
      "for random state  26  The training accuracy is : 1.0\n",
      "for random state  26  The testing accuracy is : 0.8344827586206897\n",
      "\n",
      "\n",
      "for random state  27  The training accuracy is : 1.0\n",
      "for random state  27  The testing accuracy is : 0.7517241379310344\n",
      "\n",
      "\n",
      "for random state  28  The training accuracy is : 1.0\n",
      "for random state  28  The testing accuracy is : 0.7724137931034483\n",
      "\n",
      "\n",
      "for random state  29  The training accuracy is : 1.0\n",
      "for random state  29  The testing accuracy is : 0.7586206896551724\n",
      "\n",
      "\n",
      "for random state  30  The training accuracy is : 1.0\n",
      "for random state  30  The testing accuracy is : 0.7724137931034483\n",
      "\n",
      "\n",
      "for random state  31  The training accuracy is : 1.0\n",
      "for random state  31  The testing accuracy is : 0.7862068965517242\n",
      "\n",
      "\n",
      "for random state  32  The training accuracy is : 1.0\n",
      "for random state  32  The testing accuracy is : 0.7862068965517242\n",
      "\n",
      "\n",
      "for random state  33  The training accuracy is : 1.0\n",
      "for random state  33  The testing accuracy is : 0.7862068965517242\n",
      "\n",
      "\n",
      "for random state  34  The training accuracy is : 1.0\n",
      "for random state  34  The testing accuracy is : 0.7793103448275862\n",
      "\n",
      "\n",
      "for random state  35  The training accuracy is : 1.0\n",
      "for random state  35  The testing accuracy is : 0.8\n",
      "\n",
      "\n",
      "for random state  36  The training accuracy is : 1.0\n",
      "for random state  36  The testing accuracy is : 0.7793103448275862\n",
      "\n",
      "\n",
      "for random state  37  The training accuracy is : 1.0\n",
      "for random state  37  The testing accuracy is : 0.7931034482758621\n",
      "\n",
      "\n",
      "for random state  38  The training accuracy is : 1.0\n",
      "for random state  38  The testing accuracy is : 0.8206896551724138\n",
      "\n",
      "\n",
      "for random state  39  The training accuracy is : 1.0\n",
      "for random state  39  The testing accuracy is : 0.8551724137931035\n",
      "\n",
      "\n",
      "for random state  40  The training accuracy is : 1.0\n",
      "for random state  40  The testing accuracy is : 0.7655172413793103\n",
      "\n",
      "\n",
      "for random state  41  The training accuracy is : 1.0\n",
      "for random state  41  The testing accuracy is : 0.7931034482758621\n",
      "\n",
      "\n",
      "for random state  42  The training accuracy is : 1.0\n",
      "for random state  42  The testing accuracy is : 0.8413793103448276\n",
      "\n",
      "\n",
      "for random state  43  The training accuracy is : 1.0\n",
      "for random state  43  The testing accuracy is : 0.8\n",
      "\n",
      "\n",
      "for random state  44  The training accuracy is : 1.0\n",
      "for random state  44  The testing accuracy is : 0.7655172413793103\n",
      "\n",
      "\n",
      "for random state  45  The training accuracy is : 1.0\n",
      "for random state  45  The testing accuracy is : 0.7862068965517242\n",
      "\n",
      "\n",
      "for random state  46  The training accuracy is : 1.0\n",
      "for random state  46  The testing accuracy is : 0.7931034482758621\n",
      "\n",
      "\n",
      "for random state  47  The training accuracy is : 1.0\n",
      "for random state  47  The testing accuracy is : 0.8\n",
      "\n",
      "\n",
      "for random state  48  The training accuracy is : 1.0\n",
      "for random state  48  The testing accuracy is : 0.8\n",
      "\n",
      "\n",
      "for random state  49  The training accuracy is : 1.0\n",
      "for random state  49  The testing accuracy is : 0.7931034482758621\n",
      "\n",
      "\n",
      "for random state  50  The training accuracy is : 1.0\n",
      "for random state  50  The testing accuracy is : 0.8068965517241379\n",
      "\n",
      "\n",
      "for random state  51  The training accuracy is : 1.0\n",
      "for random state  51  The testing accuracy is : 0.7655172413793103\n",
      "\n",
      "\n",
      "for random state  52  The training accuracy is : 1.0\n",
      "for random state  52  The testing accuracy is : 0.8620689655172413\n",
      "\n",
      "\n",
      "for random state  53  The training accuracy is : 1.0\n",
      "for random state  53  The testing accuracy is : 0.7931034482758621\n",
      "\n",
      "\n",
      "for random state  54  The training accuracy is : 1.0\n",
      "for random state  54  The testing accuracy is : 0.7793103448275862\n",
      "\n",
      "\n",
      "for random state  55  The training accuracy is : 1.0\n",
      "for random state  55  The testing accuracy is : 0.8206896551724138\n",
      "\n",
      "\n",
      "for random state  56  The training accuracy is : 1.0\n",
      "for random state  56  The testing accuracy is : 0.8068965517241379\n",
      "\n",
      "\n",
      "for random state  57  The training accuracy is : 1.0\n",
      "for random state  57  The testing accuracy is : 0.7655172413793103\n",
      "\n",
      "\n",
      "for random state  58  The training accuracy is : 1.0\n",
      "for random state  58  The testing accuracy is : 0.8275862068965517\n",
      "\n",
      "\n",
      "for random state  59  The training accuracy is : 1.0\n",
      "for random state  59  The testing accuracy is : 0.8206896551724138\n",
      "\n",
      "\n",
      "for random state  60  The training accuracy is : 1.0\n",
      "for random state  60  The testing accuracy is : 0.8137931034482758\n",
      "\n",
      "\n",
      "for random state  61  The training accuracy is : 1.0\n",
      "for random state  61  The testing accuracy is : 0.7862068965517242\n",
      "\n",
      "\n",
      "for random state  62  The training accuracy is : 1.0\n",
      "for random state  62  The testing accuracy is : 0.8068965517241379\n",
      "\n",
      "\n",
      "for random state  63  The training accuracy is : 1.0\n",
      "for random state  63  The testing accuracy is : 0.7862068965517242\n",
      "\n",
      "\n",
      "for random state  64  The training accuracy is : 1.0\n",
      "for random state  64  The testing accuracy is : 0.7793103448275862\n",
      "\n",
      "\n",
      "for random state  65  The training accuracy is : 1.0\n",
      "for random state  65  The testing accuracy is : 0.7793103448275862\n",
      "\n",
      "\n",
      "for random state  66  The training accuracy is : 1.0\n",
      "for random state  66  The testing accuracy is : 0.7931034482758621\n",
      "\n",
      "\n",
      "for random state  67  The training accuracy is : 1.0\n",
      "for random state  67  The testing accuracy is : 0.7793103448275862\n",
      "\n",
      "\n",
      "for random state  68  The training accuracy is : 1.0\n",
      "for random state  68  The testing accuracy is : 0.8551724137931035\n",
      "\n",
      "\n",
      "for random state  69  The training accuracy is : 1.0\n",
      "for random state  69  The testing accuracy is : 0.8137931034482758\n",
      "\n",
      "\n"
     ]
    },
    {
     "name": "stdout",
     "output_type": "stream",
     "text": [
      "for random state  70  The training accuracy is : 1.0\n",
      "for random state  70  The testing accuracy is : 0.7379310344827587\n",
      "\n",
      "\n",
      "for random state  71  The training accuracy is : 1.0\n",
      "for random state  71  The testing accuracy is : 0.8551724137931035\n",
      "\n",
      "\n",
      "for random state  72  The training accuracy is : 1.0\n",
      "for random state  72  The testing accuracy is : 0.7793103448275862\n",
      "\n",
      "\n",
      "for random state  73  The training accuracy is : 1.0\n",
      "for random state  73  The testing accuracy is : 0.7862068965517242\n",
      "\n",
      "\n",
      "for random state  74  The training accuracy is : 1.0\n",
      "for random state  74  The testing accuracy is : 0.7586206896551724\n",
      "\n",
      "\n",
      "for random state  75  The training accuracy is : 1.0\n",
      "for random state  75  The testing accuracy is : 0.8137931034482758\n",
      "\n",
      "\n",
      "for random state  76  The training accuracy is : 1.0\n",
      "for random state  76  The testing accuracy is : 0.7862068965517242\n",
      "\n",
      "\n",
      "for random state  77  The training accuracy is : 1.0\n",
      "for random state  77  The testing accuracy is : 0.8\n",
      "\n",
      "\n",
      "for random state  78  The training accuracy is : 1.0\n",
      "for random state  78  The testing accuracy is : 0.8206896551724138\n",
      "\n",
      "\n",
      "for random state  79  The training accuracy is : 1.0\n",
      "for random state  79  The testing accuracy is : 0.8068965517241379\n",
      "\n",
      "\n",
      "for random state  80  The training accuracy is : 1.0\n",
      "for random state  80  The testing accuracy is : 0.8068965517241379\n",
      "\n",
      "\n",
      "for random state  81  The training accuracy is : 1.0\n",
      "for random state  81  The testing accuracy is : 0.7724137931034483\n",
      "\n",
      "\n",
      "for random state  82  The training accuracy is : 1.0\n",
      "for random state  82  The testing accuracy is : 0.8206896551724138\n",
      "\n",
      "\n",
      "for random state  83  The training accuracy is : 1.0\n",
      "for random state  83  The testing accuracy is : 0.8\n",
      "\n",
      "\n",
      "for random state  84  The training accuracy is : 1.0\n",
      "for random state  84  The testing accuracy is : 0.8551724137931035\n",
      "\n",
      "\n",
      "for random state  85  The training accuracy is : 1.0\n",
      "for random state  85  The testing accuracy is : 0.7793103448275862\n",
      "\n",
      "\n",
      "for random state  86  The training accuracy is : 1.0\n",
      "for random state  86  The testing accuracy is : 0.8758620689655172\n",
      "\n",
      "\n",
      "for random state  87  The training accuracy is : 1.0\n",
      "for random state  87  The testing accuracy is : 0.8206896551724138\n",
      "\n",
      "\n",
      "for random state  88  The training accuracy is : 1.0\n",
      "for random state  88  The testing accuracy is : 0.7793103448275862\n",
      "\n",
      "\n",
      "for random state  89  The training accuracy is : 1.0\n",
      "for random state  89  The testing accuracy is : 0.7448275862068966\n",
      "\n",
      "\n",
      "for random state  90  The training accuracy is : 1.0\n",
      "for random state  90  The testing accuracy is : 0.8068965517241379\n",
      "\n",
      "\n",
      "for random state  91  The training accuracy is : 1.0\n",
      "for random state  91  The testing accuracy is : 0.8551724137931035\n",
      "\n",
      "\n",
      "for random state  92  The training accuracy is : 1.0\n",
      "for random state  92  The testing accuracy is : 0.7862068965517242\n",
      "\n",
      "\n",
      "for random state  93  The training accuracy is : 1.0\n",
      "for random state  93  The testing accuracy is : 0.8689655172413793\n",
      "\n",
      "\n",
      "for random state  94  The training accuracy is : 1.0\n",
      "for random state  94  The testing accuracy is : 0.8068965517241379\n",
      "\n",
      "\n",
      "for random state  95  The training accuracy is : 1.0\n",
      "for random state  95  The testing accuracy is : 0.8482758620689655\n",
      "\n",
      "\n",
      "for random state  96  The training accuracy is : 1.0\n",
      "for random state  96  The testing accuracy is : 0.8413793103448276\n",
      "\n",
      "\n",
      "for random state  97  The training accuracy is : 0.9976851851851852\n",
      "for random state  97  The testing accuracy is : 0.8\n",
      "\n",
      "\n",
      "for random state  98  The training accuracy is : 1.0\n",
      "for random state  98  The testing accuracy is : 0.8137931034482758\n",
      "\n",
      "\n",
      "for random state  99  The training accuracy is : 1.0\n",
      "for random state  99  The testing accuracy is : 0.7931034482758621\n",
      "\n",
      "\n",
      "for random state  100  The training accuracy is : 1.0\n",
      "for random state  100  The testing accuracy is : 0.8\n",
      "\n",
      "\n"
     ]
    }
   ],
   "source": [
    "for i in range(0,101):\n",
    "    \n",
    "    X_train, X_test, y_train, y_test = train_test_split(X, y, test_size=0.25, random_state=i)\n",
    "    mod_3 = RandomForestClassifier() \n",
    "    mod_3.fit(X_train,y_train)\n",
    "    train_score_3 = mod_3.score(X_train,y_train)\n",
    "    pred_3 = mod_3.predict(X_test)\n",
    "    test_score_3 = accuracy_score(y_test,pred_3)\n",
    "    \n",
    "    print(\"for random state \",i,\" The training accuracy is :\",train_score_3)\n",
    "    print(\"for random state \",i,\" The testing accuracy is :\",test_score_3)\n",
    "    print(\"\\n\")"
   ]
  },
  {
   "cell_type": "code",
   "execution_count": 153,
   "metadata": {},
   "outputs": [
    {
     "name": "stdout",
     "output_type": "stream",
     "text": [
      "The training accuracy is : 1.0\n",
      "The testing accuracy is : 0.8620689655172413\n",
      "\n",
      "\n"
     ]
    }
   ],
   "source": [
    "# Taking the best random state as 39\n",
    "X_train, X_test, y_train, y_test = train_test_split(X, y, test_size=0.25, random_state=39)\n",
    "mod_3 = RandomForestClassifier() \n",
    "mod_3.fit(X_train,y_train)\n",
    "train_score_3 = mod_3.score(X_train,y_train)\n",
    "pred_3 = mod_3.predict(X_test)\n",
    "test_score_3 = accuracy_score(y_test,pred_3)\n",
    "    \n",
    "print(\"The training accuracy is :\",train_score_3)\n",
    "print(\"The testing accuracy is :\",test_score_3)\n",
    "print(\"\\n\")"
   ]
  },
  {
   "cell_type": "code",
   "execution_count": 154,
   "metadata": {},
   "outputs": [
    {
     "name": "stdout",
     "output_type": "stream",
     "text": [
      "[[28 15]\n",
      " [ 5 97]]\n",
      "\n",
      "\n",
      "              precision    recall  f1-score   support\n",
      "\n",
      "           0       0.85      0.65      0.74        43\n",
      "           1       0.87      0.95      0.91       102\n",
      "\n",
      "    accuracy                           0.86       145\n",
      "   macro avg       0.86      0.80      0.82       145\n",
      "weighted avg       0.86      0.86      0.86       145\n",
      "\n",
      "\n",
      "\n"
     ]
    }
   ],
   "source": [
    "print(confusion_matrix(y_test,pred_3))\n",
    "print(\"\\n\")\n",
    "print(classification_report(y_test,pred_3))\n",
    "print(\"\\n\")"
   ]
  },
  {
   "cell_type": "markdown",
   "metadata": {},
   "source": [
    "## Stratified Cross Validation"
   ]
  },
  {
   "cell_type": "code",
   "execution_count": 155,
   "metadata": {},
   "outputs": [],
   "source": [
    "kfold = StratifiedKFold(n_splits=10)\n",
    "\n",
    "K_results = cross_val_score(mod_3,X,y,cv=kfold)\n",
    "\n",
    "kfold_accuracy_RFR = np.mean(abs(K_results))"
   ]
  },
  {
   "cell_type": "code",
   "execution_count": 156,
   "metadata": {},
   "outputs": [
    {
     "data": {
      "text/plain": [
       "0.7886267392619479"
      ]
     },
     "execution_count": 156,
     "metadata": {},
     "output_type": "execute_result"
    }
   ],
   "source": [
    "kfold_accuracy_RFR"
   ]
  },
  {
   "cell_type": "code",
   "execution_count": 157,
   "metadata": {},
   "outputs": [],
   "source": [
    "score = {\"Algorithm\":[\"Logistic Regression\",\"Naive Bayes\",\"Random Forest Classi\"],\n",
    "         \"Training_Acc\":[train_score_1,train_score_2,train_score_3],\n",
    "        \"Accuracy\":[test_score_1,test_score_2,test_score_3],\n",
    "        \"Cross_validation\":[kfold_accuracy_LR,kfold_accuracy_NB,\n",
    "                           kfold_accuracy_RFR]}\n",
    "\n",
    "final_card = pd.DataFrame(score)"
   ]
  },
  {
   "cell_type": "code",
   "execution_count": 158,
   "metadata": {},
   "outputs": [
    {
     "data": {
      "text/html": [
       "<div>\n",
       "<style scoped>\n",
       "    .dataframe tbody tr th:only-of-type {\n",
       "        vertical-align: middle;\n",
       "    }\n",
       "\n",
       "    .dataframe tbody tr th {\n",
       "        vertical-align: top;\n",
       "    }\n",
       "\n",
       "    .dataframe thead th {\n",
       "        text-align: right;\n",
       "    }\n",
       "</style>\n",
       "<table border=\"1\" class=\"dataframe\">\n",
       "  <thead>\n",
       "    <tr style=\"text-align: right;\">\n",
       "      <th></th>\n",
       "      <th>Algorithm</th>\n",
       "      <th>Training_Acc</th>\n",
       "      <th>Accuracy</th>\n",
       "      <th>Cross_validation</th>\n",
       "    </tr>\n",
       "  </thead>\n",
       "  <tbody>\n",
       "    <tr>\n",
       "      <th>0</th>\n",
       "      <td>Logistic Regression</td>\n",
       "      <td>0.819444</td>\n",
       "      <td>0.827586</td>\n",
       "      <td>0.816394</td>\n",
       "    </tr>\n",
       "    <tr>\n",
       "      <th>1</th>\n",
       "      <td>Naive Bayes</td>\n",
       "      <td>0.814815</td>\n",
       "      <td>0.820690</td>\n",
       "      <td>0.809407</td>\n",
       "    </tr>\n",
       "    <tr>\n",
       "      <th>2</th>\n",
       "      <td>Random Forest Classi</td>\n",
       "      <td>1.000000</td>\n",
       "      <td>0.862069</td>\n",
       "      <td>0.788627</td>\n",
       "    </tr>\n",
       "  </tbody>\n",
       "</table>\n",
       "</div>"
      ],
      "text/plain": [
       "              Algorithm  Training_Acc  Accuracy  Cross_validation\n",
       "0   Logistic Regression      0.819444  0.827586          0.816394\n",
       "1           Naive Bayes      0.814815  0.820690          0.809407\n",
       "2  Random Forest Classi      1.000000  0.862069          0.788627"
      ]
     },
     "execution_count": 158,
     "metadata": {},
     "output_type": "execute_result"
    }
   ],
   "source": [
    "final_card"
   ]
  },
  {
   "cell_type": "markdown",
   "metadata": {},
   "source": [
    "##  Decision Tree"
   ]
  },
  {
   "cell_type": "code",
   "execution_count": 159,
   "metadata": {},
   "outputs": [],
   "source": [
    "from sklearn.tree import DecisionTreeClassifier"
   ]
  },
  {
   "cell_type": "code",
   "execution_count": 160,
   "metadata": {},
   "outputs": [
    {
     "name": "stdout",
     "output_type": "stream",
     "text": [
      "for random state  0  The training accuracy is : 1.0\n",
      "for random state  0  The testing accuracy is : 0.7448275862068966\n",
      "\n",
      "\n",
      "for random state  1  The training accuracy is : 1.0\n",
      "for random state  1  The testing accuracy is : 0.6689655172413793\n",
      "\n",
      "\n",
      "for random state  2  The training accuracy is : 1.0\n",
      "for random state  2  The testing accuracy is : 0.7379310344827587\n",
      "\n",
      "\n",
      "for random state  3  The training accuracy is : 1.0\n",
      "for random state  3  The testing accuracy is : 0.6413793103448275\n",
      "\n",
      "\n",
      "for random state  4  The training accuracy is : 1.0\n",
      "for random state  4  The testing accuracy is : 0.7310344827586207\n",
      "\n",
      "\n",
      "for random state  5  The training accuracy is : 1.0\n",
      "for random state  5  The testing accuracy is : 0.6620689655172414\n",
      "\n",
      "\n",
      "for random state  6  The training accuracy is : 1.0\n",
      "for random state  6  The testing accuracy is : 0.696551724137931\n",
      "\n",
      "\n",
      "for random state  7  The training accuracy is : 1.0\n",
      "for random state  7  The testing accuracy is : 0.6896551724137931\n",
      "\n",
      "\n",
      "for random state  8  The training accuracy is : 1.0\n",
      "for random state  8  The testing accuracy is : 0.7241379310344828\n",
      "\n",
      "\n",
      "for random state  9  The training accuracy is : 1.0\n",
      "for random state  9  The testing accuracy is : 0.6896551724137931\n",
      "\n",
      "\n",
      "for random state  10  The training accuracy is : 1.0\n",
      "for random state  10  The testing accuracy is : 0.7379310344827587\n",
      "\n",
      "\n",
      "for random state  11  The training accuracy is : 1.0\n",
      "for random state  11  The testing accuracy is : 0.7517241379310344\n",
      "\n",
      "\n",
      "for random state  12  The training accuracy is : 1.0\n",
      "for random state  12  The testing accuracy is : 0.7448275862068966\n",
      "\n",
      "\n",
      "for random state  13  The training accuracy is : 1.0\n",
      "for random state  13  The testing accuracy is : 0.696551724137931\n",
      "\n",
      "\n",
      "for random state  14  The training accuracy is : 1.0\n",
      "for random state  14  The testing accuracy is : 0.6827586206896552\n",
      "\n",
      "\n",
      "for random state  15  The training accuracy is : 1.0\n",
      "for random state  15  The testing accuracy is : 0.6827586206896552\n",
      "\n",
      "\n",
      "for random state  16  The training accuracy is : 1.0\n",
      "for random state  16  The testing accuracy is : 0.7379310344827587\n",
      "\n",
      "\n",
      "for random state  17  The training accuracy is : 1.0\n",
      "for random state  17  The testing accuracy is : 0.7448275862068966\n",
      "\n",
      "\n",
      "for random state  18  The training accuracy is : 1.0\n",
      "for random state  18  The testing accuracy is : 0.7310344827586207\n",
      "\n",
      "\n",
      "for random state  19  The training accuracy is : 1.0\n",
      "for random state  19  The testing accuracy is : 0.7103448275862069\n",
      "\n",
      "\n",
      "for random state  20  The training accuracy is : 1.0\n",
      "for random state  20  The testing accuracy is : 0.7310344827586207\n",
      "\n",
      "\n",
      "for random state  21  The training accuracy is : 1.0\n",
      "for random state  21  The testing accuracy is : 0.7931034482758621\n",
      "\n",
      "\n",
      "for random state  22  The training accuracy is : 1.0\n",
      "for random state  22  The testing accuracy is : 0.6896551724137931\n",
      "\n",
      "\n",
      "for random state  23  The training accuracy is : 1.0\n",
      "for random state  23  The testing accuracy is : 0.6620689655172414\n",
      "\n",
      "\n",
      "for random state  24  The training accuracy is : 1.0\n",
      "for random state  24  The testing accuracy is : 0.7448275862068966\n",
      "\n",
      "\n",
      "for random state  25  The training accuracy is : 1.0\n",
      "for random state  25  The testing accuracy is : 0.7379310344827587\n",
      "\n",
      "\n",
      "for random state  26  The training accuracy is : 1.0\n",
      "for random state  26  The testing accuracy is : 0.7517241379310344\n",
      "\n",
      "\n",
      "for random state  27  The training accuracy is : 1.0\n",
      "for random state  27  The testing accuracy is : 0.7310344827586207\n",
      "\n",
      "\n",
      "for random state  28  The training accuracy is : 1.0\n",
      "for random state  28  The testing accuracy is : 0.7655172413793103\n",
      "\n",
      "\n",
      "for random state  29  The training accuracy is : 1.0\n",
      "for random state  29  The testing accuracy is : 0.696551724137931\n",
      "\n",
      "\n",
      "for random state  30  The training accuracy is : 1.0\n",
      "for random state  30  The testing accuracy is : 0.6896551724137931\n",
      "\n",
      "\n",
      "for random state  31  The training accuracy is : 1.0\n",
      "for random state  31  The testing accuracy is : 0.7034482758620689\n",
      "\n",
      "\n",
      "for random state  32  The training accuracy is : 1.0\n",
      "for random state  32  The testing accuracy is : 0.7103448275862069\n",
      "\n",
      "\n",
      "for random state  33  The training accuracy is : 1.0\n",
      "for random state  33  The testing accuracy is : 0.7103448275862069\n",
      "\n",
      "\n",
      "for random state  34  The training accuracy is : 1.0\n",
      "for random state  34  The testing accuracy is : 0.7655172413793103\n",
      "\n",
      "\n",
      "for random state  35  The training accuracy is : 1.0\n",
      "for random state  35  The testing accuracy is : 0.6896551724137931\n",
      "\n",
      "\n",
      "for random state  36  The training accuracy is : 1.0\n",
      "for random state  36  The testing accuracy is : 0.7103448275862069\n",
      "\n",
      "\n",
      "for random state  37  The training accuracy is : 1.0\n",
      "for random state  37  The testing accuracy is : 0.6413793103448275\n",
      "\n",
      "\n",
      "for random state  38  The training accuracy is : 1.0\n",
      "for random state  38  The testing accuracy is : 0.7241379310344828\n",
      "\n",
      "\n",
      "for random state  39  The training accuracy is : 1.0\n",
      "for random state  39  The testing accuracy is : 0.8137931034482758\n",
      "\n",
      "\n",
      "for random state  40  The training accuracy is : 1.0\n",
      "for random state  40  The testing accuracy is : 0.6551724137931034\n",
      "\n",
      "\n",
      "for random state  41  The training accuracy is : 1.0\n",
      "for random state  41  The testing accuracy is : 0.6896551724137931\n",
      "\n",
      "\n",
      "for random state  42  The training accuracy is : 1.0\n",
      "for random state  42  The testing accuracy is : 0.7655172413793103\n",
      "\n",
      "\n",
      "for random state  43  The training accuracy is : 1.0\n",
      "for random state  43  The testing accuracy is : 0.7241379310344828\n",
      "\n",
      "\n",
      "for random state  44  The training accuracy is : 1.0\n",
      "for random state  44  The testing accuracy is : 0.696551724137931\n",
      "\n",
      "\n",
      "for random state  45  The training accuracy is : 1.0\n",
      "for random state  45  The testing accuracy is : 0.7379310344827587\n",
      "\n",
      "\n",
      "for random state  46  The training accuracy is : 1.0\n",
      "for random state  46  The testing accuracy is : 0.7172413793103448\n",
      "\n",
      "\n",
      "for random state  47  The training accuracy is : 1.0\n",
      "for random state  47  The testing accuracy is : 0.7517241379310344\n",
      "\n",
      "\n",
      "for random state  48  The training accuracy is : 1.0\n",
      "for random state  48  The testing accuracy is : 0.6689655172413793\n",
      "\n",
      "\n",
      "for random state  49  The training accuracy is : 1.0\n",
      "for random state  49  The testing accuracy is : 0.7517241379310344\n",
      "\n",
      "\n",
      "for random state  50  The training accuracy is : 1.0\n",
      "for random state  50  The testing accuracy is : 0.7034482758620689\n",
      "\n",
      "\n",
      "for random state  51  The training accuracy is : 1.0\n",
      "for random state  51  The testing accuracy is : 0.6482758620689655\n",
      "\n",
      "\n",
      "for random state  52  The training accuracy is : 1.0\n",
      "for random state  52  The testing accuracy is : 0.8206896551724138\n",
      "\n",
      "\n",
      "for random state  53  The training accuracy is : 1.0\n",
      "for random state  53  The testing accuracy is : 0.7448275862068966\n",
      "\n",
      "\n",
      "for random state  54  The training accuracy is : 1.0\n",
      "for random state  54  The testing accuracy is : 0.696551724137931\n",
      "\n",
      "\n",
      "for random state  55  The training accuracy is : 1.0\n",
      "for random state  55  The testing accuracy is : 0.7517241379310344\n",
      "\n",
      "\n",
      "for random state  56  The training accuracy is : 1.0\n",
      "for random state  56  The testing accuracy is : 0.7379310344827587\n",
      "\n",
      "\n",
      "for random state  57  The training accuracy is : 1.0\n",
      "for random state  57  The testing accuracy is : 0.7310344827586207\n",
      "\n",
      "\n",
      "for random state  58  The training accuracy is : 1.0\n",
      "for random state  58  The testing accuracy is : 0.6827586206896552\n",
      "\n",
      "\n",
      "for random state  59  The training accuracy is : 1.0\n",
      "for random state  59  The testing accuracy is : 0.7241379310344828\n",
      "\n",
      "\n",
      "for random state  60  The training accuracy is : 1.0\n",
      "for random state  60  The testing accuracy is : 0.696551724137931\n",
      "\n",
      "\n",
      "for random state  61  The training accuracy is : 1.0\n",
      "for random state  61  The testing accuracy is : 0.6620689655172414\n",
      "\n",
      "\n",
      "for random state  62  The training accuracy is : 1.0\n",
      "for random state  62  The testing accuracy is : 0.6551724137931034\n",
      "\n",
      "\n",
      "for random state  63  The training accuracy is : 1.0\n",
      "for random state  63  The testing accuracy is : 0.6896551724137931\n",
      "\n",
      "\n",
      "for random state  64  The training accuracy is : 1.0\n",
      "for random state  64  The testing accuracy is : 0.7724137931034483\n",
      "\n",
      "\n",
      "for random state  65  The training accuracy is : 1.0\n",
      "for random state  65  The testing accuracy is : 0.7103448275862069\n",
      "\n",
      "\n",
      "for random state  66  The training accuracy is : 1.0\n",
      "for random state  66  The testing accuracy is : 0.6344827586206897\n",
      "\n",
      "\n",
      "for random state  67  The training accuracy is : 1.0\n",
      "for random state  67  The testing accuracy is : 0.6827586206896552\n",
      "\n",
      "\n",
      "for random state  68  The training accuracy is : 1.0\n",
      "for random state  68  The testing accuracy is : 0.7172413793103448\n",
      "\n",
      "\n",
      "for random state  69  The training accuracy is : 1.0\n",
      "for random state  69  The testing accuracy is : 0.7241379310344828\n",
      "\n",
      "\n",
      "for random state  70  The training accuracy is : 1.0\n",
      "for random state  70  The testing accuracy is : 0.696551724137931\n",
      "\n",
      "\n",
      "for random state  71  The training accuracy is : 1.0\n",
      "for random state  71  The testing accuracy is : 0.7379310344827587\n",
      "\n",
      "\n",
      "for random state  72  The training accuracy is : 1.0\n",
      "for random state  72  The testing accuracy is : 0.6758620689655173\n",
      "\n",
      "\n",
      "for random state  73  The training accuracy is : 1.0\n",
      "for random state  73  The testing accuracy is : 0.7241379310344828\n",
      "\n",
      "\n",
      "for random state  74  The training accuracy is : 1.0\n",
      "for random state  74  The testing accuracy is : 0.6689655172413793\n",
      "\n",
      "\n",
      "for random state  75  The training accuracy is : 1.0\n",
      "for random state  75  The testing accuracy is : 0.6413793103448275\n",
      "\n",
      "\n",
      "for random state  76  The training accuracy is : 1.0\n",
      "for random state  76  The testing accuracy is : 0.7586206896551724\n",
      "\n",
      "\n",
      "for random state  77  The training accuracy is : 1.0\n",
      "for random state  77  The testing accuracy is : 0.7655172413793103\n",
      "\n",
      "\n",
      "for random state  78  The training accuracy is : 1.0\n",
      "for random state  78  The testing accuracy is : 0.6620689655172414\n",
      "\n",
      "\n",
      "for random state  79  The training accuracy is : 1.0\n",
      "for random state  79  The testing accuracy is : 0.7586206896551724\n",
      "\n",
      "\n",
      "for random state  80  The training accuracy is : 1.0\n",
      "for random state  80  The testing accuracy is : 0.6689655172413793\n",
      "\n",
      "\n",
      "for random state  81  The training accuracy is : 1.0\n",
      "for random state  81  The testing accuracy is : 0.6827586206896552\n",
      "\n",
      "\n",
      "for random state  82  The training accuracy is : 1.0\n",
      "for random state  82  The testing accuracy is : 0.6758620689655173\n",
      "\n",
      "\n",
      "for random state  83  The training accuracy is : 1.0\n",
      "for random state  83  The testing accuracy is : 0.7310344827586207\n",
      "\n",
      "\n",
      "for random state  84  The training accuracy is : 1.0\n",
      "for random state  84  The testing accuracy is : 0.6758620689655173\n",
      "\n",
      "\n",
      "for random state  85  The training accuracy is : 1.0\n",
      "for random state  85  The testing accuracy is : 0.696551724137931\n",
      "\n",
      "\n",
      "for random state  86  The training accuracy is : 1.0\n",
      "for random state  86  The testing accuracy is : 0.7241379310344828\n",
      "\n",
      "\n",
      "for random state  87  The training accuracy is : 1.0\n",
      "for random state  87  The testing accuracy is : 0.6620689655172414\n",
      "\n",
      "\n",
      "for random state  88  The training accuracy is : 1.0\n",
      "for random state  88  The testing accuracy is : 0.7034482758620689\n",
      "\n",
      "\n",
      "for random state  89  The training accuracy is : 1.0\n",
      "for random state  89  The testing accuracy is : 0.7379310344827587\n",
      "\n",
      "\n",
      "for random state  90  The training accuracy is : 1.0\n",
      "for random state  90  The testing accuracy is : 0.7517241379310344\n",
      "\n",
      "\n",
      "for random state  91  The training accuracy is : 1.0\n",
      "for random state  91  The testing accuracy is : 0.7517241379310344\n",
      "\n",
      "\n",
      "for random state  92  The training accuracy is : 1.0\n",
      "for random state  92  The testing accuracy is : 0.7655172413793103\n",
      "\n",
      "\n",
      "for random state  93  The training accuracy is : 1.0\n",
      "for random state  93  The testing accuracy is : 0.7310344827586207\n",
      "\n",
      "\n",
      "for random state  94  The training accuracy is : 1.0\n",
      "for random state  94  The testing accuracy is : 0.7379310344827587\n",
      "\n",
      "\n",
      "for random state  95  The training accuracy is : 1.0\n",
      "for random state  95  The testing accuracy is : 0.7310344827586207\n",
      "\n",
      "\n",
      "for random state  96  The training accuracy is : 1.0\n",
      "for random state  96  The testing accuracy is : 0.8\n",
      "\n",
      "\n",
      "for random state  97  The training accuracy is : 1.0\n",
      "for random state  97  The testing accuracy is : 0.696551724137931\n",
      "\n",
      "\n",
      "for random state  98  The training accuracy is : 1.0\n",
      "for random state  98  The testing accuracy is : 0.7517241379310344\n",
      "\n",
      "\n",
      "for random state  99  The training accuracy is : 1.0\n",
      "for random state  99  The testing accuracy is : 0.7310344827586207\n",
      "\n",
      "\n",
      "for random state  100  The training accuracy is : 1.0\n",
      "for random state  100  The testing accuracy is : 0.696551724137931\n",
      "\n",
      "\n"
     ]
    }
   ],
   "source": [
    "for i in range(0,101):\n",
    "    \n",
    "    X_train, X_test, y_train, y_test = train_test_split(X, y, test_size=0.25, random_state=i)\n",
    "    mod_4 = DecisionTreeClassifier() \n",
    "    mod_4.fit(X_train,y_train)\n",
    "    train_score_4 = mod_4.score(X_train,y_train)\n",
    "    pred_4 = mod_4.predict(X_test)\n",
    "    test_score_4 = accuracy_score(y_test,pred_4)\n",
    "    \n",
    "    print(\"for random state \",i,\" The training accuracy is :\",train_score_4)\n",
    "    print(\"for random state \",i,\" The testing accuracy is :\",test_score_4)\n",
    "    print(\"\\n\")"
   ]
  },
  {
   "cell_type": "code",
   "execution_count": 161,
   "metadata": {},
   "outputs": [
    {
     "name": "stdout",
     "output_type": "stream",
     "text": [
      "The training accuracy is : 1.0\n",
      "The testing accuracy is : 0.7862068965517242\n",
      "\n",
      "\n"
     ]
    }
   ],
   "source": [
    "# Taking 21 as best random state\n",
    "X_train, X_test, y_train, y_test = train_test_split(X, y, test_size=0.25, random_state=21)\n",
    "mod_4 = DecisionTreeClassifier() \n",
    "mod_4.fit(X_train,y_train)\n",
    "train_score_4 = mod_4.score(X_train,y_train)\n",
    "pred_4 = mod_4.predict(X_test)\n",
    "test_score_4 = accuracy_score(y_test,pred_4)\n",
    "    \n",
    "print(\"The training accuracy is :\",train_score_4)\n",
    "print(\"The testing accuracy is :\",test_score_4)\n",
    "print(\"\\n\")"
   ]
  },
  {
   "cell_type": "code",
   "execution_count": 162,
   "metadata": {},
   "outputs": [
    {
     "name": "stdout",
     "output_type": "stream",
     "text": [
      "[[26 18]\n",
      " [13 88]]\n",
      "\n",
      "\n",
      "              precision    recall  f1-score   support\n",
      "\n",
      "           0       0.67      0.59      0.63        44\n",
      "           1       0.83      0.87      0.85       101\n",
      "\n",
      "    accuracy                           0.79       145\n",
      "   macro avg       0.75      0.73      0.74       145\n",
      "weighted avg       0.78      0.79      0.78       145\n",
      "\n",
      "\n",
      "\n"
     ]
    }
   ],
   "source": [
    "print(confusion_matrix(y_test,pred_4))\n",
    "print(\"\\n\")\n",
    "print(classification_report(y_test,pred_4))\n",
    "print(\"\\n\")"
   ]
  },
  {
   "cell_type": "markdown",
   "metadata": {},
   "source": [
    "## Stratified Cross Validation"
   ]
  },
  {
   "cell_type": "code",
   "execution_count": 163,
   "metadata": {},
   "outputs": [],
   "source": [
    "kfold = StratifiedKFold(n_splits=10)\n",
    "\n",
    "K_results = cross_val_score(mod_4,X,y,cv=kfold)\n",
    "\n",
    "kfold_accuracy_DT = np.mean(abs(K_results))"
   ]
  },
  {
   "cell_type": "code",
   "execution_count": 164,
   "metadata": {},
   "outputs": [
    {
     "data": {
      "text/plain": [
       "0.7436176648517845"
      ]
     },
     "execution_count": 164,
     "metadata": {},
     "output_type": "execute_result"
    }
   ],
   "source": [
    "kfold_accuracy_DT"
   ]
  },
  {
   "cell_type": "code",
   "execution_count": 165,
   "metadata": {},
   "outputs": [],
   "source": [
    "score = {\"Algorithm\":[\"Logistic Regression\",\"Naive Bayes\",\"Random Forest Classi\",\n",
    "                     \"Decision Tree\"],\n",
    "         \"Training_Acc\":[train_score_1,train_score_2,train_score_3,\n",
    "                        train_score_4],\n",
    "        \"Accuracy\":[test_score_1,test_score_2,test_score_3,\n",
    "                   test_score_4],\n",
    "        \"Cross_validation\":[kfold_accuracy_LR,kfold_accuracy_NB,\n",
    "                           kfold_accuracy_RFR,kfold_accuracy_DT]}\n",
    "\n",
    "final_card = pd.DataFrame(score)"
   ]
  },
  {
   "cell_type": "code",
   "execution_count": 166,
   "metadata": {},
   "outputs": [
    {
     "data": {
      "text/html": [
       "<div>\n",
       "<style scoped>\n",
       "    .dataframe tbody tr th:only-of-type {\n",
       "        vertical-align: middle;\n",
       "    }\n",
       "\n",
       "    .dataframe tbody tr th {\n",
       "        vertical-align: top;\n",
       "    }\n",
       "\n",
       "    .dataframe thead th {\n",
       "        text-align: right;\n",
       "    }\n",
       "</style>\n",
       "<table border=\"1\" class=\"dataframe\">\n",
       "  <thead>\n",
       "    <tr style=\"text-align: right;\">\n",
       "      <th></th>\n",
       "      <th>Algorithm</th>\n",
       "      <th>Training_Acc</th>\n",
       "      <th>Accuracy</th>\n",
       "      <th>Cross_validation</th>\n",
       "    </tr>\n",
       "  </thead>\n",
       "  <tbody>\n",
       "    <tr>\n",
       "      <th>0</th>\n",
       "      <td>Logistic Regression</td>\n",
       "      <td>0.819444</td>\n",
       "      <td>0.827586</td>\n",
       "      <td>0.816394</td>\n",
       "    </tr>\n",
       "    <tr>\n",
       "      <th>1</th>\n",
       "      <td>Naive Bayes</td>\n",
       "      <td>0.814815</td>\n",
       "      <td>0.820690</td>\n",
       "      <td>0.809407</td>\n",
       "    </tr>\n",
       "    <tr>\n",
       "      <th>2</th>\n",
       "      <td>Random Forest Classi</td>\n",
       "      <td>1.000000</td>\n",
       "      <td>0.862069</td>\n",
       "      <td>0.788627</td>\n",
       "    </tr>\n",
       "    <tr>\n",
       "      <th>3</th>\n",
       "      <td>Decision Tree</td>\n",
       "      <td>1.000000</td>\n",
       "      <td>0.786207</td>\n",
       "      <td>0.743618</td>\n",
       "    </tr>\n",
       "  </tbody>\n",
       "</table>\n",
       "</div>"
      ],
      "text/plain": [
       "              Algorithm  Training_Acc  Accuracy  Cross_validation\n",
       "0   Logistic Regression      0.819444  0.827586          0.816394\n",
       "1           Naive Bayes      0.814815  0.820690          0.809407\n",
       "2  Random Forest Classi      1.000000  0.862069          0.788627\n",
       "3         Decision Tree      1.000000  0.786207          0.743618"
      ]
     },
     "execution_count": 166,
     "metadata": {},
     "output_type": "execute_result"
    }
   ],
   "source": [
    "final_card"
   ]
  },
  {
   "cell_type": "markdown",
   "metadata": {},
   "source": [
    "## AdaBoost"
   ]
  },
  {
   "cell_type": "code",
   "execution_count": 167,
   "metadata": {},
   "outputs": [],
   "source": [
    "from sklearn.ensemble import AdaBoostClassifier"
   ]
  },
  {
   "cell_type": "code",
   "execution_count": 168,
   "metadata": {},
   "outputs": [
    {
     "name": "stdout",
     "output_type": "stream",
     "text": [
      "for random state  0  The training accuracy is : 0.8611111111111112\n",
      "for random state  0  The testing accuracy is : 0.7862068965517242\n",
      "\n",
      "\n",
      "for random state  1  The training accuracy is : 0.8518518518518519\n",
      "for random state  1  The testing accuracy is : 0.7862068965517242\n",
      "\n",
      "\n",
      "for random state  2  The training accuracy is : 0.8564814814814815\n",
      "for random state  2  The testing accuracy is : 0.7655172413793103\n",
      "\n",
      "\n",
      "for random state  3  The training accuracy is : 0.8611111111111112\n",
      "for random state  3  The testing accuracy is : 0.7724137931034483\n",
      "\n",
      "\n",
      "for random state  4  The training accuracy is : 0.8703703703703703\n",
      "for random state  4  The testing accuracy is : 0.7724137931034483\n",
      "\n",
      "\n",
      "for random state  5  The training accuracy is : 0.8703703703703703\n",
      "for random state  5  The testing accuracy is : 0.7517241379310344\n",
      "\n",
      "\n",
      "for random state  6  The training accuracy is : 0.8518518518518519\n",
      "for random state  6  The testing accuracy is : 0.7793103448275862\n",
      "\n",
      "\n",
      "for random state  7  The training accuracy is : 0.8680555555555556\n",
      "for random state  7  The testing accuracy is : 0.7793103448275862\n",
      "\n",
      "\n",
      "for random state  8  The training accuracy is : 0.8680555555555556\n",
      "for random state  8  The testing accuracy is : 0.7862068965517242\n",
      "\n",
      "\n",
      "for random state  9  The training accuracy is : 0.8541666666666666\n",
      "for random state  9  The testing accuracy is : 0.7862068965517242\n",
      "\n",
      "\n",
      "for random state  10  The training accuracy is : 0.8402777777777778\n",
      "for random state  10  The testing accuracy is : 0.7862068965517242\n",
      "\n",
      "\n",
      "for random state  11  The training accuracy is : 0.8657407407407407\n",
      "for random state  11  The testing accuracy is : 0.8\n",
      "\n",
      "\n",
      "for random state  12  The training accuracy is : 0.8449074074074074\n",
      "for random state  12  The testing accuracy is : 0.8413793103448276\n",
      "\n",
      "\n",
      "for random state  13  The training accuracy is : 0.8541666666666666\n",
      "for random state  13  The testing accuracy is : 0.7793103448275862\n",
      "\n",
      "\n",
      "for random state  14  The training accuracy is : 0.875\n",
      "for random state  14  The testing accuracy is : 0.7241379310344828\n",
      "\n",
      "\n",
      "for random state  15  The training accuracy is : 0.8564814814814815\n",
      "for random state  15  The testing accuracy is : 0.7793103448275862\n",
      "\n",
      "\n",
      "for random state  16  The training accuracy is : 0.8634259259259259\n",
      "for random state  16  The testing accuracy is : 0.7586206896551724\n",
      "\n",
      "\n",
      "for random state  17  The training accuracy is : 0.8541666666666666\n",
      "for random state  17  The testing accuracy is : 0.8068965517241379\n",
      "\n",
      "\n",
      "for random state  18  The training accuracy is : 0.875\n",
      "for random state  18  The testing accuracy is : 0.7310344827586207\n",
      "\n",
      "\n",
      "for random state  19  The training accuracy is : 0.8541666666666666\n",
      "for random state  19  The testing accuracy is : 0.7655172413793103\n",
      "\n",
      "\n",
      "for random state  20  The training accuracy is : 0.8703703703703703\n",
      "for random state  20  The testing accuracy is : 0.7724137931034483\n",
      "\n",
      "\n",
      "for random state  21  The training accuracy is : 0.8564814814814815\n",
      "for random state  21  The testing accuracy is : 0.7793103448275862\n",
      "\n",
      "\n",
      "for random state  22  The training accuracy is : 0.8819444444444444\n",
      "for random state  22  The testing accuracy is : 0.7448275862068966\n",
      "\n",
      "\n",
      "for random state  23  The training accuracy is : 0.8657407407407407\n",
      "for random state  23  The testing accuracy is : 0.7379310344827587\n",
      "\n",
      "\n",
      "for random state  24  The training accuracy is : 0.8634259259259259\n",
      "for random state  24  The testing accuracy is : 0.8\n",
      "\n",
      "\n",
      "for random state  25  The training accuracy is : 0.8518518518518519\n",
      "for random state  25  The testing accuracy is : 0.8068965517241379\n",
      "\n",
      "\n",
      "for random state  26  The training accuracy is : 0.8425925925925926\n",
      "for random state  26  The testing accuracy is : 0.8206896551724138\n",
      "\n",
      "\n",
      "for random state  27  The training accuracy is : 0.8611111111111112\n",
      "for random state  27  The testing accuracy is : 0.7586206896551724\n",
      "\n",
      "\n",
      "for random state  28  The training accuracy is : 0.8611111111111112\n",
      "for random state  28  The testing accuracy is : 0.8068965517241379\n",
      "\n",
      "\n",
      "for random state  29  The training accuracy is : 0.8587962962962963\n",
      "for random state  29  The testing accuracy is : 0.7586206896551724\n",
      "\n",
      "\n",
      "for random state  30  The training accuracy is : 0.8657407407407407\n",
      "for random state  30  The testing accuracy is : 0.7793103448275862\n",
      "\n",
      "\n",
      "for random state  31  The training accuracy is : 0.8657407407407407\n",
      "for random state  31  The testing accuracy is : 0.7724137931034483\n",
      "\n",
      "\n",
      "for random state  32  The training accuracy is : 0.8773148148148148\n",
      "for random state  32  The testing accuracy is : 0.7793103448275862\n",
      "\n",
      "\n",
      "for random state  33  The training accuracy is : 0.8379629629629629\n",
      "for random state  33  The testing accuracy is : 0.8137931034482758\n",
      "\n",
      "\n",
      "for random state  34  The training accuracy is : 0.8541666666666666\n",
      "for random state  34  The testing accuracy is : 0.7862068965517242\n",
      "\n",
      "\n",
      "for random state  35  The training accuracy is : 0.8587962962962963\n",
      "for random state  35  The testing accuracy is : 0.7724137931034483\n",
      "\n",
      "\n",
      "for random state  36  The training accuracy is : 0.8541666666666666\n",
      "for random state  36  The testing accuracy is : 0.8\n",
      "\n",
      "\n",
      "for random state  37  The training accuracy is : 0.8587962962962963\n",
      "for random state  37  The testing accuracy is : 0.7517241379310344\n",
      "\n",
      "\n",
      "for random state  38  The training accuracy is : 0.8495370370370371\n",
      "for random state  38  The testing accuracy is : 0.8137931034482758\n",
      "\n",
      "\n",
      "for random state  39  The training accuracy is : 0.8425925925925926\n",
      "for random state  39  The testing accuracy is : 0.8620689655172413\n",
      "\n",
      "\n",
      "for random state  40  The training accuracy is : 0.8541666666666666\n",
      "for random state  40  The testing accuracy is : 0.7793103448275862\n",
      "\n",
      "\n",
      "for random state  41  The training accuracy is : 0.8518518518518519\n",
      "for random state  41  The testing accuracy is : 0.7793103448275862\n",
      "\n",
      "\n",
      "for random state  42  The training accuracy is : 0.8472222222222222\n",
      "for random state  42  The testing accuracy is : 0.8068965517241379\n",
      "\n",
      "\n",
      "for random state  43  The training accuracy is : 0.8564814814814815\n",
      "for random state  43  The testing accuracy is : 0.7931034482758621\n",
      "\n",
      "\n",
      "for random state  44  The training accuracy is : 0.8541666666666666\n",
      "for random state  44  The testing accuracy is : 0.7724137931034483\n",
      "\n",
      "\n",
      "for random state  45  The training accuracy is : 0.8634259259259259\n",
      "for random state  45  The testing accuracy is : 0.7724137931034483\n",
      "\n",
      "\n",
      "for random state  46  The training accuracy is : 0.8703703703703703\n",
      "for random state  46  The testing accuracy is : 0.7655172413793103\n",
      "\n",
      "\n",
      "for random state  47  The training accuracy is : 0.8634259259259259\n",
      "for random state  47  The testing accuracy is : 0.7724137931034483\n",
      "\n",
      "\n",
      "for random state  48  The training accuracy is : 0.8564814814814815\n",
      "for random state  48  The testing accuracy is : 0.8\n",
      "\n",
      "\n",
      "for random state  49  The training accuracy is : 0.8611111111111112\n",
      "for random state  49  The testing accuracy is : 0.7517241379310344\n",
      "\n",
      "\n",
      "for random state  50  The training accuracy is : 0.8425925925925926\n",
      "for random state  50  The testing accuracy is : 0.7793103448275862\n",
      "\n",
      "\n",
      "for random state  51  The training accuracy is : 0.8611111111111112\n",
      "for random state  51  The testing accuracy is : 0.7724137931034483\n",
      "\n",
      "\n",
      "for random state  52  The training accuracy is : 0.8472222222222222\n",
      "for random state  52  The testing accuracy is : 0.8482758620689655\n",
      "\n",
      "\n",
      "for random state  53  The training accuracy is : 0.8587962962962963\n",
      "for random state  53  The testing accuracy is : 0.7724137931034483\n",
      "\n",
      "\n",
      "for random state  54  The training accuracy is : 0.8611111111111112\n",
      "for random state  54  The testing accuracy is : 0.7655172413793103\n",
      "\n",
      "\n",
      "for random state  55  The training accuracy is : 0.8402777777777778\n",
      "for random state  55  The testing accuracy is : 0.8344827586206897\n",
      "\n",
      "\n",
      "for random state  56  The training accuracy is : 0.8449074074074074\n",
      "for random state  56  The testing accuracy is : 0.8\n",
      "\n",
      "\n",
      "for random state  57  The training accuracy is : 0.8495370370370371\n",
      "for random state  57  The testing accuracy is : 0.7793103448275862\n",
      "\n",
      "\n",
      "for random state  58  The training accuracy is : 0.8472222222222222\n",
      "for random state  58  The testing accuracy is : 0.8206896551724138\n",
      "\n",
      "\n",
      "for random state  59  The training accuracy is : 0.8472222222222222\n",
      "for random state  59  The testing accuracy is : 0.8137931034482758\n",
      "\n",
      "\n",
      "for random state  60  The training accuracy is : 0.8564814814814815\n",
      "for random state  60  The testing accuracy is : 0.8\n",
      "\n",
      "\n"
     ]
    },
    {
     "name": "stdout",
     "output_type": "stream",
     "text": [
      "for random state  61  The training accuracy is : 0.8541666666666666\n",
      "for random state  61  The testing accuracy is : 0.7931034482758621\n",
      "\n",
      "\n",
      "for random state  62  The training accuracy is : 0.8564814814814815\n",
      "for random state  62  The testing accuracy is : 0.7862068965517242\n",
      "\n",
      "\n",
      "for random state  63  The training accuracy is : 0.8495370370370371\n",
      "for random state  63  The testing accuracy is : 0.7931034482758621\n",
      "\n",
      "\n",
      "for random state  64  The training accuracy is : 0.8634259259259259\n",
      "for random state  64  The testing accuracy is : 0.7931034482758621\n",
      "\n",
      "\n",
      "for random state  65  The training accuracy is : 0.8703703703703703\n",
      "for random state  65  The testing accuracy is : 0.7655172413793103\n",
      "\n",
      "\n",
      "for random state  66  The training accuracy is : 0.8449074074074074\n",
      "for random state  66  The testing accuracy is : 0.8\n",
      "\n",
      "\n",
      "for random state  67  The training accuracy is : 0.8611111111111112\n",
      "for random state  67  The testing accuracy is : 0.7793103448275862\n",
      "\n",
      "\n",
      "for random state  68  The training accuracy is : 0.8425925925925926\n",
      "for random state  68  The testing accuracy is : 0.8344827586206897\n",
      "\n",
      "\n",
      "for random state  69  The training accuracy is : 0.8495370370370371\n",
      "for random state  69  The testing accuracy is : 0.7655172413793103\n",
      "\n",
      "\n",
      "for random state  70  The training accuracy is : 0.8703703703703703\n",
      "for random state  70  The testing accuracy is : 0.7448275862068966\n",
      "\n",
      "\n",
      "for random state  71  The training accuracy is : 0.8425925925925926\n",
      "for random state  71  The testing accuracy is : 0.8206896551724138\n",
      "\n",
      "\n",
      "for random state  72  The training accuracy is : 0.8611111111111112\n",
      "for random state  72  The testing accuracy is : 0.7724137931034483\n",
      "\n",
      "\n",
      "for random state  73  The training accuracy is : 0.8564814814814815\n",
      "for random state  73  The testing accuracy is : 0.7793103448275862\n",
      "\n",
      "\n",
      "for random state  74  The training accuracy is : 0.8680555555555556\n",
      "for random state  74  The testing accuracy is : 0.7310344827586207\n",
      "\n",
      "\n",
      "for random state  75  The training accuracy is : 0.8541666666666666\n",
      "for random state  75  The testing accuracy is : 0.7862068965517242\n",
      "\n",
      "\n",
      "for random state  76  The training accuracy is : 0.8680555555555556\n",
      "for random state  76  The testing accuracy is : 0.7724137931034483\n",
      "\n",
      "\n",
      "for random state  77  The training accuracy is : 0.8402777777777778\n",
      "for random state  77  The testing accuracy is : 0.7724137931034483\n",
      "\n",
      "\n",
      "for random state  78  The training accuracy is : 0.8634259259259259\n",
      "for random state  78  The testing accuracy is : 0.7793103448275862\n",
      "\n",
      "\n",
      "for random state  79  The training accuracy is : 0.8425925925925926\n",
      "for random state  79  The testing accuracy is : 0.7931034482758621\n",
      "\n",
      "\n",
      "for random state  80  The training accuracy is : 0.8611111111111112\n",
      "for random state  80  The testing accuracy is : 0.7793103448275862\n",
      "\n",
      "\n",
      "for random state  81  The training accuracy is : 0.8564814814814815\n",
      "for random state  81  The testing accuracy is : 0.7655172413793103\n",
      "\n",
      "\n",
      "for random state  82  The training accuracy is : 0.8379629629629629\n",
      "for random state  82  The testing accuracy is : 0.8482758620689655\n",
      "\n",
      "\n",
      "for random state  83  The training accuracy is : 0.8402777777777778\n",
      "for random state  83  The testing accuracy is : 0.8206896551724138\n",
      "\n",
      "\n",
      "for random state  84  The training accuracy is : 0.8425925925925926\n",
      "for random state  84  The testing accuracy is : 0.8482758620689655\n",
      "\n",
      "\n",
      "for random state  85  The training accuracy is : 0.8587962962962963\n",
      "for random state  85  The testing accuracy is : 0.7724137931034483\n",
      "\n",
      "\n",
      "for random state  86  The training accuracy is : 0.8472222222222222\n",
      "for random state  86  The testing accuracy is : 0.8\n",
      "\n",
      "\n",
      "for random state  87  The training accuracy is : 0.8472222222222222\n",
      "for random state  87  The testing accuracy is : 0.7793103448275862\n",
      "\n",
      "\n",
      "for random state  88  The training accuracy is : 0.8425925925925926\n",
      "for random state  88  The testing accuracy is : 0.7724137931034483\n",
      "\n",
      "\n",
      "for random state  89  The training accuracy is : 0.8796296296296297\n",
      "for random state  89  The testing accuracy is : 0.7379310344827587\n",
      "\n",
      "\n",
      "for random state  90  The training accuracy is : 0.8333333333333334\n",
      "for random state  90  The testing accuracy is : 0.8137931034482758\n",
      "\n",
      "\n",
      "for random state  91  The training accuracy is : 0.8449074074074074\n",
      "for random state  91  The testing accuracy is : 0.8068965517241379\n",
      "\n",
      "\n",
      "for random state  92  The training accuracy is : 0.8495370370370371\n",
      "for random state  92  The testing accuracy is : 0.7931034482758621\n",
      "\n",
      "\n",
      "for random state  93  The training accuracy is : 0.8472222222222222\n",
      "for random state  93  The testing accuracy is : 0.8275862068965517\n",
      "\n",
      "\n",
      "for random state  94  The training accuracy is : 0.8680555555555556\n",
      "for random state  94  The testing accuracy is : 0.7793103448275862\n",
      "\n",
      "\n",
      "for random state  95  The training accuracy is : 0.8541666666666666\n",
      "for random state  95  The testing accuracy is : 0.8275862068965517\n",
      "\n",
      "\n",
      "for random state  96  The training accuracy is : 0.8379629629629629\n",
      "for random state  96  The testing accuracy is : 0.8275862068965517\n",
      "\n",
      "\n",
      "for random state  97  The training accuracy is : 0.8495370370370371\n",
      "for random state  97  The testing accuracy is : 0.8137931034482758\n",
      "\n",
      "\n",
      "for random state  98  The training accuracy is : 0.8587962962962963\n",
      "for random state  98  The testing accuracy is : 0.8068965517241379\n",
      "\n",
      "\n",
      "for random state  99  The training accuracy is : 0.8564814814814815\n",
      "for random state  99  The testing accuracy is : 0.7793103448275862\n",
      "\n",
      "\n",
      "for random state  100  The training accuracy is : 0.8402777777777778\n",
      "for random state  100  The testing accuracy is : 0.8137931034482758\n",
      "\n",
      "\n"
     ]
    }
   ],
   "source": [
    "for i in range(0,101):\n",
    "    \n",
    "    X_train, X_test, y_train, y_test = train_test_split(X, y, test_size=0.25, random_state=i)\n",
    "    mod_6 = AdaBoostClassifier() \n",
    "    mod_6.fit(X_train,y_train)\n",
    "    train_score_6 = mod_6.score(X_train,y_train)\n",
    "    pred_6 = mod_6.predict(X_test)\n",
    "    test_score_6 = accuracy_score(y_test,pred_6)\n",
    "    \n",
    "    print(\"for random state \",i,\" The training accuracy is :\",train_score_6)\n",
    "    print(\"for random state \",i,\" The testing accuracy is :\",test_score_6)\n",
    "    print(\"\\n\")"
   ]
  },
  {
   "cell_type": "code",
   "execution_count": 169,
   "metadata": {},
   "outputs": [
    {
     "name": "stdout",
     "output_type": "stream",
     "text": [
      "The training accuracy is : 0.8449074074074074\n",
      "The testing accuracy is : 0.8413793103448276\n",
      "\n",
      "\n"
     ]
    }
   ],
   "source": [
    "# Taking the best random state as 12\n",
    "X_train, X_test, y_train, y_test = train_test_split(X, y, test_size=0.25, random_state=12)\n",
    "mod_6 = AdaBoostClassifier() \n",
    "mod_6.fit(X_train,y_train)\n",
    "train_score_6 = mod_6.score(X_train,y_train)\n",
    "pred_6 = mod_6.predict(X_test)\n",
    "test_score_6 = accuracy_score(y_test,pred_6)\n",
    "    \n",
    "print(\"The training accuracy is :\",train_score_6)\n",
    "print(\"The testing accuracy is :\",test_score_6)\n",
    "print(\"\\n\")"
   ]
  },
  {
   "cell_type": "code",
   "execution_count": 170,
   "metadata": {},
   "outputs": [
    {
     "name": "stdout",
     "output_type": "stream",
     "text": [
      "[[ 21  13]\n",
      " [ 10 101]]\n",
      "\n",
      "\n",
      "              precision    recall  f1-score   support\n",
      "\n",
      "           0       0.68      0.62      0.65        34\n",
      "           1       0.89      0.91      0.90       111\n",
      "\n",
      "    accuracy                           0.84       145\n",
      "   macro avg       0.78      0.76      0.77       145\n",
      "weighted avg       0.84      0.84      0.84       145\n",
      "\n",
      "\n",
      "\n"
     ]
    }
   ],
   "source": [
    "print(confusion_matrix(y_test,pred_6))\n",
    "print(\"\\n\")\n",
    "print(classification_report(y_test,pred_6))\n",
    "print(\"\\n\")"
   ]
  },
  {
   "cell_type": "markdown",
   "metadata": {},
   "source": [
    "## Stratified Cross validation"
   ]
  },
  {
   "cell_type": "code",
   "execution_count": 171,
   "metadata": {},
   "outputs": [],
   "source": [
    "kfold = StratifiedKFold(n_splits=10)\n",
    "\n",
    "K_results = cross_val_score(mod_6,X,y,cv=kfold)\n",
    "\n",
    "kfold_accuracy_ADA = np.mean(abs(K_results))"
   ]
  },
  {
   "cell_type": "code",
   "execution_count": 172,
   "metadata": {},
   "outputs": [
    {
     "data": {
      "text/plain": [
       "0.7870538415003024"
      ]
     },
     "execution_count": 172,
     "metadata": {},
     "output_type": "execute_result"
    }
   ],
   "source": [
    "kfold_accuracy_ADA"
   ]
  },
  {
   "cell_type": "code",
   "execution_count": 173,
   "metadata": {},
   "outputs": [],
   "source": [
    "score = {\"Algorithm\":[\"Logistic Regression\",\"Naive Bayes\",\"Random Forest Classi\",\n",
    "                     \"Decision Tree\",\"ADA Boost\"],\n",
    "         \"Training_Acc\":[train_score_1,train_score_2,train_score_3,\n",
    "                        train_score_4,train_score_6],\n",
    "        \"Accuracy\":[test_score_1,test_score_2,test_score_3,\n",
    "                   test_score_4,test_score_6],\n",
    "        \"Cross_validation\":[kfold_accuracy_LR,kfold_accuracy_NB,\n",
    "                           kfold_accuracy_RFR,kfold_accuracy_DT,\n",
    "                           kfold_accuracy_ADA]}\n",
    "\n",
    "final_card = pd.DataFrame(score)"
   ]
  },
  {
   "cell_type": "code",
   "execution_count": 174,
   "metadata": {},
   "outputs": [
    {
     "data": {
      "text/html": [
       "<div>\n",
       "<style scoped>\n",
       "    .dataframe tbody tr th:only-of-type {\n",
       "        vertical-align: middle;\n",
       "    }\n",
       "\n",
       "    .dataframe tbody tr th {\n",
       "        vertical-align: top;\n",
       "    }\n",
       "\n",
       "    .dataframe thead th {\n",
       "        text-align: right;\n",
       "    }\n",
       "</style>\n",
       "<table border=\"1\" class=\"dataframe\">\n",
       "  <thead>\n",
       "    <tr style=\"text-align: right;\">\n",
       "      <th></th>\n",
       "      <th>Algorithm</th>\n",
       "      <th>Training_Acc</th>\n",
       "      <th>Accuracy</th>\n",
       "      <th>Cross_validation</th>\n",
       "    </tr>\n",
       "  </thead>\n",
       "  <tbody>\n",
       "    <tr>\n",
       "      <th>0</th>\n",
       "      <td>Logistic Regression</td>\n",
       "      <td>0.819444</td>\n",
       "      <td>0.827586</td>\n",
       "      <td>0.816394</td>\n",
       "    </tr>\n",
       "    <tr>\n",
       "      <th>1</th>\n",
       "      <td>Naive Bayes</td>\n",
       "      <td>0.814815</td>\n",
       "      <td>0.820690</td>\n",
       "      <td>0.809407</td>\n",
       "    </tr>\n",
       "    <tr>\n",
       "      <th>2</th>\n",
       "      <td>Random Forest Classi</td>\n",
       "      <td>1.000000</td>\n",
       "      <td>0.862069</td>\n",
       "      <td>0.788627</td>\n",
       "    </tr>\n",
       "    <tr>\n",
       "      <th>3</th>\n",
       "      <td>Decision Tree</td>\n",
       "      <td>1.000000</td>\n",
       "      <td>0.786207</td>\n",
       "      <td>0.743618</td>\n",
       "    </tr>\n",
       "    <tr>\n",
       "      <th>4</th>\n",
       "      <td>ADA Boost</td>\n",
       "      <td>0.844907</td>\n",
       "      <td>0.841379</td>\n",
       "      <td>0.787054</td>\n",
       "    </tr>\n",
       "  </tbody>\n",
       "</table>\n",
       "</div>"
      ],
      "text/plain": [
       "              Algorithm  Training_Acc  Accuracy  Cross_validation\n",
       "0   Logistic Regression      0.819444  0.827586          0.816394\n",
       "1           Naive Bayes      0.814815  0.820690          0.809407\n",
       "2  Random Forest Classi      1.000000  0.862069          0.788627\n",
       "3         Decision Tree      1.000000  0.786207          0.743618\n",
       "4             ADA Boost      0.844907  0.841379          0.787054"
      ]
     },
     "execution_count": 174,
     "metadata": {},
     "output_type": "execute_result"
    }
   ],
   "source": [
    "final_card"
   ]
  },
  {
   "cell_type": "markdown",
   "metadata": {},
   "source": [
    "## K Neighbor classifier"
   ]
  },
  {
   "cell_type": "code",
   "execution_count": 175,
   "metadata": {},
   "outputs": [],
   "source": [
    "from sklearn.neighbors import KNeighborsClassifier"
   ]
  },
  {
   "cell_type": "code",
   "execution_count": 176,
   "metadata": {},
   "outputs": [
    {
     "name": "stdout",
     "output_type": "stream",
     "text": [
      "for random state  0  The training accuracy is : 0.7986111111111112\n",
      "for random state  0  The testing accuracy is : 0.7517241379310344\n",
      "\n",
      "\n",
      "for random state  1  The training accuracy is : 0.8032407407407407\n",
      "for random state  1  The testing accuracy is : 0.7862068965517242\n",
      "\n",
      "\n",
      "for random state  2  The training accuracy is : 0.7962962962962963\n",
      "for random state  2  The testing accuracy is : 0.7586206896551724\n",
      "\n",
      "\n",
      "for random state  3  The training accuracy is : 0.8194444444444444\n",
      "for random state  3  The testing accuracy is : 0.7310344827586207\n",
      "\n",
      "\n",
      "for random state  4  The training accuracy is : 0.8171296296296297\n",
      "for random state  4  The testing accuracy is : 0.7379310344827587\n",
      "\n",
      "\n",
      "for random state  5  The training accuracy is : 0.8148148148148148\n",
      "for random state  5  The testing accuracy is : 0.7103448275862069\n",
      "\n",
      "\n",
      "for random state  6  The training accuracy is : 0.8009259259259259\n",
      "for random state  6  The testing accuracy is : 0.7448275862068966\n",
      "\n",
      "\n",
      "for random state  7  The training accuracy is : 0.7986111111111112\n",
      "for random state  7  The testing accuracy is : 0.7379310344827587\n",
      "\n",
      "\n",
      "for random state  8  The training accuracy is : 0.8194444444444444\n",
      "for random state  8  The testing accuracy is : 0.7241379310344828\n",
      "\n",
      "\n",
      "for random state  9  The training accuracy is : 0.8101851851851852\n",
      "for random state  9  The testing accuracy is : 0.7034482758620689\n",
      "\n",
      "\n",
      "for random state  10  The training accuracy is : 0.8148148148148148\n",
      "for random state  10  The testing accuracy is : 0.7586206896551724\n",
      "\n",
      "\n",
      "for random state  11  The training accuracy is : 0.8194444444444444\n",
      "for random state  11  The testing accuracy is : 0.7103448275862069\n",
      "\n",
      "\n",
      "for random state  12  The training accuracy is : 0.8055555555555556\n",
      "for random state  12  The testing accuracy is : 0.7586206896551724\n",
      "\n",
      "\n",
      "for random state  13  The training accuracy is : 0.8055555555555556\n",
      "for random state  13  The testing accuracy is : 0.7655172413793103\n",
      "\n",
      "\n",
      "for random state  14  The training accuracy is : 0.8263888888888888\n",
      "for random state  14  The testing accuracy is : 0.6689655172413793\n",
      "\n",
      "\n",
      "for random state  15  The training accuracy is : 0.8217592592592593\n",
      "for random state  15  The testing accuracy is : 0.7517241379310344\n",
      "\n",
      "\n",
      "for random state  16  The training accuracy is : 0.8148148148148148\n",
      "for random state  16  The testing accuracy is : 0.7034482758620689\n",
      "\n",
      "\n",
      "for random state  17  The training accuracy is : 0.8009259259259259\n",
      "for random state  17  The testing accuracy is : 0.7655172413793103\n",
      "\n",
      "\n",
      "for random state  18  The training accuracy is : 0.8171296296296297\n",
      "for random state  18  The testing accuracy is : 0.7103448275862069\n",
      "\n",
      "\n",
      "for random state  19  The training accuracy is : 0.8009259259259259\n",
      "for random state  19  The testing accuracy is : 0.7310344827586207\n",
      "\n",
      "\n",
      "for random state  20  The training accuracy is : 0.8125\n",
      "for random state  20  The testing accuracy is : 0.7241379310344828\n",
      "\n",
      "\n",
      "for random state  21  The training accuracy is : 0.8125\n",
      "for random state  21  The testing accuracy is : 0.7655172413793103\n",
      "\n",
      "\n",
      "for random state  22  The training accuracy is : 0.8217592592592593\n",
      "for random state  22  The testing accuracy is : 0.7310344827586207\n",
      "\n",
      "\n",
      "for random state  23  The training accuracy is : 0.8240740740740741\n",
      "for random state  23  The testing accuracy is : 0.696551724137931\n",
      "\n",
      "\n",
      "for random state  24  The training accuracy is : 0.8078703703703703\n",
      "for random state  24  The testing accuracy is : 0.7793103448275862\n",
      "\n",
      "\n",
      "for random state  25  The training accuracy is : 0.7916666666666666\n",
      "for random state  25  The testing accuracy is : 0.7724137931034483\n",
      "\n",
      "\n",
      "for random state  26  The training accuracy is : 0.7939814814814815\n",
      "for random state  26  The testing accuracy is : 0.7931034482758621\n",
      "\n",
      "\n",
      "for random state  27  The training accuracy is : 0.8101851851851852\n",
      "for random state  27  The testing accuracy is : 0.7034482758620689\n",
      "\n",
      "\n",
      "for random state  28  The training accuracy is : 0.8078703703703703\n",
      "for random state  28  The testing accuracy is : 0.7310344827586207\n",
      "\n",
      "\n",
      "for random state  29  The training accuracy is : 0.8171296296296297\n",
      "for random state  29  The testing accuracy is : 0.6482758620689655\n",
      "\n",
      "\n",
      "for random state  30  The training accuracy is : 0.8078703703703703\n",
      "for random state  30  The testing accuracy is : 0.7586206896551724\n",
      "\n",
      "\n",
      "for random state  31  The training accuracy is : 0.8171296296296297\n",
      "for random state  31  The testing accuracy is : 0.7310344827586207\n",
      "\n",
      "\n",
      "for random state  32  The training accuracy is : 0.8055555555555556\n",
      "for random state  32  The testing accuracy is : 0.7034482758620689\n",
      "\n",
      "\n",
      "for random state  33  The training accuracy is : 0.8148148148148148\n",
      "for random state  33  The testing accuracy is : 0.7655172413793103\n",
      "\n",
      "\n",
      "for random state  34  The training accuracy is : 0.8125\n",
      "for random state  34  The testing accuracy is : 0.696551724137931\n",
      "\n",
      "\n",
      "for random state  35  The training accuracy is : 0.8194444444444444\n",
      "for random state  35  The testing accuracy is : 0.7379310344827587\n",
      "\n",
      "\n",
      "for random state  36  The training accuracy is : 0.8240740740740741\n",
      "for random state  36  The testing accuracy is : 0.7448275862068966\n",
      "\n",
      "\n",
      "for random state  37  The training accuracy is : 0.8194444444444444\n",
      "for random state  37  The testing accuracy is : 0.7034482758620689\n",
      "\n",
      "\n",
      "for random state  38  The training accuracy is : 0.8032407407407407\n",
      "for random state  38  The testing accuracy is : 0.7379310344827587\n",
      "\n",
      "\n",
      "for random state  39  The training accuracy is : 0.7777777777777778\n",
      "for random state  39  The testing accuracy is : 0.7517241379310344\n",
      "\n",
      "\n",
      "for random state  40  The training accuracy is : 0.8078703703703703\n",
      "for random state  40  The testing accuracy is : 0.7793103448275862\n",
      "\n",
      "\n",
      "for random state  41  The training accuracy is : 0.8078703703703703\n",
      "for random state  41  The testing accuracy is : 0.7724137931034483\n",
      "\n",
      "\n",
      "for random state  42  The training accuracy is : 0.8125\n",
      "for random state  42  The testing accuracy is : 0.7586206896551724\n",
      "\n",
      "\n",
      "for random state  43  The training accuracy is : 0.8171296296296297\n",
      "for random state  43  The testing accuracy is : 0.7241379310344828\n",
      "\n",
      "\n",
      "for random state  44  The training accuracy is : 0.8171296296296297\n",
      "for random state  44  The testing accuracy is : 0.7241379310344828\n",
      "\n",
      "\n",
      "for random state  45  The training accuracy is : 0.8148148148148148\n",
      "for random state  45  The testing accuracy is : 0.7034482758620689\n",
      "\n",
      "\n",
      "for random state  46  The training accuracy is : 0.8148148148148148\n",
      "for random state  46  The testing accuracy is : 0.7448275862068966\n",
      "\n",
      "\n",
      "for random state  47  The training accuracy is : 0.8125\n",
      "for random state  47  The testing accuracy is : 0.7379310344827587\n",
      "\n",
      "\n",
      "for random state  48  The training accuracy is : 0.8009259259259259\n",
      "for random state  48  The testing accuracy is : 0.7517241379310344\n",
      "\n",
      "\n",
      "for random state  49  The training accuracy is : 0.8171296296296297\n",
      "for random state  49  The testing accuracy is : 0.7034482758620689\n",
      "\n",
      "\n",
      "for random state  50  The training accuracy is : 0.7986111111111112\n",
      "for random state  50  The testing accuracy is : 0.7448275862068966\n",
      "\n",
      "\n",
      "for random state  51  The training accuracy is : 0.8125\n",
      "for random state  51  The testing accuracy is : 0.7310344827586207\n",
      "\n",
      "\n",
      "for random state  52  The training accuracy is : 0.7870370370370371\n",
      "for random state  52  The testing accuracy is : 0.7931034482758621\n",
      "\n",
      "\n",
      "for random state  53  The training accuracy is : 0.8055555555555556\n",
      "for random state  53  The testing accuracy is : 0.7034482758620689\n",
      "\n",
      "\n",
      "for random state  54  The training accuracy is : 0.8263888888888888\n",
      "for random state  54  The testing accuracy is : 0.7103448275862069\n",
      "\n",
      "\n",
      "for random state  55  The training accuracy is : 0.7939814814814815\n",
      "for random state  55  The testing accuracy is : 0.7586206896551724\n",
      "\n",
      "\n",
      "for random state  56  The training accuracy is : 0.8101851851851852\n",
      "for random state  56  The testing accuracy is : 0.7724137931034483\n",
      "\n",
      "\n",
      "for random state  57  The training accuracy is : 0.7962962962962963\n",
      "for random state  57  The testing accuracy is : 0.7241379310344828\n",
      "\n",
      "\n",
      "for random state  58  The training accuracy is : 0.7893518518518519\n",
      "for random state  58  The testing accuracy is : 0.7862068965517242\n",
      "\n",
      "\n",
      "for random state  59  The training accuracy is : 0.8101851851851852\n",
      "for random state  59  The testing accuracy is : 0.7586206896551724\n",
      "\n",
      "\n",
      "for random state  60  The training accuracy is : 0.8009259259259259\n",
      "for random state  60  The testing accuracy is : 0.7724137931034483\n",
      "\n",
      "\n",
      "for random state  61  The training accuracy is : 0.8148148148148148\n",
      "for random state  61  The testing accuracy is : 0.7448275862068966\n",
      "\n",
      "\n",
      "for random state  62  The training accuracy is : 0.8101851851851852\n",
      "for random state  62  The testing accuracy is : 0.7172413793103448\n",
      "\n",
      "\n",
      "for random state  63  The training accuracy is : 0.8148148148148148\n",
      "for random state  63  The testing accuracy is : 0.7172413793103448\n",
      "\n",
      "\n"
     ]
    },
    {
     "name": "stdout",
     "output_type": "stream",
     "text": [
      "for random state  64  The training accuracy is : 0.8125\n",
      "for random state  64  The testing accuracy is : 0.7586206896551724\n",
      "\n",
      "\n",
      "for random state  65  The training accuracy is : 0.8078703703703703\n",
      "for random state  65  The testing accuracy is : 0.7448275862068966\n",
      "\n",
      "\n",
      "for random state  66  The training accuracy is : 0.8240740740740741\n",
      "for random state  66  The testing accuracy is : 0.6896551724137931\n",
      "\n",
      "\n",
      "for random state  67  The training accuracy is : 0.8217592592592593\n",
      "for random state  67  The testing accuracy is : 0.6896551724137931\n",
      "\n",
      "\n",
      "for random state  68  The training accuracy is : 0.7986111111111112\n",
      "for random state  68  The testing accuracy is : 0.7862068965517242\n",
      "\n",
      "\n",
      "for random state  69  The training accuracy is : 0.7939814814814815\n",
      "for random state  69  The testing accuracy is : 0.7793103448275862\n",
      "\n",
      "\n",
      "for random state  70  The training accuracy is : 0.8148148148148148\n",
      "for random state  70  The testing accuracy is : 0.6896551724137931\n",
      "\n",
      "\n",
      "for random state  71  The training accuracy is : 0.8125\n",
      "for random state  71  The testing accuracy is : 0.7310344827586207\n",
      "\n",
      "\n",
      "for random state  72  The training accuracy is : 0.8194444444444444\n",
      "for random state  72  The testing accuracy is : 0.7310344827586207\n",
      "\n",
      "\n",
      "for random state  73  The training accuracy is : 0.8125\n",
      "for random state  73  The testing accuracy is : 0.6827586206896552\n",
      "\n",
      "\n",
      "for random state  74  The training accuracy is : 0.8217592592592593\n",
      "for random state  74  The testing accuracy is : 0.6689655172413793\n",
      "\n",
      "\n",
      "for random state  75  The training accuracy is : 0.8078703703703703\n",
      "for random state  75  The testing accuracy is : 0.7655172413793103\n",
      "\n",
      "\n",
      "for random state  76  The training accuracy is : 0.8171296296296297\n",
      "for random state  76  The testing accuracy is : 0.7310344827586207\n",
      "\n",
      "\n",
      "for random state  77  The training accuracy is : 0.8055555555555556\n",
      "for random state  77  The testing accuracy is : 0.7241379310344828\n",
      "\n",
      "\n",
      "for random state  78  The training accuracy is : 0.7916666666666666\n",
      "for random state  78  The testing accuracy is : 0.7655172413793103\n",
      "\n",
      "\n",
      "for random state  79  The training accuracy is : 0.8078703703703703\n",
      "for random state  79  The testing accuracy is : 0.7655172413793103\n",
      "\n",
      "\n",
      "for random state  80  The training accuracy is : 0.8055555555555556\n",
      "for random state  80  The testing accuracy is : 0.7241379310344828\n",
      "\n",
      "\n",
      "for random state  81  The training accuracy is : 0.8148148148148148\n",
      "for random state  81  The testing accuracy is : 0.7310344827586207\n",
      "\n",
      "\n",
      "for random state  82  The training accuracy is : 0.8032407407407407\n",
      "for random state  82  The testing accuracy is : 0.7448275862068966\n",
      "\n",
      "\n",
      "for random state  83  The training accuracy is : 0.8055555555555556\n",
      "for random state  83  The testing accuracy is : 0.7793103448275862\n",
      "\n",
      "\n",
      "for random state  84  The training accuracy is : 0.8032407407407407\n",
      "for random state  84  The testing accuracy is : 0.8068965517241379\n",
      "\n",
      "\n",
      "for random state  85  The training accuracy is : 0.8194444444444444\n",
      "for random state  85  The testing accuracy is : 0.6827586206896552\n",
      "\n",
      "\n",
      "for random state  86  The training accuracy is : 0.7916666666666666\n",
      "for random state  86  The testing accuracy is : 0.7517241379310344\n",
      "\n",
      "\n",
      "for random state  87  The training accuracy is : 0.7847222222222222\n",
      "for random state  87  The testing accuracy is : 0.7517241379310344\n",
      "\n",
      "\n",
      "for random state  88  The training accuracy is : 0.8032407407407407\n",
      "for random state  88  The testing accuracy is : 0.7310344827586207\n",
      "\n",
      "\n",
      "for random state  89  The training accuracy is : 0.8217592592592593\n",
      "for random state  89  The testing accuracy is : 0.7310344827586207\n",
      "\n",
      "\n",
      "for random state  90  The training accuracy is : 0.7939814814814815\n",
      "for random state  90  The testing accuracy is : 0.8\n",
      "\n",
      "\n",
      "for random state  91  The training accuracy is : 0.7962962962962963\n",
      "for random state  91  The testing accuracy is : 0.7586206896551724\n",
      "\n",
      "\n",
      "for random state  92  The training accuracy is : 0.7754629629629629\n",
      "for random state  92  The testing accuracy is : 0.7655172413793103\n",
      "\n",
      "\n",
      "for random state  93  The training accuracy is : 0.7986111111111112\n",
      "for random state  93  The testing accuracy is : 0.7448275862068966\n",
      "\n",
      "\n",
      "for random state  94  The training accuracy is : 0.8009259259259259\n",
      "for random state  94  The testing accuracy is : 0.7379310344827587\n",
      "\n",
      "\n",
      "for random state  95  The training accuracy is : 0.7893518518518519\n",
      "for random state  95  The testing accuracy is : 0.8413793103448276\n",
      "\n",
      "\n",
      "for random state  96  The training accuracy is : 0.7986111111111112\n",
      "for random state  96  The testing accuracy is : 0.7517241379310344\n",
      "\n",
      "\n",
      "for random state  97  The training accuracy is : 0.8055555555555556\n",
      "for random state  97  The testing accuracy is : 0.7724137931034483\n",
      "\n",
      "\n",
      "for random state  98  The training accuracy is : 0.8194444444444444\n",
      "for random state  98  The testing accuracy is : 0.7793103448275862\n",
      "\n",
      "\n",
      "for random state  99  The training accuracy is : 0.8171296296296297\n",
      "for random state  99  The testing accuracy is : 0.7172413793103448\n",
      "\n",
      "\n",
      "for random state  100  The training accuracy is : 0.7962962962962963\n",
      "for random state  100  The testing accuracy is : 0.7724137931034483\n",
      "\n",
      "\n"
     ]
    }
   ],
   "source": [
    "for i in range(0,101):\n",
    "    \n",
    "    X_train, X_test, y_train, y_test = train_test_split(X, y, test_size=0.25, random_state=i)\n",
    "    mod_7 = KNeighborsClassifier() \n",
    "    mod_7.fit(X_train,y_train)\n",
    "    train_score_7 = mod_7.score(X_train,y_train)\n",
    "    pred_7 = mod_7.predict(X_test)\n",
    "    test_score_7 = accuracy_score(y_test,pred_7)\n",
    "    \n",
    "    print(\"for random state \",i,\" The training accuracy is :\",train_score_7)\n",
    "    print(\"for random state \",i,\" The testing accuracy is :\",test_score_7)\n",
    "    print(\"\\n\")"
   ]
  },
  {
   "cell_type": "code",
   "execution_count": 177,
   "metadata": {},
   "outputs": [
    {
     "name": "stdout",
     "output_type": "stream",
     "text": [
      "The training accuracy is : 0.7939814814814815\n",
      "The testing accuracy is : 0.7931034482758621\n",
      "\n",
      "\n"
     ]
    }
   ],
   "source": [
    "# Taking the best random state as 26\n",
    "X_train, X_test, y_train, y_test = train_test_split(X, y, test_size=0.25, random_state=26)\n",
    "mod_7 = KNeighborsClassifier() \n",
    "mod_7.fit(X_train,y_train)\n",
    "train_score_7 = mod_7.score(X_train,y_train)\n",
    "pred_7 = mod_7.predict(X_test)\n",
    "test_score_7 = accuracy_score(y_test,pred_7)\n",
    "    \n",
    "print(\"The training accuracy is :\",train_score_7)\n",
    "print(\"The testing accuracy is :\",test_score_7)\n",
    "print(\"\\n\")"
   ]
  },
  {
   "cell_type": "code",
   "execution_count": 178,
   "metadata": {},
   "outputs": [
    {
     "name": "stdout",
     "output_type": "stream",
     "text": [
      "[[18 26]\n",
      " [ 4 97]]\n",
      "\n",
      "\n",
      "              precision    recall  f1-score   support\n",
      "\n",
      "           0       0.82      0.41      0.55        44\n",
      "           1       0.79      0.96      0.87       101\n",
      "\n",
      "    accuracy                           0.79       145\n",
      "   macro avg       0.80      0.68      0.71       145\n",
      "weighted avg       0.80      0.79      0.77       145\n",
      "\n",
      "\n",
      "\n"
     ]
    }
   ],
   "source": [
    "print(confusion_matrix(y_test,pred_7))\n",
    "print(\"\\n\")\n",
    "print(classification_report(y_test,pred_7))\n",
    "print(\"\\n\")"
   ]
  },
  {
   "cell_type": "markdown",
   "metadata": {},
   "source": [
    "## Stratified Cross Validation"
   ]
  },
  {
   "cell_type": "code",
   "execution_count": 179,
   "metadata": {},
   "outputs": [],
   "source": [
    "kfold = StratifiedKFold(n_splits=10)\n",
    "\n",
    "K_results = cross_val_score(mod_7,X,y,cv=kfold)\n",
    "\n",
    "kfold_accuracy_KNC = np.mean(abs(K_results))"
   ]
  },
  {
   "cell_type": "code",
   "execution_count": 180,
   "metadata": {},
   "outputs": [
    {
     "data": {
      "text/plain": [
       "0.7505444646098003"
      ]
     },
     "execution_count": 180,
     "metadata": {},
     "output_type": "execute_result"
    }
   ],
   "source": [
    "kfold_accuracy_KNC"
   ]
  },
  {
   "cell_type": "code",
   "execution_count": 181,
   "metadata": {},
   "outputs": [],
   "source": [
    "score = {\"Algorithm\":[\"Logistic Regression\",\"Naive Bayes\",\"Random Forest Classi\",\n",
    "                     \"Decision Tree\",\"ADA Boost\",\"K Means\"],\n",
    "         \"Training_Acc\":[train_score_1,train_score_2,train_score_3,\n",
    "                        train_score_4,train_score_6,train_score_7],\n",
    "        \"Accuracy\":[test_score_1,test_score_2,test_score_3,\n",
    "                   test_score_4,test_score_6,test_score_7],\n",
    "        \"Cross_validation\":[kfold_accuracy_LR,kfold_accuracy_NB,\n",
    "                           kfold_accuracy_RFR,kfold_accuracy_DT,\n",
    "                           kfold_accuracy_ADA,kfold_accuracy_KNC]}\n",
    "\n",
    "final_card = pd.DataFrame(score)"
   ]
  },
  {
   "cell_type": "code",
   "execution_count": 182,
   "metadata": {},
   "outputs": [
    {
     "data": {
      "text/html": [
       "<div>\n",
       "<style scoped>\n",
       "    .dataframe tbody tr th:only-of-type {\n",
       "        vertical-align: middle;\n",
       "    }\n",
       "\n",
       "    .dataframe tbody tr th {\n",
       "        vertical-align: top;\n",
       "    }\n",
       "\n",
       "    .dataframe thead th {\n",
       "        text-align: right;\n",
       "    }\n",
       "</style>\n",
       "<table border=\"1\" class=\"dataframe\">\n",
       "  <thead>\n",
       "    <tr style=\"text-align: right;\">\n",
       "      <th></th>\n",
       "      <th>Algorithm</th>\n",
       "      <th>Training_Acc</th>\n",
       "      <th>Accuracy</th>\n",
       "      <th>Cross_validation</th>\n",
       "    </tr>\n",
       "  </thead>\n",
       "  <tbody>\n",
       "    <tr>\n",
       "      <th>0</th>\n",
       "      <td>Logistic Regression</td>\n",
       "      <td>0.819444</td>\n",
       "      <td>0.827586</td>\n",
       "      <td>0.816394</td>\n",
       "    </tr>\n",
       "    <tr>\n",
       "      <th>1</th>\n",
       "      <td>Naive Bayes</td>\n",
       "      <td>0.814815</td>\n",
       "      <td>0.820690</td>\n",
       "      <td>0.809407</td>\n",
       "    </tr>\n",
       "    <tr>\n",
       "      <th>2</th>\n",
       "      <td>Random Forest Classi</td>\n",
       "      <td>1.000000</td>\n",
       "      <td>0.862069</td>\n",
       "      <td>0.788627</td>\n",
       "    </tr>\n",
       "    <tr>\n",
       "      <th>3</th>\n",
       "      <td>Decision Tree</td>\n",
       "      <td>1.000000</td>\n",
       "      <td>0.786207</td>\n",
       "      <td>0.743618</td>\n",
       "    </tr>\n",
       "    <tr>\n",
       "      <th>4</th>\n",
       "      <td>ADA Boost</td>\n",
       "      <td>0.844907</td>\n",
       "      <td>0.841379</td>\n",
       "      <td>0.787054</td>\n",
       "    </tr>\n",
       "    <tr>\n",
       "      <th>5</th>\n",
       "      <td>K Means</td>\n",
       "      <td>0.793981</td>\n",
       "      <td>0.793103</td>\n",
       "      <td>0.750544</td>\n",
       "    </tr>\n",
       "  </tbody>\n",
       "</table>\n",
       "</div>"
      ],
      "text/plain": [
       "              Algorithm  Training_Acc  Accuracy  Cross_validation\n",
       "0   Logistic Regression      0.819444  0.827586          0.816394\n",
       "1           Naive Bayes      0.814815  0.820690          0.809407\n",
       "2  Random Forest Classi      1.000000  0.862069          0.788627\n",
       "3         Decision Tree      1.000000  0.786207          0.743618\n",
       "4             ADA Boost      0.844907  0.841379          0.787054\n",
       "5               K Means      0.793981  0.793103          0.750544"
      ]
     },
     "execution_count": 182,
     "metadata": {},
     "output_type": "execute_result"
    }
   ],
   "source": [
    "final_card"
   ]
  },
  {
   "cell_type": "markdown",
   "metadata": {},
   "source": [
    "## Gradient Boosting Classifier"
   ]
  },
  {
   "cell_type": "code",
   "execution_count": 183,
   "metadata": {},
   "outputs": [],
   "source": [
    "from sklearn.ensemble import GradientBoostingClassifier"
   ]
  },
  {
   "cell_type": "code",
   "execution_count": 184,
   "metadata": {},
   "outputs": [
    {
     "name": "stdout",
     "output_type": "stream",
     "text": [
      "for random state  0  The training accuracy is : 0.9097222222222222\n",
      "for random state  0  The testing accuracy is : 0.8068965517241379\n",
      "\n",
      "\n",
      "for random state  1  The training accuracy is : 0.9097222222222222\n",
      "for random state  1  The testing accuracy is : 0.7793103448275862\n",
      "\n",
      "\n",
      "for random state  2  The training accuracy is : 0.8981481481481481\n",
      "for random state  2  The testing accuracy is : 0.7724137931034483\n",
      "\n",
      "\n",
      "for random state  3  The training accuracy is : 0.8981481481481481\n",
      "for random state  3  The testing accuracy is : 0.8\n",
      "\n",
      "\n",
      "for random state  4  The training accuracy is : 0.9120370370370371\n",
      "for random state  4  The testing accuracy is : 0.7655172413793103\n",
      "\n",
      "\n",
      "for random state  5  The training accuracy is : 0.9074074074074074\n",
      "for random state  5  The testing accuracy is : 0.7310344827586207\n",
      "\n",
      "\n",
      "for random state  6  The training accuracy is : 0.9236111111111112\n",
      "for random state  6  The testing accuracy is : 0.7931034482758621\n",
      "\n",
      "\n",
      "for random state  7  The training accuracy is : 0.9027777777777778\n",
      "for random state  7  The testing accuracy is : 0.7793103448275862\n",
      "\n",
      "\n",
      "for random state  8  The training accuracy is : 0.9074074074074074\n",
      "for random state  8  The testing accuracy is : 0.7862068965517242\n",
      "\n",
      "\n",
      "for random state  9  The training accuracy is : 0.8958333333333334\n",
      "for random state  9  The testing accuracy is : 0.8\n",
      "\n",
      "\n",
      "for random state  10  The training accuracy is : 0.9074074074074074\n",
      "for random state  10  The testing accuracy is : 0.7931034482758621\n",
      "\n",
      "\n",
      "for random state  11  The training accuracy is : 0.9097222222222222\n",
      "for random state  11  The testing accuracy is : 0.7517241379310344\n",
      "\n",
      "\n",
      "for random state  12  The training accuracy is : 0.9027777777777778\n",
      "for random state  12  The testing accuracy is : 0.8413793103448276\n",
      "\n",
      "\n",
      "for random state  13  The training accuracy is : 0.9050925925925926\n",
      "for random state  13  The testing accuracy is : 0.7793103448275862\n",
      "\n",
      "\n",
      "for random state  14  The training accuracy is : 0.9236111111111112\n",
      "for random state  14  The testing accuracy is : 0.7448275862068966\n",
      "\n",
      "\n",
      "for random state  15  The training accuracy is : 0.9143518518518519\n",
      "for random state  15  The testing accuracy is : 0.7724137931034483\n",
      "\n",
      "\n",
      "for random state  16  The training accuracy is : 0.9050925925925926\n",
      "for random state  16  The testing accuracy is : 0.7586206896551724\n",
      "\n",
      "\n",
      "for random state  17  The training accuracy is : 0.8958333333333334\n",
      "for random state  17  The testing accuracy is : 0.7931034482758621\n",
      "\n",
      "\n",
      "for random state  18  The training accuracy is : 0.9027777777777778\n",
      "for random state  18  The testing accuracy is : 0.7241379310344828\n",
      "\n",
      "\n",
      "for random state  19  The training accuracy is : 0.8865740740740741\n",
      "for random state  19  The testing accuracy is : 0.7724137931034483\n",
      "\n",
      "\n",
      "for random state  20  The training accuracy is : 0.9074074074074074\n",
      "for random state  20  The testing accuracy is : 0.7793103448275862\n",
      "\n",
      "\n",
      "for random state  21  The training accuracy is : 0.9189814814814815\n",
      "for random state  21  The testing accuracy is : 0.7793103448275862\n",
      "\n",
      "\n",
      "for random state  22  The training accuracy is : 0.9120370370370371\n",
      "for random state  22  The testing accuracy is : 0.7862068965517242\n",
      "\n",
      "\n",
      "for random state  23  The training accuracy is : 0.9189814814814815\n",
      "for random state  23  The testing accuracy is : 0.7655172413793103\n",
      "\n",
      "\n",
      "for random state  24  The training accuracy is : 0.8912037037037037\n",
      "for random state  24  The testing accuracy is : 0.8137931034482758\n",
      "\n",
      "\n",
      "for random state  25  The training accuracy is : 0.9143518518518519\n",
      "for random state  25  The testing accuracy is : 0.8\n",
      "\n",
      "\n",
      "for random state  26  The training accuracy is : 0.8958333333333334\n",
      "for random state  26  The testing accuracy is : 0.8137931034482758\n",
      "\n",
      "\n",
      "for random state  27  The training accuracy is : 0.9120370370370371\n",
      "for random state  27  The testing accuracy is : 0.7586206896551724\n",
      "\n",
      "\n",
      "for random state  28  The training accuracy is : 0.9143518518518519\n",
      "for random state  28  The testing accuracy is : 0.7793103448275862\n",
      "\n",
      "\n",
      "for random state  29  The training accuracy is : 0.9027777777777778\n",
      "for random state  29  The testing accuracy is : 0.7655172413793103\n",
      "\n",
      "\n",
      "for random state  30  The training accuracy is : 0.9050925925925926\n",
      "for random state  30  The testing accuracy is : 0.7862068965517242\n",
      "\n",
      "\n",
      "for random state  31  The training accuracy is : 0.9259259259259259\n",
      "for random state  31  The testing accuracy is : 0.7379310344827587\n",
      "\n",
      "\n",
      "for random state  32  The training accuracy is : 0.9097222222222222\n",
      "for random state  32  The testing accuracy is : 0.7862068965517242\n",
      "\n",
      "\n",
      "for random state  33  The training accuracy is : 0.9212962962962963\n",
      "for random state  33  The testing accuracy is : 0.8\n",
      "\n",
      "\n",
      "for random state  34  The training accuracy is : 0.9120370370370371\n",
      "for random state  34  The testing accuracy is : 0.7793103448275862\n",
      "\n",
      "\n",
      "for random state  35  The training accuracy is : 0.9027777777777778\n",
      "for random state  35  The testing accuracy is : 0.7931034482758621\n",
      "\n",
      "\n",
      "for random state  36  The training accuracy is : 0.9120370370370371\n",
      "for random state  36  The testing accuracy is : 0.8068965517241379\n",
      "\n",
      "\n",
      "for random state  37  The training accuracy is : 0.9166666666666666\n",
      "for random state  37  The testing accuracy is : 0.7793103448275862\n",
      "\n",
      "\n",
      "for random state  38  The training accuracy is : 0.9004629629629629\n",
      "for random state  38  The testing accuracy is : 0.8\n",
      "\n",
      "\n",
      "for random state  39  The training accuracy is : 0.9004629629629629\n",
      "for random state  39  The testing accuracy is : 0.8551724137931035\n",
      "\n",
      "\n",
      "for random state  40  The training accuracy is : 0.9050925925925926\n",
      "for random state  40  The testing accuracy is : 0.7655172413793103\n",
      "\n",
      "\n",
      "for random state  41  The training accuracy is : 0.9212962962962963\n",
      "for random state  41  The testing accuracy is : 0.7724137931034483\n",
      "\n",
      "\n",
      "for random state  42  The training accuracy is : 0.9074074074074074\n",
      "for random state  42  The testing accuracy is : 0.8206896551724138\n",
      "\n",
      "\n",
      "for random state  43  The training accuracy is : 0.9166666666666666\n",
      "for random state  43  The testing accuracy is : 0.7517241379310344\n",
      "\n",
      "\n",
      "for random state  44  The training accuracy is : 0.9050925925925926\n",
      "for random state  44  The testing accuracy is : 0.7793103448275862\n",
      "\n",
      "\n",
      "for random state  45  The training accuracy is : 0.9143518518518519\n",
      "for random state  45  The testing accuracy is : 0.7655172413793103\n",
      "\n",
      "\n",
      "for random state  46  The training accuracy is : 0.9074074074074074\n",
      "for random state  46  The testing accuracy is : 0.7793103448275862\n",
      "\n",
      "\n",
      "for random state  47  The training accuracy is : 0.9027777777777778\n",
      "for random state  47  The testing accuracy is : 0.7931034482758621\n",
      "\n",
      "\n",
      "for random state  48  The training accuracy is : 0.8935185185185185\n",
      "for random state  48  The testing accuracy is : 0.7862068965517242\n",
      "\n",
      "\n",
      "for random state  49  The training accuracy is : 0.9027777777777778\n",
      "for random state  49  The testing accuracy is : 0.7724137931034483\n",
      "\n",
      "\n",
      "for random state  50  The training accuracy is : 0.9074074074074074\n",
      "for random state  50  The testing accuracy is : 0.7586206896551724\n",
      "\n",
      "\n",
      "for random state  51  The training accuracy is : 0.9120370370370371\n",
      "for random state  51  The testing accuracy is : 0.7724137931034483\n",
      "\n",
      "\n",
      "for random state  52  The training accuracy is : 0.8958333333333334\n",
      "for random state  52  The testing accuracy is : 0.8344827586206897\n",
      "\n",
      "\n",
      "for random state  53  The training accuracy is : 0.9212962962962963\n",
      "for random state  53  The testing accuracy is : 0.7655172413793103\n",
      "\n",
      "\n",
      "for random state  54  The training accuracy is : 0.9097222222222222\n",
      "for random state  54  The testing accuracy is : 0.7517241379310344\n",
      "\n",
      "\n",
      "for random state  55  The training accuracy is : 0.9004629629629629\n",
      "for random state  55  The testing accuracy is : 0.8068965517241379\n",
      "\n",
      "\n",
      "for random state  56  The training accuracy is : 0.9212962962962963\n",
      "for random state  56  The testing accuracy is : 0.8137931034482758\n",
      "\n",
      "\n",
      "for random state  57  The training accuracy is : 0.9120370370370371\n",
      "for random state  57  The testing accuracy is : 0.7586206896551724\n",
      "\n",
      "\n",
      "for random state  58  The training accuracy is : 0.8981481481481481\n",
      "for random state  58  The testing accuracy is : 0.8\n",
      "\n",
      "\n",
      "for random state  59  The training accuracy is : 0.8981481481481481\n",
      "for random state  59  The testing accuracy is : 0.7931034482758621\n",
      "\n",
      "\n",
      "for random state  60  The training accuracy is : 0.9212962962962963\n",
      "for random state  60  The testing accuracy is : 0.7931034482758621\n",
      "\n",
      "\n"
     ]
    },
    {
     "name": "stdout",
     "output_type": "stream",
     "text": [
      "for random state  61  The training accuracy is : 0.9050925925925926\n",
      "for random state  61  The testing accuracy is : 0.7862068965517242\n",
      "\n",
      "\n",
      "for random state  62  The training accuracy is : 0.9074074074074074\n",
      "for random state  62  The testing accuracy is : 0.7724137931034483\n",
      "\n",
      "\n",
      "for random state  63  The training accuracy is : 0.9074074074074074\n",
      "for random state  63  The testing accuracy is : 0.7724137931034483\n",
      "\n",
      "\n",
      "for random state  64  The training accuracy is : 0.9120370370370371\n",
      "for random state  64  The testing accuracy is : 0.7724137931034483\n",
      "\n",
      "\n",
      "for random state  65  The training accuracy is : 0.9236111111111112\n",
      "for random state  65  The testing accuracy is : 0.7724137931034483\n",
      "\n",
      "\n",
      "for random state  66  The training accuracy is : 0.9097222222222222\n",
      "for random state  66  The testing accuracy is : 0.8068965517241379\n",
      "\n",
      "\n",
      "for random state  67  The training accuracy is : 0.9282407407407407\n",
      "for random state  67  The testing accuracy is : 0.7172413793103448\n",
      "\n",
      "\n",
      "for random state  68  The training accuracy is : 0.8958333333333334\n",
      "for random state  68  The testing accuracy is : 0.8413793103448276\n",
      "\n",
      "\n",
      "for random state  69  The training accuracy is : 0.9027777777777778\n",
      "for random state  69  The testing accuracy is : 0.7862068965517242\n",
      "\n",
      "\n",
      "for random state  70  The training accuracy is : 0.9120370370370371\n",
      "for random state  70  The testing accuracy is : 0.7448275862068966\n",
      "\n",
      "\n",
      "for random state  71  The training accuracy is : 0.8842592592592593\n",
      "for random state  71  The testing accuracy is : 0.8482758620689655\n",
      "\n",
      "\n",
      "for random state  72  The training accuracy is : 0.9074074074074074\n",
      "for random state  72  The testing accuracy is : 0.8\n",
      "\n",
      "\n",
      "for random state  73  The training accuracy is : 0.9027777777777778\n",
      "for random state  73  The testing accuracy is : 0.7586206896551724\n",
      "\n",
      "\n",
      "for random state  74  The training accuracy is : 0.9027777777777778\n",
      "for random state  74  The testing accuracy is : 0.7655172413793103\n",
      "\n",
      "\n",
      "for random state  75  The training accuracy is : 0.9050925925925926\n",
      "for random state  75  The testing accuracy is : 0.7517241379310344\n",
      "\n",
      "\n",
      "for random state  76  The training accuracy is : 0.8981481481481481\n",
      "for random state  76  The testing accuracy is : 0.7724137931034483\n",
      "\n",
      "\n",
      "for random state  77  The training accuracy is : 0.9027777777777778\n",
      "for random state  77  The testing accuracy is : 0.7793103448275862\n",
      "\n",
      "\n",
      "for random state  78  The training accuracy is : 0.9212962962962963\n",
      "for random state  78  The testing accuracy is : 0.8137931034482758\n",
      "\n",
      "\n",
      "for random state  79  The training accuracy is : 0.9050925925925926\n",
      "for random state  79  The testing accuracy is : 0.8206896551724138\n",
      "\n",
      "\n",
      "for random state  80  The training accuracy is : 0.9120370370370371\n",
      "for random state  80  The testing accuracy is : 0.7310344827586207\n",
      "\n",
      "\n",
      "for random state  81  The training accuracy is : 0.9212962962962963\n",
      "for random state  81  The testing accuracy is : 0.7448275862068966\n",
      "\n",
      "\n",
      "for random state  82  The training accuracy is : 0.8865740740740741\n",
      "for random state  82  The testing accuracy is : 0.8482758620689655\n",
      "\n",
      "\n",
      "for random state  83  The training accuracy is : 0.8958333333333334\n",
      "for random state  83  The testing accuracy is : 0.8206896551724138\n",
      "\n",
      "\n",
      "for random state  84  The training accuracy is : 0.9074074074074074\n",
      "for random state  84  The testing accuracy is : 0.8413793103448276\n",
      "\n",
      "\n",
      "for random state  85  The training accuracy is : 0.9282407407407407\n",
      "for random state  85  The testing accuracy is : 0.7862068965517242\n",
      "\n",
      "\n",
      "for random state  86  The training accuracy is : 0.8912037037037037\n",
      "for random state  86  The testing accuracy is : 0.8482758620689655\n",
      "\n",
      "\n",
      "for random state  87  The training accuracy is : 0.8981481481481481\n",
      "for random state  87  The testing accuracy is : 0.7793103448275862\n",
      "\n",
      "\n",
      "for random state  88  The training accuracy is : 0.9097222222222222\n",
      "for random state  88  The testing accuracy is : 0.8\n",
      "\n",
      "\n",
      "for random state  89  The training accuracy is : 0.9074074074074074\n",
      "for random state  89  The testing accuracy is : 0.7241379310344828\n",
      "\n",
      "\n",
      "for random state  90  The training accuracy is : 0.8888888888888888\n",
      "for random state  90  The testing accuracy is : 0.7931034482758621\n",
      "\n",
      "\n",
      "for random state  91  The training accuracy is : 0.8865740740740741\n",
      "for random state  91  The testing accuracy is : 0.8206896551724138\n",
      "\n",
      "\n",
      "for random state  92  The training accuracy is : 0.9305555555555556\n",
      "for random state  92  The testing accuracy is : 0.7586206896551724\n",
      "\n",
      "\n",
      "for random state  93  The training accuracy is : 0.8935185185185185\n",
      "for random state  93  The testing accuracy is : 0.8620689655172413\n",
      "\n",
      "\n",
      "for random state  94  The training accuracy is : 0.9097222222222222\n",
      "for random state  94  The testing accuracy is : 0.8\n",
      "\n",
      "\n",
      "for random state  95  The training accuracy is : 0.9027777777777778\n",
      "for random state  95  The testing accuracy is : 0.8275862068965517\n",
      "\n",
      "\n",
      "for random state  96  The training accuracy is : 0.9097222222222222\n",
      "for random state  96  The testing accuracy is : 0.8275862068965517\n",
      "\n",
      "\n",
      "for random state  97  The training accuracy is : 0.9027777777777778\n",
      "for random state  97  The testing accuracy is : 0.8137931034482758\n",
      "\n",
      "\n",
      "for random state  98  The training accuracy is : 0.8912037037037037\n",
      "for random state  98  The testing accuracy is : 0.8137931034482758\n",
      "\n",
      "\n",
      "for random state  99  The training accuracy is : 0.8958333333333334\n",
      "for random state  99  The testing accuracy is : 0.7655172413793103\n",
      "\n",
      "\n",
      "for random state  100  The training accuracy is : 0.9004629629629629\n",
      "for random state  100  The testing accuracy is : 0.7931034482758621\n",
      "\n",
      "\n"
     ]
    }
   ],
   "source": [
    "for i in range(0,101):\n",
    "    \n",
    "    X_train, X_test, y_train, y_test = train_test_split(X, y, test_size=0.25, random_state=i)\n",
    "    mod_8 = GradientBoostingClassifier() \n",
    "    mod_8.fit(X_train,y_train)\n",
    "    train_score_8 = mod_8.score(X_train,y_train)\n",
    "    pred_8 = mod_8.predict(X_test)\n",
    "    test_score_8 = accuracy_score(y_test,pred_8)\n",
    "    \n",
    "    print(\"for random state \",i,\" The training accuracy is :\",train_score_8)\n",
    "    print(\"for random state \",i,\" The testing accuracy is :\",test_score_8)\n",
    "    print(\"\\n\")"
   ]
  },
  {
   "cell_type": "code",
   "execution_count": 185,
   "metadata": {},
   "outputs": [
    {
     "name": "stdout",
     "output_type": "stream",
     "text": [
      "The training accuracy is : 0.8958333333333334\n",
      "The testing accuracy is : 0.8344827586206897\n",
      "\n",
      "\n"
     ]
    }
   ],
   "source": [
    "# Taking 52 as the best random state\n",
    "X_train, X_test, y_train, y_test = train_test_split(X, y, test_size=0.25, random_state=52)\n",
    "mod_8 = GradientBoostingClassifier() \n",
    "mod_8.fit(X_train,y_train)\n",
    "train_score_8 = mod_8.score(X_train,y_train)\n",
    "pred_8 = mod_8.predict(X_test)\n",
    "test_score_8 = accuracy_score(y_test,pred_8)\n",
    "    \n",
    "print(\"The training accuracy is :\",train_score_8)\n",
    "print(\"The testing accuracy is :\",test_score_8)\n",
    "print(\"\\n\")"
   ]
  },
  {
   "cell_type": "code",
   "execution_count": 186,
   "metadata": {},
   "outputs": [
    {
     "name": "stdout",
     "output_type": "stream",
     "text": [
      "[[23 19]\n",
      " [ 5 98]]\n",
      "\n",
      "\n",
      "              precision    recall  f1-score   support\n",
      "\n",
      "           0       0.82      0.55      0.66        42\n",
      "           1       0.84      0.95      0.89       103\n",
      "\n",
      "    accuracy                           0.83       145\n",
      "   macro avg       0.83      0.75      0.77       145\n",
      "weighted avg       0.83      0.83      0.82       145\n",
      "\n",
      "\n",
      "\n"
     ]
    }
   ],
   "source": [
    "print(confusion_matrix(y_test,pred_8))\n",
    "print(\"\\n\")\n",
    "print(classification_report(y_test,pred_8))\n",
    "print(\"\\n\")"
   ]
  },
  {
   "cell_type": "markdown",
   "metadata": {},
   "source": [
    "## Stratified Cross Validation"
   ]
  },
  {
   "cell_type": "code",
   "execution_count": 187,
   "metadata": {},
   "outputs": [],
   "source": [
    "kfold = StratifiedKFold(n_splits=10)\n",
    "\n",
    "K_results = cross_val_score(mod_8,X,y,cv=kfold)\n",
    "\n",
    "kfold_accuracy_GB = np.mean(abs(K_results))"
   ]
  },
  {
   "cell_type": "code",
   "execution_count": 188,
   "metadata": {},
   "outputs": [
    {
     "data": {
      "text/plain": [
       "0.7834240774349668"
      ]
     },
     "execution_count": 188,
     "metadata": {},
     "output_type": "execute_result"
    }
   ],
   "source": [
    "kfold_accuracy_GB"
   ]
  },
  {
   "cell_type": "code",
   "execution_count": 189,
   "metadata": {},
   "outputs": [],
   "source": [
    "score = {\"Algorithm\":[\"Logistic Regression\",\"Naive Bayes\",\"Random Forest Classi\",\n",
    "                     \"Decision Tree\",\"ADA Boost\",\"K Means\",\"Gredient Boosting\"],\n",
    "         \"Training_Acc\":[train_score_1,train_score_2,train_score_3,\n",
    "                        train_score_4,train_score_6,train_score_7,\n",
    "                        train_score_8],\n",
    "        \"Accuracy\":[test_score_1,test_score_2,test_score_3,\n",
    "                   test_score_4,test_score_6,test_score_7,\n",
    "                   test_score_8],\n",
    "        \"Cross_validation\":[kfold_accuracy_LR,kfold_accuracy_NB,\n",
    "                           kfold_accuracy_RFR,kfold_accuracy_DT,\n",
    "                           kfold_accuracy_ADA,kfold_accuracy_KNC,\n",
    "                           kfold_accuracy_GB]}\n",
    "\n",
    "final_card = pd.DataFrame(score)"
   ]
  },
  {
   "cell_type": "code",
   "execution_count": 190,
   "metadata": {},
   "outputs": [
    {
     "data": {
      "text/html": [
       "<div>\n",
       "<style scoped>\n",
       "    .dataframe tbody tr th:only-of-type {\n",
       "        vertical-align: middle;\n",
       "    }\n",
       "\n",
       "    .dataframe tbody tr th {\n",
       "        vertical-align: top;\n",
       "    }\n",
       "\n",
       "    .dataframe thead th {\n",
       "        text-align: right;\n",
       "    }\n",
       "</style>\n",
       "<table border=\"1\" class=\"dataframe\">\n",
       "  <thead>\n",
       "    <tr style=\"text-align: right;\">\n",
       "      <th></th>\n",
       "      <th>Algorithm</th>\n",
       "      <th>Training_Acc</th>\n",
       "      <th>Accuracy</th>\n",
       "      <th>Cross_validation</th>\n",
       "    </tr>\n",
       "  </thead>\n",
       "  <tbody>\n",
       "    <tr>\n",
       "      <th>0</th>\n",
       "      <td>Logistic Regression</td>\n",
       "      <td>0.819444</td>\n",
       "      <td>0.827586</td>\n",
       "      <td>0.816394</td>\n",
       "    </tr>\n",
       "    <tr>\n",
       "      <th>1</th>\n",
       "      <td>Naive Bayes</td>\n",
       "      <td>0.814815</td>\n",
       "      <td>0.820690</td>\n",
       "      <td>0.809407</td>\n",
       "    </tr>\n",
       "    <tr>\n",
       "      <th>2</th>\n",
       "      <td>Random Forest Classi</td>\n",
       "      <td>1.000000</td>\n",
       "      <td>0.862069</td>\n",
       "      <td>0.788627</td>\n",
       "    </tr>\n",
       "    <tr>\n",
       "      <th>3</th>\n",
       "      <td>Decision Tree</td>\n",
       "      <td>1.000000</td>\n",
       "      <td>0.786207</td>\n",
       "      <td>0.743618</td>\n",
       "    </tr>\n",
       "    <tr>\n",
       "      <th>4</th>\n",
       "      <td>ADA Boost</td>\n",
       "      <td>0.844907</td>\n",
       "      <td>0.841379</td>\n",
       "      <td>0.787054</td>\n",
       "    </tr>\n",
       "    <tr>\n",
       "      <th>5</th>\n",
       "      <td>K Means</td>\n",
       "      <td>0.793981</td>\n",
       "      <td>0.793103</td>\n",
       "      <td>0.750544</td>\n",
       "    </tr>\n",
       "    <tr>\n",
       "      <th>6</th>\n",
       "      <td>Gredient Boosting</td>\n",
       "      <td>0.895833</td>\n",
       "      <td>0.834483</td>\n",
       "      <td>0.783424</td>\n",
       "    </tr>\n",
       "  </tbody>\n",
       "</table>\n",
       "</div>"
      ],
      "text/plain": [
       "              Algorithm  Training_Acc  Accuracy  Cross_validation\n",
       "0   Logistic Regression      0.819444  0.827586          0.816394\n",
       "1           Naive Bayes      0.814815  0.820690          0.809407\n",
       "2  Random Forest Classi      1.000000  0.862069          0.788627\n",
       "3         Decision Tree      1.000000  0.786207          0.743618\n",
       "4             ADA Boost      0.844907  0.841379          0.787054\n",
       "5               K Means      0.793981  0.793103          0.750544\n",
       "6     Gredient Boosting      0.895833  0.834483          0.783424"
      ]
     },
     "execution_count": 190,
     "metadata": {},
     "output_type": "execute_result"
    }
   ],
   "source": [
    "final_card"
   ]
  },
  {
   "cell_type": "code",
   "execution_count": 191,
   "metadata": {},
   "outputs": [
    {
     "data": {
      "image/png": "[encoded data removed]",
      "text/plain": [
       "<Figure size 432x288 with 1 Axes>"
      ]
     },
     "metadata": {},
     "output_type": "display_data"
    }
   ],
   "source": [
    "# Algorithm performance\n",
    "sns.set(style=\"whitegrid\")\n",
    "ax = sns.barplot(y=\"Algorithm\",x=\"Cross_validation\",data=final_card)"
   ]
  },
  {
   "cell_type": "markdown",
   "metadata": {},
   "source": [
    "### Logistic Regression Has the best performance"
   ]
  },
  {
   "cell_type": "markdown",
   "metadata": {},
   "source": [
    "### Hyperparametric Tuning"
   ]
  },
  {
   "cell_type": "markdown",
   "metadata": {},
   "source": [
    "#### Grid Search Cv"
   ]
  },
  {
   "cell_type": "code",
   "execution_count": 193,
   "metadata": {},
   "outputs": [],
   "source": [
    "from sklearn.model_selection import GridSearchCV"
   ]
  },
  {
   "cell_type": "code",
   "execution_count": 194,
   "metadata": {},
   "outputs": [],
   "source": [
    "penalty = [\"l1\",\"l2\",\"elasticnet\"]\n",
    "solver = [\"newton-cg\",\"lbfgs\",\"liblinear\",\"sag\",\"saga\"]\n",
    "C = [100, 10, 1.0, 0.1, 0.01]\n",
    "multi_class = [\"auto\",\"ovr\",\"multinomial\"]\n",
    "dual=[True,False]\n",
    "fit_intercept=[True,False]"
   ]
  },
  {
   "cell_type": "code",
   "execution_count": 195,
   "metadata": {},
   "outputs": [],
   "source": [
    "penalty = [\"l1\",\"l2\",\"elasticnet\"]\n",
    "solver = [\"newton-cg\",\"lbfgs\",\"liblinear\",\"sag\",\"saga\"]\n",
    "C = [100, 10, 1.0, 0.1, 0.01]\n",
    "multi_class = [\"auto\",\"ovr\",\"multinomial\"]"
   ]
  },
  {
   "cell_type": "code",
   "execution_count": 196,
   "metadata": {},
   "outputs": [],
   "source": [
    "parameters = {\n",
    "    \"penalty\":penalty,\n",
    "    \"solver\":solver,\n",
    "    \"C\":C,\n",
    "    \"multi_class\":multi_class\n",
    "   }"
   ]
  },
  {
   "cell_type": "code",
   "execution_count": 197,
   "metadata": {},
   "outputs": [
    {
     "name": "stdout",
     "output_type": "stream",
     "text": [
      "{'penalty': ['l1', 'l2', 'elasticnet'], 'solver': ['newton-cg', 'lbfgs', 'liblinear', 'sag', 'saga'], 'C': [100, 10, 1.0, 0.1, 0.01], 'multi_class': ['auto', 'ovr', 'multinomial']}\n"
     ]
    }
   ],
   "source": [
    "print(parameters)"
   ]
  },
  {
   "cell_type": "code",
   "execution_count": 198,
   "metadata": {},
   "outputs": [],
   "source": [
    "lr = LogisticRegression()"
   ]
  },
  {
   "cell_type": "code",
   "execution_count": 199,
   "metadata": {},
   "outputs": [],
   "source": [
    "grid_search=GridSearchCV(estimator=lr,param_grid=parameters,cv=3,n_jobs=-1,verbose=2)"
   ]
  },
  {
   "cell_type": "code",
   "execution_count": 200,
   "metadata": {},
   "outputs": [
    {
     "name": "stdout",
     "output_type": "stream",
     "text": [
      "Fitting 3 folds for each of 225 candidates, totalling 675 fits\n"
     ]
    },
    {
     "name": "stderr",
     "output_type": "stream",
     "text": [
      "[Parallel(n_jobs=-1)]: Using backend LokyBackend with 8 concurrent workers.\n",
      "[Parallel(n_jobs=-1)]: Done  25 tasks      | elapsed:    4.8s\n",
      "[Parallel(n_jobs=-1)]: Done 675 out of 675 | elapsed:    7.2s finished\n"
     ]
    },
    {
     "data": {
      "text/plain": [
       "GridSearchCV(cv=3, estimator=LogisticRegression(), n_jobs=-1,\n",
       "             param_grid={'C': [100, 10, 1.0, 0.1, 0.01],\n",
       "                         'multi_class': ['auto', 'ovr', 'multinomial'],\n",
       "                         'penalty': ['l1', 'l2', 'elasticnet'],\n",
       "                         'solver': ['newton-cg', 'lbfgs', 'liblinear', 'sag',\n",
       "                                    'saga']},\n",
       "             verbose=2)"
      ]
     },
     "execution_count": 200,
     "metadata": {},
     "output_type": "execute_result"
    }
   ],
   "source": [
    "grid_search.fit(X_train,y_train)"
   ]
  },
  {
   "cell_type": "markdown",
   "metadata": {},
   "source": [
    "#### Best Estimators"
   ]
  },
  {
   "cell_type": "code",
   "execution_count": 201,
   "metadata": {},
   "outputs": [
    {
     "data": {
      "text/plain": [
       "LogisticRegression(penalty='l1', solver='liblinear')"
      ]
     },
     "execution_count": 201,
     "metadata": {},
     "output_type": "execute_result"
    }
   ],
   "source": [
    "grid_search.best_estimator_"
   ]
  },
  {
   "cell_type": "markdown",
   "metadata": {},
   "source": [
    "#### Best Parameters"
   ]
  },
  {
   "cell_type": "code",
   "execution_count": 202,
   "metadata": {},
   "outputs": [
    {
     "data": {
      "text/plain": [
       "{'C': 1.0, 'multi_class': 'auto', 'penalty': 'l1', 'solver': 'liblinear'}"
      ]
     },
     "execution_count": 202,
     "metadata": {},
     "output_type": "execute_result"
    }
   ],
   "source": [
    "grid_search.best_params_"
   ]
  },
  {
   "cell_type": "markdown",
   "metadata": {},
   "source": [
    "#### Best Score"
   ]
  },
  {
   "cell_type": "code",
   "execution_count": 203,
   "metadata": {},
   "outputs": [
    {
     "data": {
      "text/plain": [
       "0.8032407407407408"
      ]
     },
     "execution_count": 203,
     "metadata": {},
     "output_type": "execute_result"
    }
   ],
   "source": [
    "grid_search.best_score_"
   ]
  },
  {
   "cell_type": "code",
   "execution_count": 204,
   "metadata": {},
   "outputs": [],
   "source": [
    "predictions = grid_search.predict(X_test)"
   ]
  },
  {
   "cell_type": "markdown",
   "metadata": {},
   "source": [
    "#### Confusion Matrix"
   ]
  },
  {
   "cell_type": "code",
   "execution_count": 205,
   "metadata": {},
   "outputs": [
    {
     "name": "stdout",
     "output_type": "stream",
     "text": [
      "[[ 22  20]\n",
      " [  0 103]]\n",
      "\n",
      "\n"
     ]
    }
   ],
   "source": [
    "print(confusion_matrix(y_test,predictions))\n",
    "print(\"\\n\")"
   ]
  },
  {
   "cell_type": "markdown",
   "metadata": {},
   "source": [
    "#### Classification Report"
   ]
  },
  {
   "cell_type": "code",
   "execution_count": 206,
   "metadata": {},
   "outputs": [
    {
     "name": "stdout",
     "output_type": "stream",
     "text": [
      "              precision    recall  f1-score   support\n",
      "\n",
      "           0       1.00      0.52      0.69        42\n",
      "           1       0.84      1.00      0.91       103\n",
      "\n",
      "    accuracy                           0.86       145\n",
      "   macro avg       0.92      0.76      0.80       145\n",
      "weighted avg       0.88      0.86      0.85       145\n",
      "\n",
      "\n",
      "\n"
     ]
    }
   ],
   "source": [
    "print(classification_report(y_test,predictions))\n",
    "print(\"\\n\")"
   ]
  },
  {
   "cell_type": "code",
   "execution_count": 207,
   "metadata": {},
   "outputs": [
    {
     "data": {
      "text/plain": [
       "GridSearchCV(cv=3, estimator=LogisticRegression(), n_jobs=-1,\n",
       "             param_grid={'C': [100, 10, 1.0, 0.1, 0.01],\n",
       "                         'multi_class': ['auto', 'ovr', 'multinomial'],\n",
       "                         'penalty': ['l1', 'l2', 'elasticnet'],\n",
       "                         'solver': ['newton-cg', 'lbfgs', 'liblinear', 'sag',\n",
       "                                    'saga']},\n",
       "             verbose=2)"
      ]
     },
     "execution_count": 207,
     "metadata": {},
     "output_type": "execute_result"
    }
   ],
   "source": [
    "grid_search"
   ]
  },
  {
   "cell_type": "markdown",
   "metadata": {},
   "source": [
    "#### ROC AUC CURVE"
   ]
  },
  {
   "cell_type": "code",
   "execution_count": 208,
   "metadata": {},
   "outputs": [],
   "source": [
    "from sklearn.metrics import roc_curve,roc_auc_score"
   ]
  },
  {
   "cell_type": "code",
   "execution_count": 209,
   "metadata": {},
   "outputs": [],
   "source": [
    "y_pred_prob = grid_search.predict_proba(X_test)[:,1]"
   ]
  },
  {
   "cell_type": "code",
   "execution_count": 210,
   "metadata": {},
   "outputs": [],
   "source": [
    "fpr,tpr,thresholds = roc_curve(y_test,y_pred_prob)"
   ]
  },
  {
   "cell_type": "code",
   "execution_count": 211,
   "metadata": {},
   "outputs": [
    {
     "data": {
      "text/plain": [
       "array([0.        , 0.        , 0.        , 0.02380952, 0.02380952,\n",
       "       0.04761905, 0.04761905, 0.07142857, 0.07142857, 0.0952381 ,\n",
       "       0.0952381 , 0.11904762, 0.11904762, 0.14285714, 0.14285714,\n",
       "       0.16666667, 0.16666667, 0.19047619, 0.19047619, 0.21428571,\n",
       "       0.21428571, 0.23809524, 0.23809524, 0.26190476, 0.26190476,\n",
       "       0.30952381, 0.30952381, 0.33333333, 0.33333333, 0.35714286,\n",
       "       0.35714286, 0.38095238, 0.38095238, 0.47619048, 0.47619048,\n",
       "       1.        ])"
      ]
     },
     "execution_count": 211,
     "metadata": {},
     "output_type": "execute_result"
    }
   ],
   "source": [
    "fpr"
   ]
  },
  {
   "cell_type": "code",
   "execution_count": 212,
   "metadata": {},
   "outputs": [
    {
     "data": {
      "text/plain": [
       "array([0.        , 0.00970874, 0.23300971, 0.23300971, 0.2815534 ,\n",
       "       0.2815534 , 0.33009709, 0.33009709, 0.34951456, 0.34951456,\n",
       "       0.44660194, 0.44660194, 0.46601942, 0.46601942, 0.49514563,\n",
       "       0.49514563, 0.51456311, 0.51456311, 0.68932039, 0.68932039,\n",
       "       0.69902913, 0.69902913, 0.72815534, 0.72815534, 0.88349515,\n",
       "       0.88349515, 0.89320388, 0.89320388, 0.90291262, 0.90291262,\n",
       "       0.91262136, 0.91262136, 0.95145631, 0.95145631, 1.        ,\n",
       "       1.        ])"
      ]
     },
     "execution_count": 212,
     "metadata": {},
     "output_type": "execute_result"
    }
   ],
   "source": [
    "tpr"
   ]
  },
  {
   "cell_type": "code",
   "execution_count": 213,
   "metadata": {},
   "outputs": [
    {
     "data": {
      "text/plain": [
       "array([1.90602046, 0.90602046, 0.84187624, 0.84109224, 0.83196079,\n",
       "       0.8291232 , 0.81879435, 0.81854137, 0.81303351, 0.8122132 ,\n",
       "       0.80026779, 0.79916587, 0.79819139, 0.79717252, 0.79649502,\n",
       "       0.79621638, 0.79015593, 0.78930761, 0.74556061, 0.74322626,\n",
       "       0.74077595, 0.73630477, 0.73007838, 0.72985724, 0.70609285,\n",
       "       0.69498834, 0.69349354, 0.68969874, 0.68919393, 0.68731091,\n",
       "       0.68391383, 0.68312114, 0.65235559, 0.62345071, 0.59454923,\n",
       "       0.0565171 ])"
      ]
     },
     "execution_count": 213,
     "metadata": {},
     "output_type": "execute_result"
    }
   ],
   "source": [
    "thresholds"
   ]
  },
  {
   "cell_type": "code",
   "execution_count": 214,
   "metadata": {},
   "outputs": [
    {
     "data": {
      "text/plain": [
       "Text(0.5, 1.0, 'Logistic Regression Algorithm')"
      ]
     },
     "execution_count": 214,
     "metadata": {},
     "output_type": "execute_result"
    },
    {
     "data": {
      "image/png": "[encoded data removed]",
      "text/plain": [
       "<Figure size 432x288 with 1 Axes>"
      ]
     },
     "metadata": {},
     "output_type": "display_data"
    }
   ],
   "source": [
    "plt.plot([0,1],[0,1],'k--')\n",
    "plt.plot(fpr,tpr,label=\"Logistic Regression\")\n",
    "plt.xlabel('False Positive Rate')\n",
    "plt.ylabel('True Positive Rate')\n",
    "plt.title('Logistic Regression Algorithm')"
   ]
  },
  {
   "cell_type": "markdown",
   "metadata": {},
   "source": [
    "#### Whith the help of ROC,AUC curve we can say that the model is performing good"
   ]
  },
  {
   "cell_type": "markdown",
   "metadata": {},
   "source": [
    "## Saving the model using Pickle"
   ]
  },
  {
   "cell_type": "code",
   "execution_count": 215,
   "metadata": {},
   "outputs": [],
   "source": [
    "import pickle"
   ]
  },
  {
   "cell_type": "code",
   "execution_count": 216,
   "metadata": {},
   "outputs": [],
   "source": [
    "with open(\"model_pickle\",\"wb\") as f:\n",
    "    \n",
    "    pickle.dump(grid_search,f)"
   ]
  },
  {
   "cell_type": "code",
   "execution_count": 217,
   "metadata": {},
   "outputs": [],
   "source": [
    "with open(\"model_pickle\",\"rb\") as f:\n",
    "    \n",
    "    loan = pickle.load(f)"
   ]
  },
  {
   "cell_type": "markdown",
   "metadata": {},
   "source": [
    "## Conclusion"
   ]
  },
  {
   "cell_type": "markdown",
   "metadata": {},
   "source": [
    "#### Using the model to predict a single value"
   ]
  },
  {
   "cell_type": "code",
   "execution_count": 218,
   "metadata": {},
   "outputs": [
    {
     "data": {
      "text/html": [
       "<div>\n",
       "<style scoped>\n",
       "    .dataframe tbody tr th:only-of-type {\n",
       "        vertical-align: middle;\n",
       "    }\n",
       "\n",
       "    .dataframe tbody tr th {\n",
       "        vertical-align: top;\n",
       "    }\n",
       "\n",
       "    .dataframe thead th {\n",
       "        text-align: right;\n",
       "    }\n",
       "</style>\n",
       "<table border=\"1\" class=\"dataframe\">\n",
       "  <thead>\n",
       "    <tr style=\"text-align: right;\">\n",
       "      <th></th>\n",
       "      <th>ApplicantIncome</th>\n",
       "      <th>CoapplicantIncome</th>\n",
       "      <th>LoanAmount</th>\n",
       "      <th>Loan_Amount_Term</th>\n",
       "      <th>Credit_History</th>\n",
       "      <th>Loan_Status</th>\n",
       "      <th>Gender_Male</th>\n",
       "      <th>Married_Yes</th>\n",
       "      <th>Dependents_1</th>\n",
       "      <th>Dependents_2</th>\n",
       "      <th>Dependents_3+</th>\n",
       "      <th>Education_Not Graduate</th>\n",
       "      <th>Self_Employed_Yes</th>\n",
       "      <th>Property_Area_Semiurban</th>\n",
       "      <th>Property_Area_Urban</th>\n",
       "    </tr>\n",
       "  </thead>\n",
       "  <tbody>\n",
       "    <tr>\n",
       "      <th>0</th>\n",
       "      <td>8.674197</td>\n",
       "      <td>0.000000</td>\n",
       "      <td>4.859812</td>\n",
       "      <td>360.0</td>\n",
       "      <td>1.0</td>\n",
       "      <td>1</td>\n",
       "      <td>1</td>\n",
       "      <td>0</td>\n",
       "      <td>0</td>\n",
       "      <td>0</td>\n",
       "      <td>0</td>\n",
       "      <td>0</td>\n",
       "      <td>0</td>\n",
       "      <td>0</td>\n",
       "      <td>1</td>\n",
       "    </tr>\n",
       "    <tr>\n",
       "      <th>1</th>\n",
       "      <td>8.430327</td>\n",
       "      <td>7.319202</td>\n",
       "      <td>4.859812</td>\n",
       "      <td>360.0</td>\n",
       "      <td>1.0</td>\n",
       "      <td>0</td>\n",
       "      <td>1</td>\n",
       "      <td>1</td>\n",
       "      <td>1</td>\n",
       "      <td>0</td>\n",
       "      <td>0</td>\n",
       "      <td>0</td>\n",
       "      <td>0</td>\n",
       "      <td>0</td>\n",
       "      <td>0</td>\n",
       "    </tr>\n",
       "    <tr>\n",
       "      <th>2</th>\n",
       "      <td>8.006701</td>\n",
       "      <td>0.000000</td>\n",
       "      <td>4.204693</td>\n",
       "      <td>360.0</td>\n",
       "      <td>1.0</td>\n",
       "      <td>1</td>\n",
       "      <td>1</td>\n",
       "      <td>1</td>\n",
       "      <td>0</td>\n",
       "      <td>0</td>\n",
       "      <td>0</td>\n",
       "      <td>0</td>\n",
       "      <td>1</td>\n",
       "      <td>0</td>\n",
       "      <td>1</td>\n",
       "    </tr>\n",
       "    <tr>\n",
       "      <th>3</th>\n",
       "      <td>7.857094</td>\n",
       "      <td>7.765993</td>\n",
       "      <td>4.795791</td>\n",
       "      <td>360.0</td>\n",
       "      <td>1.0</td>\n",
       "      <td>1</td>\n",
       "      <td>1</td>\n",
       "      <td>1</td>\n",
       "      <td>0</td>\n",
       "      <td>0</td>\n",
       "      <td>0</td>\n",
       "      <td>1</td>\n",
       "      <td>0</td>\n",
       "      <td>0</td>\n",
       "      <td>1</td>\n",
       "    </tr>\n",
       "    <tr>\n",
       "      <th>4</th>\n",
       "      <td>8.699681</td>\n",
       "      <td>0.000000</td>\n",
       "      <td>4.955827</td>\n",
       "      <td>360.0</td>\n",
       "      <td>1.0</td>\n",
       "      <td>1</td>\n",
       "      <td>1</td>\n",
       "      <td>0</td>\n",
       "      <td>0</td>\n",
       "      <td>0</td>\n",
       "      <td>0</td>\n",
       "      <td>0</td>\n",
       "      <td>0</td>\n",
       "      <td>0</td>\n",
       "      <td>1</td>\n",
       "    </tr>\n",
       "  </tbody>\n",
       "</table>\n",
       "</div>"
      ],
      "text/plain": [
       "   ApplicantIncome  CoapplicantIncome  LoanAmount  Loan_Amount_Term  \\\n",
       "0         8.674197           0.000000    4.859812             360.0   \n",
       "1         8.430327           7.319202    4.859812             360.0   \n",
       "2         8.006701           0.000000    4.204693             360.0   \n",
       "3         7.857094           7.765993    4.795791             360.0   \n",
       "4         8.699681           0.000000    4.955827             360.0   \n",
       "\n",
       "   Credit_History  Loan_Status  Gender_Male  Married_Yes  Dependents_1  \\\n",
       "0             1.0            1            1            0             0   \n",
       "1             1.0            0            1            1             1   \n",
       "2             1.0            1            1            1             0   \n",
       "3             1.0            1            1            1             0   \n",
       "4             1.0            1            1            0             0   \n",
       "\n",
       "   Dependents_2  Dependents_3+  Education_Not Graduate  Self_Employed_Yes  \\\n",
       "0             0              0                       0                  0   \n",
       "1             0              0                       0                  0   \n",
       "2             0              0                       0                  1   \n",
       "3             0              0                       1                  0   \n",
       "4             0              0                       0                  0   \n",
       "\n",
       "   Property_Area_Semiurban  Property_Area_Urban  \n",
       "0                        0                    1  \n",
       "1                        0                    0  \n",
       "2                        0                    1  \n",
       "3                        0                    1  \n",
       "4                        0                    1  "
      ]
     },
     "execution_count": 218,
     "metadata": {},
     "output_type": "execute_result"
    }
   ],
   "source": [
    "df.head()"
   ]
  },
  {
   "cell_type": "markdown",
   "metadata": {},
   "source": [
    "#### The model needs to predict 1 i.e the loan status approved\n",
    "#### for this inputs"
   ]
  },
  {
   "cell_type": "code",
   "execution_count": 219,
   "metadata": {},
   "outputs": [
    {
     "data": {
      "text/plain": [
       "array([  8.67419694,   0.        ,   4.8598124 , 360.        ,\n",
       "         1.        ,   1.        ,   1.        ,   0.        ,\n",
       "         0.        ,   0.        ,   0.        ,   0.        ,\n",
       "         0.        ,   0.        ,   1.        ])"
      ]
     },
     "execution_count": 219,
     "metadata": {},
     "output_type": "execute_result"
    }
   ],
   "source": [
    "df.iloc[0,0:].values"
   ]
  },
  {
   "cell_type": "code",
   "execution_count": 220,
   "metadata": {},
   "outputs": [
    {
     "data": {
      "text/plain": [
       "array([1], dtype=int64)"
      ]
     },
     "execution_count": 220,
     "metadata": {},
     "output_type": "execute_result"
    }
   ],
   "source": [
    "loan.predict(sc.transform([[8.67419694,   0.        ,   4.8598124 , 360.        ,\n",
    "         1.        ,   1.        ,   0.        ,\n",
    "         0.        ,   0.        ,   0.        ,   0.        ,\n",
    "         0.        ,   0.        ,   1.]]))"
   ]
  },
  {
   "cell_type": "markdown",
   "metadata": {},
   "source": [
    "### The model predicted right for this individual value"
   ]
  },
  {
   "cell_type": "code",
   "execution_count": 221,
   "metadata": {},
   "outputs": [],
   "source": [
    "cm = confusion_matrix(y_test,predictions)"
   ]
  },
  {
   "cell_type": "code",
   "execution_count": 222,
   "metadata": {},
   "outputs": [
    {
     "data": {
      "text/plain": [
       "<AxesSubplot:>"
      ]
     },
     "execution_count": 222,
     "metadata": {},
     "output_type": "execute_result"
    },
    {
     "data": {
      "image/png": "[encoded data removed]",
      "text/plain": [
       "<Figure size 432x288 with 2 Axes>"
      ]
     },
     "metadata": {},
     "output_type": "display_data"
    }
   ],
   "source": [
    "sns.heatmap(data=cm,annot=True)"
   ]
  },
  {
   "cell_type": "code",
   "execution_count": 223,
   "metadata": {},
   "outputs": [
    {
     "name": "stdout",
     "output_type": "stream",
     "text": [
      "[[1 0]\n",
      " [1 1]\n",
      " [0 0]\n",
      " [1 1]\n",
      " [1 1]\n",
      " [1 1]\n",
      " [1 1]\n",
      " [1 1]\n",
      " [0 0]\n",
      " [1 1]\n",
      " [1 1]\n",
      " [1 1]\n",
      " [0 0]\n",
      " [1 1]\n",
      " [1 1]\n",
      " [1 0]\n",
      " [1 0]\n",
      " [1 1]\n",
      " [1 1]\n",
      " [1 1]\n",
      " [1 1]\n",
      " [1 1]\n",
      " [1 1]\n",
      " [1 1]\n",
      " [1 1]\n",
      " [0 0]\n",
      " [1 1]\n",
      " [1 0]\n",
      " [1 1]\n",
      " [0 0]\n",
      " [1 1]\n",
      " [0 0]\n",
      " [1 1]\n",
      " [0 0]\n",
      " [1 1]\n",
      " [1 1]\n",
      " [1 1]\n",
      " [1 1]\n",
      " [1 1]\n",
      " [0 0]\n",
      " [1 0]\n",
      " [1 1]\n",
      " [1 0]\n",
      " [1 1]\n",
      " [1 1]\n",
      " [0 0]\n",
      " [1 1]\n",
      " [1 1]\n",
      " [1 1]\n",
      " [1 0]\n",
      " [1 0]\n",
      " [1 1]\n",
      " [1 0]\n",
      " [1 0]\n",
      " [1 1]\n",
      " [1 1]\n",
      " [1 1]\n",
      " [1 1]\n",
      " [1 1]\n",
      " [1 1]\n",
      " [1 1]\n",
      " [1 1]\n",
      " [1 1]\n",
      " [1 0]\n",
      " [1 1]\n",
      " [1 1]\n",
      " [1 1]\n",
      " [0 0]\n",
      " [1 1]\n",
      " [0 0]\n",
      " [1 1]\n",
      " [1 1]\n",
      " [1 1]\n",
      " [0 0]\n",
      " [0 0]\n",
      " [1 1]\n",
      " [1 1]\n",
      " [1 0]\n",
      " [1 1]\n",
      " [1 1]\n",
      " [1 1]\n",
      " [1 0]\n",
      " [1 1]\n",
      " [1 1]\n",
      " [1 1]\n",
      " [1 1]\n",
      " [1 1]\n",
      " [1 1]\n",
      " [1 1]\n",
      " [1 1]\n",
      " [1 0]\n",
      " [0 0]\n",
      " [1 1]\n",
      " [1 1]\n",
      " [1 1]\n",
      " [0 0]\n",
      " [1 1]\n",
      " [1 1]\n",
      " [1 1]\n",
      " [1 1]\n",
      " [1 0]\n",
      " [1 1]\n",
      " [0 0]\n",
      " [0 0]\n",
      " [1 1]\n",
      " [1 1]\n",
      " [1 1]\n",
      " [1 0]\n",
      " [1 1]\n",
      " [1 1]\n",
      " [1 1]\n",
      " [1 1]\n",
      " [1 1]\n",
      " [1 1]\n",
      " [1 0]\n",
      " [1 1]\n",
      " [1 0]\n",
      " [0 0]\n",
      " [1 0]\n",
      " [1 1]\n",
      " [1 1]\n",
      " [1 1]\n",
      " [0 0]\n",
      " [1 1]\n",
      " [1 1]\n",
      " [1 1]\n",
      " [1 1]\n",
      " [1 1]\n",
      " [0 0]\n",
      " [1 1]\n",
      " [1 1]\n",
      " [1 1]\n",
      " [0 0]\n",
      " [1 1]\n",
      " [1 1]\n",
      " [1 1]\n",
      " [1 0]\n",
      " [1 1]\n",
      " [1 1]\n",
      " [1 1]\n",
      " [1 1]\n",
      " [0 0]\n",
      " [1 1]\n",
      " [1 1]\n",
      " [1 1]]\n"
     ]
    }
   ],
   "source": [
    "# Comparing predicted value vs actual value\n",
    "print(np.concatenate((predictions.reshape(len(predictions),1), y_test.reshape(len(y_test),1)),1))"
   ]
  },
  {
   "cell_type": "markdown",
   "metadata": {},
   "source": [
    "### Most of the predictions are right"
   ]
  }
 ],
 "metadata": {
  "kernelspec": {
   "display_name": "Python 3",
   "language": "python",
   "name": "python3"
  },
  "language_info": {
   "codemirror_mode": {
    "name": "ipython",
    "version": 3
   },
   "file_extension": ".py",
   "mimetype": "text/x-python",
   "name": "python",
   "nbconvert_exporter": "python",
   "pygments_lexer": "ipython3",
   "version": "3.8.5"
  }
 },
 "nbformat": 4,
 "nbformat_minor": 4
}
